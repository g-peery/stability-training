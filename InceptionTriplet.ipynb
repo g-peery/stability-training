{
 "cells": [
  {
   "cell_type": "markdown",
   "id": "d0da6119-1e66-4b77-bb33-b75314d2fd80",
   "metadata": {
    "jp-MarkdownHeadingCollapsed": true,
    "tags": []
   },
   "source": [
    "# Common\n",
    "\n",
    "These sections include code common to both ResNet and Inception."
   ]
  },
  {
   "cell_type": "markdown",
   "id": "d71401c1-e4bb-473c-9089-b9f664be480a",
   "metadata": {
    "jp-MarkdownHeadingCollapsed": true,
    "tags": []
   },
   "source": [
    "## Dependencies\n",
    "\n",
    "Let's setup and configure dependencies. Note that since torchviz is used, graphviz needs to be specially installed."
   ]
  },
  {
   "cell_type": "code",
   "execution_count": 1,
   "id": "0ee8ce2f",
   "metadata": {},
   "outputs": [],
   "source": [
    "%load_ext tensorboard\n",
    "\n",
    "import contextlib\n",
    "from functools import lru_cache\n",
    "from io import BytesIO\n",
    "from io import StringIO\n",
    "import matplotlib.pyplot as plt\n",
    "import numpy as np\n",
    "import os\n",
    "import pandas as pd\n",
    "import pickle\n",
    "from PIL import Image\n",
    "import random\n",
    "import time\n",
    "import timm\n",
    "import torch\n",
    "from torch import nn\n",
    "from torch import optim\n",
    "from torch.utils.tensorboard import SummaryWriter\n",
    "import torchvision\n",
    "import torchvision.datasets as datasets\n",
    "from torchvision.io import ImageReadMode\n",
    "from torchvision.io import read_image\n",
    "from torchvision import transforms as T\n",
    "from torchviz import make_dot # This requires external downloads as well\n",
    "import tqdm"
   ]
  },
  {
   "cell_type": "code",
   "execution_count": 2,
   "id": "7b1d91ed-5a91-4f62-bc7f-31bfa59a65bd",
   "metadata": {
    "tags": []
   },
   "outputs": [],
   "source": [
    "# Reproducibility\n",
    "def seed_worker(worker_id):\n",
    "    \"\"\"\n",
    "    Sets the seed of the worker to depend on the initial seed. Credit to\n",
    "    https://pytorch.org/docs/stable/notes/randomness.html\n",
    "    \"\"\"\n",
    "    worker_seed = torch.initial_seed() % 2**32\n",
    "    np.random.seed(worker_seed)\n",
    "    random.seed(worker_seed)\n",
    "    \n",
    "torch.manual_seed(0)\n",
    "# For DataLoaders\n",
    "g = torch.Generator().manual_seed(0)"
   ]
  },
  {
   "cell_type": "code",
   "execution_count": 3,
   "id": "4d2045b5-74a7-41b8-b0be-2da5d6e6dfbc",
   "metadata": {
    "tags": []
   },
   "outputs": [],
   "source": [
    "# Prepare progress bar\n",
    "tqdm_variant = tqdm.tqdm # Assume not in Jupyter\n",
    "try:\n",
    "    # Credit https://stackoverflow.com/a/39662359\n",
    "    shell_name = get_ipython().__class__.__name__\n",
    "    if shell_name == \"ZMQInteractiveShell\":\n",
    "        # Case in Jupyter\n",
    "        tqdm_variant = tqdm.notebook.tqdm\n",
    "except NameError:\n",
    "    # Probably no iPhython instance, just use standard\n",
    "    pass"
   ]
  },
  {
   "cell_type": "code",
   "execution_count": 4,
   "id": "f6e58de5",
   "metadata": {
    "tags": []
   },
   "outputs": [],
   "source": [
    "device = torch.device('cuda' if torch.cuda.is_available() else 'cpu')"
   ]
  },
  {
   "cell_type": "markdown",
   "id": "a65bfad3-b97c-4938-88da-43e47951e9e2",
   "metadata": {
    "jp-MarkdownHeadingCollapsed": true,
    "tags": []
   },
   "source": [
    "## Plotting and Debugging Tools\n",
    "\n",
    "Let's create some helpful functions for plotting."
   ]
  },
  {
   "cell_type": "code",
   "execution_count": 5,
   "id": "e861da12",
   "metadata": {},
   "outputs": [],
   "source": [
    "# Adapted from Steven's ModelExamples\n",
    "def matplotlib_imshow(img, one_channel=False):\n",
    "    if one_channel:\n",
    "        img = img.mean(dim=0)\n",
    "    img = img / 2 + 0.5     # unnormalize\n",
    "    npimg = img.numpy()\n",
    "    plt.gca().get_xaxis().set_visible(False)\n",
    "    plt.gca().get_yaxis().set_visible(False)\n",
    "    if one_channel:\n",
    "        plt.imshow(npimg, cmap=\"Greys\")\n",
    "    else:\n",
    "        plt.imshow(np.transpose(npimg, (1, 2, 0)))"
   ]
  },
  {
   "cell_type": "code",
   "execution_count": 6,
   "id": "57feb0c1-18ca-4346-a620-a26030a7877d",
   "metadata": {},
   "outputs": [],
   "source": [
    "def plot_cumulative_dist(\n",
    "    baseline_observations,\n",
    "    stabilized_observations\n",
    "):\n",
    "    \"\"\"Plot our reproduction of Figure 7.\"\"\"\n",
    "    fig, ax = plt.subplots()\n",
    "    ax.set_title(\"Cumulative Distributions\")\n",
    "    ax.set_xlabel(\"Feature Distance\", fontweight=\"bold\", loc=\"left\")\n",
    "    ax.set_ylabel(\"Cumulative Fraction\", fontweight=\"bold\", loc=\"top\")\n",
    "    ax.hist(\n",
    "        baseline_observations,\n",
    "        round(np.sqrt(len(baseline_observations))),\n",
    "        density=True,\n",
    "        histtype=\"step\",\n",
    "        cumulative=True,\n",
    "        label=\"Baseline\"\n",
    "    )\n",
    "    if len(stabilized_observations) > 0:\n",
    "        ax.hist(\n",
    "            stabilized_observations,\n",
    "            round(np.sqrt(len(stabilized_observations))),\n",
    "            density=True,\n",
    "            histtype=\"step\",\n",
    "            cumulative=True,\n",
    "            label=\"Stabilized\"\n",
    "        )\n",
    "    ax.yaxis.tick_right()\n",
    "    ax.yaxis.set_label_position(\"right\")\n",
    "    ax.tick_params(axis=\"x\", direction=\"in\", pad=-15)\n",
    "    ax.tick_params(axis=\"y\", direction=\"in\", pad=-22)\n",
    "    ax.set_yticks([0.2,0.4,0.6,0.8,1.0])\n",
    "    ax.set_yticklabels(\n",
    "        [\"20%\",\"40%\",\"60%\",\"80%\",\"100%\"],\n",
    "        {\"fontweight\" : \"bold\", \"verticalalignment\" : \"top\"}\n",
    "    )\n",
    "    ax.legend(loc=\"upper left\")\n",
    "    ax.grid()\n",
    "    fig.savefig(\n",
    "        os.path.join(\n",
    "            os.path.abspath(\"\"),\n",
    "            f\"cumulative_dists_{int(time.time()) % 1000000:06}.png\"\n",
    "        )\n",
    "    )\n",
    "    fig.show()"
   ]
  },
  {
   "cell_type": "code",
   "execution_count": 7,
   "id": "17edab80-3391-4fd6-977d-635f89910893",
   "metadata": {
    "tags": []
   },
   "outputs": [],
   "source": [
    "def show_first_triplet(queries, positives, negatives):\n",
    "    a, b, c = queries[0], positives[0], negatives[0]\n",
    "    ToPIL = T.ToPILImage() # Converting function\n",
    "    fig, ax = plt.subplots(1, 3)\n",
    "    ax[0].imshow(ToPIL(a))\n",
    "    ax[1].imshow(ToPIL(b))\n",
    "    ax[2].imshow(ToPIL(c))\n",
    "    fig.show()"
   ]
  },
  {
   "cell_type": "code",
   "execution_count": 8,
   "id": "64bfaafa-c819-4b54-9609-11bdec012522",
   "metadata": {
    "tags": []
   },
   "outputs": [],
   "source": [
    "def debug_distances(triplet_ranking_model, batch, item_idx=0):\n",
    "    with torch.no_grad():\n",
    "        output = triplet_ranking_model(*map(lambda x : x.to(device), batch))\n",
    "        qfeat = output[item_idx][0]\n",
    "        pfeat = output[item_idx][1]\n",
    "        nfeat = output[item_idx][2]\n",
    "        pos_dist = torch.sqrt(((qfeat - pfeat)**2).sum()).item()\n",
    "        neg_dist = torch.sqrt(((qfeat - nfeat)**2).sum()).item()\n",
    "        print(f\"Distance to positive: {pos_dist}, to negative: {neg_dist}\")"
   ]
  },
  {
   "cell_type": "markdown",
   "id": "644d1391-758e-4863-bc80-e6394e21cac8",
   "metadata": {},
   "source": [
    "This part is also helpful for storing results of training:"
   ]
  },
  {
   "cell_type": "code",
   "execution_count": 9,
   "id": "3ab9f248-96b3-43bc-bf1a-7e45d4c33a7e",
   "metadata": {
    "tags": []
   },
   "outputs": [],
   "source": [
    "def _def_save_filename(iteration_number : int, is_model : bool):\n",
    "    \"\"\"\n",
    "    Returns a save filename from an iteration number, and whether the\n",
    "    thing being saved is the model or the loss progress.\n",
    "    \"\"\"\n",
    "    # Make sure inputs are okay (no directory traversal attacks!)\n",
    "    if not isinstance(iteration_number, int):\n",
    "        raise TypeError(\"Iteration number should be an integer.\")\n",
    "\n",
    "    # Retrieve proper name\n",
    "    if is_model:\n",
    "        return os.path.join(\n",
    "            os.path.dirname(os.path.abspath(\"\")),\n",
    "            f\"model_save_{iteration_number}_{int(time.time())%1000000:06}.pt\"\n",
    "        )\n",
    "    return os.path.join(\n",
    "        os.path.dirname(os.path.abspath(\"\")),\n",
    "        f\"progress_save_{iteration_number}_{int(time.time())%1000000:06}.pt\"\n",
    "    )\n",
    "\n",
    "#\n",
    "# This class will make recording information easier\n",
    "#\n",
    "class TrainResult:\n",
    "    \"\"\"\n",
    "    Hold the results of a training round. Basically a nice wrapper.\n",
    "\n",
    "    Losses and accuracies should be averages over a batch for plot\n",
    "    labels to make sense.\n",
    "\n",
    "    Use whichever storage makes sense, but if one doesn't use the\n",
    "    storage then don't expect the corresponding plots to do anything.\n",
    "    \"\"\"\n",
    "\n",
    "    def __init__(self, model):\n",
    "        \"\"\"\n",
    "        Constructor - prepare local variables. Include model since the\n",
    "        one provided to trainer will likely be moved to a different\n",
    "        device. Provide the one that is actually trained here, and then\n",
    "        it can be used.\n",
    "        \"\"\"\n",
    "        self.train_loss_history = []\n",
    "        self.val_loss_history = []\n",
    "        self.train_accuracy_history = []\n",
    "        self.val_accuracy_history = []\n",
    "        self.time_training = 0.0\n",
    "        self.time_validating = 0.0\n",
    "        self.model = model\n",
    "\n",
    "    def plot_loss_train_valid_curves(self, ax, show_legend : bool=True):\n",
    "        \"\"\"Use matplotlib to show training curves. Supply axis in ax.\"\"\"\n",
    "        ax.plot(self.train_loss_history, label=\"Train\")\n",
    "        ax.plot(self.val_loss_history, label=\"Test\")\n",
    "        ax.set_title(f\"Model Loss\")\n",
    "        ax.set_xlabel(\"Iteration\")\n",
    "        ax.set_ylabel(\"Loss\")\n",
    "        if show_legend:\n",
    "            ax.legend()\n",
    "\n",
    "    def plot_accuracy_train_valid_curves(self, ax, show_legend=True):\n",
    "        \"\"\"Use matplotlib to show training curves. Supply axis in ax.\"\"\"\n",
    "        ax.plot(self.train_accuracy_history, label=\"Train\")\n",
    "        ax.plot(self.val_accuracy_history, label=\"Test\")\n",
    "        ax.set_title(f\"Model Accuracy\")\n",
    "        ax.set_xlabel(\"Iteration\")\n",
    "        ax.set_ylabel(\"Accuracy\")\n",
    "        if show_legend:\n",
    "            ax.legend()\n",
    "\n",
    "    def print_time_info(self):\n",
    "        \"\"\"Prints some lines with information about timing.\"\"\"\n",
    "        print(f\"Spent {round(self.time_training)} seconds training.\")\n",
    "        print(f\"Spent {round(self.time_validating)} seconds evaluating.\")\n",
    "\n",
    "    def full_analysis(self, axs):\n",
    "        \"\"\"Display all analysis plots and print time information.\"\"\"\n",
    "        if len(self.train_loss_history) > 0:\n",
    "            self.plot_loss_train_valid_curves(axs[0])\n",
    "        if len(self.train_accuracy_history) > 0:\n",
    "            self.plot_accuracy_train_valid_curves(axs[1])\n",
    "        if self.time_training > 0.0:\n",
    "            self.print_time_info()\n",
    "\n",
    "    def save(self, save_filename_func, count : int=0):\n",
    "        \"\"\"\n",
    "        Uses the save_filename_func provided with the count to create\n",
    "        files that save the models current weights and the training\n",
    "        progress so far.\n",
    "\n",
    "        For count, 0 is by convention the final version.\n",
    "        \"\"\"\n",
    "        # Save model\n",
    "        torch.save(self.model.state_dict(), save_filename_func(count, True))\n",
    "        # Save progress\n",
    "        with open(save_filename_func(count, False), \"wb\") as file_obj:\n",
    "            pickle.dump(\n",
    "                {\n",
    "                    \"train_loss_history\" : self.train_loss_history,\n",
    "                    \"val_loss_history\" : self.val_loss_history,\n",
    "                    \"train_accuracy_history\" : self.train_accuracy_history,\n",
    "                    \"val_accuracy_history\" : self.val_accuracy_history,\n",
    "                    \"time_training\" : self.time_training,\n",
    "                    \"time_validating\" : self.time_validating\n",
    "                }, file_obj\n",
    "            )"
   ]
  },
  {
   "cell_type": "markdown",
   "id": "d6c28b7a-20d1-41b8-9d6d-33b0c38946f2",
   "metadata": {
    "jp-MarkdownHeadingCollapsed": true,
    "tags": []
   },
   "source": [
    "## Experiments\n",
    "\n",
    "Let's make some functions to run experiments on models.\n",
    "\n",
    "For the following, see how closely the triplet ranking models think compressed versions of the same images are."
   ]
  },
  {
   "cell_type": "code",
   "execution_count": 10,
   "id": "34f5e7fb-1544-4321-bba1-49c814249271",
   "metadata": {},
   "outputs": [],
   "source": [
    "def make_observations(baseline_model, stabilized_model, imagefolder):\n",
    "    \"\"\"\n",
    "    Given a model trained for triplet ranking, make duplicate detection\n",
    "    observations.\n",
    "    \"\"\"\n",
    "    baseline_observations = []\n",
    "    stabilized_observations = []\n",
    "    tensor_transform = inception_transform\n",
    "    \n",
    "    for img_name in tqdm_variant(os.listdir(imagefolder)):\n",
    "        #\n",
    "        # Deal with images\n",
    "        #\n",
    "        image_fpath = os.path.join(imagefolder, img_name)\n",
    "        if \"jpeg\" in img_name.lower():\n",
    "            original_img = Image.open(image_fpath).convert(\"RGB\")\n",
    "        else:\n",
    "            continue\n",
    "        # Thanks https://stackoverflow.com/a/30771751\n",
    "        buffer = BytesIO()\n",
    "        original_img.save(buffer, \"JPEG\", optimize=True, quality=50)\n",
    "        compressed_img = Image.open(buffer).convert(\"RGB\")\n",
    "        \n",
    "        orig_tensor = tensor_transform(original_img)\n",
    "        comp_tensor = tensor_transform(compressed_img)\n",
    "        orig_tensor = orig_tensor.view(1, *orig_tensor.shape)\n",
    "        comp_tensor = comp_tensor.view(1, *comp_tensor.shape)\n",
    "        #\n",
    "        # Make observations\n",
    "        #\n",
    "        baseline_model.eval()\n",
    "        if stabilized_model is not None:\n",
    "            stabilized_model.eval()\n",
    "        with torch.no_grad():\n",
    "            # Baseline\n",
    "            original_rep = nn.functional.normalize(baseline_model(orig_tensor))\n",
    "            compressed_rep = nn.functional.normalize(baseline_model(comp_tensor))\n",
    "            dist = torch.sqrt(((original_rep - compressed_rep)**2).sum())\n",
    "            baseline_observations.append(dist)\n",
    "            # Stabilized\n",
    "            if stabilized_model is not None:\n",
    "                original_rep = nn.functional.normalize(stabilized_model(orig_tensor))\n",
    "                compressed_rep = nn.functional.normalize(stabilized_model(comp_tensor))\n",
    "                dist = torch.sqrt(((original_rep - compressed_rep)**2).sum())\n",
    "                stabilized_observations.append(dist)\n",
    "            \n",
    "    return baseline_observations, stabilized_observations"
   ]
  },
  {
   "cell_type": "markdown",
   "id": "e8a88619-4546-4161-ba5d-00e08f826ae6",
   "metadata": {
    "jp-MarkdownHeadingCollapsed": true,
    "tags": []
   },
   "source": [
    "## Models\n",
    "\n",
    "We'll similarly create model objects as we go along, but this section contains things that simplify making them."
   ]
  },
  {
   "cell_type": "markdown",
   "id": "7cac837e-f76f-4125-b3d9-6ac6b9b86898",
   "metadata": {
    "tags": []
   },
   "source": [
    "### Helper Transformations"
   ]
  },
  {
   "cell_type": "code",
   "execution_count": 11,
   "id": "968864a1",
   "metadata": {},
   "outputs": [],
   "source": [
    "# Credit https://discuss.pytorch.org/t/how-to-add-noise-to-mnist-dataset-when-using-pytorch/59745\n",
    "class AddGaussianNoise(object):\n",
    "    def __init__(self, mean=0., std=1.):\n",
    "        self.std = std\n",
    "        self.mean = mean\n",
    "        \n",
    "    def __call__(self, tensor):\n",
    "        return (\n",
    "            tensor\n",
    "            + torch.empty(tensor.size(), device=device).normal_() * self.std\n",
    "            + self.mean\n",
    "        )\n",
    "    \n",
    "    def __repr__(self):\n",
    "        return (\n",
    "            self.__class__.__name__\n",
    "            + '(mean={0}, std={1})'.format(self.mean, self.std)\n",
    "        )"
   ]
  },
  {
   "cell_type": "code",
   "execution_count": 12,
   "id": "366f9024-7be8-439c-8602-30c895b78433",
   "metadata": {},
   "outputs": [],
   "source": [
    "# Applies an amount of JPEG compression to a PIL image    \n",
    "class JPEGTransform(nn.Module):\n",
    "    def __init__(self, quality=50):\n",
    "        self.quality = quality\n",
    "    \n",
    "    def __call__(self, img):\n",
    "        buffer = BytesIO()\n",
    "        img.save(buffer, \"JPEG\", optimize=True, quality=self.quality)\n",
    "        return Image.open(buffer)"
   ]
  },
  {
   "cell_type": "markdown",
   "id": "e7ebbbc6-0c37-46d6-ac09-4fc3251bf630",
   "metadata": {},
   "source": [
    "ResNet is made to be used with data transformed as so:"
   ]
  },
  {
   "cell_type": "code",
   "execution_count": 13,
   "id": "74886e62-5e7a-42b2-84fd-3f43dccac3a7",
   "metadata": {},
   "outputs": [],
   "source": [
    "resnet_transform = T.Compose([\n",
    "    T.Resize((256,256)),\n",
    "    T.CenterCrop(224),\n",
    "    T.ToTensor(),\n",
    "    T.Normalize(mean=[0.485, 0.456, 0.406], std=[0.229, 0.224, 0.225]),\n",
    "])"
   ]
  },
  {
   "cell_type": "markdown",
   "id": "45bdf3ad-faed-4137-957b-d21ac06f8b00",
   "metadata": {
    "tags": []
   },
   "source": [
    "### Wrappers"
   ]
  },
  {
   "cell_type": "code",
   "execution_count": 14,
   "id": "01a52b46-8c49-4959-8f83-39a3851cad9e",
   "metadata": {},
   "outputs": [],
   "source": [
    "class TripletRanker(nn.Module):\n",
    "    \"\"\"Triplet ranking model.\"\"\"\n",
    "    \n",
    "    def __init__(self, model):\n",
    "        \"\"\"Creates a triplet ranker out of the model.\"\"\"\n",
    "        super().__init__()\n",
    "        self.model = model\n",
    "        \n",
    "        \n",
    "    def forward(self, queries, positives, negatives):\n",
    "        \"\"\"Send batch of triplets through.\"\"\"\n",
    "        queries_encode = nn.functional.normalize(self.model(queries))\n",
    "        positives_encode = nn.functional.normalize(self.model(positives))\n",
    "        negatives_encode = nn.functional.normalize(self.model(negatives))\n",
    "        return queries_encode, positives_encode, negatives_encode"
   ]
  },
  {
   "cell_type": "code",
   "execution_count": 15,
   "id": "e18b078d-5644-4d88-8ca2-7037dd224c85",
   "metadata": {},
   "outputs": [],
   "source": [
    "class StabilityTrainingModel(torch.nn.Module):\n",
    "    def __init__(self, other_model, perturbation=None):\n",
    "        \"\"\"\n",
    "        Wraps another model to allow for stability training. May specify\n",
    "        custom perturbation transformation.\n",
    "        \"\"\"\n",
    "        super().__init__()\n",
    "        self.model = other_model\n",
    "        \n",
    "        if perturbation is None:\n",
    "            self.perturb = AddGaussianNoise(0, 0.04)\n",
    "        else:\n",
    "            self.perturb = perturbation\n",
    "    \n",
    "    def forward(self, *x):\n",
    "        \"\"\"Apply the model to some input.\"\"\"\n",
    "        return self.model(*x), self.model(*[self.perturb(i) for i in x])"
   ]
  },
  {
   "cell_type": "markdown",
   "id": "d4ddc17e-bafe-46a1-9f12-b9a7b70476d7",
   "metadata": {
    "jp-MarkdownHeadingCollapsed": true,
    "tags": []
   },
   "source": [
    "## Datasets\n",
    "\n",
    "Let's prepare some datasets. First, we'll make a custom dataset."
   ]
  },
  {
   "cell_type": "code",
   "execution_count": 16,
   "id": "4cedeaca-3215-46cb-a183-ce1b8b1c2dce",
   "metadata": {
    "tags": []
   },
   "outputs": [],
   "source": [
    "# NOTE: an alternative to this paradigm is loading all the images using\n",
    "# the transform as a catalogue onto main memory, then detach on access\n",
    "# TODO - refactor\n",
    "class TripletRankingDataset(torch.utils.data.Dataset):\n",
    "    def __init__(self,\n",
    "                 img_dir : str,\n",
    "                 pos_per_img : int,\n",
    "                 neg_per_pos : int,\n",
    "                 transform=None,\n",
    "                 training=True\n",
    "                ):\n",
    "        \"\"\"\n",
    "        Point at directory which has subdirectories corresponding to\n",
    "        each class. Supply the number of positive images per image in\n",
    "        the subdirectories and the number of negative images to combine\n",
    "        with.\n",
    "        \"\"\"\n",
    "        if transform is None:\n",
    "            transform = nn.Identity()\n",
    "        self.transform = transform\n",
    "        self.mode = \"RGB\"#ImageReadMode.RGB\n",
    "        \n",
    "        #\n",
    "        # Initialize triplets\n",
    "        #\n",
    "        self.triplets = [ ]\n",
    "        \n",
    "        if training:\n",
    "            self._train_init(img_dir, pos_per_img, neg_per_pos)\n",
    "        else:\n",
    "            self._val_init(img_dir, pos_per_img, neg_per_pos)\n",
    "        \n",
    "    def _train_init(self, img_dir, pos_per_img, neg_per_pos):\n",
    "        # Generate randoms first, index into later. Need to count\n",
    "        # Iterate over classes\n",
    "        class_names = os.listdir(img_dir)\n",
    "        if os.path.exists(os.path.join(img_dir, class_names[0], \"images\")):\n",
    "            subdirectories_paths = list(map(\n",
    "                lambda x : os.path.join(img_dir, x, \"images\"),\n",
    "                class_names\n",
    "            ))\n",
    "        else:\n",
    "            subdirectories_paths = list(map(\n",
    "                lambda x : os.path.join(img_dir, x),\n",
    "                class_names\n",
    "            ))\n",
    "        for subdir_path in subdirectories_paths:\n",
    "            img_per_class = len(os.listdir(subdir_path))\n",
    "            break\n",
    "        randoms = np.random.randint(\n",
    "            0,\n",
    "            img_per_class,\n",
    "            (\n",
    "                len(subdirectories_paths),\n",
    "                img_per_class,\n",
    "                pos_per_img,\n",
    "                neg_per_pos + 1 # Last for positive selection\n",
    "            ),\n",
    "            dtype=\"int16\"\n",
    "        )\n",
    "        \n",
    "        # TODO - this method inefficient, only need to hold 2 numbers,\n",
    "        # some string format info\n",
    "        # DANGER - potential for loops with symbolic/hard links\n",
    "        # Iterate over classes\n",
    "        for subdir_idx, subdir_path in enumerate(subdirectories_paths):\n",
    "            exclude_subdir_idx =  [\n",
    "                            *range(subdir_idx),\n",
    "                            *range(\n",
    "                                subdir_idx + 1,\n",
    "                                len(subdirectories_paths)\n",
    "                            )\n",
    "                        ]\n",
    "            # Iterate over images\n",
    "            for img_idx, img in enumerate(os.listdir(subdir_path)):\n",
    "                img_path = os.path.join(subdir_path, img)\n",
    "                # Iterate over alike images\n",
    "                for pos_it in range(pos_per_img):\n",
    "                    pos_rand = randoms[subdir_idx][img_idx][pos_it][-1]\n",
    "                    # Adjust on equal\n",
    "                    if pos_rand == pos_it:\n",
    "                        if pos_rand == 0:\n",
    "                            pos_rand += 1\n",
    "                        else:\n",
    "                            pos_rand -= 1\n",
    "                    # Form name\n",
    "                    pos_path = os.path.join(\n",
    "                        subdir_path,\n",
    "                        f\"{class_names[subdir_idx]}_{pos_rand}.JPEG\"\n",
    "                    )\n",
    "                    # Need more randoms for next step\n",
    "                    neg_class_rands = np.random.choice(\n",
    "                        exclude_subdir_idx,\n",
    "                        neg_per_pos,\n",
    "                        replace=True\n",
    "                    )\n",
    "                    # Iterate over dissimilar images\n",
    "                    for neg_it in range(neg_per_pos):\n",
    "                        class_rand = neg_class_rands[neg_it]\n",
    "                        neg_class_path = subdirectories_paths[class_rand]\n",
    "                        neg_class = class_names[class_rand]\n",
    "                        neg_rand = randoms[subdir_idx][img_idx][pos_it][neg_it]\n",
    "                        # Form name\n",
    "                        neg_path = os.path.join(\n",
    "                            neg_class_path,\n",
    "                            f\"{neg_class}_{neg_rand}.JPEG\"\n",
    "                        )\n",
    "                        # Append\n",
    "                        self.triplets.append((img_path, pos_path, neg_path))\n",
    "                        \n",
    "    def _val_init(self, img_dir, pos_per_img, neg_per_pos):\n",
    "        # Generate randoms first, index into later. Need to count\n",
    "        # Iterate over classes\n",
    "        class_names = os.listdir(img_dir)\n",
    "        \n",
    "        if os.path.exists(os.path.join(img_dir, class_names[0], \"images\")):\n",
    "            subdirectories_paths = list(map(\n",
    "                lambda x : os.path.join(img_dir, x, \"images\"),\n",
    "                class_names\n",
    "            ))\n",
    "        else:\n",
    "            subdirectories_paths = list(map(\n",
    "                lambda x : os.path.join(img_dir, x),\n",
    "                class_names\n",
    "            ))\n",
    "            \n",
    "        img_per_class = dict()\n",
    "        img_names = []\n",
    "        for idx in range(len(class_names)):\n",
    "            subdir_path = subdirectories_paths[idx]\n",
    "            class_name = class_names[idx]\n",
    "            img_names.append(list(os.listdir(subdir_path)))\n",
    "            img_per_class[class_name] = len(img_names[-1])\n",
    "        \n",
    "        # TODO - this method inefficient, only need to hold 2 numbers,\n",
    "        # some string format info\n",
    "        # DANGER - potential for loops with symbolic/hard links\n",
    "        # Iterate over classes\n",
    "        for subdir_idx, subdir_path in enumerate(subdirectories_paths):\n",
    "            exclude_subdir_idx =  [\n",
    "                            *range(subdir_idx),\n",
    "                            *range(\n",
    "                                subdir_idx + 1,\n",
    "                                len(subdirectories_paths)\n",
    "                            )\n",
    "                        ]\n",
    "            this_dir = img_names[subdir_idx]\n",
    "            # Iterate over images\n",
    "            for img_idx, img in enumerate(this_dir):\n",
    "                img_path = os.path.join(subdir_path, img)\n",
    "                # Iterate over alike images\n",
    "                for pos_it in range(pos_per_img):\n",
    "                    # Form name\n",
    "                    rand_idx = np.random.choice([\n",
    "                        *range(pos_it),\n",
    "                        *range(pos_it + 1, img_per_class[class_names[pos_it]])\n",
    "                    ])\n",
    "                    pos_name = this_dir[rand_idx]\n",
    "                    # Form path\n",
    "                    pos_path = os.path.join(subdir_path, pos_name)\n",
    "                    # Need more randoms for next step\n",
    "                    neg_class_rands = np.random.choice(\n",
    "                        exclude_subdir_idx,\n",
    "                        neg_per_pos,\n",
    "                        replace=True\n",
    "                    )\n",
    "                    # Iterate over dissimilar images\n",
    "                    for neg_it in range(neg_per_pos):\n",
    "                        class_rand = neg_class_rands[neg_it]\n",
    "                        neg_class_path = subdirectories_paths[class_rand]\n",
    "                        neg_class = class_names[class_rand]\n",
    "                        # Select from the directory\n",
    "                        neg_name = np.random.choice(img_names[class_rand])\n",
    "                        # Form name\n",
    "                        neg_path = os.path.join(neg_class_path, neg_name)\n",
    "                        # Append\n",
    "                        self.triplets.append((img_path, pos_path, neg_path))\n",
    "        \n",
    "    def __len__(self):\n",
    "        return len(self.triplets)\n",
    "    \n",
    "    def __getitem__(self, idx):\n",
    "        this_triplet = self.triplets[idx]\n",
    "        #query = self.transform(read_image(this_triplet[0], self.mode))\n",
    "        #positive = self.transform(read_image(this_triplet[1], self.mode))\n",
    "        #negative = self.transform(read_image(this_triplet[2], self.mode))\n",
    "        query = self.transform(Image.open(this_triplet[0]).convert(self.mode))\n",
    "        positive = self.transform(Image.open(this_triplet[1]).convert(self.mode))\n",
    "        negative = self.transform(Image.open(this_triplet[2]).convert(self.mode))\n",
    "        return query, positive, negative"
   ]
  },
  {
   "cell_type": "markdown",
   "id": "072591e9-090f-4209-9bfe-276c8e454834",
   "metadata": {},
   "source": [
    "The following is helpful to keep around:"
   ]
  },
  {
   "cell_type": "code",
   "execution_count": 17,
   "id": "86997b7d-71ce-4e6f-9a5e-ef0725ee3271",
   "metadata": {
    "tags": []
   },
   "outputs": [],
   "source": [
    "data_dir = os.path.join(os.path.abspath(\"\"), \"tiny-imagenet-200\")"
   ]
  },
  {
   "cell_type": "markdown",
   "id": "13f5476c-8950-422d-94f4-4832a86a3337",
   "metadata": {},
   "source": [
    "We'll create dataset objects as we go since they take up memory, but these are used across tasks:"
   ]
  },
  {
   "cell_type": "markdown",
   "id": "790dcd31-2c44-42dc-83a7-fba571ff6908",
   "metadata": {
    "jp-MarkdownHeadingCollapsed": true,
    "tags": []
   },
   "source": [
    "## Training Functions\n",
    "\n",
    "Factoring some common patterns:"
   ]
  },
  {
   "cell_type": "code",
   "execution_count": 18,
   "id": "77288ff1-6e0f-43e2-9780-e3e94312e819",
   "metadata": {},
   "outputs": [],
   "source": [
    "def triplet_epoch(\n",
    "    model,\n",
    "    loader,\n",
    "    optimizer,\n",
    "    device,\n",
    "    loss_func,\n",
    "    result,\n",
    "    training=True\n",
    "):\n",
    "    loss = torch.Tensor([0])\n",
    "    avg_loss = 0\n",
    "    \n",
    "    if training:\n",
    "        model.train()\n",
    "    else:\n",
    "        model.eval()\n",
    "    start = time.perf_counter()\n",
    "    with contextlib.ExitStack() as stack: # For validation/training\n",
    "        if not training:\n",
    "            stack.enter_context(torch.no_grad()) # No gradients\n",
    "        for queries, positives, negatives in tqdm_variant(\n",
    "            loader,\n",
    "            desc=f\"{'Training' if training else 'Validation'} Iteration\",\n",
    "            disable=False\n",
    "        ):\n",
    "            if training:\n",
    "                # Prepare optimizer\n",
    "                optimizer.zero_grad(set_to_none=True)\n",
    "\n",
    "            # Prepare relevant variables\n",
    "            queries = queries.to(device)\n",
    "            positives = positives.to(device)\n",
    "            negatives = negatives.to(device)\n",
    "            out = model(queries, positives, negatives)\n",
    "\n",
    "            # Determine loss\n",
    "            loss = loss_func(*out)\n",
    "\n",
    "            # Store intermediate results - note average over batch\n",
    "            item = loss.item()\n",
    "            avg_loss += item\n",
    "            if training:\n",
    "                result.train_loss_history.append(item)\n",
    "            else:\n",
    "                result.val_loss_history.append(item)\n",
    "\n",
    "            if training:\n",
    "                loss.backward() # Get gradients\n",
    "                optimizer.step() # Descend gradients\n",
    "    end = time.perf_counter()\n",
    "    if training:\n",
    "        result.time_training += end - start\n",
    "    else:\n",
    "        result.time_validating += end - start\n",
    "    \n",
    "    return avg_loss / len(loader)"
   ]
  },
  {
   "cell_type": "markdown",
   "id": "af17339d-2cce-4816-900c-334c521b48a8",
   "metadata": {
    "tags": []
   },
   "source": [
    "## Miscellaneous Helpers\n"
   ]
  },
  {
   "cell_type": "markdown",
   "id": "3308c33d-d0f6-44b1-94a7-c81397a4d953",
   "metadata": {},
   "source": [
    "Some constants:"
   ]
  },
  {
   "cell_type": "code",
   "execution_count": 19,
   "id": "e03d5a6b-2e35-468c-80c1-a84c55c0de08",
   "metadata": {},
   "outputs": [],
   "source": [
    "# Weight of the stability objective\n",
    "ALPHA = 0.01\n",
    "\n",
    "CLASS_NUMBER = 200"
   ]
  },
  {
   "cell_type": "markdown",
   "id": "771cf73d-1082-4eb3-a09b-448647ae7fcf",
   "metadata": {},
   "source": [
    "These are common to multiple sections:"
   ]
  },
  {
   "cell_type": "code",
   "execution_count": 20,
   "id": "a7fd03d4-574a-4005-aff8-9ee97c8a27b7",
   "metadata": {},
   "outputs": [],
   "source": [
    "inception_transform = T.Compose([\n",
    "    T.Resize(299),\n",
    "    T.CenterCrop(299),\n",
    "    T.ToTensor(),\n",
    "    T.Normalize(mean=[0.485, 0.456, 0.406], std=[0.229, 0.224, 0.225]),\n",
    "])"
   ]
  },
  {
   "cell_type": "markdown",
   "id": "83c02db2-d443-458b-af1d-c50503fe3c7f",
   "metadata": {
    "jp-MarkdownHeadingCollapsed": true,
    "tags": []
   },
   "source": [
    "# Baseline"
   ]
  },
  {
   "cell_type": "markdown",
   "id": "e2817692-107e-45e3-864c-be2415e9bf49",
   "metadata": {
    "jp-MarkdownHeadingCollapsed": true,
    "tags": []
   },
   "source": [
    "### Triplet Ranking\n",
    "\n",
    "Next, let's train some triplet ranking models."
   ]
  },
  {
   "cell_type": "markdown",
   "id": "efb75818-9c69-475d-8253-7313032d31d0",
   "metadata": {
    "jp-MarkdownHeadingCollapsed": true,
    "tags": []
   },
   "source": [
    "#### Baseline\n",
    "\n",
    "Prepare data:"
   ]
  },
  {
   "cell_type": "code",
   "execution_count": 33,
   "id": "295bbb05-f675-4758-bb81-380bb0535412",
   "metadata": {},
   "outputs": [],
   "source": [
    "train_path = os.path.join(data_dir, \"train\")\n",
    "val_path = os.path.join(data_dir, \"val\")\n",
    "#trd = TripletRankingDataset(train_path, 2, 2, transform=inception_transform)\n",
    "trd_val = TripletRankingDataset(\n",
    "    val_path,\n",
    "    1,\n",
    "    1,\n",
    "    transform=inception_transform,\n",
    "    training=False\n",
    ")\n",
    "\n",
    "batch_size = 32\n",
    "#tr_train_loader = torch.utils.data.DataLoader(trd, batch_size=batch_size,\n",
    "                                     #num_workers=0, shuffle=True)\n",
    "tr_val_loader = torch.utils.data.DataLoader(trd_val, batch_size=batch_size,\n",
    "                                     num_workers=0)"
   ]
  },
  {
   "cell_type": "markdown",
   "id": "5c1052a4-34b8-45bb-9ae9-415f54a4f379",
   "metadata": {},
   "source": [
    "Prepare new model that maps into a 64 dimensional encoding space. Note that this is less than the 200 classes."
   ]
  },
  {
   "cell_type": "code",
   "execution_count": 34,
   "id": "8bc9c288-38b5-46e4-8369-fd4ed63894b6",
   "metadata": {},
   "outputs": [],
   "source": [
    "inception_encoder = torchvision.models.inception_v3(\n",
    "    pretrained=True,\n",
    "    aux_logits=False\n",
    ")"
   ]
  },
  {
   "cell_type": "code",
   "execution_count": 35,
   "id": "bfb84be9-931c-4efd-9c87-905bb01a9b1e",
   "metadata": {},
   "outputs": [],
   "source": [
    "# Set them all to frozen by default\n",
    "for param in inception_encoder.parameters():\n",
    "    param.requires_grad = False"
   ]
  },
  {
   "cell_type": "code",
   "execution_count": 36,
   "id": "4a362bd8-ab0f-48e3-8e15-763943303c4f",
   "metadata": {},
   "outputs": [],
   "source": [
    "# Let's thaw some layers\n",
    "for param in inception_encoder.Mixed_7c.parameters():\n",
    "    param.requires_grad = True"
   ]
  },
  {
   "cell_type": "code",
   "execution_count": 37,
   "id": "6d6eef34-ceb4-4013-80b4-8c32cf11e6af",
   "metadata": {},
   "outputs": [],
   "source": [
    "inception_encoder.fc = nn.Linear(2048, 64) # 64-Dimensional Encoding\n",
    "\n",
    "inception_triplet_ranking = TripletRanker(inception_encoder).to(device)"
   ]
  },
  {
   "cell_type": "markdown",
   "id": "235e6f56-63e3-4b0a-80c7-36f53491a64f",
   "metadata": {},
   "source": [
    "Training controllers:"
   ]
  },
  {
   "cell_type": "code",
   "execution_count": 52,
   "id": "927ea431-0742-4ac8-8a9f-c62646236287",
   "metadata": {},
   "outputs": [],
   "source": [
    "#itr_optimizer = optim.SGD(inception_triplet_ranking.parameters(), lr=0.005)\n",
    "itr_optimizer = optim.Adam(\n",
    "    inception_triplet_ranking.parameters(),\n",
    "    lr=0.005,\n",
    "    betas=(0.8,0.99)\n",
    ")\n",
    "#itr_scheduler = optim.lr_scheduler.ReduceLROnPlateau(\n",
    "    #itr_optimizer,\n",
    "    #factor=0.5,\n",
    "    #patience=2,\n",
    "    #threshold=0.1\n",
    "#)\n",
    "# May try OneCycleLR, annealers"
   ]
  },
  {
   "cell_type": "markdown",
   "id": "bb0273ab-a247-467e-9b3b-ff130122a179",
   "metadata": {},
   "source": [
    "Result:"
   ]
  },
  {
   "cell_type": "code",
   "execution_count": 39,
   "id": "8fd01d61-13ef-456e-831a-f0db70cb85ec",
   "metadata": {},
   "outputs": [],
   "source": [
    "itr_result = TrainResult(inception_triplet_ranking)"
   ]
  },
  {
   "cell_type": "markdown",
   "id": "951edae9-3311-475e-8ed0-dfde972eed1f",
   "metadata": {},
   "source": [
    "Triplet loss:"
   ]
  },
  {
   "cell_type": "code",
   "execution_count": 40,
   "id": "03db5694-d6ef-4eb7-81cc-075607ed7dd5",
   "metadata": {},
   "outputs": [],
   "source": [
    "itr_loss = nn.TripletMarginLoss(1.0, 2)"
   ]
  },
  {
   "cell_type": "markdown",
   "id": "48d8b91e-2958-4adb-b69c-da97725fa7b4",
   "metadata": {},
   "source": [
    "Training loop:"
   ]
  },
  {
   "cell_type": "code",
   "execution_count": 41,
   "id": "91013b3e-77e2-4354-8c89-2b520225312f",
   "metadata": {},
   "outputs": [],
   "source": [
    "itr_best_loss = float(\"inf\")\n",
    "itr_best_count = 0"
   ]
  },
  {
   "cell_type": "code",
   "execution_count": 53,
   "id": "f9872900-9439-46b1-b4bc-38474ab90cdd",
   "metadata": {
    "collapsed": true,
    "jupyter": {
     "outputs_hidden": true
    },
    "tags": []
   },
   "outputs": [
    {
     "data": {
      "application/vnd.jupyter.widget-view+json": {
       "model_id": "2b3b9b3a6d4b45ef8a654cde05368c36",
       "version_major": 2,
       "version_minor": 0
      },
      "text/plain": [
       "Epoch:   0%|          | 0/15 [00:00<?, ?epoch/s]"
      ]
     },
     "metadata": {},
     "output_type": "display_data"
    },
    {
     "name": "stdout",
     "output_type": "stream",
     "text": [
      "Loading data...\n",
      "...done.\n",
      "Current Learning Rate: 0.005\n"
     ]
    },
    {
     "data": {
      "application/vnd.jupyter.widget-view+json": {
       "model_id": "ecc9fa4913744ce3a068e035a34c1c5b",
       "version_major": 2,
       "version_minor": 0
      },
      "text/plain": [
       "Training Iteration:   0%|          | 0/3125 [00:00<?, ?it/s]"
      ]
     },
     "metadata": {},
     "output_type": "display_data"
    },
    {
     "data": {
      "application/vnd.jupyter.widget-view+json": {
       "model_id": "ee65f5139e4d462ca546509bad9ebc38",
       "version_major": 2,
       "version_minor": 0
      },
      "text/plain": [
       "Validation Iteration:   0%|          | 0/313 [00:00<?, ?it/s]"
      ]
     },
     "metadata": {},
     "output_type": "display_data"
    },
    {
     "name": "stdout",
     "output_type": "stream",
     "text": [
      "\n",
      "Epoch 0: Training Loss: 0.4004341648387909, Validation Loss: 0.3754558493963446\n",
      "Loading data...\n",
      "...done.\n",
      "Current Learning Rate: 0.005\n"
     ]
    },
    {
     "data": {
      "application/vnd.jupyter.widget-view+json": {
       "model_id": "3d111f01eed3409599c825d8e8e1e76e",
       "version_major": 2,
       "version_minor": 0
      },
      "text/plain": [
       "Training Iteration:   0%|          | 0/3125 [00:00<?, ?it/s]"
      ]
     },
     "metadata": {},
     "output_type": "display_data"
    },
    {
     "data": {
      "application/vnd.jupyter.widget-view+json": {
       "model_id": "6daad51bb8714674a2229ede6ab7cae7",
       "version_major": 2,
       "version_minor": 0
      },
      "text/plain": [
       "Validation Iteration:   0%|          | 0/313 [00:00<?, ?it/s]"
      ]
     },
     "metadata": {},
     "output_type": "display_data"
    },
    {
     "name": "stdout",
     "output_type": "stream",
     "text": [
      "\n",
      "Epoch 1: Training Loss: 0.3672840037536621, Validation Loss: 0.3674835697554361\n",
      "Loading data...\n",
      "...done.\n",
      "Current Learning Rate: 0.005\n"
     ]
    },
    {
     "data": {
      "application/vnd.jupyter.widget-view+json": {
       "model_id": "0d29686b773b40879bd2ba5ea9f88d92",
       "version_major": 2,
       "version_minor": 0
      },
      "text/plain": [
       "Training Iteration:   0%|          | 0/3125 [00:00<?, ?it/s]"
      ]
     },
     "metadata": {},
     "output_type": "display_data"
    },
    {
     "data": {
      "application/vnd.jupyter.widget-view+json": {
       "model_id": "3d4c7e4e9ca54a76934fd1e14a78b3c9",
       "version_major": 2,
       "version_minor": 0
      },
      "text/plain": [
       "Validation Iteration:   0%|          | 0/313 [00:00<?, ?it/s]"
      ]
     },
     "metadata": {},
     "output_type": "display_data"
    },
    {
     "name": "stdout",
     "output_type": "stream",
     "text": [
      "\n",
      "Epoch 2: Training Loss: 0.34829089056015017, Validation Loss: 0.3664518064274765\n",
      "Loading data...\n",
      "...done.\n",
      "Current Learning Rate: 0.005\n"
     ]
    },
    {
     "data": {
      "application/vnd.jupyter.widget-view+json": {
       "model_id": "6453c0a3f23e4fd0b6692d7e342d609e",
       "version_major": 2,
       "version_minor": 0
      },
      "text/plain": [
       "Training Iteration:   0%|          | 0/3125 [00:00<?, ?it/s]"
      ]
     },
     "metadata": {},
     "output_type": "display_data"
    },
    {
     "data": {
      "application/vnd.jupyter.widget-view+json": {
       "model_id": "e8bc7381ea61479bb8e026a6efaea780",
       "version_major": 2,
       "version_minor": 0
      },
      "text/plain": [
       "Validation Iteration:   0%|          | 0/313 [00:00<?, ?it/s]"
      ]
     },
     "metadata": {},
     "output_type": "display_data"
    },
    {
     "name": "stdout",
     "output_type": "stream",
     "text": [
      "\n",
      "Epoch 3: Training Loss: 0.33164853138923645, Validation Loss: 0.3645986601139029\n",
      "Loading data...\n",
      "...done.\n",
      "Current Learning Rate: 0.005\n"
     ]
    },
    {
     "data": {
      "application/vnd.jupyter.widget-view+json": {
       "model_id": "a2282f4b97d1462ea193013c5311a70d",
       "version_major": 2,
       "version_minor": 0
      },
      "text/plain": [
       "Training Iteration:   0%|          | 0/3125 [00:00<?, ?it/s]"
      ]
     },
     "metadata": {},
     "output_type": "display_data"
    },
    {
     "data": {
      "application/vnd.jupyter.widget-view+json": {
       "model_id": "d5fa4c694227447a993094f686a727cd",
       "version_major": 2,
       "version_minor": 0
      },
      "text/plain": [
       "Validation Iteration:   0%|          | 0/313 [00:00<?, ?it/s]"
      ]
     },
     "metadata": {},
     "output_type": "display_data"
    },
    {
     "name": "stdout",
     "output_type": "stream",
     "text": [
      "\n",
      "Epoch 4: Training Loss: 0.3178371453809738, Validation Loss: 0.36568494675496516\n",
      "Loading data...\n",
      "...done.\n",
      "Current Learning Rate: 0.005\n"
     ]
    },
    {
     "data": {
      "application/vnd.jupyter.widget-view+json": {
       "model_id": "7faad93c2acf4a2f82b2a8feee5980f0",
       "version_major": 2,
       "version_minor": 0
      },
      "text/plain": [
       "Training Iteration:   0%|          | 0/3125 [00:00<?, ?it/s]"
      ]
     },
     "metadata": {},
     "output_type": "display_data"
    },
    {
     "data": {
      "application/vnd.jupyter.widget-view+json": {
       "model_id": "0f596d1f44ac45629beefedcac9c221b",
       "version_major": 2,
       "version_minor": 0
      },
      "text/plain": [
       "Validation Iteration:   0%|          | 0/313 [00:00<?, ?it/s]"
      ]
     },
     "metadata": {},
     "output_type": "display_data"
    },
    {
     "name": "stdout",
     "output_type": "stream",
     "text": [
      "\n",
      "Epoch 5: Training Loss: 0.3075065079665184, Validation Loss: 0.36260136440634344\n",
      "Loading data...\n",
      "...done.\n",
      "Current Learning Rate: 0.005\n"
     ]
    },
    {
     "data": {
      "application/vnd.jupyter.widget-view+json": {
       "model_id": "91cd6d2f04704bfa99afdf16de711bdc",
       "version_major": 2,
       "version_minor": 0
      },
      "text/plain": [
       "Training Iteration:   0%|          | 0/3125 [00:00<?, ?it/s]"
      ]
     },
     "metadata": {},
     "output_type": "display_data"
    },
    {
     "data": {
      "application/vnd.jupyter.widget-view+json": {
       "model_id": "0ae3f5a13c3c4e4fbb40a051ba94f8a7",
       "version_major": 2,
       "version_minor": 0
      },
      "text/plain": [
       "Validation Iteration:   0%|          | 0/313 [00:00<?, ?it/s]"
      ]
     },
     "metadata": {},
     "output_type": "display_data"
    },
    {
     "name": "stdout",
     "output_type": "stream",
     "text": [
      "\n",
      "Epoch 6: Training Loss: 0.2971532835125923, Validation Loss: 0.3692831148902258\n",
      "Loading data...\n",
      "...done.\n",
      "Current Learning Rate: 0.005\n"
     ]
    },
    {
     "data": {
      "application/vnd.jupyter.widget-view+json": {
       "model_id": "d5469367ef3d445fa40bfd4671fbe286",
       "version_major": 2,
       "version_minor": 0
      },
      "text/plain": [
       "Training Iteration:   0%|          | 0/3125 [00:00<?, ?it/s]"
      ]
     },
     "metadata": {},
     "output_type": "display_data"
    },
    {
     "data": {
      "application/vnd.jupyter.widget-view+json": {
       "model_id": "26392f78dd5143588126f18c707e4ca6",
       "version_major": 2,
       "version_minor": 0
      },
      "text/plain": [
       "Validation Iteration:   0%|          | 0/313 [00:00<?, ?it/s]"
      ]
     },
     "metadata": {},
     "output_type": "display_data"
    },
    {
     "name": "stdout",
     "output_type": "stream",
     "text": [
      "\n",
      "Epoch 7: Training Loss: 0.2867655133199692, Validation Loss: 0.3667950142329684\n",
      "Loading data...\n",
      "...done.\n",
      "Current Learning Rate: 0.005\n"
     ]
    },
    {
     "data": {
      "application/vnd.jupyter.widget-view+json": {
       "model_id": "bafa154d77c7413eac6104569d25c4c7",
       "version_major": 2,
       "version_minor": 0
      },
      "text/plain": [
       "Training Iteration:   0%|          | 0/3125 [00:00<?, ?it/s]"
      ]
     },
     "metadata": {},
     "output_type": "display_data"
    },
    {
     "data": {
      "application/vnd.jupyter.widget-view+json": {
       "model_id": "8b5f616601764237ae1b3ba159ed38f7",
       "version_major": 2,
       "version_minor": 0
      },
      "text/plain": [
       "Validation Iteration:   0%|          | 0/313 [00:00<?, ?it/s]"
      ]
     },
     "metadata": {},
     "output_type": "display_data"
    },
    {
     "name": "stdout",
     "output_type": "stream",
     "text": [
      "\n",
      "Epoch 8: Training Loss: 0.27496212601661685, Validation Loss: 0.37086490266762984\n",
      "Loading data...\n",
      "...done.\n",
      "Current Learning Rate: 0.005\n"
     ]
    },
    {
     "data": {
      "application/vnd.jupyter.widget-view+json": {
       "model_id": "cf40690997914d1b92d3e4bcdd50227a",
       "version_major": 2,
       "version_minor": 0
      },
      "text/plain": [
       "Training Iteration:   0%|          | 0/3125 [00:00<?, ?it/s]"
      ]
     },
     "metadata": {},
     "output_type": "display_data"
    },
    {
     "data": {
      "application/vnd.jupyter.widget-view+json": {
       "model_id": "50ba597ac1354cdf85c806ad84290259",
       "version_major": 2,
       "version_minor": 0
      },
      "text/plain": [
       "Validation Iteration:   0%|          | 0/313 [00:00<?, ?it/s]"
      ]
     },
     "metadata": {},
     "output_type": "display_data"
    },
    {
     "name": "stdout",
     "output_type": "stream",
     "text": [
      "\n",
      "Epoch 9: Training Loss: 0.2666996761536598, Validation Loss: 0.37325120055542205\n",
      "Loading data...\n",
      "...done.\n",
      "Current Learning Rate: 0.005\n"
     ]
    },
    {
     "data": {
      "application/vnd.jupyter.widget-view+json": {
       "model_id": "ceac920d4c4f4e939cfc5e9a1a68a677",
       "version_major": 2,
       "version_minor": 0
      },
      "text/plain": [
       "Training Iteration:   0%|          | 0/3125 [00:00<?, ?it/s]"
      ]
     },
     "metadata": {},
     "output_type": "display_data"
    },
    {
     "data": {
      "application/vnd.jupyter.widget-view+json": {
       "model_id": "d9093bb112234d2ab934d76acea11864",
       "version_major": 2,
       "version_minor": 0
      },
      "text/plain": [
       "Validation Iteration:   0%|          | 0/313 [00:00<?, ?it/s]"
      ]
     },
     "metadata": {},
     "output_type": "display_data"
    },
    {
     "name": "stdout",
     "output_type": "stream",
     "text": [
      "\n",
      "Epoch 10: Training Loss: 0.25871495096087455, Validation Loss: 0.36599684976779234\n",
      "Loading data...\n",
      "...done.\n",
      "Current Learning Rate: 0.005\n"
     ]
    },
    {
     "data": {
      "application/vnd.jupyter.widget-view+json": {
       "model_id": "880a2ac7adb54067b92c180d6e8f3223",
       "version_major": 2,
       "version_minor": 0
      },
      "text/plain": [
       "Training Iteration:   0%|          | 0/3125 [00:00<?, ?it/s]"
      ]
     },
     "metadata": {},
     "output_type": "display_data"
    },
    {
     "data": {
      "application/vnd.jupyter.widget-view+json": {
       "model_id": "d5dbb81617cb4ebea9c8a70fad95e45a",
       "version_major": 2,
       "version_minor": 0
      },
      "text/plain": [
       "Validation Iteration:   0%|          | 0/313 [00:00<?, ?it/s]"
      ]
     },
     "metadata": {},
     "output_type": "display_data"
    },
    {
     "name": "stdout",
     "output_type": "stream",
     "text": [
      "\n",
      "Epoch 11: Training Loss: 0.24810040583372117, Validation Loss: 0.37677918007960337\n",
      "Loading data...\n",
      "...done.\n",
      "Current Learning Rate: 0.005\n"
     ]
    },
    {
     "data": {
      "application/vnd.jupyter.widget-view+json": {
       "model_id": "bca37e2a2e744ecca1ee600cd3112f71",
       "version_major": 2,
       "version_minor": 0
      },
      "text/plain": [
       "Training Iteration:   0%|          | 0/3125 [00:00<?, ?it/s]"
      ]
     },
     "metadata": {},
     "output_type": "display_data"
    },
    {
     "data": {
      "application/vnd.jupyter.widget-view+json": {
       "model_id": "4b7ce5d5e68140569f09a2e01153b226",
       "version_major": 2,
       "version_minor": 0
      },
      "text/plain": [
       "Validation Iteration:   0%|          | 0/313 [00:00<?, ?it/s]"
      ]
     },
     "metadata": {},
     "output_type": "display_data"
    },
    {
     "name": "stdout",
     "output_type": "stream",
     "text": [
      "\n",
      "Epoch 12: Training Loss: 0.24421424782514572, Validation Loss: 0.3685946888721789\n",
      "Loading data...\n",
      "...done.\n",
      "Current Learning Rate: 0.005\n"
     ]
    },
    {
     "data": {
      "application/vnd.jupyter.widget-view+json": {
       "model_id": "c265450eeea34bdf9ae4c0f88e632aa0",
       "version_major": 2,
       "version_minor": 0
      },
      "text/plain": [
       "Training Iteration:   0%|          | 0/3125 [00:00<?, ?it/s]"
      ]
     },
     "metadata": {},
     "output_type": "display_data"
    },
    {
     "data": {
      "application/vnd.jupyter.widget-view+json": {
       "model_id": "3ae0a03a67824edbad48a4593b702c7d",
       "version_major": 2,
       "version_minor": 0
      },
      "text/plain": [
       "Validation Iteration:   0%|          | 0/313 [00:00<?, ?it/s]"
      ]
     },
     "metadata": {},
     "output_type": "display_data"
    },
    {
     "name": "stdout",
     "output_type": "stream",
     "text": [
      "\n",
      "Epoch 13: Training Loss: 0.23393585928440094, Validation Loss: 0.3819884740458891\n",
      "Loading data...\n",
      "...done.\n",
      "Current Learning Rate: 0.005\n"
     ]
    },
    {
     "data": {
      "application/vnd.jupyter.widget-view+json": {
       "model_id": "4d2f162fe01146d5bab7e91a6e02e93c",
       "version_major": 2,
       "version_minor": 0
      },
      "text/plain": [
       "Training Iteration:   0%|          | 0/3125 [00:00<?, ?it/s]"
      ]
     },
     "metadata": {},
     "output_type": "display_data"
    },
    {
     "data": {
      "application/vnd.jupyter.widget-view+json": {
       "model_id": "0f05f4917dcc4e3791cd27f7feaa71ac",
       "version_major": 2,
       "version_minor": 0
      },
      "text/plain": [
       "Validation Iteration:   0%|          | 0/313 [00:00<?, ?it/s]"
      ]
     },
     "metadata": {},
     "output_type": "display_data"
    },
    {
     "name": "stdout",
     "output_type": "stream",
     "text": [
      "\n",
      "Epoch 14: Training Loss: 0.23031507392644882, Validation Loss: 0.38100931406640015\n"
     ]
    }
   ],
   "source": [
    "# Train for some number of epochs\n",
    "ITR_EPOCH_COUNT = 15 # with no normalization, + 16 + 1\n",
    "ITR_SAVE_PERIOD = 1\n",
    "\n",
    "loss = torch.Tensor([0])\n",
    "for epoch in tqdm_variant(\n",
    "    range(ITR_EPOCH_COUNT),\n",
    "    desc=f\"Epoch\",\n",
    "    unit=\"epoch\",\n",
    "    disable=False\n",
    "):\n",
    "    # For this training loop, we'll switch up the data each time.\n",
    "    print(\"Loading data...\")\n",
    "    try:\n",
    "        del trd, tr_train_loader\n",
    "    except NameError:\n",
    "        pass\n",
    "    trd = TripletRankingDataset(train_path, 1, 1, transform=inception_transform)\n",
    "    tr_train_loader = torch.utils.data.DataLoader(trd, batch_size=batch_size,\n",
    "                                         num_workers=0, shuffle=True)\n",
    "    print(\"...done.\")\n",
    "    \n",
    "    # Debug learning rate\n",
    "    print(f\"Current Learning Rate: {itr_optimizer.param_groups[0]['lr']}\")\n",
    "    \n",
    "    train_loss = triplet_epoch(\n",
    "        inception_triplet_ranking,\n",
    "        tr_train_loader,\n",
    "        itr_optimizer,\n",
    "        device,\n",
    "        itr_loss,\n",
    "        itr_result\n",
    "    )\n",
    "\n",
    "    val_loss = triplet_epoch(\n",
    "        inception_triplet_ranking,\n",
    "        tr_val_loader,\n",
    "        itr_optimizer,\n",
    "        device,\n",
    "        itr_loss,\n",
    "        itr_result,\n",
    "        training=False\n",
    "    )\n",
    "    \n",
    "    # Save a copy for safety\n",
    "    if val_loss < itr_best_loss:\n",
    "        torch.save(\n",
    "            inception_triplet_ranking, \n",
    "            os.path.join(\n",
    "                os.path.abspath(\"\"),\n",
    "                f\"best_itr_{itr_best_count}_{int(time.time()) % 1000000:06}.pt\"\n",
    "            )\n",
    "        )\n",
    "        itr_best_count += 1\n",
    "        itr_best_loss = val_loss\n",
    "        \n",
    "    if epoch % ITR_SAVE_PERIOD == ITR_SAVE_PERIOD - 1:\n",
    "        torch.save(\n",
    "            inception_triplet_ranking,\n",
    "            os.path.join(\n",
    "                os.path.abspath(\"\"),\n",
    "                f\"itr_{epoch}_{int(time.time()) % 1000000:06}.pt\"\n",
    "            )\n",
    "        )\n",
    "\n",
    "    # Print the last loss calculated and the epoch\n",
    "    print(f\"\\nEpoch {epoch}: Training Loss: {train_loss}, \" \\\n",
    "          f\"Validation Loss: {val_loss}\")"
   ]
  },
  {
   "cell_type": "markdown",
   "id": "6760c4f0-b0cd-424a-8d2c-313eb7d2c887",
   "metadata": {},
   "source": [
    "Let's double check gradient calculations went well:"
   ]
  },
  {
   "cell_type": "markdown",
   "id": "5469b914-cf6f-4913-b4e3-cc73696721f5",
   "metadata": {},
   "source": [
    "The old way of saving is taking up lots of memory, let's just save the part that changes:"
   ]
  },
  {
   "cell_type": "code",
   "execution_count": 59,
   "id": "0d96e338-3d54-471e-9f0a-5d1369fe5798",
   "metadata": {},
   "outputs": [],
   "source": [
    "torch.save(\n",
    "    inception_triplet_ranking.model.state_dict(),\n",
    "    \"inception_triplet_ranking_2.pth\"\n",
    ")"
   ]
  },
  {
   "cell_type": "code",
   "execution_count": 60,
   "id": "ef73629c-decc-4eeb-9ad0-e3c596b797e1",
   "metadata": {},
   "outputs": [],
   "source": [
    "itr_result.save(_def_save_filename)"
   ]
  },
  {
   "cell_type": "markdown",
   "id": "b0060721-78e4-41c6-89a0-1b80e97b6900",
   "metadata": {},
   "source": [
    "Let's also take a look at training/testing curves:"
   ]
  },
  {
   "cell_type": "code",
   "execution_count": 63,
   "id": "bdad540a-1bae-4b4a-921a-ecbe31703872",
   "metadata": {
    "collapsed": true,
    "jupyter": {
     "outputs_hidden": true
    },
    "tags": []
   },
   "outputs": [
    {
     "data": {
      "image/png": "[encoded data removed]",
      "text/plain": [
       "<Figure size 432x288 with 1 Axes>"
      ]
     },
     "metadata": {
      "needs_background": "light"
     },
     "output_type": "display_data"
    }
   ],
   "source": [
    "fig, ax = plt.subplots()\n",
    "itr_result.plot_loss_train_valid_curves(ax)"
   ]
  },
  {
   "cell_type": "markdown",
   "id": "ab6ca1b7-f91f-4fc1-a047-824c2c548f98",
   "metadata": {},
   "source": [
    "# Stability Training"
   ]
  },
  {
   "cell_type": "markdown",
   "id": "05904081-bc5e-4707-8822-de6e16cc01a5",
   "metadata": {},
   "source": [
    "First, let's do the training a bit more efficiently."
   ]
  },
  {
   "cell_type": "markdown",
   "id": "e9f94b15-f5fd-49e5-ac1b-2cf64950f190",
   "metadata": {},
   "source": [
    "We'll preproces the images into tensors."
   ]
  },
  {
   "cell_type": "code",
   "execution_count": 21,
   "id": "9a363b10-0342-4357-8d13-e0f5bced6b4b",
   "metadata": {
    "tags": []
   },
   "outputs": [],
   "source": [
    "def preprocess_imgs(src_dir):\n",
    "    location = os.path.join(os.path.abspath(\"\"), \"ti200-preprocess\")\n",
    "    try:\n",
    "        os.mkdir(location)\n",
    "    except FileExistsError:\n",
    "        pass\n",
    "    try:\n",
    "        os.mkdir(os.path.join(location, \"train\"))\n",
    "    except FileExistsError:\n",
    "        pass\n",
    "    try:\n",
    "        os.mkdir(os.path.join(location, \"val\"))\n",
    "    except FileExistsError:\n",
    "        pass\n",
    "    \n",
    "    class_names = os.listdir(os.path.join(src_dir, \"train\"))\n",
    "    \n",
    "    for class_name in class_names:\n",
    "        print(class_name)\n",
    "        # Deal with training and validation images separately\n",
    "        old_class_path_train = os.path.join(src_dir, \"train\", class_name, \"images\")\n",
    "        old_class_path_val = os.path.join(src_dir, \"val\", class_name)\n",
    "        \n",
    "        this_class_loc_train = os.path.join(location, \"train\", class_name)\n",
    "        try:\n",
    "            os.mkdir(this_class_loc_train)\n",
    "        except FileExistsError:\n",
    "            pass\n",
    "        this_class_loc_val = os.path.join(location, \"val\", class_name)\n",
    "        try:\n",
    "            os.mkdir(this_class_loc_val)\n",
    "        except FileExistsError:\n",
    "            pass\n",
    "        \n",
    "        # Iterate through training images\n",
    "        for img_name in os.listdir(old_class_path_train):\n",
    "            this_path = os.path.join(old_class_path_train, img_name)\n",
    "            new_path = os.path.join(\n",
    "                this_class_loc_train,\n",
    "                img_name.split(\".\")[0] + \".pt\"\n",
    "            )\n",
    "            img_tensor = inception_transform(\n",
    "                Image.open(this_path).convert(\"RGB\")\n",
    "            )\n",
    "            torch.save(img_tensor, new_path)\n",
    "            \n",
    "        # Iterate through val images\n",
    "        for img_name in os.listdir(old_class_path_val):\n",
    "            this_path = os.path.join(old_class_path_val, img_name)\n",
    "            new_path = os.path.join(\n",
    "                this_class_loc_val,\n",
    "                img_name.split(\".\")[0] + \".pt\"\n",
    "            )\n",
    "            img_tensor = inception_transform(\n",
    "                Image.open(this_path).convert(\"RGB\")\n",
    "            )\n",
    "            torch.save(img_tensor, new_path)\n",
    "    \n",
    "#preprocess_imgs(\"Project/tiny-imagenet-200\")"
   ]
  },
  {
   "cell_type": "markdown",
   "id": "7f8b965c-9ce9-4aac-990e-4707967d4a22",
   "metadata": {},
   "source": [
    "We need a new dataset:"
   ]
  },
  {
   "cell_type": "code",
   "execution_count": 22,
   "id": "8ee6902c-87b1-4f3f-bfcf-e2280deb76f8",
   "metadata": {
    "tags": []
   },
   "outputs": [],
   "source": [
    "class BetterTripletRankingDataset(torch.utils.data.Dataset):\n",
    "    def __init__(self,\n",
    "                 img_dir : str,\n",
    "                 pos_per_img : int,\n",
    "                 neg_per_pos : int,\n",
    "                 transform=None,\n",
    "                 training=True\n",
    "                ):\n",
    "        \"\"\"\n",
    "        Point at directory which has subdirectories corresponding to\n",
    "        each class. Supply the number of positive images per image in\n",
    "        the subdirectories and the number of negative images to combine\n",
    "        with.\n",
    "        \"\"\"\n",
    "        if transform is None:\n",
    "            transform = nn.Identity()\n",
    "        self.transform = transform\n",
    "        self.mode = \"RGB\"#ImageReadMode.RGB\n",
    "        \n",
    "        #\n",
    "        # Initialize triplets\n",
    "        #\n",
    "        self.triplets = [ ]\n",
    "        \n",
    "        if training:\n",
    "            self._train_init(img_dir, pos_per_img, neg_per_pos)\n",
    "        else:\n",
    "            self._val_init(img_dir, pos_per_img, neg_per_pos)\n",
    "        \n",
    "    def _train_init(self, img_dir, pos_per_img, neg_per_pos):\n",
    "        # Generate randoms first, index into later. Need to count\n",
    "        # Iterate over classes\n",
    "        class_names = os.listdir(img_dir)\n",
    "        if os.path.exists(os.path.join(img_dir, class_names[0], \"images\")):\n",
    "            subdirectories_paths = list(map(\n",
    "                lambda x : os.path.join(img_dir, x, \"images\"),\n",
    "                class_names\n",
    "            ))\n",
    "        else:\n",
    "            subdirectories_paths = list(map(\n",
    "                lambda x : os.path.join(img_dir, x),\n",
    "                class_names\n",
    "            ))\n",
    "        for subdir_path in subdirectories_paths:\n",
    "            img_per_class = len(os.listdir(subdir_path))\n",
    "            break\n",
    "        randoms = np.random.randint(\n",
    "            0,\n",
    "            img_per_class,\n",
    "            (\n",
    "                len(subdirectories_paths),\n",
    "                img_per_class,\n",
    "                pos_per_img,\n",
    "                neg_per_pos + 1 # Last for positive selection\n",
    "            ),\n",
    "            dtype=\"int16\"\n",
    "        )\n",
    "        \n",
    "        # TODO - this method inefficient, only need to hold 2 numbers,\n",
    "        # some string format info\n",
    "        # DANGER - potential for loops with symbolic/hard links\n",
    "        # Iterate over classes\n",
    "        for subdir_idx, subdir_path in enumerate(subdirectories_paths):\n",
    "            exclude_subdir_idx =  [\n",
    "                            *range(subdir_idx),\n",
    "                            *range(\n",
    "                                subdir_idx + 1,\n",
    "                                len(subdirectories_paths)\n",
    "                            )\n",
    "                        ]\n",
    "            # Iterate over images\n",
    "            for img_idx, img in enumerate(os.listdir(subdir_path)):\n",
    "                img_path = os.path.join(subdir_path, img)\n",
    "                # Iterate over alike images\n",
    "                for pos_it in range(pos_per_img):\n",
    "                    pos_rand = randoms[subdir_idx][img_idx][pos_it][-1]\n",
    "                    # Adjust on equal\n",
    "                    if pos_rand == pos_it:\n",
    "                        if pos_rand == 0:\n",
    "                            pos_rand += 1\n",
    "                        else:\n",
    "                            pos_rand -= 1\n",
    "                    # Form name\n",
    "                    pos_path = os.path.join(\n",
    "                        subdir_path,\n",
    "                        f\"{class_names[subdir_idx]}_{pos_rand}.pt\"\n",
    "                    )\n",
    "                    # Need more randoms for next step\n",
    "                    neg_class_rands = np.random.choice(\n",
    "                        exclude_subdir_idx,\n",
    "                        neg_per_pos,\n",
    "                        replace=True\n",
    "                    )\n",
    "                    # Iterate over dissimilar images\n",
    "                    for neg_it in range(neg_per_pos):\n",
    "                        class_rand = neg_class_rands[neg_it]\n",
    "                        neg_class_path = subdirectories_paths[class_rand]\n",
    "                        neg_class = class_names[class_rand]\n",
    "                        neg_rand = randoms[subdir_idx][img_idx][pos_it][neg_it]\n",
    "                        # Form name\n",
    "                        neg_path = os.path.join(\n",
    "                            neg_class_path,\n",
    "                            f\"{neg_class}_{neg_rand}.pt\"\n",
    "                        )\n",
    "                        # Append\n",
    "                        self.triplets.append((img_path, pos_path, neg_path))\n",
    "                        \n",
    "    def _val_init(self, img_dir, pos_per_img, neg_per_pos):\n",
    "        # Generate randoms first, index into later. Need to count\n",
    "        # Iterate over classes\n",
    "        class_names = os.listdir(img_dir)\n",
    "        \n",
    "        if os.path.exists(os.path.join(img_dir, class_names[0], \"images\")):\n",
    "            subdirectories_paths = list(map(\n",
    "                lambda x : os.path.join(img_dir, x, \"images\"),\n",
    "                class_names\n",
    "            ))\n",
    "        else:\n",
    "            subdirectories_paths = list(map(\n",
    "                lambda x : os.path.join(img_dir, x),\n",
    "                class_names\n",
    "            ))\n",
    "            \n",
    "        img_per_class = dict()\n",
    "        img_names = []\n",
    "        for idx in range(len(class_names)):\n",
    "            subdir_path = subdirectories_paths[idx]\n",
    "            class_name = class_names[idx]\n",
    "            img_names.append(list(os.listdir(subdir_path)))\n",
    "            img_per_class[class_name] = len(img_names[-1])\n",
    "        \n",
    "        # TODO - this method inefficient, only need to hold 2 numbers,\n",
    "        # some string format info\n",
    "        # DANGER - potential for loops with symbolic/hard links\n",
    "        # Iterate over classes\n",
    "        for subdir_idx, subdir_path in enumerate(subdirectories_paths):\n",
    "            exclude_subdir_idx =  [\n",
    "                            *range(subdir_idx),\n",
    "                            *range(\n",
    "                                subdir_idx + 1,\n",
    "                                len(subdirectories_paths)\n",
    "                            )\n",
    "                        ]\n",
    "            this_dir = img_names[subdir_idx]\n",
    "            # Iterate over images\n",
    "            for img_idx, img in enumerate(this_dir):\n",
    "                img_path = os.path.join(subdir_path, img)\n",
    "                # Iterate over alike images\n",
    "                for pos_it in range(pos_per_img):\n",
    "                    # Form name\n",
    "                    rand_idx = np.random.choice([\n",
    "                        *range(pos_it),\n",
    "                        *range(pos_it + 1, img_per_class[class_names[pos_it]])\n",
    "                    ])\n",
    "                    pos_name = this_dir[rand_idx]\n",
    "                    # Form path\n",
    "                    pos_path = os.path.join(subdir_path, pos_name)\n",
    "                    # Need more randoms for next step\n",
    "                    neg_class_rands = np.random.choice(\n",
    "                        exclude_subdir_idx,\n",
    "                        neg_per_pos,\n",
    "                        replace=True\n",
    "                    )\n",
    "                    # Iterate over dissimilar images\n",
    "                    for neg_it in range(neg_per_pos):\n",
    "                        class_rand = neg_class_rands[neg_it]\n",
    "                        neg_class_path = subdirectories_paths[class_rand]\n",
    "                        neg_class = class_names[class_rand]\n",
    "                        # Select from the directory\n",
    "                        neg_name = np.random.choice(img_names[class_rand])\n",
    "                        # Form name\n",
    "                        neg_path = os.path.join(neg_class_path, neg_name)\n",
    "                        # Append\n",
    "                        self.triplets.append((img_path, pos_path, neg_path))\n",
    "        \n",
    "    def __len__(self):\n",
    "        return len(self.triplets)\n",
    "    \n",
    "    @lru_cache(maxsize=256)\n",
    "    def __getitem__(self, idx):\n",
    "        this_triplet = self.triplets[idx]\n",
    "        #query = self.transform(read_image(this_triplet[0], self.mode))\n",
    "        #positive = self.transform(read_image(this_triplet[1], self.mode))\n",
    "        #negative = self.transform(read_image(this_triplet[2], self.mode))\n",
    "        query = self.transform(this_triplet[0])\n",
    "        positive = self.transform(this_triplet[1])\n",
    "        negative = self.transform(this_triplet[2])\n",
    "        return query, positive, negative"
   ]
  },
  {
   "cell_type": "code",
   "execution_count": 23,
   "id": "f5f35c13-1c04-4b0a-a351-6eb212d75ed5",
   "metadata": {},
   "outputs": [],
   "source": [
    "batch_size = 32"
   ]
  },
  {
   "cell_type": "code",
   "execution_count": 25,
   "id": "82aea099-18e2-45fe-8ad5-1e864b9383a5",
   "metadata": {},
   "outputs": [
    {
     "name": "stdout",
     "output_type": "stream",
     "text": [
      "C:\\Users\\Gabriel\\Documents\\Winter2022\\CIS472\\Project\\ti200-preprocess\\train C:\\Users\\Gabriel\\Documents\\Winter2022\\CIS472\\Project\\ti200-preprocess\\val\n"
     ]
    }
   ],
   "source": [
    "train_path = os.path.join(os.path.abspath(\"\"), \"ti200-preprocess\", \"train\")\n",
    "val_path = os.path.join(os.path.abspath(\"\"), \"ti200-preprocess\", \"val\")\n",
    "print(train_path, val_path)\n",
    "trd_val = BetterTripletRankingDataset(\n",
    "    val_path,\n",
    "    1,\n",
    "    1,\n",
    "    transform=(lambda x : torch.load(x)),\n",
    "    training=False\n",
    ")\n",
    "\n",
    "batch_size = 32\n",
    "tr_val_loader = torch.utils.data.DataLoader(trd_val, batch_size=batch_size,\n",
    "                                     num_workers=0)"
   ]
  },
  {
   "cell_type": "markdown",
   "id": "58c958b0-086d-4bdb-83ec-edff5879ddd3",
   "metadata": {},
   "source": [
    "Prepare new model that maps into a 64 dimensional encoding space. Note that this is less than the 200 classes."
   ]
  },
  {
   "cell_type": "code",
   "execution_count": 26,
   "id": "02f8122d-8277-47e8-be6a-9cc7e51d5f81",
   "metadata": {},
   "outputs": [],
   "source": [
    "stability_inception_encoder = torchvision.models.inception_v3(\n",
    "    pretrained=True,\n",
    "    aux_logits=False\n",
    ")"
   ]
  },
  {
   "cell_type": "markdown",
   "id": "4fd66d44-ea37-402c-8e38-f0098521c834",
   "metadata": {},
   "source": [
    "Sometimes, need to load from file instead:"
   ]
  },
  {
   "cell_type": "code",
   "execution_count": 29,
   "id": "493a54fb-e26b-4074-bd9a-a97fbea79e01",
   "metadata": {},
   "outputs": [],
   "source": [
    "stability_inception_triplet_ranking = torch.load(\n",
    "    os.path.join(\n",
    "        os.path.abspath(\"\"),\n",
    "        \"..\",\n",
    "        \"best_sitr_0_815490.pt\"\n",
    "    )\n",
    ")"
   ]
  },
  {
   "cell_type": "markdown",
   "id": "4221a188-df2b-4e5c-a5ad-4a65f75394a6",
   "metadata": {},
   "source": [
    "Else:"
   ]
  },
  {
   "cell_type": "code",
   "execution_count": 26,
   "id": "771a4bb3-2982-49a8-be43-210099ca66c4",
   "metadata": {},
   "outputs": [],
   "source": [
    "# Set them all to frozen by default\n",
    "for param in stability_inception_encoder.parameters():\n",
    "    param.requires_grad = False"
   ]
  },
  {
   "cell_type": "code",
   "execution_count": 27,
   "id": "0d0b3dcf-2c08-44ab-a88c-8442edbf0130",
   "metadata": {},
   "outputs": [],
   "source": [
    "# Let's thaw some layers\n",
    "for param in stability_inception_encoder.Mixed_7c.parameters():\n",
    "    param.requires_grad = True"
   ]
  },
  {
   "cell_type": "code",
   "execution_count": 28,
   "id": "23d748dc-c37c-47b9-9fa1-d77c7d7b4cdc",
   "metadata": {},
   "outputs": [],
   "source": [
    "stability_inception_encoder.fc = nn.Linear(2048, 64) # 64-Dimensional Encoding\n",
    "\n",
    "stability_inception_triplet_ranking = TripletRanker(\n",
    "    stability_inception_encoder\n",
    ").to(device)\n",
    "\n",
    "stability_inception_triplet_ranking = StabilityTrainingModel(\n",
    "    stability_inception_triplet_ranking\n",
    ")"
   ]
  },
  {
   "cell_type": "markdown",
   "id": "da70389e-a546-4977-86b0-4015489004e5",
   "metadata": {},
   "source": [
    "Training controllers:"
   ]
  },
  {
   "cell_type": "code",
   "execution_count": 31,
   "id": "d281a669-35db-47f2-8ad9-826069292d06",
   "metadata": {},
   "outputs": [],
   "source": [
    "sitr_optimizer = optim.Adam(\n",
    "    stability_inception_triplet_ranking.parameters(),\n",
    "    lr=0.005,\n",
    "    betas=(0.8,0.99)\n",
    ")"
   ]
  },
  {
   "cell_type": "markdown",
   "id": "78846344-1e11-4d70-969b-48bd3072f714",
   "metadata": {},
   "source": [
    "Result:"
   ]
  },
  {
   "cell_type": "code",
   "execution_count": 32,
   "id": "13f3a021-4354-44c2-9caf-7c14d7f65c75",
   "metadata": {},
   "outputs": [],
   "source": [
    "sitr_result = TrainResult(stability_inception_triplet_ranking)"
   ]
  },
  {
   "cell_type": "markdown",
   "id": "ad710510-a550-4213-b468-009706b21a6b",
   "metadata": {},
   "source": [
    "Triplet loss:"
   ]
  },
  {
   "cell_type": "code",
   "execution_count": 33,
   "id": "ab1332be-6af6-480a-9814-9fb72b198dc1",
   "metadata": {},
   "outputs": [],
   "source": [
    "ALPHA = 0.01\n",
    "\n",
    "triplet_loss = nn.TripletMarginLoss(1.0, 2)\n",
    "triplet_stability_loss = T.Lambda(\n",
    "    lambda x : \\\n",
    "        (x[0][0] - x[1][0]).norm() + (x[0][1] - x[1][1]).norm() + (x[0][2] - x[1][2]).norm()\n",
    ")\n",
    "\n",
    "def sitr_loss(clean_output, distort_output):\n",
    "    \"\"\"Note that this will apply softmax to distort_output.\"\"\"\n",
    "    return (\n",
    "        triplet_loss(*clean_output)\n",
    "        + ALPHA * triplet_stability_loss((clean_output, distort_output))\n",
    "    )"
   ]
  },
  {
   "cell_type": "markdown",
   "id": "ce7ef9b4-1872-415e-a831-8e22efc769fc",
   "metadata": {},
   "source": [
    "Training loop:"
   ]
  },
  {
   "cell_type": "code",
   "execution_count": 34,
   "id": "6f6014ff-e0bd-496b-8c13-7799fa6f10c0",
   "metadata": {},
   "outputs": [],
   "source": [
    "sitr_best_loss = float(\"inf\")\n",
    "sitr_best_count = 0"
   ]
  },
  {
   "cell_type": "code",
   "execution_count": 35,
   "id": "58993583-da2e-4acb-a549-747fbea800e7",
   "metadata": {
    "tags": []
   },
   "outputs": [
    {
     "data": {
      "application/vnd.jupyter.widget-view+json": {
       "model_id": "efb1ca728d644a66b24f6b6e1d2386e7",
       "version_major": 2,
       "version_minor": 0
      },
      "text/plain": [
       "Epoch:   0%|          | 0/4 [00:00<?, ?epoch/s]"
      ]
     },
     "metadata": {},
     "output_type": "display_data"
    },
    {
     "name": "stdout",
     "output_type": "stream",
     "text": [
      "Loading data...\n",
      "...done.\n",
      "Current Learning Rate: 0.005\n"
     ]
    },
    {
     "data": {
      "application/vnd.jupyter.widget-view+json": {
       "model_id": "32c584eee3ea4578bddf3464494f9b24",
       "version_major": 2,
       "version_minor": 0
      },
      "text/plain": [
       "Training Iteration:   0%|          | 0/3125 [00:00<?, ?it/s]"
      ]
     },
     "metadata": {},
     "output_type": "display_data"
    },
    {
     "data": {
      "application/vnd.jupyter.widget-view+json": {
       "model_id": "829756f4ecdb47ffb3335da81ccf1272",
       "version_major": 2,
       "version_minor": 0
      },
      "text/plain": [
       "Validation Iteration:   0%|          | 0/313 [00:00<?, ?it/s]"
      ]
     },
     "metadata": {},
     "output_type": "display_data"
    },
    {
     "name": "stdout",
     "output_type": "stream",
     "text": [
      "\n",
      "Epoch 0: Training Loss: 0.4466962291145325, Validation Loss: 0.4811534439555753\n",
      "Loading data...\n",
      "...done.\n",
      "Current Learning Rate: 0.005\n"
     ]
    },
    {
     "data": {
      "application/vnd.jupyter.widget-view+json": {
       "model_id": "a8a5af6d654844db8ea7a56ebac1f05e",
       "version_major": 2,
       "version_minor": 0
      },
      "text/plain": [
       "Training Iteration:   0%|          | 0/3125 [00:00<?, ?it/s]"
      ]
     },
     "metadata": {},
     "output_type": "display_data"
    },
    {
     "data": {
      "application/vnd.jupyter.widget-view+json": {
       "model_id": "a0787c6e81664e8ba27a4a3897fe5752",
       "version_major": 2,
       "version_minor": 0
      },
      "text/plain": [
       "Validation Iteration:   0%|          | 0/313 [00:00<?, ?it/s]"
      ]
     },
     "metadata": {},
     "output_type": "display_data"
    },
    {
     "name": "stdout",
     "output_type": "stream",
     "text": [
      "\n",
      "Epoch 1: Training Loss: 0.4196527834892273, Validation Loss: 0.47301896966208284\n",
      "Loading data...\n",
      "...done.\n",
      "Current Learning Rate: 0.005\n"
     ]
    },
    {
     "data": {
      "application/vnd.jupyter.widget-view+json": {
       "model_id": "40c009334b584d4b973a6d60e607af31",
       "version_major": 2,
       "version_minor": 0
      },
      "text/plain": [
       "Training Iteration:   0%|          | 0/3125 [00:00<?, ?it/s]"
      ]
     },
     "metadata": {},
     "output_type": "display_data"
    },
    {
     "data": {
      "application/vnd.jupyter.widget-view+json": {
       "model_id": "f92cd94dcee8402f9bf42b68b8e7b541",
       "version_major": 2,
       "version_minor": 0
      },
      "text/plain": [
       "Validation Iteration:   0%|          | 0/313 [00:00<?, ?it/s]"
      ]
     },
     "metadata": {},
     "output_type": "display_data"
    },
    {
     "name": "stdout",
     "output_type": "stream",
     "text": [
      "\n",
      "Epoch 2: Training Loss: 0.39456943225383756, Validation Loss: 0.46586901401749814\n",
      "Loading data...\n",
      "...done.\n",
      "Current Learning Rate: 0.005\n"
     ]
    },
    {
     "data": {
      "application/vnd.jupyter.widget-view+json": {
       "model_id": "17f354f6d87e4eb4985df0d67eb1c242",
       "version_major": 2,
       "version_minor": 0
      },
      "text/plain": [
       "Training Iteration:   0%|          | 0/3125 [00:00<?, ?it/s]"
      ]
     },
     "metadata": {},
     "output_type": "display_data"
    },
    {
     "data": {
      "application/vnd.jupyter.widget-view+json": {
       "model_id": "4f75466c7fa046139a1c17d71caba3d3",
       "version_major": 2,
       "version_minor": 0
      },
      "text/plain": [
       "Validation Iteration:   0%|          | 0/313 [00:00<?, ?it/s]"
      ]
     },
     "metadata": {},
     "output_type": "display_data"
    },
    {
     "name": "stdout",
     "output_type": "stream",
     "text": [
      "\n",
      "Epoch 3: Training Loss: 0.37283933286190035, Validation Loss: 0.4632008286853568\n"
     ]
    }
   ],
   "source": [
    "# Train for some number of epochs\n",
    "SITR_EPOCH_COUNT = 4 # + 1\n",
    "SITR_SAVE_PERIOD = 1\n",
    "\n",
    "loss = torch.Tensor([0])\n",
    "for epoch in tqdm_variant(\n",
    "    range(SITR_EPOCH_COUNT),\n",
    "    desc=f\"Epoch\",\n",
    "    unit=\"epoch\",\n",
    "    disable=False\n",
    "):\n",
    "    # For this training loop, we'll switch up the data each time.\n",
    "    print(\"Loading data...\")\n",
    "    try:\n",
    "        del trd, tr_train_loader\n",
    "    except NameError:\n",
    "        pass\n",
    "    trd = BetterTripletRankingDataset(\n",
    "        train_path,\n",
    "        1,\n",
    "        1,\n",
    "        transform=(lambda x : torch.load(x))\n",
    "    )\n",
    "    tr_train_loader = torch.utils.data.DataLoader(\n",
    "        trd,\n",
    "        batch_size=batch_size,\n",
    "        num_workers=0,\n",
    "        shuffle=True\n",
    "    )\n",
    "    print(\"...done.\")\n",
    "    \n",
    "    # Debug learning rate\n",
    "    print(f\"Current Learning Rate: {sitr_optimizer.param_groups[0]['lr']}\")\n",
    "    \n",
    "    train_loss = triplet_epoch(\n",
    "        stability_inception_triplet_ranking,\n",
    "        tr_train_loader,\n",
    "        sitr_optimizer,\n",
    "        device,\n",
    "        sitr_loss,\n",
    "        sitr_result\n",
    "    )\n",
    "\n",
    "    val_loss = triplet_epoch(\n",
    "        stability_inception_triplet_ranking,\n",
    "        tr_val_loader,\n",
    "        sitr_optimizer,\n",
    "        device,\n",
    "        sitr_loss,\n",
    "        sitr_result,\n",
    "        training=False\n",
    "    )\n",
    "    \n",
    "    # Save a copy for safety\n",
    "    if val_loss < sitr_best_loss:\n",
    "        torch.save(\n",
    "            stability_inception_triplet_ranking, \n",
    "            os.path.join(\n",
    "                os.path.abspath(\"\"),\n",
    "                f\"best_sitr_{sitr_best_count}_{int(time.time()) % 1000000:06}.pt\"\n",
    "            )\n",
    "        )\n",
    "        sitr_best_count += 1\n",
    "        sitr_best_loss = val_loss\n",
    "        \n",
    "    if epoch % SITR_SAVE_PERIOD == SITR_SAVE_PERIOD - 1:\n",
    "        torch.save(\n",
    "            stability_inception_triplet_ranking,\n",
    "            os.path.join(\n",
    "                os.path.abspath(\"\"),\n",
    "                f\"sitr_{epoch}_{int(time.time()) % 1000000:06}.pt\"\n",
    "            )\n",
    "        )\n",
    "\n",
    "    # Print the last loss calculated and the epoch\n",
    "    print(f\"\\nEpoch {epoch}: Training Loss: {train_loss}, \" \\\n",
    "          f\"Validation Loss: {val_loss}\")"
   ]
  },
  {
   "cell_type": "markdown",
   "id": "47b0ddc6-71f3-48b9-99a8-609959b4d063",
   "metadata": {},
   "source": [
    "The old way of saving is taking up lots of memory, let's just save the part that changes:"
   ]
  },
  {
   "cell_type": "code",
   "execution_count": 37,
   "id": "ee350bee-4778-4cc4-9770-b149f03a8011",
   "metadata": {},
   "outputs": [],
   "source": [
    "torch.save(\n",
    "    stability_inception_triplet_ranking.model.state_dict(),\n",
    "    \"stability_inception_triplet_ranking.pth\"\n",
    ")"
   ]
  },
  {
   "cell_type": "code",
   "execution_count": 38,
   "id": "7dc76c16-689c-4fab-b928-1c4753cff369",
   "metadata": {},
   "outputs": [],
   "source": [
    "sitr_result.save(_def_save_filename)"
   ]
  },
  {
   "cell_type": "markdown",
   "id": "3e9505d0-ffdd-4b13-a466-d7afbdc07649",
   "metadata": {},
   "source": [
    "Let's also take a look at training/testing curves:"
   ]
  },
  {
   "cell_type": "code",
   "execution_count": 39,
   "id": "9099fa9c-d69b-4bd9-89ad-62a0f31e9287",
   "metadata": {
    "tags": []
   },
   "outputs": [
    {
     "data": {
      "image/png": "[encoded data removed]",
      "text/plain": [
       "<Figure size 432x288 with 1 Axes>"
      ]
     },
     "metadata": {
      "needs_background": "light"
     },
     "output_type": "display_data"
    }
   ],
   "source": [
    "fig, ax = plt.subplots()\n",
    "sitr_result.plot_loss_train_valid_curves(ax)"
   ]
  },
  {
   "cell_type": "markdown",
   "id": "4eeb6819-cb77-45ab-9c77-4ed81811e757",
   "metadata": {
    "tags": []
   },
   "source": [
    "### Feature Distances"
   ]
  },
  {
   "cell_type": "markdown",
   "id": "26cac5da-f130-4a72-b4f1-690c88449874",
   "metadata": {},
   "source": [
    "First, run the experiment:"
   ]
  },
  {
   "cell_type": "code",
   "execution_count": 56,
   "id": "650b0ea3-f7dd-4782-98a7-3d614e8a6e3f",
   "metadata": {},
   "outputs": [
    {
     "data": {
      "application/vnd.jupyter.widget-view+json": {
       "model_id": "cd16aa26e24d44e7925de1c431eb2cc2",
       "version_major": 2,
       "version_minor": 0
      },
      "text/plain": [
       "  0%|          | 0/10001 [00:00<?, ?it/s]"
      ]
     },
     "metadata": {},
     "output_type": "display_data"
    }
   ],
   "source": [
    "baseline_observations, stabilized_observations = make_observations(\n",
    "    inception_triplet_ranking.model.to(\"cpu\"),\n",
    "    None,\n",
    "    os.path.join(os.path.abspath(\"\"), \"tiny-imagenet-200\", \"test\", \"images\")\n",
    ")"
   ]
  },
  {
   "cell_type": "markdown",
   "id": "3b5fc15a-a1fb-4cc5-bde0-c9b1b9fafaf3",
   "metadata": {},
   "source": [
    "Plot the results:"
   ]
  },
  {
   "cell_type": "code",
   "execution_count": 65,
   "id": "fb3a8a68-902d-464d-8b2a-4cdd322fc37b",
   "metadata": {
    "collapsed": true,
    "jupyter": {
     "outputs_hidden": true
    },
    "tags": []
   },
   "outputs": [
    {
     "name": "stderr",
     "output_type": "stream",
     "text": [
      "C:\\Users\\Gabriel\\AppData\\Local\\Temp/ipykernel_1128/2350893480.py:32: MatplotlibDeprecationWarning: Passing the fontdict parameter of _set_ticklabels() positionally is deprecated since Matplotlib 3.3; the parameter will become keyword-only two minor releases later.\n",
      "  ax.set_yticklabels(\n",
      "C:\\Users\\Gabriel\\AppData\\Local\\Temp/ipykernel_1128/2350893480.py:44: UserWarning: Matplotlib is currently using module://matplotlib_inline.backend_inline, which is a non-GUI backend, so cannot show the figure.\n",
      "  fig.show()\n"
     ]
    },
    {
     "data": {
      "image/png": "[encoded data removed]",
      "text/plain": [
       "<Figure size 432x288 with 1 Axes>"
      ]
     },
     "metadata": {
      "needs_background": "light"
     },
     "output_type": "display_data"
    }
   ],
   "source": [
    "plot_cumulative_dist(\n",
    "    list(map(lambda x : x.item(), baseline_observations)),\n",
    "    stabilized_observations\n",
    ")"
   ]
  },
  {
   "cell_type": "markdown",
   "id": "b64b0a44-d47c-4009-8ad3-d5b7a5fd0d3e",
   "metadata": {},
   "source": [
    "Save the results for later:"
   ]
  },
  {
   "cell_type": "code",
   "execution_count": 58,
   "id": "0d39a0de-10ae-4232-9b73-a2cedfccff35",
   "metadata": {},
   "outputs": [],
   "source": [
    "with open(\n",
    "    f\"inception_tr_distribution_result_{int(time.time()) % 1000000:06}.pt\",\n",
    "    \"wb\"\n",
    ") as file_obj:\n",
    "    pickle.dump(\n",
    "        {\n",
    "            \"baseline\" : baseline_observations,\n",
    "            \"stabilized\" : stabilized_observations\n",
    "        }, file_obj\n",
    "    )"
   ]
  },
  {
   "cell_type": "markdown",
   "id": "25b65096-2d42-466b-b783-555c0bc5c6f5",
   "metadata": {},
   "source": [
    "Now for the stability version:"
   ]
  },
  {
   "cell_type": "code",
   "execution_count": 42,
   "id": "5ea16c1e-9de2-4f80-9323-5487f7d9b502",
   "metadata": {},
   "outputs": [
    {
     "data": {
      "application/vnd.jupyter.widget-view+json": {
       "model_id": "3d9bba844153427eb1bdc19a430e5ad5",
       "version_major": 2,
       "version_minor": 0
      },
      "text/plain": [
       "  0%|          | 0/10001 [00:00<?, ?it/s]"
      ]
     },
     "metadata": {},
     "output_type": "display_data"
    }
   ],
   "source": [
    "stabilized_observations, _ = make_observations(\n",
    "    stability_inception_triplet_ranking.model.model.to(\"cpu\"),\n",
    "    None,\n",
    "    os.path.join(os.path.abspath(\"\"), \"tiny-imagenet-200\", \"test\", \"images\")\n",
    ")"
   ]
  },
  {
   "cell_type": "code",
   "execution_count": 44,
   "id": "8be16e8d-1cdb-468b-88c4-d99251de05a3",
   "metadata": {},
   "outputs": [],
   "source": [
    "with open(\n",
    "    f\"s_inception_tr_distribution_result_{int(time.time()) % 1000000:06}.pt\",\n",
    "    \"wb\"\n",
    ") as file_obj:\n",
    "    pickle.dump(\n",
    "        {\n",
    "            \"stabilized\" : stabilized_observations\n",
    "        }, file_obj\n",
    "    )"
   ]
  },
  {
   "cell_type": "code",
   "execution_count": 46,
   "id": "f5675369-1019-4316-830e-2871ffe67329",
   "metadata": {},
   "outputs": [],
   "source": [
    "with open(\"inception_tr_distribution_result_783604.pt\", \"rb\") as file_obj:\n",
    "    get_past = pickle.load(file_obj)\n",
    "baseline_obsevations = get_past[\"baseline\"]"
   ]
  },
  {
   "cell_type": "code",
   "execution_count": 48,
   "id": "db685b1b-c77e-4183-a0cc-540b89f52e3f",
   "metadata": {
    "tags": []
   },
   "outputs": [
    {
     "name": "stderr",
     "output_type": "stream",
     "text": [
      "C:\\Users\\Gabriel\\AppData\\Local\\Temp/ipykernel_9684/2350893480.py:32: MatplotlibDeprecationWarning: Passing the fontdict parameter of _set_ticklabels() positionally is deprecated since Matplotlib 3.3; the parameter will become keyword-only two minor releases later.\n",
      "  ax.set_yticklabels(\n",
      "C:\\Users\\Gabriel\\AppData\\Local\\Temp/ipykernel_9684/2350893480.py:44: UserWarning: Matplotlib is currently using module://matplotlib_inline.backend_inline, which is a non-GUI backend, so cannot show the figure.\n",
      "  fig.show()\n"
     ]
    },
    {
     "data": {
      "image/png": "[encoded data removed]",
      "text/plain": [
       "<Figure size 432x288 with 1 Axes>"
      ]
     },
     "metadata": {
      "needs_background": "light"
     },
     "output_type": "display_data"
    }
   ],
   "source": [
    "plot_cumulative_dist(\n",
    "    list(map(lambda x : x.item(), baseline_obsevations)),\n",
    "    list(map(lambda x : x.item(), stabilized_observations))\n",
    ")"
   ]
  },
  {
   "cell_type": "code",
   "execution_count": null,
   "id": "500367ad-62b0-4acf-a731-448d90900cd7",
   "metadata": {},
   "outputs": [],
   "source": []
  }
 ],
 "metadata": {
  "kernelspec": {
   "display_name": "Python 3 (ipykernel)",
   "language": "python",
   "name": "python3"
  },
  "language_info": {
   "codemirror_mode": {
    "name": "ipython",
    "version": 3
   },
   "file_extension": ".py",
   "mimetype": "text/x-python",
   "name": "python",
   "nbconvert_exporter": "python",
   "pygments_lexer": "ipython3",
   "version": "3.9.7"
  }
 },
 "nbformat": 4,
 "nbformat_minor": 5
}
