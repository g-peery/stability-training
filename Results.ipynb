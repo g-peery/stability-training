{
 "cells": [
  {
   "cell_type": "markdown",
   "id": "5ea2014b-38fc-40f1-83ae-1406ab61ff53",
   "metadata": {},
   "source": [
    "This notebook is for reproducing the paper with ResNet. Biggest TODO: separate saving data between iterations."
   ]
  },
  {
   "cell_type": "markdown",
   "id": "41034072-4b51-40ec-b16e-5c3b601a69b7",
   "metadata": {
    "tags": []
   },
   "source": [
    "# Common\n",
    "\n",
    "These sections include code common to both ResNet and Inception."
   ]
  },
  {
   "cell_type": "markdown",
   "id": "4054fe80-6332-4e58-a0c9-6338ceb6f191",
   "metadata": {
    "tags": []
   },
   "source": [
    "## Dependencies\n",
    "\n",
    "Let's setup and configure dependencies. Note that since torchviz is used, graphviz needs to be specially installed."
   ]
  },
  {
   "cell_type": "code",
   "execution_count": 1,
   "id": "0ee8ce2f",
   "metadata": {},
   "outputs": [],
   "source": [
    "%load_ext tensorboard\n",
    "\n",
    "import contextlib\n",
    "from io import BytesIO\n",
    "from io import StringIO\n",
    "import matplotlib.pyplot as plt\n",
    "import numpy as np\n",
    "import os\n",
    "import pandas as pd\n",
    "import pickle\n",
    "from PIL import Image\n",
    "import random\n",
    "import time\n",
    "import timm\n",
    "import torch\n",
    "from torch import nn\n",
    "from torch import optim\n",
    "from torch.utils.tensorboard import SummaryWriter\n",
    "import torchvision\n",
    "import torchvision.datasets as datasets\n",
    "from torchvision.io import ImageReadMode\n",
    "from torchvision.io import read_image\n",
    "from torchvision import transforms as T\n",
    "from torchviz import make_dot # This requires external downloads as well\n",
    "import tqdm"
   ]
  },
  {
   "cell_type": "code",
   "execution_count": 2,
   "id": "7b1d91ed-5a91-4f62-bc7f-31bfa59a65bd",
   "metadata": {},
   "outputs": [],
   "source": [
    "# Reproducibility\n",
    "def seed_worker(worker_id):\n",
    "    \"\"\"\n",
    "    Sets the seed of the worker to depend on the initial seed. Credit to\n",
    "    https://pytorch.org/docs/stable/notes/randomness.html\n",
    "    \"\"\"\n",
    "    worker_seed = torch.initial_seed() % 2**32\n",
    "    np.random.seed(worker_seed)\n",
    "    random.seed(worker_seed)\n",
    "    \n",
    "torch.manual_seed(0)\n",
    "# For DataLoaders\n",
    "g = torch.Generator().manual_seed(0)"
   ]
  },
  {
   "cell_type": "code",
   "execution_count": 3,
   "id": "4d2045b5-74a7-41b8-b0be-2da5d6e6dfbc",
   "metadata": {},
   "outputs": [],
   "source": [
    "# Prepare progress bar\n",
    "tqdm_variant = tqdm.tqdm # Assume not in Jupyter\n",
    "try:\n",
    "    # Credit https://stackoverflow.com/a/39662359\n",
    "    shell_name = get_ipython().__class__.__name__\n",
    "    if shell_name == \"ZMQInteractiveShell\":\n",
    "        # Case in Jupyter\n",
    "        tqdm_variant = tqdm.notebook.tqdm\n",
    "except NameError:\n",
    "    # Probably no iPhython instance, just use standard\n",
    "    pass"
   ]
  },
  {
   "cell_type": "code",
   "execution_count": 4,
   "id": "f6e58de5",
   "metadata": {},
   "outputs": [],
   "source": [
    "device = torch.device('cuda' if torch.cuda.is_available() else 'cpu')"
   ]
  },
  {
   "cell_type": "markdown",
   "id": "11be810b-db52-466b-a73a-030dec6214b9",
   "metadata": {
    "tags": []
   },
   "source": [
    "## Plotting and Debugging Tools\n",
    "\n",
    "Let's create some helpful functions for plotting."
   ]
  },
  {
   "cell_type": "code",
   "execution_count": 5,
   "id": "e861da12",
   "metadata": {},
   "outputs": [],
   "source": [
    "# Adapted from Steven's ModelExamples\n",
    "def matplotlib_imshow(img, one_channel=False):\n",
    "    if one_channel:\n",
    "        img = img.mean(dim=0)\n",
    "    img = img / 2 + 0.5     # unnormalize\n",
    "    npimg = img.numpy()\n",
    "    plt.gca().get_xaxis().set_visible(False)\n",
    "    plt.gca().get_yaxis().set_visible(False)\n",
    "    if one_channel:\n",
    "        plt.imshow(npimg, cmap=\"Greys\")\n",
    "    else:\n",
    "        plt.imshow(np.transpose(npimg, (1, 2, 0)))"
   ]
  },
  {
   "cell_type": "code",
   "execution_count": 6,
   "id": "af008e45-5924-4d4b-b859-9b3701a50427",
   "metadata": {},
   "outputs": [],
   "source": [
    "def display_batch_sample(loader):\n",
    "    dataiter = iter(loader)\n",
    "    imgs, labels = next(dataiter)\n",
    "    img_grid = torchvision.utils.make_grid(imgs)\n",
    "    imgs, labels = imgs.to(device), labels.to(device)\n",
    "    matplotlib_imshow(img_grid)"
   ]
  },
  {
   "cell_type": "code",
   "execution_count": 7,
   "id": "57feb0c1-18ca-4346-a620-a26030a7877d",
   "metadata": {},
   "outputs": [],
   "source": [
    "def plot_cumulative_dist(\n",
    "    baseline_observations,\n",
    "    stabilized_observations\n",
    "):\n",
    "    \"\"\"Plot our reproduction of Figure 7.\"\"\"\n",
    "    fig, ax = plt.subplots()\n",
    "    ax.set_title(\"Cumulative Distributions\")\n",
    "    ax.set_xlabel(\"Feature Distance\", fontweight=\"bold\", loc=\"left\")\n",
    "    ax.set_ylabel(\"Cumulative Fraction\", fontweight=\"bold\", loc=\"top\")\n",
    "    ax.hist(\n",
    "        baseline_observations,\n",
    "        round(np.sqrt(len(baseline_observations))),\n",
    "        density=True,\n",
    "        histtype=\"step\",\n",
    "        cumulative=True,\n",
    "        label=\"Baseline\"\n",
    "    )\n",
    "    if len(stabilized_observations) > 0:\n",
    "        ax.hist(\n",
    "            stabilized_observations,\n",
    "            round(np.sqrt(len(stabilized_observations))),\n",
    "            density=True,\n",
    "            histtype=\"step\",\n",
    "            cumulative=True,\n",
    "            label=\"Stabilized\"\n",
    "        )\n",
    "    ax.yaxis.tick_right()\n",
    "    ax.yaxis.set_label_position(\"right\")\n",
    "    ax.tick_params(axis=\"x\", direction=\"in\", pad=-15)\n",
    "    ax.tick_params(axis=\"y\", direction=\"in\", pad=-22)\n",
    "    ax.set_yticks([0.2,0.4,0.6,0.8,1.0])\n",
    "    ax.set_yticklabels(\n",
    "        [\"20%\",\"40%\",\"60%\",\"80%\",\"100%\"],\n",
    "        {\"fontweight\" : \"bold\", \"verticalalignment\" : \"top\"}\n",
    "    )\n",
    "    ax.legend(loc=\"upper left\")\n",
    "    ax.grid()\n",
    "    fig.savefig(\n",
    "        os.path.join(\n",
    "            os.path.abspath(\"\"),\n",
    "            f\"cumulative_dists_{int(time.time()) % 1000000:06}.png\"\n",
    "        )\n",
    "    )\n",
    "    fig.show()"
   ]
  },
  {
   "cell_type": "code",
   "execution_count": 8,
   "id": "17edab80-3391-4fd6-977d-635f89910893",
   "metadata": {},
   "outputs": [],
   "source": [
    "def show_first_triplet(queries, positives, negatives):\n",
    "    a, b, c = queries[0], positives[0], negatives[0]\n",
    "    ToPIL = T.ToPILImage() # Converting function\n",
    "    fig, ax = plt.subplots(1, 3)\n",
    "    ax[0].imshow(ToPIL(a))\n",
    "    ax[1].imshow(ToPIL(b))\n",
    "    ax[2].imshow(ToPIL(c))\n",
    "    fig.show()"
   ]
  },
  {
   "cell_type": "code",
   "execution_count": 9,
   "id": "64bfaafa-c819-4b54-9609-11bdec012522",
   "metadata": {},
   "outputs": [],
   "source": [
    "def debug_distances(triplet_ranking_model, batch, item_idx=0):\n",
    "    with torch.no_grad():\n",
    "        output = triplet_ranking_model(*map(lambda x : x.to(device), batch))\n",
    "        qfeat = output[item_idx][0]\n",
    "        pfeat = output[item_idx][1]\n",
    "        nfeat = output[item_idx][2]\n",
    "        pos_dist = torch.sqrt(((qfeat - pfeat)**2).sum()).item()\n",
    "        neg_dist = torch.sqrt(((qfeat - nfeat)**2).sum()).item()\n",
    "        print(f\"Distance to positive: {pos_dist}, to negative: {neg_dist}\")"
   ]
  },
  {
   "cell_type": "code",
   "execution_count": 10,
   "id": "496f8c99-6a08-458a-b372-8c432e29c681",
   "metadata": {},
   "outputs": [],
   "source": [
    "def plot_precision_vs_quality(\n",
    "    qualities,\n",
    "    baseline_precision,\n",
    "    stabilized_precision\n",
    "):\n",
    "    plt.plot(qualities, baseline_precision, label=\"Baseline\")\n",
    "    plt.plot(qualities, stabilized_precision, label=r\"$\\alpha=0.01$\")\n",
    "    plt.xticks(qualities[2:-1:2], [f\"{quality}.00%\" for quality in qualities[2:-1:2]])\n",
    "    plt.xlim(100, 0)\n",
    "    plt.xlabel(\"JPEG quality\", fontweight=\"bold\", loc=\"left\")\n",
    "    plt.ylabel(\"Precision@top-1\", loc=\"top\")\n",
    "    plt.gca().yaxis.tick_right()\n",
    "    plt.gca().yaxis.set_label_position(\"right\")\n",
    "    plt.gca().tick_params(axis=\"x\", direction=\"in\", pad=-15)\n",
    "    plt.gca().tick_params(axis=\"y\", direction=\"in\", pad=-22)\n",
    "    plt.legend(loc=\"upper center\")\n",
    "    plt.grid()\n",
    "    fig = plt.gcf()\n",
    "    fig.savefig(\n",
    "        os.path.join(\n",
    "            os.path.abspath(\"\"),\n",
    "            f\"precision_vs_quality_{int(time.time()) % 1000000:06}.png\"\n",
    "        )\n",
    "    )\n",
    "    plt.show()"
   ]
  },
  {
   "cell_type": "markdown",
   "id": "5bc57be1-7ce4-4ee2-8a9d-cda6b6e0642d",
   "metadata": {},
   "source": [
    "This part is also helpful for storing results of training:"
   ]
  },
  {
   "cell_type": "code",
   "execution_count": 11,
   "id": "3ab9f248-96b3-43bc-bf1a-7e45d4c33a7e",
   "metadata": {},
   "outputs": [],
   "source": [
    "def _def_save_filename(iteration_number : int, is_model : bool):\n",
    "    \"\"\"\n",
    "    Returns a save filename from an iteration number, and whether the\n",
    "    thing being saved is the model or the loss progress.\n",
    "    \"\"\"\n",
    "    # Make sure inputs are okay (no directory traversal attacks!)\n",
    "    if not isinstance(iteration_number, int):\n",
    "        raise TypeError(\"Iteration number should be an integer.\")\n",
    "\n",
    "    # Retrieve proper name\n",
    "    if is_model:\n",
    "        return os.path.join(\n",
    "            os.path.dirname(os.path.abspath(\"\")),\n",
    "            f\"model_save_{iteration_number}_{int(time.time())%1000000:06}.pt\"\n",
    "        )\n",
    "    return os.path.join(\n",
    "        os.path.dirname(os.path.abspath(\"\")),\n",
    "        f\"progress_save_{iteration_number}_{int(time.time())%1000000:06}.pt\"\n",
    "    )\n",
    "\n",
    "#\n",
    "# This class will make recording information easier\n",
    "#\n",
    "class TrainResult:\n",
    "    \"\"\"\n",
    "    Hold the results of a training round. Basically a nice wrapper.\n",
    "\n",
    "    Losses and accuracies should be averages over a batch for plot\n",
    "    labels to make sense.\n",
    "\n",
    "    Use whichever storage makes sense, but if one doesn't use the\n",
    "    storage then don't expect the corresponding plots to do anything.\n",
    "    \"\"\"\n",
    "\n",
    "    def __init__(self, model):\n",
    "        \"\"\"\n",
    "        Constructor - prepare local variables. Include model since the\n",
    "        one provided to trainer will likely be moved to a different\n",
    "        device. Provide the one that is actually trained here, and then\n",
    "        it can be used.\n",
    "        \"\"\"\n",
    "        self.train_loss_history = []\n",
    "        self.val_loss_history = []\n",
    "        self.train_accuracy_history = []\n",
    "        self.val_accuracy_history = []\n",
    "        self.time_training = 0.0\n",
    "        self.time_validating = 0.0\n",
    "        self.model = model\n",
    "\n",
    "    def plot_loss_train_valid_curves(self, ax, show_legend : bool=True):\n",
    "        \"\"\"Use matplotlib to show training curves. Supply axis in ax.\"\"\"\n",
    "        ax.plot(self.train_loss_history, label=\"Train\")\n",
    "        ax.plot(self.val_loss_history, label=\"Test\")\n",
    "        ax.set_title(f\"Model Loss\")\n",
    "        ax.set_xlabel(\"Iteration\")\n",
    "        ax.set_ylabel(\"Loss\")\n",
    "        if show_legend:\n",
    "            ax.legend()\n",
    "\n",
    "    def plot_accuracy_train_valid_curves(self, ax, show_legend=True):\n",
    "        \"\"\"Use matplotlib to show training curves. Supply axis in ax.\"\"\"\n",
    "        ax.plot(self.train_accuracy_history, label=\"Train\")\n",
    "        ax.plot(self.val_accuracy_history, label=\"Test\")\n",
    "        ax.set_title(f\"Model Accuracy\")\n",
    "        ax.set_xlabel(\"Iteration\")\n",
    "        ax.set_ylabel(\"Accuracy\")\n",
    "        if show_legend:\n",
    "            ax.legend()\n",
    "\n",
    "    def print_time_info(self):\n",
    "        \"\"\"Prints some lines with information about timing.\"\"\"\n",
    "        print(f\"Spent {round(self.time_training)} seconds training.\")\n",
    "        print(f\"Spent {round(self.time_validating)} seconds evaluating.\")\n",
    "\n",
    "    def full_analysis(self, axs):\n",
    "        \"\"\"Display all analysis plots and print time information.\"\"\"\n",
    "        if len(self.train_loss_history) > 0:\n",
    "            self.plot_loss_train_valid_curves(axs[0])\n",
    "        if len(self.train_accuracy_history) > 0:\n",
    "            self.plot_accuracy_train_valid_curves(axs[1])\n",
    "        if self.time_training > 0.0:\n",
    "            self.print_time_info()\n",
    "\n",
    "    def save(self, save_filename_func, count : int=0):\n",
    "        \"\"\"\n",
    "        Uses the save_filename_func provided with the count to create\n",
    "        files that save the models current weights and the training\n",
    "        progress so far.\n",
    "\n",
    "        For count, 0 is by convention the final version.\n",
    "        \"\"\"\n",
    "        # Save model\n",
    "        torch.save(self.model.state_dict(), save_filename_func(count, True))\n",
    "        # Save progress\n",
    "        with open(save_filename_func(count, False), \"wb\") as file_obj:\n",
    "            pickle.dump(\n",
    "                {\n",
    "                    \"train_loss_history\" : self.train_loss_history,\n",
    "                    \"val_loss_history\" : self.val_loss_history,\n",
    "                    \"train_accuracy_history\" : self.train_accuracy_history,\n",
    "                    \"val_accuracy_history\" : self.val_accuracy_history,\n",
    "                    \"time_training\" : self.time_training,\n",
    "                    \"time_validating\" : self.time_validating\n",
    "                }, file_obj\n",
    "            )"
   ]
  },
  {
   "cell_type": "code",
   "execution_count": 12,
   "id": "4a7ec4f1-79b6-4814-b5d1-d705dfffd422",
   "metadata": {},
   "outputs": [],
   "source": [
    "def gradient_sanity_display(model, input_iter):\n",
    "    \"\"\"\n",
    "    Show a computational graph for a model on device given an iterable\n",
    "    of inputs to provide to the model.\n",
    "    \"\"\"\n",
    "    res = model(*[item.to(device) for item in input_iter])\n",
    "    return make_dot(res, params=dict(model.named_parameters()))"
   ]
  },
  {
   "cell_type": "markdown",
   "id": "cd2bc7b5-3ab6-4314-adc5-78d3d976254e",
   "metadata": {
    "tags": []
   },
   "source": [
    "## Metrics\n",
    "\n",
    "Let's prepare some evaluation functions."
   ]
  },
  {
   "cell_type": "code",
   "execution_count": 13,
   "id": "90f9c48b-17ea-4c4e-967f-2c2b8e8e132a",
   "metadata": {},
   "outputs": [],
   "source": [
    "def classifier_get_accuracy(model_output, labels):\n",
    "    \"\"\"\n",
    "    Given model output and labels, finds the average accuracy over the \n",
    "    batch.\n",
    "    \"\"\"\n",
    "    preds = model_output.topk(1, dim=1)[1].t().flatten()\n",
    "    return ((preds == labels).sum() / len(preds)).item()"
   ]
  },
  {
   "cell_type": "code",
   "execution_count": 14,
   "id": "6e999aef-7d29-4c15-8ab4-5bdb530e9dab",
   "metadata": {},
   "outputs": [],
   "source": [
    "def stable_classifier_get_accuracy(model_output, labels):\n",
    "    \"\"\"For stability trained classifier, finds the accuracy\"\"\"\n",
    "    return (\n",
    "        torch.sum(\n",
    "            model_output[0].topk(1, dim=1)[1].t().flatten()\n",
    "            == labels\n",
    "        )\n",
    "        / len(model_output[0])\n",
    "   ).item()"
   ]
  },
  {
   "cell_type": "markdown",
   "id": "1e451b31-983c-4cb5-9613-beb1aa72330e",
   "metadata": {
    "tags": []
   },
   "source": [
    "## Experiments\n",
    "\n",
    "Let's make some functions to run experiments on models.\n",
    "\n",
    "For the following, see how closely the triplet ranking models think compressed versions of the same images are."
   ]
  },
  {
   "cell_type": "code",
   "execution_count": 55,
   "id": "34f5e7fb-1544-4321-bba1-49c814249271",
   "metadata": {},
   "outputs": [],
   "source": [
    "def make_observations(baseline_model, stabilized_model, imagefolder):\n",
    "    \"\"\"\n",
    "    Given a model trained for triplet ranking, make duplicate detection\n",
    "    observations.\n",
    "    \"\"\"\n",
    "    baseline_observations = []\n",
    "    stabilized_observations = []\n",
    "    tensor_transform = inception_transform\n",
    "    \n",
    "    for img_name in tqdm_variant(os.listdir(imagefolder)):\n",
    "        #\n",
    "        # Deal with images\n",
    "        #\n",
    "        image_fpath = os.path.join(imagefolder, img_name)\n",
    "        if \"jpeg\" in img_name.lower():\n",
    "            original_img = Image.open(image_fpath).convert(\"RGB\")\n",
    "        else:\n",
    "            continue\n",
    "        # Thanks https://stackoverflow.com/a/30771751\n",
    "        buffer = BytesIO()\n",
    "        original_img.save(buffer, \"JPEG\", optimize=True, quality=50)\n",
    "        compressed_img = Image.open(buffer).convert(\"RGB\")\n",
    "        \n",
    "        orig_tensor = tensor_transform(original_img)\n",
    "        comp_tensor = tensor_transform(compressed_img)\n",
    "        orig_tensor = orig_tensor.view(1, *orig_tensor.shape)\n",
    "        comp_tensor = comp_tensor.view(1, *comp_tensor.shape)\n",
    "        #\n",
    "        # Make observations\n",
    "        #\n",
    "        baseline_model.eval()\n",
    "        if stabilized_model is not None:\n",
    "            stabilized_model.eval()\n",
    "        with torch.no_grad():\n",
    "            # Baseline\n",
    "            original_rep = nn.functional.normalize(baseline_model(orig_tensor))\n",
    "            compressed_rep = nn.functional.normalize(baseline_model(comp_tensor))\n",
    "            dist = torch.sqrt(((original_rep - compressed_rep)**2).sum())\n",
    "            baseline_observations.append(dist)\n",
    "            # Stabilized\n",
    "            if stabilized_model is not None:\n",
    "                original_rep = nn.functional.normalize(stabilized_model(orig_tensor))\n",
    "                compressed_rep = nn.functional.normalize(stabilized_model(comp_tensor))\n",
    "                dist = torch.sqrt(((original_rep - compressed_rep)**2).sum())\n",
    "                stabilized_observations.append(dist)\n",
    "            \n",
    "    return baseline_observations, stabilized_observations"
   ]
  },
  {
   "cell_type": "markdown",
   "id": "c5e225f7-ffcc-44a3-8164-a3ba84e1f152",
   "metadata": {
    "tags": []
   },
   "source": [
    "## Models\n",
    "\n",
    "We'll similarly create model objects as we go along, but this section contains things that simplify making them."
   ]
  },
  {
   "cell_type": "markdown",
   "id": "47ccb2b3-0eea-49dc-b080-9632eda8b6ad",
   "metadata": {
    "tags": []
   },
   "source": [
    "### Helper Transformations"
   ]
  },
  {
   "cell_type": "code",
   "execution_count": 16,
   "id": "968864a1",
   "metadata": {},
   "outputs": [],
   "source": [
    "# Credit https://discuss.pytorch.org/t/how-to-add-noise-to-mnist-dataset-when-using-pytorch/59745\n",
    "class AddGaussianNoise(object):\n",
    "    def __init__(self, mean=0., std=1.):\n",
    "        self.std = std\n",
    "        self.mean = mean\n",
    "        \n",
    "    def __call__(self, tensor):\n",
    "        return (\n",
    "            tensor\n",
    "            + torch.empty(tensor.size(), device=device).normal_() * self.std\n",
    "            + self.mean\n",
    "        )\n",
    "    \n",
    "    def __repr__(self):\n",
    "        return (\n",
    "            self.__class__.__name__\n",
    "            + '(mean={0}, std={1})'.format(self.mean, self.std)\n",
    "        )"
   ]
  },
  {
   "cell_type": "code",
   "execution_count": 17,
   "id": "366f9024-7be8-439c-8602-30c895b78433",
   "metadata": {},
   "outputs": [],
   "source": [
    "# Applies an amount of JPEG compression to a PIL image    \n",
    "class JPEGTransform(nn.Module):\n",
    "    def __init__(self, quality=50):\n",
    "        self.quality = quality\n",
    "    \n",
    "    def __call__(self, img):\n",
    "        buffer = BytesIO()\n",
    "        img.save(buffer, \"JPEG\", optimize=True, quality=self.quality)\n",
    "        return Image.open(buffer)"
   ]
  },
  {
   "cell_type": "markdown",
   "id": "cad987dc-e83c-4df1-8a90-9e17278de875",
   "metadata": {},
   "source": [
    "ResNet is made to be used with data transformed as so:"
   ]
  },
  {
   "cell_type": "code",
   "execution_count": 18,
   "id": "74886e62-5e7a-42b2-84fd-3f43dccac3a7",
   "metadata": {},
   "outputs": [],
   "source": [
    "resnet_transform = T.Compose([\n",
    "    T.Resize((256,256)),\n",
    "    T.CenterCrop(224),\n",
    "    T.ToTensor(),\n",
    "    T.Normalize(mean=[0.485, 0.456, 0.406], std=[0.229, 0.224, 0.225]),\n",
    "])"
   ]
  },
  {
   "cell_type": "markdown",
   "id": "ad20f6a0-d46f-4ee0-9539-27a914d4ab74",
   "metadata": {
    "tags": []
   },
   "source": [
    "### Wrappers"
   ]
  },
  {
   "cell_type": "code",
   "execution_count": 50,
   "id": "01a52b46-8c49-4959-8f83-39a3851cad9e",
   "metadata": {},
   "outputs": [],
   "source": [
    "class TripletRanker(nn.Module):\n",
    "    \"\"\"Triplet ranking model.\"\"\"\n",
    "    \n",
    "    def __init__(self, model):\n",
    "        \"\"\"Creates a triplet ranker out of the model.\"\"\"\n",
    "        super().__init__()\n",
    "        self.model = model\n",
    "        \n",
    "        \n",
    "    def forward(self, queries, positives, negatives):\n",
    "        \"\"\"Send batch of triplets through.\"\"\"\n",
    "        queries_encode = nn.functional.normalize(self.model(queries))\n",
    "        positives_encode = nn.functional.normalize(self.model(positives))\n",
    "        negatives_encode = nn.functional.normalize(self.model(negatives))\n",
    "        return queries_encode, positives_encode, negatives_encode"
   ]
  },
  {
   "cell_type": "code",
   "execution_count": 20,
   "id": "e18b078d-5644-4d88-8ca2-7037dd224c85",
   "metadata": {},
   "outputs": [],
   "source": [
    "class StabilityTrainingModel(torch.nn.Module):\n",
    "    def __init__(self, other_model, perturbation=None):\n",
    "        \"\"\"\n",
    "        Wraps another model to allow for stability training. May specify\n",
    "        custom perturbation transformation.\n",
    "        \"\"\"\n",
    "        super().__init__()\n",
    "        self.model = other_model\n",
    "        \n",
    "        if perturbation is None:\n",
    "            self.perturb = AddGaussianNoise(0, 0.04)\n",
    "        else:\n",
    "            self.perturb = perturbation\n",
    "    \n",
    "    def forward(self, x):\n",
    "        \"\"\"Apply the model to some input.\"\"\"\n",
    "        return self.model(x), self.model(self.perturb(x))"
   ]
  },
  {
   "cell_type": "markdown",
   "id": "c74efcfb-4e9d-4a70-9f55-4c9626ae1cb4",
   "metadata": {
    "tags": []
   },
   "source": [
    "### Model Classes"
   ]
  },
  {
   "cell_type": "code",
   "execution_count": 21,
   "id": "1b11a144-870a-4028-95b8-9d6b3e430ddd",
   "metadata": {},
   "outputs": [],
   "source": [
    "# This will act like a class\n",
    "def RobustResnet():\n",
    "    \"\"\"\n",
    "    Retrieve a fresh ResNet ready for stability training and fine\n",
    "    tuning.\n",
    "    \"\"\"\n",
    "    bare_resnet = torchvision.models.resnet18(pretrained=True)\n",
    "    for param in bare_resnet.parameters():\n",
    "        param.requires_grad = False\n",
    "    bare_resnet.fc = nn.Linear(512, CLASS_NUMBER, bias=True)\n",
    "    \n",
    "    return StabilityTrainingModel(bare_resnet)"
   ]
  },
  {
   "cell_type": "code",
   "execution_count": 22,
   "id": "a0ad8c1b-b5cc-44d0-86a0-b4379d12d053",
   "metadata": {},
   "outputs": [],
   "source": [
    "# This will act like a class\n",
    "def RobustInception():\n",
    "    \"\"\"\n",
    "    Retrieve a fresh Inception ready for stability training and fine\n",
    "    tuning.\n",
    "    \"\"\"\n",
    "    bare_inception = torchvision.models.inception_v3(\n",
    "        pretrained=True,\n",
    "        aux_logits=False\n",
    "    )\n",
    "    for param in bare_inception.parameters():\n",
    "        param.requires_grad = False\n",
    "    bare_inception.fc = nn.Linear(2048, CLASS_NUMBER)\n",
    "    \n",
    "    return StabilityTrainingModel(bare_inception)"
   ]
  },
  {
   "cell_type": "markdown",
   "id": "671bb892-d181-4112-a463-914b8324e206",
   "metadata": {
    "tags": []
   },
   "source": [
    "## Datasets\n",
    "\n",
    "Let's prepare some datasets. First, we'll make a custom dataset."
   ]
  },
  {
   "cell_type": "code",
   "execution_count": 23,
   "id": "4cedeaca-3215-46cb-a183-ce1b8b1c2dce",
   "metadata": {},
   "outputs": [],
   "source": [
    "# NOTE: an alternative to this paradigm is loading all the images using\n",
    "# the transform as a catalogue onto main memory, then detach on access\n",
    "# TODO - refactor\n",
    "class TripletRankingDataset(torch.utils.data.Dataset):\n",
    "    def __init__(self,\n",
    "                 img_dir : str,\n",
    "                 pos_per_img : int,\n",
    "                 neg_per_pos : int,\n",
    "                 transform=None,\n",
    "                 training=True\n",
    "                ):\n",
    "        \"\"\"\n",
    "        Point at directory which has subdirectories corresponding to\n",
    "        each class. Supply the number of positive images per image in\n",
    "        the subdirectories and the number of negative images to combine\n",
    "        with.\n",
    "        \"\"\"\n",
    "        if transform is None:\n",
    "            transform = nn.Identity()\n",
    "        self.transform = transform\n",
    "        self.mode = \"RGB\"#ImageReadMode.RGB\n",
    "        \n",
    "        #\n",
    "        # Initialize triplets\n",
    "        #\n",
    "        self.triplets = [ ]\n",
    "        \n",
    "        if training:\n",
    "            self._train_init(img_dir, pos_per_img, neg_per_pos)\n",
    "        else:\n",
    "            self._val_init(img_dir, pos_per_img, neg_per_pos)\n",
    "        \n",
    "    def _train_init(self, img_dir, pos_per_img, neg_per_pos):\n",
    "        # Generate randoms first, index into later. Need to count\n",
    "        # Iterate over classes\n",
    "        class_names = os.listdir(img_dir)\n",
    "        if os.path.exists(os.path.join(img_dir, class_names[0], \"images\")):\n",
    "            subdirectories_paths = list(map(\n",
    "                lambda x : os.path.join(img_dir, x, \"images\"),\n",
    "                class_names\n",
    "            ))\n",
    "        else:\n",
    "            subdirectories_paths = list(map(\n",
    "                lambda x : os.path.join(img_dir, x),\n",
    "                class_names\n",
    "            ))\n",
    "        for subdir_path in subdirectories_paths:\n",
    "            img_per_class = len(os.listdir(subdir_path))\n",
    "            break\n",
    "        randoms = np.random.randint(\n",
    "            0,\n",
    "            img_per_class,\n",
    "            (\n",
    "                len(subdirectories_paths),\n",
    "                img_per_class,\n",
    "                pos_per_img,\n",
    "                neg_per_pos + 1 # Last for positive selection\n",
    "            ),\n",
    "            dtype=\"int16\"\n",
    "        )\n",
    "        \n",
    "        # TODO - this method inefficient, only need to hold 2 numbers,\n",
    "        # some string format info\n",
    "        # DANGER - potential for loops with symbolic/hard links\n",
    "        # Iterate over classes\n",
    "        for subdir_idx, subdir_path in enumerate(subdirectories_paths):\n",
    "            exclude_subdir_idx =  [\n",
    "                            *range(subdir_idx),\n",
    "                            *range(\n",
    "                                subdir_idx + 1,\n",
    "                                len(subdirectories_paths)\n",
    "                            )\n",
    "                        ]\n",
    "            # Iterate over images\n",
    "            for img_idx, img in enumerate(os.listdir(subdir_path)):\n",
    "                img_path = os.path.join(subdir_path, img)\n",
    "                # Iterate over alike images\n",
    "                for pos_it in range(pos_per_img):\n",
    "                    pos_rand = randoms[subdir_idx][img_idx][pos_it][-1]\n",
    "                    # Adjust on equal\n",
    "                    if pos_rand == pos_it:\n",
    "                        if pos_rand == 0:\n",
    "                            pos_rand += 1\n",
    "                        else:\n",
    "                            pos_rand -= 1\n",
    "                    # Form name\n",
    "                    pos_path = os.path.join(\n",
    "                        subdir_path,\n",
    "                        f\"{class_names[subdir_idx]}_{pos_rand}.JPEG\"\n",
    "                    )\n",
    "                    # Need more randoms for next step\n",
    "                    neg_class_rands = np.random.choice(\n",
    "                        exclude_subdir_idx,\n",
    "                        neg_per_pos,\n",
    "                        replace=True\n",
    "                    )\n",
    "                    # Iterate over dissimilar images\n",
    "                    for neg_it in range(neg_per_pos):\n",
    "                        class_rand = neg_class_rands[neg_it]\n",
    "                        neg_class_path = subdirectories_paths[class_rand]\n",
    "                        neg_class = class_names[class_rand]\n",
    "                        neg_rand = randoms[subdir_idx][img_idx][pos_it][neg_it]\n",
    "                        # Form name\n",
    "                        neg_path = os.path.join(\n",
    "                            neg_class_path,\n",
    "                            f\"{neg_class}_{neg_rand}.JPEG\"\n",
    "                        )\n",
    "                        # Append\n",
    "                        self.triplets.append((img_path, pos_path, neg_path))\n",
    "                        \n",
    "    def _val_init(self, img_dir, pos_per_img, neg_per_pos):\n",
    "        # Generate randoms first, index into later. Need to count\n",
    "        # Iterate over classes\n",
    "        class_names = os.listdir(img_dir)\n",
    "        \n",
    "        if os.path.exists(os.path.join(img_dir, class_names[0], \"images\")):\n",
    "            subdirectories_paths = list(map(\n",
    "                lambda x : os.path.join(img_dir, x, \"images\"),\n",
    "                class_names\n",
    "            ))\n",
    "        else:\n",
    "            subdirectories_paths = list(map(\n",
    "                lambda x : os.path.join(img_dir, x),\n",
    "                class_names\n",
    "            ))\n",
    "            \n",
    "        img_per_class = dict()\n",
    "        img_names = []\n",
    "        for idx in range(len(class_names)):\n",
    "            subdir_path = subdirectories_paths[idx]\n",
    "            class_name = class_names[idx]\n",
    "            img_names.append(list(os.listdir(subdir_path)))\n",
    "            img_per_class[class_name] = len(img_names[-1])\n",
    "        \n",
    "        # TODO - this method inefficient, only need to hold 2 numbers,\n",
    "        # some string format info\n",
    "        # DANGER - potential for loops with symbolic/hard links\n",
    "        # Iterate over classes\n",
    "        for subdir_idx, subdir_path in enumerate(subdirectories_paths):\n",
    "            exclude_subdir_idx =  [\n",
    "                            *range(subdir_idx),\n",
    "                            *range(\n",
    "                                subdir_idx + 1,\n",
    "                                len(subdirectories_paths)\n",
    "                            )\n",
    "                        ]\n",
    "            this_dir = img_names[subdir_idx]\n",
    "            # Iterate over images\n",
    "            for img_idx, img in enumerate(this_dir):\n",
    "                img_path = os.path.join(subdir_path, img)\n",
    "                # Iterate over alike images\n",
    "                for pos_it in range(pos_per_img):\n",
    "                    # Form name\n",
    "                    rand_idx = np.random.choice([\n",
    "                        *range(pos_it),\n",
    "                        *range(pos_it + 1, img_per_class[class_names[pos_it]])\n",
    "                    ])\n",
    "                    pos_name = this_dir[rand_idx]\n",
    "                    # Form path\n",
    "                    pos_path = os.path.join(subdir_path, pos_name)\n",
    "                    # Need more randoms for next step\n",
    "                    neg_class_rands = np.random.choice(\n",
    "                        exclude_subdir_idx,\n",
    "                        neg_per_pos,\n",
    "                        replace=True\n",
    "                    )\n",
    "                    # Iterate over dissimilar images\n",
    "                    for neg_it in range(neg_per_pos):\n",
    "                        class_rand = neg_class_rands[neg_it]\n",
    "                        neg_class_path = subdirectories_paths[class_rand]\n",
    "                        neg_class = class_names[class_rand]\n",
    "                        # Select from the directory\n",
    "                        neg_name = np.random.choice(img_names[class_rand])\n",
    "                        # Form name\n",
    "                        neg_path = os.path.join(neg_class_path, neg_name)\n",
    "                        # Append\n",
    "                        self.triplets.append((img_path, pos_path, neg_path))\n",
    "        \n",
    "    def __len__(self):\n",
    "        return len(self.triplets)\n",
    "    \n",
    "    def __getitem__(self, idx):\n",
    "        this_triplet = self.triplets[idx]\n",
    "        #query = self.transform(read_image(this_triplet[0], self.mode))\n",
    "        #positive = self.transform(read_image(this_triplet[1], self.mode))\n",
    "        #negative = self.transform(read_image(this_triplet[2], self.mode))\n",
    "        query = self.transform(Image.open(this_triplet[0]).convert(self.mode))\n",
    "        positive = self.transform(Image.open(this_triplet[1]).convert(self.mode))\n",
    "        negative = self.transform(Image.open(this_triplet[2]).convert(self.mode))\n",
    "        return query, positive, negative"
   ]
  },
  {
   "cell_type": "markdown",
   "id": "b3597933-c598-4edf-9d96-55a37a7ebf09",
   "metadata": {},
   "source": [
    "The following is helpful to keep around:"
   ]
  },
  {
   "cell_type": "code",
   "execution_count": 24,
   "id": "86997b7d-71ce-4e6f-9a5e-ef0725ee3271",
   "metadata": {},
   "outputs": [],
   "source": [
    "data_dir = os.path.join(os.path.abspath(\"\"), \"tiny-imagenet-200\")"
   ]
  },
  {
   "cell_type": "markdown",
   "id": "e28c8b26-39c0-4500-8b21-2c2b8f346b2a",
   "metadata": {},
   "source": [
    "We'll create dataset objects as we go since they take up memory, but these are used across tasks:"
   ]
  },
  {
   "cell_type": "code",
   "execution_count": 25,
   "id": "09831c56-c6ff-4779-9fce-b21e46c69872",
   "metadata": {},
   "outputs": [],
   "source": [
    "BATCH_SIZE = 64\n",
    "\n",
    "class_dataset_train = datasets.ImageFolder(\n",
    "    os.path.join(data_dir, \"train\"),\n",
    "    transform=resnet_transform\n",
    ")\n",
    "train_loader = torch.utils.data.DataLoader(\n",
    "    class_dataset_train,\n",
    "    batch_size=BATCH_SIZE,\n",
    "    num_workers=0,\n",
    "    shuffle=True\n",
    ")"
   ]
  },
  {
   "cell_type": "markdown",
   "id": "49c7da55-0c63-4406-8cdd-0daf01d7dc97",
   "metadata": {
    "tags": []
   },
   "source": [
    "## Training Functions\n",
    "\n",
    "Factoring some common patterns:"
   ]
  },
  {
   "cell_type": "code",
   "execution_count": 26,
   "id": "1e10a4e4-c9ab-457a-818d-d853f38b31a9",
   "metadata": {},
   "outputs": [],
   "source": [
    "def classifier_epoch(\n",
    "    model,\n",
    "    loader,\n",
    "    optimizer,\n",
    "    device,\n",
    "    loss_func,\n",
    "    result,\n",
    "    training=True,\n",
    "    stability_training=False\n",
    "):\n",
    "    loss = torch.Tensor([0])\n",
    "    avg_loss = 0\n",
    "    \n",
    "    if training:\n",
    "        model.train()\n",
    "    else:\n",
    "        model.eval()\n",
    "    start = time.perf_counter()\n",
    "    with contextlib.ExitStack() as stack: # For validation/training\n",
    "        if not training:\n",
    "            stack.enter_context(torch.no_grad()) # No gradients\n",
    "        for imgs, labels in tqdm_variant(\n",
    "            loader,\n",
    "            desc=f\"{'Training' if training else 'Validation'} Iteration\",\n",
    "            disable=False\n",
    "        ):\n",
    "            if training:\n",
    "                # Prepare optimizer\n",
    "                optimizer.zero_grad(set_to_none=True)\n",
    "\n",
    "            # Prepare relevant variables\n",
    "            imgs, labels = imgs.to(device), labels.to(device)\n",
    "            out = model(imgs)\n",
    "\n",
    "            # Determine loss\n",
    "            if stability_training:\n",
    "                loss = loss_func(*out, labels)\n",
    "            else:\n",
    "                loss = loss_func(out, labels)\n",
    "\n",
    "            # Store intermediate results - note average over batch\n",
    "            item = loss.item()\n",
    "            avg_loss += item\n",
    "            if training:\n",
    "                result.train_loss_history.append(item)\n",
    "            else:\n",
    "                result.val_loss_history.append(item)\n",
    "\n",
    "            # Calculate accuracy\n",
    "            if stability_training:\n",
    "                acc = stable_classifier_get_accuracy(out, labels)\n",
    "            else:\n",
    "                acc = classifier_get_accuracy(out, labels)\n",
    "            \n",
    "            # Save accuracy\n",
    "            if training:\n",
    "                result.train_accuracy_history.append(acc)\n",
    "            else:\n",
    "                result.val_accuracy_history.append(acc)\n",
    "\n",
    "            if training:\n",
    "                loss.backward() # Get gradients\n",
    "                optimizer.step() # Descend gradients\n",
    "    end = time.perf_counter()\n",
    "    if training:\n",
    "        result.time_training += end - start\n",
    "    else:\n",
    "        result.time_validating += end - start\n",
    "    \n",
    "    return avg_loss / len(loader)"
   ]
  },
  {
   "cell_type": "code",
   "execution_count": 27,
   "id": "77288ff1-6e0f-43e2-9780-e3e94312e819",
   "metadata": {},
   "outputs": [],
   "source": [
    "def triplet_epoch(\n",
    "    model,\n",
    "    loader,\n",
    "    optimizer,\n",
    "    device,\n",
    "    loss_func,\n",
    "    result,\n",
    "    training=True\n",
    "):\n",
    "    loss = torch.Tensor([0])\n",
    "    avg_loss = 0\n",
    "    \n",
    "    if training:\n",
    "        model.train()\n",
    "    else:\n",
    "        model.eval()\n",
    "    start = time.perf_counter()\n",
    "    with contextlib.ExitStack() as stack: # For validation/training\n",
    "        if not training:\n",
    "            stack.enter_context(torch.no_grad()) # No gradients\n",
    "        for queries, positives, negatives in tqdm_variant(\n",
    "            loader,\n",
    "            desc=f\"{'Training' if training else 'Validation'} Iteration\",\n",
    "            disable=False\n",
    "        ):\n",
    "            if training:\n",
    "                # Prepare optimizer\n",
    "                optimizer.zero_grad(set_to_none=True)\n",
    "\n",
    "            # Prepare relevant variables\n",
    "            queries = queries.to(device)\n",
    "            positives = positives.to(device)\n",
    "            negatives = negatives.to(device)\n",
    "            out = model(queries, positives, negatives)\n",
    "\n",
    "            # Determine loss\n",
    "            loss = loss_func(*out)\n",
    "\n",
    "            # Store intermediate results - note average over batch\n",
    "            item = loss.item()\n",
    "            avg_loss += item\n",
    "            if training:\n",
    "                result.train_loss_history.append(item)\n",
    "            else:\n",
    "                result.val_loss_history.append(item)\n",
    "\n",
    "            if training:\n",
    "                loss.backward() # Get gradients\n",
    "                optimizer.step() # Descend gradients\n",
    "    end = time.perf_counter()\n",
    "    if training:\n",
    "        result.time_training += end - start\n",
    "    else:\n",
    "        result.time_validating += end - start\n",
    "    \n",
    "    return avg_loss / len(loader)"
   ]
  },
  {
   "cell_type": "markdown",
   "id": "bce64b9b-dca7-4fd0-b015-65011d31d691",
   "metadata": {
    "tags": []
   },
   "source": [
    "## Miscellaneous Helpers\n"
   ]
  },
  {
   "cell_type": "markdown",
   "id": "54635cd8-2907-402c-966b-2cd603a47396",
   "metadata": {},
   "source": [
    "Some constants:"
   ]
  },
  {
   "cell_type": "code",
   "execution_count": 28,
   "id": "e03d5a6b-2e35-468c-80c1-a84c55c0de08",
   "metadata": {},
   "outputs": [],
   "source": [
    "# Weight of the stability objective\n",
    "ALPHA = 0.01\n",
    "\n",
    "CLASS_NUMBER = 200"
   ]
  },
  {
   "cell_type": "markdown",
   "id": "e6658653-1a46-45dc-8811-6864122d7697",
   "metadata": {},
   "source": [
    "Loss function things for stability trained classifiers:"
   ]
  },
  {
   "cell_type": "code",
   "execution_count": 29,
   "id": "5ad874a9-2422-4730-aa06-4280b1dc46df",
   "metadata": {},
   "outputs": [],
   "source": [
    "classifier_objective = nn.CrossEntropyLoss()\n",
    "classifier_stability_loss = nn.CrossEntropyLoss()\n",
    "distort_envelope = nn.Softmax(dim=1) # Converts to probabilities\n",
    "\n",
    "def full_loss(clean_output, distort_output, label):\n",
    "    \"\"\"Note that this will apply softmax to distort_output.\"\"\"\n",
    "    return (\n",
    "        classifier_objective(clean_output, label)\n",
    "        + ALPHA * classifier_stability_loss(clean_output, distort_envelope(distort_output))\n",
    "    )"
   ]
  },
  {
   "cell_type": "markdown",
   "id": "3b5b1ebd-ef4d-4e01-b145-be08406bba51",
   "metadata": {},
   "source": [
    "These are common to multiple sections:"
   ]
  },
  {
   "cell_type": "code",
   "execution_count": 30,
   "id": "835c3adb-9cc4-4230-b4b4-b53f6891e737",
   "metadata": {},
   "outputs": [],
   "source": [
    "resnet_loss = classifier_objective"
   ]
  },
  {
   "cell_type": "code",
   "execution_count": 31,
   "id": "768a0af9-1bcd-4262-bb43-161ea9f952a1",
   "metadata": {},
   "outputs": [],
   "source": [
    "s_resnet_loss = full_loss"
   ]
  },
  {
   "cell_type": "code",
   "execution_count": 32,
   "id": "a7fd03d4-574a-4005-aff8-9ee97c8a27b7",
   "metadata": {},
   "outputs": [],
   "source": [
    "inception_transform = T.Compose([\n",
    "    T.Resize(299),\n",
    "    T.CenterCrop(299),\n",
    "    T.ToTensor(),\n",
    "    T.Normalize(mean=[0.485, 0.456, 0.406], std=[0.229, 0.224, 0.225]),\n",
    "])"
   ]
  },
  {
   "cell_type": "markdown",
   "id": "a7faf3e0-9234-4ca5-ad5f-4b4a791b7070",
   "metadata": {
    "jp-MarkdownHeadingCollapsed": true,
    "tags": []
   },
   "source": [
    "# ResNet"
   ]
  },
  {
   "cell_type": "markdown",
   "id": "798010ca-f022-41e7-9b9a-7c4ed0beefcc",
   "metadata": {
    "jp-MarkdownHeadingCollapsed": true,
    "tags": []
   },
   "source": [
    "## Training\n",
    "\n",
    "Now, let's do some training!"
   ]
  },
  {
   "cell_type": "markdown",
   "id": "fd9a84a5-bf45-4618-8052-a7ed3c1ae52b",
   "metadata": {
    "jp-MarkdownHeadingCollapsed": true,
    "tags": []
   },
   "source": [
    "### Classifiers"
   ]
  },
  {
   "cell_type": "markdown",
   "id": "18ed259b-09fc-454e-862a-99b90a81a645",
   "metadata": {
    "tags": []
   },
   "source": [
    "#### Baseline\n",
    "\n",
    "Let's train a baseline ResNet. First, prepare the data."
   ]
  },
  {
   "cell_type": "code",
   "execution_count": 42,
   "id": "d71b6f73-230b-45b2-8cf7-57edd10fd793",
   "metadata": {},
   "outputs": [],
   "source": [
    "class_dataset_val = datasets.ImageFolder(\n",
    "    os.path.join(data_dir, \"val\"),\n",
    "    transform=resnet_transform\n",
    ")\n",
    "\n",
    "batch_size = 64\n",
    "val_loader = torch.utils.data.DataLoader(\n",
    "    class_dataset_val,\n",
    "    batch_size=batch_size,\n",
    "    num_workers=0\n",
    ")"
   ]
  },
  {
   "cell_type": "markdown",
   "id": "634133e2-ffbb-40ea-a6cb-83dc522bcac7",
   "metadata": {},
   "source": [
    "Next, prepare the model object."
   ]
  },
  {
   "cell_type": "code",
   "execution_count": 34,
   "id": "a3ea6b25-5db6-451e-bbe6-93047a5d1f6c",
   "metadata": {},
   "outputs": [],
   "source": [
    "# Default variation. Note pretrained\n",
    "resnet = torchvision.models.resnet18(pretrained=True)\n",
    "\n",
    "# Freeze all layers\n",
    "for param in resnet.parameters():\n",
    "    param.requires_grad = False\n",
    "    \n",
    "# Replace last, note now unfrozen and we'll fine tune\n",
    "resnet.fc = nn.Linear(512, 200, bias=True)\n",
    "\n",
    "# Send to GPU, if possible\n",
    "resnet = resnet.to(device)"
   ]
  },
  {
   "cell_type": "markdown",
   "id": "d03e3211-f51b-4b6a-9324-c4fb48c15b4e",
   "metadata": {},
   "source": [
    "Learning controllers:"
   ]
  },
  {
   "cell_type": "code",
   "execution_count": 35,
   "id": "166c6ebc-e8b3-4ee7-9a27-a237eabca507",
   "metadata": {},
   "outputs": [],
   "source": [
    "optimizer = optim.SGD(resnet.parameters(), lr=0.01)\n",
    "scheduler = optim.lr_scheduler.ReduceLROnPlateau(\n",
    "    optimizer,\n",
    "    factor=0.5,\n",
    "    patience=2,\n",
    "    threshold=0.1\n",
    ")\n",
    "# May try OneCycleLR, annealers"
   ]
  },
  {
   "cell_type": "markdown",
   "id": "b2d9e6a6-850c-4996-8857-4bc82de6ba29",
   "metadata": {},
   "source": [
    "See the helpers for the loss function."
   ]
  },
  {
   "cell_type": "markdown",
   "id": "293e28ce-565a-49ad-8925-04eef82fa8b2",
   "metadata": {},
   "source": [
    "Keep the result in here:"
   ]
  },
  {
   "cell_type": "code",
   "execution_count": 37,
   "id": "c35154fa-52ad-4e12-84b5-32bae925ab20",
   "metadata": {},
   "outputs": [],
   "source": [
    "resnet_result = TrainResult(resnet)"
   ]
  },
  {
   "cell_type": "markdown",
   "id": "92ae5aa8-6049-48fe-9122-2894bbb2435f",
   "metadata": {},
   "source": [
    "The actual training loop:"
   ]
  },
  {
   "cell_type": "code",
   "execution_count": null,
   "id": "1771747e-f693-4e77-9cd2-1e61881aea2d",
   "metadata": {},
   "outputs": [],
   "source": [
    "# Train for some number of epochs\n",
    "EPOCH_COUNT = 20\n",
    "SAVE_PERIOD = 3\n",
    "\n",
    "best_loss = float(\"inf\")\n",
    "best_count = 0\n",
    "for epoch in tqdm_variant(\n",
    "    range(EPOCH_COUNT),\n",
    "    desc=f\"Epoch\",\n",
    "    unit=\"epoch\",\n",
    "    disable=False\n",
    "):\n",
    "    # Debug learning rate\n",
    "    print(f\"Current Learning Rate: {optimizer.param_groups[0]['lr']}\")\n",
    "    \n",
    "    # Train\n",
    "    train_loss = classifier_epoch(\n",
    "        resnet,\n",
    "        train_loader,\n",
    "        optimizer,\n",
    "        device,\n",
    "        resnet_loss,\n",
    "        resnet_result\n",
    "    )\n",
    "\n",
    "    # Validation\n",
    "    val_loss = classifier_epoch(\n",
    "        resnet,\n",
    "        val_loader,\n",
    "        device,\n",
    "        resnet_loss,\n",
    "        resnet_result,\n",
    "        training=False\n",
    "    )\n",
    "    \n",
    "    # Update scheduling\n",
    "    scheduler.step(val_loss)\n",
    "    \n",
    "    # Save a copy just in case\n",
    "    if val_loss < best_loss:\n",
    "        torch.save(\n",
    "            resnet, \n",
    "            os.path.join(\n",
    "                os.path.abspath(\"\"),\n",
    "                f\"best_resnet_classifier_{best_count}\" \\\n",
    "                f\"_{int(time.time()) % 1000000:06}.pt\"\n",
    "            )\n",
    "        )\n",
    "        best_count += 1\n",
    "        best_loss = val_loss\n",
    "        \n",
    "    if epoch % SAVE_PERIOD == SAVE_PERIOD - 1:\n",
    "        torch.save(\n",
    "            resnet,\n",
    "            os.path.join(\n",
    "                os.path.abspath(\"\"),\n",
    "                f\"resnet_classifier_{epoch}_{int(time.time()) % 1000000:06}.pt\"\n",
    "            )\n",
    "        )\n",
    "\n",
    "    # Print the last loss calculated and the epoch\n",
    "    print(f\"\\nEpoch {epoch}: Training Loss: {train_loss}, \" \\\n",
    "          f\"Validation Loss: {val_loss}\")"
   ]
  },
  {
   "cell_type": "markdown",
   "id": "ff7bf9a7-0dab-414d-bc04-0f2c9a82daf0",
   "metadata": {},
   "source": [
    "Let's view the results:"
   ]
  },
  {
   "cell_type": "code",
   "execution_count": null,
   "id": "96da7756-7952-4b17-bfe2-2ab465476495",
   "metadata": {},
   "outputs": [],
   "source": [
    "fig, axs = plt.subplots(1, 2)\n",
    "resnet_result.full_analysis(axs)"
   ]
  },
  {
   "cell_type": "markdown",
   "id": "3519076e-65ad-44e5-88fc-eed36f7886fe",
   "metadata": {
    "tags": []
   },
   "source": [
    "#### Stability Trained\n",
    "\n",
    "Let's stability train ResNet. We can use the same datasets and loaders. Let's prepare the model object."
   ]
  },
  {
   "cell_type": "code",
   "execution_count": 125,
   "id": "1ef0bc01-cf29-4507-8445-4a2256e5ec42",
   "metadata": {},
   "outputs": [],
   "source": [
    "stable_resnet = RobustResnet().to(device)"
   ]
  },
  {
   "cell_type": "markdown",
   "id": "d38a8a35-ef2d-4d6e-a6a0-d048f45efd33",
   "metadata": {},
   "source": [
    "First, a quick sanity check of gradients:"
   ]
  },
  {
   "cell_type": "code",
   "execution_count": 126,
   "id": "0b6cc7ff-f96b-40c5-9619-17643ae6fa50",
   "metadata": {},
   "outputs": [
    {
     "data": {
      "image/svg+xml": [
       "<?xml version=\"1.0\" encoding=\"UTF-8\" standalone=\"no\"?>\n",
       "<!DOCTYPE svg PUBLIC \"-//W3C//DTD SVG 1.1//EN\"\n",
       " \"http://www.w3.org/Graphics/SVG/1.1/DTD/svg11.dtd\">\n",
       "<!-- Generated by graphviz version 3.0.0 (20220226.1711)\n",
       " -->\n",
       "<!-- Pages: 1 -->\n",
       "<svg width=\"299pt\" height=\"281pt\"\n",
       " viewBox=\"0.00 0.00 299.00 281.00\" xmlns=\"http://www.w3.org/2000/svg\" xmlns:xlink=\"http://www.w3.org/1999/xlink\">\n",
       "<g id=\"graph0\" class=\"graph\" transform=\"scale(1 1) rotate(0) translate(4 277)\">\n",
       "<polygon fill=\"white\" stroke=\"transparent\" points=\"-4,4 -4,-277 295,-277 295,4 -4,4\"/>\n",
       "<!-- 1905763096592 -->\n",
       "<g id=\"node1\" class=\"node\">\n",
       "<title>1905763096592</title>\n",
       "<polygon fill=\"#caff70\" stroke=\"black\" points=\"255,-31 184,-31 184,0 255,0 255,-31\"/>\n",
       "<text text-anchor=\"middle\" x=\"219.5\" y=\"-7\" font-family=\"monospace\" font-size=\"10.00\"> (1, 200)</text>\n",
       "</g>\n",
       "<!-- 1905756694368 -->\n",
       "<g id=\"node2\" class=\"node\">\n",
       "<title>1905756694368</title>\n",
       "<polygon fill=\"lightgrey\" stroke=\"black\" points=\"270,-86 169,-86 169,-67 270,-67 270,-86\"/>\n",
       "<text text-anchor=\"middle\" x=\"219.5\" y=\"-74\" font-family=\"monospace\" font-size=\"10.00\">AddmmBackward0</text>\n",
       "</g>\n",
       "<!-- 1905756694368&#45;&gt;1905763096592 -->\n",
       "<g id=\"edge6\" class=\"edge\">\n",
       "<title>1905756694368&#45;&gt;1905763096592</title>\n",
       "<path fill=\"none\" stroke=\"black\" d=\"M219.5,-66.79C219.5,-60.07 219.5,-50.4 219.5,-41.34\"/>\n",
       "<polygon fill=\"black\" stroke=\"black\" points=\"223,-41.19 219.5,-31.19 216,-41.19 223,-41.19\"/>\n",
       "</g>\n",
       "<!-- 1905756694704 -->\n",
       "<g id=\"node3\" class=\"node\">\n",
       "<title>1905756694704</title>\n",
       "<polygon fill=\"lightgrey\" stroke=\"black\" points=\"291,-141 190,-141 190,-122 291,-122 291,-141\"/>\n",
       "<text text-anchor=\"middle\" x=\"240.5\" y=\"-129\" font-family=\"monospace\" font-size=\"10.00\">AccumulateGrad</text>\n",
       "</g>\n",
       "<!-- 1905756694704&#45;&gt;1905756694368 -->\n",
       "<g id=\"edge1\" class=\"edge\">\n",
       "<title>1905756694704&#45;&gt;1905756694368</title>\n",
       "<path fill=\"none\" stroke=\"black\" d=\"M237.03,-121.75C234.22,-114.65 230.16,-104.4 226.65,-95.56\"/>\n",
       "<polygon fill=\"black\" stroke=\"black\" points=\"229.84,-94.1 222.9,-86.09 223.33,-96.68 229.84,-94.1\"/>\n",
       "</g>\n",
       "<!-- 1905756693264 -->\n",
       "<g id=\"node9\" class=\"node\">\n",
       "<title>1905756693264</title>\n",
       "<polygon fill=\"lightgrey\" stroke=\"black\" points=\"130,-86 29,-86 29,-67 130,-67 130,-86\"/>\n",
       "<text text-anchor=\"middle\" x=\"79.5\" y=\"-74\" font-family=\"monospace\" font-size=\"10.00\">AddmmBackward0</text>\n",
       "</g>\n",
       "<!-- 1905756694704&#45;&gt;1905756693264 -->\n",
       "<g id=\"edge7\" class=\"edge\">\n",
       "<title>1905756694704&#45;&gt;1905756693264</title>\n",
       "<path fill=\"none\" stroke=\"black\" d=\"M214.63,-121.98C187.72,-113.13 145.38,-99.19 115.27,-89.28\"/>\n",
       "<polygon fill=\"black\" stroke=\"black\" points=\"116.16,-85.88 105.57,-86.08 113.97,-92.53 116.16,-85.88\"/>\n",
       "</g>\n",
       "<!-- 1905756582432 -->\n",
       "<g id=\"node4\" class=\"node\">\n",
       "<title>1905756582432</title>\n",
       "<polygon fill=\"lightblue\" stroke=\"black\" points=\"288,-207 193,-207 193,-177 288,-177 288,-207\"/>\n",
       "<text text-anchor=\"middle\" x=\"240.5\" y=\"-195\" font-family=\"monospace\" font-size=\"10.00\">model.fc.bias</text>\n",
       "<text text-anchor=\"middle\" x=\"240.5\" y=\"-184\" font-family=\"monospace\" font-size=\"10.00\"> (200)</text>\n",
       "</g>\n",
       "<!-- 1905756582432&#45;&gt;1905756694704 -->\n",
       "<g id=\"edge2\" class=\"edge\">\n",
       "<title>1905756582432&#45;&gt;1905756694704</title>\n",
       "<path fill=\"none\" stroke=\"black\" d=\"M240.5,-176.84C240.5,-169.21 240.5,-159.7 240.5,-151.45\"/>\n",
       "<polygon fill=\"black\" stroke=\"black\" points=\"244,-151.27 240.5,-141.27 237,-151.27 244,-151.27\"/>\n",
       "</g>\n",
       "<!-- 1905756695088 -->\n",
       "<g id=\"node5\" class=\"node\">\n",
       "<title>1905756695088</title>\n",
       "<polygon fill=\"lightgrey\" stroke=\"black\" points=\"172,-141 95,-141 95,-122 172,-122 172,-141\"/>\n",
       "<text text-anchor=\"middle\" x=\"133.5\" y=\"-129\" font-family=\"monospace\" font-size=\"10.00\">TBackward0</text>\n",
       "</g>\n",
       "<!-- 1905756695088&#45;&gt;1905756694368 -->\n",
       "<g id=\"edge3\" class=\"edge\">\n",
       "<title>1905756695088&#45;&gt;1905756694368</title>\n",
       "<path fill=\"none\" stroke=\"black\" d=\"M147.32,-121.98C160.65,-113.77 181.08,-101.18 196.81,-91.49\"/>\n",
       "<polygon fill=\"black\" stroke=\"black\" points=\"198.75,-94.4 205.43,-86.17 195.08,-88.44 198.75,-94.4\"/>\n",
       "</g>\n",
       "<!-- 1905756696432 -->\n",
       "<g id=\"node6\" class=\"node\">\n",
       "<title>1905756696432</title>\n",
       "<polygon fill=\"lightgrey\" stroke=\"black\" points=\"132,-201.5 31,-201.5 31,-182.5 132,-182.5 132,-201.5\"/>\n",
       "<text text-anchor=\"middle\" x=\"81.5\" y=\"-189.5\" font-family=\"monospace\" font-size=\"10.00\">AccumulateGrad</text>\n",
       "</g>\n",
       "<!-- 1905756696432&#45;&gt;1905756695088 -->\n",
       "<g id=\"edge4\" class=\"edge\">\n",
       "<title>1905756696432&#45;&gt;1905756695088</title>\n",
       "<path fill=\"none\" stroke=\"black\" d=\"M89.17,-182.37C97.01,-173.55 109.36,-159.66 119.04,-148.77\"/>\n",
       "<polygon fill=\"black\" stroke=\"black\" points=\"121.77,-150.97 125.8,-141.17 116.54,-146.32 121.77,-150.97\"/>\n",
       "</g>\n",
       "<!-- 1905756695616 -->\n",
       "<g id=\"node10\" class=\"node\">\n",
       "<title>1905756695616</title>\n",
       "<polygon fill=\"lightgrey\" stroke=\"black\" points=\"77,-141 0,-141 0,-122 77,-122 77,-141\"/>\n",
       "<text text-anchor=\"middle\" x=\"38.5\" y=\"-129\" font-family=\"monospace\" font-size=\"10.00\">TBackward0</text>\n",
       "</g>\n",
       "<!-- 1905756696432&#45;&gt;1905756695616 -->\n",
       "<g id=\"edge9\" class=\"edge\">\n",
       "<title>1905756696432&#45;&gt;1905756695616</title>\n",
       "<path fill=\"none\" stroke=\"black\" d=\"M75.16,-182.37C68.8,-173.73 58.86,-160.2 50.93,-149.42\"/>\n",
       "<polygon fill=\"black\" stroke=\"black\" points=\"53.61,-147.15 44.87,-141.17 47.97,-151.3 53.61,-147.15\"/>\n",
       "</g>\n",
       "<!-- 1905755740016 -->\n",
       "<g id=\"node7\" class=\"node\">\n",
       "<title>1905755740016</title>\n",
       "<polygon fill=\"lightblue\" stroke=\"black\" points=\"135,-273 28,-273 28,-243 135,-243 135,-273\"/>\n",
       "<text text-anchor=\"middle\" x=\"81.5\" y=\"-261\" font-family=\"monospace\" font-size=\"10.00\">model.fc.weight</text>\n",
       "<text text-anchor=\"middle\" x=\"81.5\" y=\"-250\" font-family=\"monospace\" font-size=\"10.00\"> (200, 512)</text>\n",
       "</g>\n",
       "<!-- 1905755740016&#45;&gt;1905756696432 -->\n",
       "<g id=\"edge5\" class=\"edge\">\n",
       "<title>1905755740016&#45;&gt;1905756696432</title>\n",
       "<path fill=\"none\" stroke=\"black\" d=\"M81.5,-242.8C81.5,-233.7 81.5,-221.79 81.5,-211.9\"/>\n",
       "<polygon fill=\"black\" stroke=\"black\" points=\"85,-211.84 81.5,-201.84 78,-211.84 85,-211.84\"/>\n",
       "</g>\n",
       "<!-- 1905763097712 -->\n",
       "<g id=\"node8\" class=\"node\">\n",
       "<title>1905763097712</title>\n",
       "<polygon fill=\"#caff70\" stroke=\"black\" points=\"115,-31 44,-31 44,0 115,0 115,-31\"/>\n",
       "<text text-anchor=\"middle\" x=\"79.5\" y=\"-7\" font-family=\"monospace\" font-size=\"10.00\"> (1, 200)</text>\n",
       "</g>\n",
       "<!-- 1905756693264&#45;&gt;1905763097712 -->\n",
       "<g id=\"edge10\" class=\"edge\">\n",
       "<title>1905756693264&#45;&gt;1905763097712</title>\n",
       "<path fill=\"none\" stroke=\"black\" d=\"M79.5,-66.79C79.5,-60.07 79.5,-50.4 79.5,-41.34\"/>\n",
       "<polygon fill=\"black\" stroke=\"black\" points=\"83,-41.19 79.5,-31.19 76,-41.19 83,-41.19\"/>\n",
       "</g>\n",
       "<!-- 1905756695616&#45;&gt;1905756693264 -->\n",
       "<g id=\"edge8\" class=\"edge\">\n",
       "<title>1905756695616&#45;&gt;1905756693264</title>\n",
       "<path fill=\"none\" stroke=\"black\" d=\"M45.27,-121.75C51.06,-114.26 59.56,-103.28 66.64,-94.13\"/>\n",
       "<polygon fill=\"black\" stroke=\"black\" points=\"69.51,-96.14 72.86,-86.09 63.97,-91.86 69.51,-96.14\"/>\n",
       "</g>\n",
       "</g>\n",
       "</svg>\n"
      ],
      "text/plain": [
       "<graphviz.graphs.Digraph at 0x1bbb7f36ac0>"
      ]
     },
     "execution_count": 126,
     "metadata": {},
     "output_type": "execute_result"
    }
   ],
   "source": [
    "gradient_sanity_display(\n",
    "    stable_resnet,\n",
    "    [next(iter(train_loader))[0][0].reshape(1, 3, 224, 224)]\n",
    ")"
   ]
  },
  {
   "cell_type": "markdown",
   "id": "031690c3-b58f-4924-ab62-16a5df8f3b9c",
   "metadata": {},
   "source": [
    "Next sanity check, how are the weights?"
   ]
  },
  {
   "cell_type": "code",
   "execution_count": 127,
   "id": "bd62f0ef-fc1e-4c6e-8154-a62137cb8bfb",
   "metadata": {},
   "outputs": [
    {
     "name": "stdout",
     "output_type": "stream",
     "text": [
      "[Parameter containing:\n",
      "tensor([[ 0.0073, -0.0071, -0.0009,  ...,  0.0216,  0.0329, -0.0283],\n",
      "        [-0.0129, -0.0424,  0.0151,  ...,  0.0160,  0.0379, -0.0258],\n",
      "        [ 0.0290,  0.0259, -0.0220,  ...,  0.0002, -0.0416,  0.0307],\n",
      "        ...,\n",
      "        [ 0.0433, -0.0088, -0.0040,  ...,  0.0174,  0.0291, -0.0318],\n",
      "        [ 0.0203, -0.0184, -0.0100,  ...,  0.0415, -0.0289, -0.0232],\n",
      "        [-0.0161,  0.0177,  0.0332,  ...,  0.0050, -0.0275,  0.0085]],\n",
      "       device='cuda:0', requires_grad=True), Parameter containing:\n",
      "tensor([ 1.8264e-02,  8.2651e-03, -1.8287e-02, -5.1264e-03,  2.3474e-02,\n",
      "         3.6429e-02, -2.5332e-02,  3.1460e-02, -9.8708e-03, -3.0398e-02,\n",
      "        -3.8438e-02, -1.3270e-02,  9.8759e-04, -4.4047e-02,  2.5429e-02,\n",
      "         1.5400e-02,  8.2721e-03, -1.7918e-03,  6.0061e-03,  2.8976e-02,\n",
      "         8.5340e-03,  2.2457e-02, -1.9287e-02, -2.0829e-02,  3.4783e-02,\n",
      "        -2.5888e-02, -1.2726e-02, -3.0649e-02,  3.8350e-02, -3.2814e-02,\n",
      "         1.2518e-02,  2.4499e-02,  2.5248e-02, -1.3182e-02, -1.8951e-02,\n",
      "        -2.5125e-02,  3.0337e-02, -1.8168e-02,  2.7848e-02, -3.5343e-02,\n",
      "         2.5557e-02,  9.0833e-03,  3.1933e-02,  8.4515e-03, -2.9782e-02,\n",
      "         4.6637e-04,  1.6648e-02,  3.6029e-02, -5.7736e-04, -3.2324e-02,\n",
      "         1.7425e-02,  2.4118e-02,  2.0374e-04, -1.7792e-02,  2.6119e-02,\n",
      "         7.6434e-03,  3.1694e-02, -8.2811e-03, -1.8600e-02,  1.3295e-02,\n",
      "         3.3866e-02, -3.6468e-02, -3.3668e-02, -1.2283e-02,  2.8081e-02,\n",
      "        -7.1637e-05,  2.5853e-03, -2.7307e-03,  2.7685e-02,  2.2582e-02,\n",
      "         2.2255e-02, -1.5721e-02,  1.9452e-02, -3.8851e-02, -3.0974e-02,\n",
      "         8.4646e-03,  4.0635e-02, -1.9948e-02,  2.5081e-02, -1.0115e-02,\n",
      "        -4.2984e-02, -1.0389e-02, -1.5659e-02, -2.6995e-02, -4.3353e-02,\n",
      "        -2.1492e-02, -1.4319e-02,  1.1528e-02,  3.3912e-02, -1.9015e-02,\n",
      "        -4.1259e-02,  2.0605e-02, -2.0210e-04,  9.2464e-04, -3.9788e-02,\n",
      "         6.4819e-03,  8.0231e-03,  1.1676e-03, -4.1002e-02, -1.8272e-02,\n",
      "        -4.0126e-02, -3.5444e-02,  5.7033e-03,  2.6816e-02,  1.1367e-02,\n",
      "         4.0502e-02,  3.6346e-02, -3.7162e-02, -4.2701e-02,  4.2548e-02,\n",
      "         3.9660e-02, -3.8565e-02, -7.5670e-03,  1.5610e-02, -3.7134e-03,\n",
      "         3.6108e-02,  4.2515e-03,  3.5431e-02, -3.0926e-02, -1.5563e-02,\n",
      "        -1.4019e-03, -3.9361e-02, -3.1111e-02,  3.2839e-02, -8.5036e-03,\n",
      "        -1.3573e-02, -1.9182e-02,  2.3021e-02, -4.4122e-02, -1.7821e-02,\n",
      "        -2.1573e-02,  3.9856e-02, -1.5094e-02,  2.1381e-02, -1.0357e-02,\n",
      "         7.2276e-04,  4.1654e-02, -4.0949e-02,  1.3562e-03,  4.1846e-02,\n",
      "         1.5767e-02, -1.3102e-02, -6.7436e-03,  1.4848e-02, -1.2490e-02,\n",
      "         3.2020e-02,  2.9031e-02,  6.4261e-03, -1.6270e-02, -1.0201e-03,\n",
      "         1.7042e-02, -4.2427e-02,  8.7204e-03, -3.9955e-02, -3.9531e-02,\n",
      "         3.9461e-02, -1.8206e-02,  1.8873e-02,  9.0815e-03,  3.7462e-02,\n",
      "        -1.3486e-02, -1.6315e-02,  3.9678e-02,  3.0658e-02, -1.9430e-02,\n",
      "         3.1016e-02, -3.5792e-02,  2.6776e-02,  1.3346e-02,  2.8839e-03,\n",
      "        -5.1058e-03,  3.6036e-02, -4.1753e-02, -2.0651e-02,  2.1401e-02,\n",
      "        -2.9639e-02, -4.3932e-02,  9.8751e-03,  3.6776e-02,  5.7029e-03,\n",
      "        -2.3731e-02,  2.5239e-02, -4.4126e-02,  2.8335e-04, -4.0261e-02,\n",
      "        -3.4357e-02, -3.6339e-02, -3.8356e-02,  2.9664e-02, -3.3434e-02,\n",
      "         1.9505e-02, -4.0687e-02, -6.6193e-03, -1.5648e-02, -3.6014e-02,\n",
      "         3.3670e-02,  3.9076e-02, -4.1744e-02,  1.9638e-02, -7.8499e-03],\n",
      "       device='cuda:0', requires_grad=True)]\n"
     ]
    }
   ],
   "source": [
    "print(list(stable_resnet.model.fc.parameters()))"
   ]
  },
  {
   "cell_type": "markdown",
   "id": "6c1c4e09-d433-479a-b96f-a02feb088b9a",
   "metadata": {},
   "source": [
    "Learning controllers, note that learning rate starts slower now:"
   ]
  },
  {
   "cell_type": "code",
   "execution_count": 128,
   "id": "906407a4-262c-40c0-a7a2-68930baccfd2",
   "metadata": {},
   "outputs": [],
   "source": [
    "s_optimizer = optim.SGD(stable_resnet.parameters(), lr=0.005)\n",
    "s_scheduler = optim.lr_scheduler.ReduceLROnPlateau(\n",
    "    s_optimizer,\n",
    "    factor=0.5,\n",
    "    patience=2,\n",
    "    threshold=0.1\n",
    ")\n",
    "# May try OneCycleLR, annealers"
   ]
  },
  {
   "cell_type": "markdown",
   "id": "7110bd36-8292-4a1a-8d7c-adb4cebe4d23",
   "metadata": {},
   "source": [
    "See the helpers for the loss function."
   ]
  },
  {
   "cell_type": "markdown",
   "id": "5fc86eb8-7046-40b2-884f-897440c92844",
   "metadata": {},
   "source": [
    "Keep the result in here:"
   ]
  },
  {
   "cell_type": "code",
   "execution_count": 130,
   "id": "84a0cbf8-1d78-48b2-83c7-a135aba2899f",
   "metadata": {},
   "outputs": [],
   "source": [
    "s_resnet_result = TrainResult(stable_resnet)"
   ]
  },
  {
   "cell_type": "markdown",
   "id": "63bf14ea-5067-49d0-a28a-2928f0adb4e8",
   "metadata": {},
   "source": [
    "The actual training loop:"
   ]
  },
  {
   "cell_type": "code",
   "execution_count": 131,
   "id": "15d18fc2-0d71-444f-9d1d-9b552213383d",
   "metadata": {},
   "outputs": [
    {
     "data": {
      "application/vnd.jupyter.widget-view+json": {
       "model_id": "93dcb16f4ba34233b3775d82407a8646",
       "version_major": 2,
       "version_minor": 0
      },
      "text/plain": [
       "Epoch:   0%|          | 0/20 [00:00<?, ?epoch/s]"
      ]
     },
     "metadata": {},
     "output_type": "display_data"
    },
    {
     "name": "stdout",
     "output_type": "stream",
     "text": [
      "Current Learning Rate: 0.005\n"
     ]
    },
    {
     "data": {
      "application/vnd.jupyter.widget-view+json": {
       "model_id": "71e8da37328b4b4e882b805320c4c314",
       "version_major": 2,
       "version_minor": 0
      },
      "text/plain": [
       "Training Iteration:   0%|          | 0/1563 [00:00<?, ?it/s]"
      ]
     },
     "metadata": {},
     "output_type": "display_data"
    },
    {
     "data": {
      "application/vnd.jupyter.widget-view+json": {
       "model_id": "f5724e742e424901a3cd0e4d7d14ad1a",
       "version_major": 2,
       "version_minor": 0
      },
      "text/plain": [
       "Validation Iteration:   0%|          | 0/157 [00:00<?, ?it/s]"
      ]
     },
     "metadata": {},
     "output_type": "display_data"
    },
    {
     "name": "stdout",
     "output_type": "stream",
     "text": [
      "\n",
      "Epoch 0: Training Loss: 4.727948836767742, Validation Loss: 4.084477017639549\n",
      "Current Learning Rate: 0.005\n"
     ]
    },
    {
     "data": {
      "application/vnd.jupyter.widget-view+json": {
       "model_id": "dfae53af77a244a8b5f26d132bc3b6d1",
       "version_major": 2,
       "version_minor": 0
      },
      "text/plain": [
       "Training Iteration:   0%|          | 0/1563 [00:00<?, ?it/s]"
      ]
     },
     "metadata": {},
     "output_type": "display_data"
    },
    {
     "data": {
      "application/vnd.jupyter.widget-view+json": {
       "model_id": "4c440356867a4fb09c217def280f13e5",
       "version_major": 2,
       "version_minor": 0
      },
      "text/plain": [
       "Validation Iteration:   0%|          | 0/157 [00:00<?, ?it/s]"
      ]
     },
     "metadata": {},
     "output_type": "display_data"
    },
    {
     "name": "stdout",
     "output_type": "stream",
     "text": [
      "\n",
      "Epoch 1: Training Loss: 3.674960175311039, Validation Loss: 3.2731017041358217\n",
      "Current Learning Rate: 0.005\n"
     ]
    },
    {
     "data": {
      "application/vnd.jupyter.widget-view+json": {
       "model_id": "10f3792b1bd3439faafb462cac580471",
       "version_major": 2,
       "version_minor": 0
      },
      "text/plain": [
       "Training Iteration:   0%|          | 0/1563 [00:00<?, ?it/s]"
      ]
     },
     "metadata": {},
     "output_type": "display_data"
    },
    {
     "data": {
      "application/vnd.jupyter.widget-view+json": {
       "model_id": "4e35d144f416413e91a3ef7cf6f60d27",
       "version_major": 2,
       "version_minor": 0
      },
      "text/plain": [
       "Validation Iteration:   0%|          | 0/157 [00:00<?, ?it/s]"
      ]
     },
     "metadata": {},
     "output_type": "display_data"
    },
    {
     "name": "stdout",
     "output_type": "stream",
     "text": [
      "\n",
      "Epoch 2: Training Loss: 3.079790781189521, Validation Loss: 2.844098055438631\n",
      "Current Learning Rate: 0.005\n"
     ]
    },
    {
     "data": {
      "application/vnd.jupyter.widget-view+json": {
       "model_id": "9f59046a692549ba86d85758af3e58de",
       "version_major": 2,
       "version_minor": 0
      },
      "text/plain": [
       "Training Iteration:   0%|          | 0/1563 [00:00<?, ?it/s]"
      ]
     },
     "metadata": {},
     "output_type": "display_data"
    },
    {
     "data": {
      "application/vnd.jupyter.widget-view+json": {
       "model_id": "fc8d3539376d44a99e256fd2f1b9ebf4",
       "version_major": 2,
       "version_minor": 0
      },
      "text/plain": [
       "Validation Iteration:   0%|          | 0/157 [00:00<?, ?it/s]"
      ]
     },
     "metadata": {},
     "output_type": "display_data"
    },
    {
     "name": "stdout",
     "output_type": "stream",
     "text": [
      "\n",
      "Epoch 3: Training Loss: 2.735764454819038, Validation Loss: 2.579060474019142\n",
      "Current Learning Rate: 0.005\n"
     ]
    },
    {
     "data": {
      "application/vnd.jupyter.widget-view+json": {
       "model_id": "d30bdc7ee3f145c884627048b921905f",
       "version_major": 2,
       "version_minor": 0
      },
      "text/plain": [
       "Training Iteration:   0%|          | 0/1563 [00:00<?, ?it/s]"
      ]
     },
     "metadata": {},
     "output_type": "display_data"
    },
    {
     "data": {
      "application/vnd.jupyter.widget-view+json": {
       "model_id": "14b0c27045ed4dfcb02844de1b69c8f8",
       "version_major": 2,
       "version_minor": 0
      },
      "text/plain": [
       "Validation Iteration:   0%|          | 0/157 [00:00<?, ?it/s]"
      ]
     },
     "metadata": {},
     "output_type": "display_data"
    },
    {
     "name": "stdout",
     "output_type": "stream",
     "text": [
      "\n",
      "Epoch 4: Training Loss: 2.5209649991165426, Validation Loss: 2.4024654391464915\n",
      "Current Learning Rate: 0.005\n"
     ]
    },
    {
     "data": {
      "application/vnd.jupyter.widget-view+json": {
       "model_id": "49970733becc43a3ace5205e6d8cb4b3",
       "version_major": 2,
       "version_minor": 0
      },
      "text/plain": [
       "Training Iteration:   0%|          | 0/1563 [00:00<?, ?it/s]"
      ]
     },
     "metadata": {},
     "output_type": "display_data"
    },
    {
     "data": {
      "application/vnd.jupyter.widget-view+json": {
       "model_id": "473d2754ef484e1e9c0490adc1660d29",
       "version_major": 2,
       "version_minor": 0
      },
      "text/plain": [
       "Validation Iteration:   0%|          | 0/157 [00:00<?, ?it/s]"
      ]
     },
     "metadata": {},
     "output_type": "display_data"
    },
    {
     "name": "stdout",
     "output_type": "stream",
     "text": [
      "\n",
      "Epoch 5: Training Loss: 2.376510003630503, Validation Loss: 2.3007565706398836\n",
      "Current Learning Rate: 0.005\n"
     ]
    },
    {
     "data": {
      "application/vnd.jupyter.widget-view+json": {
       "model_id": "94d7dfa1e5304228b4306f670524f56d",
       "version_major": 2,
       "version_minor": 0
      },
      "text/plain": [
       "Training Iteration:   0%|          | 0/1563 [00:00<?, ?it/s]"
      ]
     },
     "metadata": {},
     "output_type": "display_data"
    },
    {
     "data": {
      "application/vnd.jupyter.widget-view+json": {
       "model_id": "30e2b19dcc5a40699a5ae185e584b330",
       "version_major": 2,
       "version_minor": 0
      },
      "text/plain": [
       "Validation Iteration:   0%|          | 0/157 [00:00<?, ?it/s]"
      ]
     },
     "metadata": {},
     "output_type": "display_data"
    },
    {
     "name": "stdout",
     "output_type": "stream",
     "text": [
      "\n",
      "Epoch 6: Training Loss: 2.2721807902544184, Validation Loss: 2.2295108946265687\n",
      "Current Learning Rate: 0.005\n"
     ]
    },
    {
     "data": {
      "application/vnd.jupyter.widget-view+json": {
       "model_id": "59dfb5bd8bee42b693acbb4999d041ba",
       "version_major": 2,
       "version_minor": 0
      },
      "text/plain": [
       "Training Iteration:   0%|          | 0/1563 [00:00<?, ?it/s]"
      ]
     },
     "metadata": {},
     "output_type": "display_data"
    },
    {
     "data": {
      "application/vnd.jupyter.widget-view+json": {
       "model_id": "8d142d9ae0084451803bb92387972bda",
       "version_major": 2,
       "version_minor": 0
      },
      "text/plain": [
       "Validation Iteration:   0%|          | 0/157 [00:00<?, ?it/s]"
      ]
     },
     "metadata": {},
     "output_type": "display_data"
    },
    {
     "name": "stdout",
     "output_type": "stream",
     "text": [
      "\n",
      "Epoch 7: Training Loss: 2.192590256875246, Validation Loss: 2.1606985266041603\n",
      "Current Learning Rate: 0.005\n"
     ]
    },
    {
     "data": {
      "application/vnd.jupyter.widget-view+json": {
       "model_id": "6162c8f9ee5046f7ae6d65d1123614fc",
       "version_major": 2,
       "version_minor": 0
      },
      "text/plain": [
       "Training Iteration:   0%|          | 0/1563 [00:00<?, ?it/s]"
      ]
     },
     "metadata": {},
     "output_type": "display_data"
    },
    {
     "data": {
      "application/vnd.jupyter.widget-view+json": {
       "model_id": "d4ff4fec11a54aebb0c3fd25b49916a6",
       "version_major": 2,
       "version_minor": 0
      },
      "text/plain": [
       "Validation Iteration:   0%|          | 0/157 [00:00<?, ?it/s]"
      ]
     },
     "metadata": {},
     "output_type": "display_data"
    },
    {
     "name": "stdout",
     "output_type": "stream",
     "text": [
      "\n",
      "Epoch 8: Training Loss: 2.130990964208592, Validation Loss: 2.1133614839262265\n",
      "Current Learning Rate: 0.005\n"
     ]
    },
    {
     "data": {
      "application/vnd.jupyter.widget-view+json": {
       "model_id": "193fd2ccd4514c028d37723330d547dd",
       "version_major": 2,
       "version_minor": 0
      },
      "text/plain": [
       "Training Iteration:   0%|          | 0/1563 [00:00<?, ?it/s]"
      ]
     },
     "metadata": {},
     "output_type": "display_data"
    },
    {
     "data": {
      "application/vnd.jupyter.widget-view+json": {
       "model_id": "e32286cc38274d7a9c0c03b8896784fd",
       "version_major": 2,
       "version_minor": 0
      },
      "text/plain": [
       "Validation Iteration:   0%|          | 0/157 [00:00<?, ?it/s]"
      ]
     },
     "metadata": {},
     "output_type": "display_data"
    },
    {
     "name": "stdout",
     "output_type": "stream",
     "text": [
      "\n",
      "Epoch 9: Training Loss: 2.0818074992735722, Validation Loss: 2.0866039023277865\n",
      "Current Learning Rate: 0.005\n"
     ]
    },
    {
     "data": {
      "application/vnd.jupyter.widget-view+json": {
       "model_id": "fa46c2cfecaa4fc38d09ed13d1302d66",
       "version_major": 2,
       "version_minor": 0
      },
      "text/plain": [
       "Training Iteration:   0%|          | 0/1563 [00:00<?, ?it/s]"
      ]
     },
     "metadata": {},
     "output_type": "display_data"
    },
    {
     "data": {
      "application/vnd.jupyter.widget-view+json": {
       "model_id": "23eea3243b7d40169ef1652da3e85674",
       "version_major": 2,
       "version_minor": 0
      },
      "text/plain": [
       "Validation Iteration:   0%|          | 0/157 [00:00<?, ?it/s]"
      ]
     },
     "metadata": {},
     "output_type": "display_data"
    },
    {
     "name": "stdout",
     "output_type": "stream",
     "text": [
      "\n",
      "Epoch 10: Training Loss: 2.0409617253930157, Validation Loss: 2.048759793020358\n",
      "Current Learning Rate: 0.0025\n"
     ]
    },
    {
     "data": {
      "application/vnd.jupyter.widget-view+json": {
       "model_id": "132f5f4af09542b499c0c9e68b0a364b",
       "version_major": 2,
       "version_minor": 0
      },
      "text/plain": [
       "Training Iteration:   0%|          | 0/1563 [00:00<?, ?it/s]"
      ]
     },
     "metadata": {},
     "output_type": "display_data"
    },
    {
     "data": {
      "application/vnd.jupyter.widget-view+json": {
       "model_id": "6c7b44faa655449386e19a9f43364740",
       "version_major": 2,
       "version_minor": 0
      },
      "text/plain": [
       "Validation Iteration:   0%|          | 0/157 [00:00<?, ?it/s]"
      ]
     },
     "metadata": {},
     "output_type": "display_data"
    },
    {
     "name": "stdout",
     "output_type": "stream",
     "text": [
      "\n",
      "Epoch 11: Training Loss: 2.008505058303828, Validation Loss: 2.0371640267645477\n",
      "Current Learning Rate: 0.0025\n"
     ]
    },
    {
     "data": {
      "application/vnd.jupyter.widget-view+json": {
       "model_id": "cb85beb88bfa4dcfb74910419427a607",
       "version_major": 2,
       "version_minor": 0
      },
      "text/plain": [
       "Training Iteration:   0%|          | 0/1563 [00:00<?, ?it/s]"
      ]
     },
     "metadata": {},
     "output_type": "display_data"
    },
    {
     "data": {
      "application/vnd.jupyter.widget-view+json": {
       "model_id": "f0160ec3da43493f9eaa3024859c8ea4",
       "version_major": 2,
       "version_minor": 0
      },
      "text/plain": [
       "Validation Iteration:   0%|          | 0/157 [00:00<?, ?it/s]"
      ]
     },
     "metadata": {},
     "output_type": "display_data"
    },
    {
     "name": "stdout",
     "output_type": "stream",
     "text": [
      "\n",
      "Epoch 12: Training Loss: 1.992997704754254, Validation Loss: 2.0173599731390643\n",
      "Current Learning Rate: 0.0025\n"
     ]
    },
    {
     "data": {
      "application/vnd.jupyter.widget-view+json": {
       "model_id": "13cc5a4659a642ddafb8529c9f41aec6",
       "version_major": 2,
       "version_minor": 0
      },
      "text/plain": [
       "Training Iteration:   0%|          | 0/1563 [00:00<?, ?it/s]"
      ]
     },
     "metadata": {},
     "output_type": "display_data"
    },
    {
     "data": {
      "application/vnd.jupyter.widget-view+json": {
       "model_id": "dd1d7ba8868b472ea897a590b7174bf9",
       "version_major": 2,
       "version_minor": 0
      },
      "text/plain": [
       "Validation Iteration:   0%|          | 0/157 [00:00<?, ?it/s]"
      ]
     },
     "metadata": {},
     "output_type": "display_data"
    },
    {
     "name": "stdout",
     "output_type": "stream",
     "text": [
      "\n",
      "Epoch 13: Training Loss: 1.9773476194740485, Validation Loss: 2.007489614046303\n",
      "Current Learning Rate: 0.00125\n"
     ]
    },
    {
     "data": {
      "application/vnd.jupyter.widget-view+json": {
       "model_id": "d15796339ab44da3aee551acb47edd4b",
       "version_major": 2,
       "version_minor": 0
      },
      "text/plain": [
       "Training Iteration:   0%|          | 0/1563 [00:00<?, ?it/s]"
      ]
     },
     "metadata": {},
     "output_type": "display_data"
    },
    {
     "data": {
      "application/vnd.jupyter.widget-view+json": {
       "model_id": "efff755fd87a4b4d87e263413a0fda26",
       "version_major": 2,
       "version_minor": 0
      },
      "text/plain": [
       "Validation Iteration:   0%|          | 0/157 [00:00<?, ?it/s]"
      ]
     },
     "metadata": {},
     "output_type": "display_data"
    },
    {
     "name": "stdout",
     "output_type": "stream",
     "text": [
      "\n",
      "Epoch 14: Training Loss: 1.9642766243513012, Validation Loss: 2.0208338631945812\n",
      "Current Learning Rate: 0.00125\n"
     ]
    },
    {
     "data": {
      "application/vnd.jupyter.widget-view+json": {
       "model_id": "39908953154a454cb7ec729f0be57ae3",
       "version_major": 2,
       "version_minor": 0
      },
      "text/plain": [
       "Training Iteration:   0%|          | 0/1563 [00:00<?, ?it/s]"
      ]
     },
     "metadata": {},
     "output_type": "display_data"
    },
    {
     "data": {
      "application/vnd.jupyter.widget-view+json": {
       "model_id": "eed22809b04b42c3bd6d6817f0a6627f",
       "version_major": 2,
       "version_minor": 0
      },
      "text/plain": [
       "Validation Iteration:   0%|          | 0/157 [00:00<?, ?it/s]"
      ]
     },
     "metadata": {},
     "output_type": "display_data"
    },
    {
     "name": "stdout",
     "output_type": "stream",
     "text": [
      "\n",
      "Epoch 15: Training Loss: 1.9556046149247133, Validation Loss: 1.9952780638530756\n",
      "Current Learning Rate: 0.00125\n"
     ]
    },
    {
     "data": {
      "application/vnd.jupyter.widget-view+json": {
       "model_id": "1d6b0bd7d2384f0197066fa07bf2b02a",
       "version_major": 2,
       "version_minor": 0
      },
      "text/plain": [
       "Training Iteration:   0%|          | 0/1563 [00:00<?, ?it/s]"
      ]
     },
     "metadata": {},
     "output_type": "display_data"
    },
    {
     "data": {
      "application/vnd.jupyter.widget-view+json": {
       "model_id": "0c0e49a44a0c40e5b61aafaf6da68694",
       "version_major": 2,
       "version_minor": 0
      },
      "text/plain": [
       "Validation Iteration:   0%|          | 0/157 [00:00<?, ?it/s]"
      ]
     },
     "metadata": {},
     "output_type": "display_data"
    },
    {
     "name": "stdout",
     "output_type": "stream",
     "text": [
      "\n",
      "Epoch 16: Training Loss: 1.9502355649695515, Validation Loss: 2.0010284640986447\n",
      "Current Learning Rate: 0.000625\n"
     ]
    },
    {
     "data": {
      "application/vnd.jupyter.widget-view+json": {
       "model_id": "b7d689a8dbb849829fd29433c9756ce8",
       "version_major": 2,
       "version_minor": 0
      },
      "text/plain": [
       "Training Iteration:   0%|          | 0/1563 [00:00<?, ?it/s]"
      ]
     },
     "metadata": {},
     "output_type": "display_data"
    },
    {
     "data": {
      "application/vnd.jupyter.widget-view+json": {
       "model_id": "bff53607dc4645d0836a0fd61967dfdf",
       "version_major": 2,
       "version_minor": 0
      },
      "text/plain": [
       "Validation Iteration:   0%|          | 0/157 [00:00<?, ?it/s]"
      ]
     },
     "metadata": {},
     "output_type": "display_data"
    },
    {
     "name": "stdout",
     "output_type": "stream",
     "text": [
      "\n",
      "Epoch 17: Training Loss: 1.9436827919380983, Validation Loss: 1.9855448728913714\n",
      "Current Learning Rate: 0.000625\n"
     ]
    },
    {
     "data": {
      "application/vnd.jupyter.widget-view+json": {
       "model_id": "f22f613cd9524f04a57fa787c1513177",
       "version_major": 2,
       "version_minor": 0
      },
      "text/plain": [
       "Training Iteration:   0%|          | 0/1563 [00:00<?, ?it/s]"
      ]
     },
     "metadata": {},
     "output_type": "display_data"
    },
    {
     "data": {
      "application/vnd.jupyter.widget-view+json": {
       "model_id": "80ff1fe15a9d40259afc86fcb565193d",
       "version_major": 2,
       "version_minor": 0
      },
      "text/plain": [
       "Validation Iteration:   0%|          | 0/157 [00:00<?, ?it/s]"
      ]
     },
     "metadata": {},
     "output_type": "display_data"
    },
    {
     "name": "stdout",
     "output_type": "stream",
     "text": [
      "\n",
      "Epoch 18: Training Loss: 1.9389324397973655, Validation Loss: 1.9762624524960852\n",
      "Current Learning Rate: 0.000625\n"
     ]
    },
    {
     "data": {
      "application/vnd.jupyter.widget-view+json": {
       "model_id": "747e0bb5b59b4ed7b4ccfbd623791551",
       "version_major": 2,
       "version_minor": 0
      },
      "text/plain": [
       "Training Iteration:   0%|          | 0/1563 [00:00<?, ?it/s]"
      ]
     },
     "metadata": {},
     "output_type": "display_data"
    },
    {
     "data": {
      "application/vnd.jupyter.widget-view+json": {
       "model_id": "7eddec039e7949e5aa60ffbb4599016b",
       "version_major": 2,
       "version_minor": 0
      },
      "text/plain": [
       "Validation Iteration:   0%|          | 0/157 [00:00<?, ?it/s]"
      ]
     },
     "metadata": {},
     "output_type": "display_data"
    },
    {
     "name": "stdout",
     "output_type": "stream",
     "text": [
      "\n",
      "Epoch 19: Training Loss: 1.9368133958302776, Validation Loss: 1.975199190674314\n"
     ]
    }
   ],
   "source": [
    "# Train for some number of epochs\n",
    "S_EPOCH_COUNT = 20\n",
    "S_SAVE_PERIOD = 3\n",
    "\n",
    "s_best_loss = float(\"inf\")\n",
    "s_best_count = 0\n",
    "for epoch in tqdm_variant(\n",
    "    range(S_EPOCH_COUNT),\n",
    "    desc=f\"Epoch\",\n",
    "    unit=\"epoch\",\n",
    "    disable=False\n",
    "):\n",
    "    # Debug learning rate\n",
    "    print(f\"Current Learning Rate: {s_optimizer.param_groups[0]['lr']}\")\n",
    "    \n",
    "    # Train\n",
    "    train_loss = classifier_epoch(\n",
    "        stable_resnet,\n",
    "        train_loader,\n",
    "        s_optimizer,\n",
    "        device,\n",
    "        s_resnet_loss,\n",
    "        s_resnet_result,\n",
    "        stability_training=True\n",
    "    )\n",
    "\n",
    "    # Validation\n",
    "    val_loss = classifier_epoch(\n",
    "        stable_resnet,\n",
    "        val_loader,\n",
    "        s_optimizer,\n",
    "        device,\n",
    "        s_resnet_loss,\n",
    "        s_resnet_result,\n",
    "        training=False,\n",
    "        stability_training=True\n",
    "    )\n",
    "    \n",
    "    # Update scheduling\n",
    "    s_scheduler.step(val_loss)\n",
    "    \n",
    "    # Save a copy just in case\n",
    "    if val_loss < s_best_loss:\n",
    "        torch.save(\n",
    "            stable_resnet, \n",
    "            os.path.join(\n",
    "                os.path.abspath(\"\"),\n",
    "                f\"best_stable_resnet_classifier_{s_best_count}\" \\\n",
    "                f\"_{int(time.time()) % 100000:06}.pt\"\n",
    "            )\n",
    "        )\n",
    "        s_best_count += 1\n",
    "        s_best_loss = val_loss\n",
    "        \n",
    "    if epoch % S_SAVE_PERIOD == S_SAVE_PERIOD - 1:\n",
    "        torch.save(\n",
    "            stable_resnet,\n",
    "            os.path.join(\n",
    "                os.path.abspath(\"\"),\n",
    "                f\"stable_resnet_classifier_{epoch}_\" \\\n",
    "                f\"{int(time.time()) % 100000:06}.pt\"\n",
    "            )\n",
    "        )\n",
    "\n",
    "    # Print the average loss calculated and the epoch\n",
    "    print(f\"\\nEpoch {epoch}: Training Loss: {train_loss}, \" \\\n",
    "          f\"Validation Loss: {val_loss}\")"
   ]
  },
  {
   "cell_type": "markdown",
   "id": "0edad7c0-8c6f-4794-ad27-4db8ea3e31f4",
   "metadata": {},
   "source": [
    "Let's view the results:"
   ]
  },
  {
   "cell_type": "code",
   "execution_count": 132,
   "id": "8f888d2d-d945-4fc8-8ef4-77f603067abe",
   "metadata": {},
   "outputs": [
    {
     "name": "stdout",
     "output_type": "stream",
     "text": [
      "Spent 5141 seconds training.\n",
      "Spent 501 seconds evaluating.\n"
     ]
    },
    {
     "data": {
      "image/png": "[encoded data removed]",
      "text/plain": [
       "<Figure size 432x288 with 2 Axes>"
      ]
     },
     "metadata": {
      "needs_background": "light"
     },
     "output_type": "display_data"
    }
   ],
   "source": [
    "fig, axs = plt.subplots(1, 2)\n",
    "s_resnet_result.full_analysis(axs)"
   ]
  },
  {
   "cell_type": "markdown",
   "id": "418f33c9-33ee-420b-b3b5-c29060e2d864",
   "metadata": {},
   "source": [
    "Next, let's save it with a special name."
   ]
  },
  {
   "cell_type": "code",
   "execution_count": 133,
   "id": "ae1c0828-7649-42a0-98f3-87639f238a2e",
   "metadata": {},
   "outputs": [],
   "source": [
    "torch.save(\n",
    "    stable_resnet, \n",
    "    os.path.join(\n",
    "        os.path.abspath(\"\"),\n",
    "        \"stability_resnet.pt\"\n",
    "    )\n",
    ")\n",
    "s_resnet_result.save(_def_save_filename)"
   ]
  },
  {
   "cell_type": "markdown",
   "id": "d009cd7c-cec2-4c08-8b22-f3c0c4fa59b5",
   "metadata": {
    "jp-MarkdownHeadingCollapsed": true,
    "tags": []
   },
   "source": [
    "### Triplet Ranking\n",
    "\n",
    "Next, let's train some triplet ranking models."
   ]
  },
  {
   "cell_type": "markdown",
   "id": "b366d7f3-6e61-4dc4-9a49-38a60ee85b6a",
   "metadata": {
    "jp-MarkdownHeadingCollapsed": true,
    "tags": []
   },
   "source": [
    "#### Baseline\n",
    "\n",
    "Prepare data:"
   ]
  },
  {
   "cell_type": "code",
   "execution_count": 62,
   "id": "b7ce7f81-c188-42e7-9082-117f2556a450",
   "metadata": {},
   "outputs": [],
   "source": [
    "train_path = os.path.join(data_dir, \"train\")\n",
    "val_path = os.path.join(data_dir, \"val\")\n",
    "trd = TripletRankingDataset(train_path, 2, 2, transform=resnet_transform)\n",
    "trd_val = TripletRankingDataset(\n",
    "    val_path,\n",
    "    1,\n",
    "    1,\n",
    "    transform=resnet_transform,\n",
    "    training=False\n",
    ")\n",
    "\n",
    "batch_size = 32\n",
    "tr_train_loader = torch.utils.data.DataLoader(trd, batch_size=batch_size,\n",
    "                                     num_workers=0, shuffle=True)\n",
    "tr_val_loader = torch.utils.data.DataLoader(trd_val, batch_size=batch_size,\n",
    "                                     num_workers=0)"
   ]
  },
  {
   "cell_type": "markdown",
   "id": "331d938f-53c6-4f61-9e2b-d0a37b1fe9b4",
   "metadata": {},
   "source": [
    "Prepare new model that maps into a 64 dimensional encoding space. Note that this is less than the 200 classes."
   ]
  },
  {
   "cell_type": "code",
   "execution_count": 79,
   "id": "df26a010-38a2-42c9-be99-c80c0b343749",
   "metadata": {},
   "outputs": [],
   "source": [
    "resnet_encoder = torchvision.models.resnet18(pretrained=True)\n",
    "\n",
    "for param in resnet_encoder.parameters():\n",
    "    param.requires_grad = False\n",
    "    \n",
    "resnet_encoder.fc = nn.Linear(512, 64, bias=True) # 64-Dimensional Encoding\n",
    "\n",
    "resnet_triplet_ranking = TripletRanker(resnet_encoder).to(device)"
   ]
  },
  {
   "cell_type": "markdown",
   "id": "c69dc77d-6ad0-4976-985d-fbf1b46a8516",
   "metadata": {},
   "source": [
    "Training controllers:"
   ]
  },
  {
   "cell_type": "code",
   "execution_count": 80,
   "id": "5a778ad3-0312-4f12-8a58-48cb8847caa3",
   "metadata": {},
   "outputs": [],
   "source": [
    "rtr_optimizer = optim.SGD(resnet_triplet_ranking.parameters(), lr=0.01)\n",
    "rtr_scheduler = optim.lr_scheduler.ReduceLROnPlateau(\n",
    "    rtr_optimizer,\n",
    "    factor=0.5,\n",
    "    patience=2,\n",
    "    threshold=0.1\n",
    ")\n",
    "# May try OneCycleLR, annealers"
   ]
  },
  {
   "cell_type": "markdown",
   "id": "2461a585-7d7d-45fa-9324-5556ccf70095",
   "metadata": {},
   "source": [
    "Result:"
   ]
  },
  {
   "cell_type": "code",
   "execution_count": 81,
   "id": "cc8db298-59a6-4925-896a-4ab0753ff472",
   "metadata": {},
   "outputs": [],
   "source": [
    "rtr_result = TrainResult(resnet_triplet_ranking)"
   ]
  },
  {
   "cell_type": "markdown",
   "id": "bf6d7f05-c0e8-44c5-a18e-efcda7283164",
   "metadata": {},
   "source": [
    "Triplet loss:"
   ]
  },
  {
   "cell_type": "code",
   "execution_count": 82,
   "id": "18086897-8081-4a74-92d3-d0eb5fd0c140",
   "metadata": {},
   "outputs": [],
   "source": [
    "rtr_loss = nn.TripletMarginLoss(1.0, 2)"
   ]
  },
  {
   "cell_type": "markdown",
   "id": "954ad413-8966-4cfc-8530-8061c4f12def",
   "metadata": {},
   "source": [
    "Training loop:"
   ]
  },
  {
   "cell_type": "code",
   "execution_count": null,
   "id": "d095a291-5ed8-46e5-b81b-42bd2079315e",
   "metadata": {},
   "outputs": [],
   "source": [
    "# Train for some number of epochs\n",
    "RTR_EPOCH_COUNT = 20\n",
    "RTR_SAVE_PERIOD = 3\n",
    "\n",
    "loss = torch.Tensor([0])\n",
    "rtr_best_loss = float(\"inf\")\n",
    "rtr_best_count = 0\n",
    "for epoch in tqdm_variant(\n",
    "    range(RTR_EPOCH_COUNT),\n",
    "    desc=f\"Epoch\",\n",
    "    unit=\"epoch\",\n",
    "    disable=False\n",
    "):\n",
    "    # Debug learning rate\n",
    "    print(f\"Current Learning Rate: {rtr_optimizer.param_groups[0]['lr']}\")\n",
    "    \n",
    "    train_loss = triplet_epoch(\n",
    "        resnet_triplet_ranking,\n",
    "        tr_train_loader,\n",
    "        rtr_optimizer,\n",
    "        device,\n",
    "        rtr_loss,\n",
    "        rtr_result\n",
    "    )\n",
    "\n",
    "    val_loss = triplet_epoch(\n",
    "        resnet_triplet_ranking,\n",
    "        tr_val_loader,\n",
    "        rtr_optimizer,\n",
    "        device,\n",
    "        rtr_loss,\n",
    "        rtr_result,\n",
    "        training=False\n",
    "    )\n",
    "    \n",
    "    # Save a copy for safety\n",
    "    if val_loss < rtr_best_loss:\n",
    "        torch.save(\n",
    "            resnet_triplet_ranking, \n",
    "            os.path.join(\n",
    "                os.path.abspath(\"\"),\n",
    "                f\"best_rtr_{best_count}_{int(time.time()) % 1000000:06}.pt\"\n",
    "            )\n",
    "        )\n",
    "        rtr_best_count += 1\n",
    "        rtr_best_loss = val_loss\n",
    "        \n",
    "    if epoch % RTR_SAVE_PERIOD == RTR_SAVE_PERIOD - 1:\n",
    "        torch.save(\n",
    "            resnet_triplet_ranking,\n",
    "            os.path.join(\n",
    "                os.path.abspath(\"\"),\n",
    "                f\"rtr_{epoch}_{int(time.time()) % 1000000:06}.pt\"\n",
    "            )\n",
    "        )\n",
    "\n",
    "    # Print the last loss calculated and the epoch\n",
    "    print(f\"\\nEpoch {epoch}: Training Loss: {train_loss}, \" \\\n",
    "          f\"Validation Loss: {val_loss}\")"
   ]
  },
  {
   "cell_type": "markdown",
   "id": "a5941e0f-b182-4daf-b917-33d7283c414c",
   "metadata": {},
   "source": [
    "Let's double check gradient calculations went well:"
   ]
  },
  {
   "cell_type": "code",
   "execution_count": null,
   "id": "1b7b5313-cd95-4b07-a9c9-7c550874fc25",
   "metadata": {},
   "outputs": [],
   "source": [
    "gradient_sanity_display(resnet_triplet_ranking, next(iter(tr_train_loader))[0])"
   ]
  },
  {
   "cell_type": "markdown",
   "id": "b139ab77-5f5b-406f-afcf-bd716ed4d2cf",
   "metadata": {},
   "source": [
    "#### Stability Trained"
   ]
  },
  {
   "cell_type": "code",
   "execution_count": null,
   "id": "7c16049e-8833-4dc6-8c23-ce9e6f8c5af9",
   "metadata": {},
   "outputs": [],
   "source": [
    "# TODO"
   ]
  },
  {
   "cell_type": "markdown",
   "id": "d4952048-8638-4874-b336-40d4a280ec07",
   "metadata": {
    "jp-MarkdownHeadingCollapsed": true,
    "tags": []
   },
   "source": [
    "## Experiments and Plot Generation"
   ]
  },
  {
   "cell_type": "markdown",
   "id": "2f6a866a-07ab-4d1c-96e0-8254cb686f1f",
   "metadata": {
    "jp-MarkdownHeadingCollapsed": true,
    "tags": []
   },
   "source": [
    "### Classifier vs. JPEG\n",
    "\n",
    "We'll see how precision declines with more JPEG. First, let's load the classifiers from save files."
   ]
  },
  {
   "cell_type": "code",
   "execution_count": 93,
   "id": "0a6ef26d-e48d-4976-bd92-fbec7b31f604",
   "metadata": {},
   "outputs": [],
   "source": [
    "loaded_stabilized_classifier = torch.load(\n",
    "    os.path.join(\n",
    "        os.path.abspath(\"\"),\n",
    "        \"stability_resnet.pt\"\n",
    "    ),\n",
    "    device\n",
    ")\n",
    "\n",
    "loaded_baseline_classifier = torch.load(\n",
    "    os.path.join(\n",
    "        os.path.abspath(\"\"),\n",
    "        \"resnet.pt\"\n",
    "    ),\n",
    "    device\n",
    ")"
   ]
  },
  {
   "cell_type": "markdown",
   "id": "f415b3be-13e7-47f8-9d40-c75f0a1a71a9",
   "metadata": {},
   "source": [
    "Sanity checks:"
   ]
  },
  {
   "cell_type": "code",
   "execution_count": 94,
   "id": "049ef014-c1f2-4704-a3ee-6b4a233eea4b",
   "metadata": {},
   "outputs": [
    {
     "name": "stdout",
     "output_type": "stream",
     "text": [
      "ResNet(\n",
      "  (conv1): Conv2d(3, 64, kernel_size=(7, 7), stride=(2, 2), padding=(3, 3), bias=False)\n",
      "  (bn1): BatchNorm2d(64, eps=1e-05, momentum=0.1, affine=True, track_running_stats=True)\n",
      "  (relu): ReLU(inplace=True)\n",
      "  (maxpool): MaxPool2d(kernel_size=3, stride=2, padding=1, dilation=1, ceil_mode=False)\n",
      "  (layer1): Sequential(\n",
      "    (0): BasicBlock(\n",
      "      (conv1): Conv2d(64, 64, kernel_size=(3, 3), stride=(1, 1), padding=(1, 1), bias=False)\n",
      "      (bn1): BatchNorm2d(64, eps=1e-05, momentum=0.1, affine=True, track_running_stats=True)\n",
      "      (relu): ReLU(inplace=True)\n",
      "      (conv2): Conv2d(64, 64, kernel_size=(3, 3), stride=(1, 1), padding=(1, 1), bias=False)\n",
      "      (bn2): BatchNorm2d(64, eps=1e-05, momentum=0.1, affine=True, track_running_stats=True)\n",
      "    )\n",
      "    (1): BasicBlock(\n",
      "      (conv1): Conv2d(64, 64, kernel_size=(3, 3), stride=(1, 1), padding=(1, 1), bias=False)\n",
      "      (bn1): BatchNorm2d(64, eps=1e-05, momentum=0.1, affine=True, track_running_stats=True)\n",
      "      (relu): ReLU(inplace=True)\n",
      "      (conv2): Conv2d(64, 64, kernel_size=(3, 3), stride=(1, 1), padding=(1, 1), bias=False)\n",
      "      (bn2): BatchNorm2d(64, eps=1e-05, momentum=0.1, affine=True, track_running_stats=True)\n",
      "    )\n",
      "  )\n",
      "  (layer2): Sequential(\n",
      "    (0): BasicBlock(\n",
      "      (conv1): Conv2d(64, 128, kernel_size=(3, 3), stride=(2, 2), padding=(1, 1), bias=False)\n",
      "      (bn1): BatchNorm2d(128, eps=1e-05, momentum=0.1, affine=True, track_running_stats=True)\n",
      "      (relu): ReLU(inplace=True)\n",
      "      (conv2): Conv2d(128, 128, kernel_size=(3, 3), stride=(1, 1), padding=(1, 1), bias=False)\n",
      "      (bn2): BatchNorm2d(128, eps=1e-05, momentum=0.1, affine=True, track_running_stats=True)\n",
      "      (downsample): Sequential(\n",
      "        (0): Conv2d(64, 128, kernel_size=(1, 1), stride=(2, 2), bias=False)\n",
      "        (1): BatchNorm2d(128, eps=1e-05, momentum=0.1, affine=True, track_running_stats=True)\n",
      "      )\n",
      "    )\n",
      "    (1): BasicBlock(\n",
      "      (conv1): Conv2d(128, 128, kernel_size=(3, 3), stride=(1, 1), padding=(1, 1), bias=False)\n",
      "      (bn1): BatchNorm2d(128, eps=1e-05, momentum=0.1, affine=True, track_running_stats=True)\n",
      "      (relu): ReLU(inplace=True)\n",
      "      (conv2): Conv2d(128, 128, kernel_size=(3, 3), stride=(1, 1), padding=(1, 1), bias=False)\n",
      "      (bn2): BatchNorm2d(128, eps=1e-05, momentum=0.1, affine=True, track_running_stats=True)\n",
      "    )\n",
      "  )\n",
      "  (layer3): Sequential(\n",
      "    (0): BasicBlock(\n",
      "      (conv1): Conv2d(128, 256, kernel_size=(3, 3), stride=(2, 2), padding=(1, 1), bias=False)\n",
      "      (bn1): BatchNorm2d(256, eps=1e-05, momentum=0.1, affine=True, track_running_stats=True)\n",
      "      (relu): ReLU(inplace=True)\n",
      "      (conv2): Conv2d(256, 256, kernel_size=(3, 3), stride=(1, 1), padding=(1, 1), bias=False)\n",
      "      (bn2): BatchNorm2d(256, eps=1e-05, momentum=0.1, affine=True, track_running_stats=True)\n",
      "      (downsample): Sequential(\n",
      "        (0): Conv2d(128, 256, kernel_size=(1, 1), stride=(2, 2), bias=False)\n",
      "        (1): BatchNorm2d(256, eps=1e-05, momentum=0.1, affine=True, track_running_stats=True)\n",
      "      )\n",
      "    )\n",
      "    (1): BasicBlock(\n",
      "      (conv1): Conv2d(256, 256, kernel_size=(3, 3), stride=(1, 1), padding=(1, 1), bias=False)\n",
      "      (bn1): BatchNorm2d(256, eps=1e-05, momentum=0.1, affine=True, track_running_stats=True)\n",
      "      (relu): ReLU(inplace=True)\n",
      "      (conv2): Conv2d(256, 256, kernel_size=(3, 3), stride=(1, 1), padding=(1, 1), bias=False)\n",
      "      (bn2): BatchNorm2d(256, eps=1e-05, momentum=0.1, affine=True, track_running_stats=True)\n",
      "    )\n",
      "  )\n",
      "  (layer4): Sequential(\n",
      "    (0): BasicBlock(\n",
      "      (conv1): Conv2d(256, 512, kernel_size=(3, 3), stride=(2, 2), padding=(1, 1), bias=False)\n",
      "      (bn1): BatchNorm2d(512, eps=1e-05, momentum=0.1, affine=True, track_running_stats=True)\n",
      "      (relu): ReLU(inplace=True)\n",
      "      (conv2): Conv2d(512, 512, kernel_size=(3, 3), stride=(1, 1), padding=(1, 1), bias=False)\n",
      "      (bn2): BatchNorm2d(512, eps=1e-05, momentum=0.1, affine=True, track_running_stats=True)\n",
      "      (downsample): Sequential(\n",
      "        (0): Conv2d(256, 512, kernel_size=(1, 1), stride=(2, 2), bias=False)\n",
      "        (1): BatchNorm2d(512, eps=1e-05, momentum=0.1, affine=True, track_running_stats=True)\n",
      "      )\n",
      "    )\n",
      "    (1): BasicBlock(\n",
      "      (conv1): Conv2d(512, 512, kernel_size=(3, 3), stride=(1, 1), padding=(1, 1), bias=False)\n",
      "      (bn1): BatchNorm2d(512, eps=1e-05, momentum=0.1, affine=True, track_running_stats=True)\n",
      "      (relu): ReLU(inplace=True)\n",
      "      (conv2): Conv2d(512, 512, kernel_size=(3, 3), stride=(1, 1), padding=(1, 1), bias=False)\n",
      "      (bn2): BatchNorm2d(512, eps=1e-05, momentum=0.1, affine=True, track_running_stats=True)\n",
      "    )\n",
      "  )\n",
      "  (avgpool): AdaptiveAvgPool2d(output_size=(1, 1))\n",
      "  (fc): Linear(in_features=512, out_features=200, bias=True)\n",
      ")\n"
     ]
    }
   ],
   "source": [
    "print(loaded_baseline_classifier)"
   ]
  },
  {
   "cell_type": "code",
   "execution_count": 95,
   "id": "83f91dd8-12a2-419b-8e1c-dab699aab0a1",
   "metadata": {},
   "outputs": [
    {
     "name": "stdout",
     "output_type": "stream",
     "text": [
      "StabilityTrainingModel(\n",
      "  (model): ResNet(\n",
      "    (conv1): Conv2d(3, 64, kernel_size=(7, 7), stride=(2, 2), padding=(3, 3), bias=False)\n",
      "    (bn1): BatchNorm2d(64, eps=1e-05, momentum=0.1, affine=True, track_running_stats=True)\n",
      "    (relu): ReLU(inplace=True)\n",
      "    (maxpool): MaxPool2d(kernel_size=3, stride=2, padding=1, dilation=1, ceil_mode=False)\n",
      "    (layer1): Sequential(\n",
      "      (0): BasicBlock(\n",
      "        (conv1): Conv2d(64, 64, kernel_size=(3, 3), stride=(1, 1), padding=(1, 1), bias=False)\n",
      "        (bn1): BatchNorm2d(64, eps=1e-05, momentum=0.1, affine=True, track_running_stats=True)\n",
      "        (relu): ReLU(inplace=True)\n",
      "        (conv2): Conv2d(64, 64, kernel_size=(3, 3), stride=(1, 1), padding=(1, 1), bias=False)\n",
      "        (bn2): BatchNorm2d(64, eps=1e-05, momentum=0.1, affine=True, track_running_stats=True)\n",
      "      )\n",
      "      (1): BasicBlock(\n",
      "        (conv1): Conv2d(64, 64, kernel_size=(3, 3), stride=(1, 1), padding=(1, 1), bias=False)\n",
      "        (bn1): BatchNorm2d(64, eps=1e-05, momentum=0.1, affine=True, track_running_stats=True)\n",
      "        (relu): ReLU(inplace=True)\n",
      "        (conv2): Conv2d(64, 64, kernel_size=(3, 3), stride=(1, 1), padding=(1, 1), bias=False)\n",
      "        (bn2): BatchNorm2d(64, eps=1e-05, momentum=0.1, affine=True, track_running_stats=True)\n",
      "      )\n",
      "    )\n",
      "    (layer2): Sequential(\n",
      "      (0): BasicBlock(\n",
      "        (conv1): Conv2d(64, 128, kernel_size=(3, 3), stride=(2, 2), padding=(1, 1), bias=False)\n",
      "        (bn1): BatchNorm2d(128, eps=1e-05, momentum=0.1, affine=True, track_running_stats=True)\n",
      "        (relu): ReLU(inplace=True)\n",
      "        (conv2): Conv2d(128, 128, kernel_size=(3, 3), stride=(1, 1), padding=(1, 1), bias=False)\n",
      "        (bn2): BatchNorm2d(128, eps=1e-05, momentum=0.1, affine=True, track_running_stats=True)\n",
      "        (downsample): Sequential(\n",
      "          (0): Conv2d(64, 128, kernel_size=(1, 1), stride=(2, 2), bias=False)\n",
      "          (1): BatchNorm2d(128, eps=1e-05, momentum=0.1, affine=True, track_running_stats=True)\n",
      "        )\n",
      "      )\n",
      "      (1): BasicBlock(\n",
      "        (conv1): Conv2d(128, 128, kernel_size=(3, 3), stride=(1, 1), padding=(1, 1), bias=False)\n",
      "        (bn1): BatchNorm2d(128, eps=1e-05, momentum=0.1, affine=True, track_running_stats=True)\n",
      "        (relu): ReLU(inplace=True)\n",
      "        (conv2): Conv2d(128, 128, kernel_size=(3, 3), stride=(1, 1), padding=(1, 1), bias=False)\n",
      "        (bn2): BatchNorm2d(128, eps=1e-05, momentum=0.1, affine=True, track_running_stats=True)\n",
      "      )\n",
      "    )\n",
      "    (layer3): Sequential(\n",
      "      (0): BasicBlock(\n",
      "        (conv1): Conv2d(128, 256, kernel_size=(3, 3), stride=(2, 2), padding=(1, 1), bias=False)\n",
      "        (bn1): BatchNorm2d(256, eps=1e-05, momentum=0.1, affine=True, track_running_stats=True)\n",
      "        (relu): ReLU(inplace=True)\n",
      "        (conv2): Conv2d(256, 256, kernel_size=(3, 3), stride=(1, 1), padding=(1, 1), bias=False)\n",
      "        (bn2): BatchNorm2d(256, eps=1e-05, momentum=0.1, affine=True, track_running_stats=True)\n",
      "        (downsample): Sequential(\n",
      "          (0): Conv2d(128, 256, kernel_size=(1, 1), stride=(2, 2), bias=False)\n",
      "          (1): BatchNorm2d(256, eps=1e-05, momentum=0.1, affine=True, track_running_stats=True)\n",
      "        )\n",
      "      )\n",
      "      (1): BasicBlock(\n",
      "        (conv1): Conv2d(256, 256, kernel_size=(3, 3), stride=(1, 1), padding=(1, 1), bias=False)\n",
      "        (bn1): BatchNorm2d(256, eps=1e-05, momentum=0.1, affine=True, track_running_stats=True)\n",
      "        (relu): ReLU(inplace=True)\n",
      "        (conv2): Conv2d(256, 256, kernel_size=(3, 3), stride=(1, 1), padding=(1, 1), bias=False)\n",
      "        (bn2): BatchNorm2d(256, eps=1e-05, momentum=0.1, affine=True, track_running_stats=True)\n",
      "      )\n",
      "    )\n",
      "    (layer4): Sequential(\n",
      "      (0): BasicBlock(\n",
      "        (conv1): Conv2d(256, 512, kernel_size=(3, 3), stride=(2, 2), padding=(1, 1), bias=False)\n",
      "        (bn1): BatchNorm2d(512, eps=1e-05, momentum=0.1, affine=True, track_running_stats=True)\n",
      "        (relu): ReLU(inplace=True)\n",
      "        (conv2): Conv2d(512, 512, kernel_size=(3, 3), stride=(1, 1), padding=(1, 1), bias=False)\n",
      "        (bn2): BatchNorm2d(512, eps=1e-05, momentum=0.1, affine=True, track_running_stats=True)\n",
      "        (downsample): Sequential(\n",
      "          (0): Conv2d(256, 512, kernel_size=(1, 1), stride=(2, 2), bias=False)\n",
      "          (1): BatchNorm2d(512, eps=1e-05, momentum=0.1, affine=True, track_running_stats=True)\n",
      "        )\n",
      "      )\n",
      "      (1): BasicBlock(\n",
      "        (conv1): Conv2d(512, 512, kernel_size=(3, 3), stride=(1, 1), padding=(1, 1), bias=False)\n",
      "        (bn1): BatchNorm2d(512, eps=1e-05, momentum=0.1, affine=True, track_running_stats=True)\n",
      "        (relu): ReLU(inplace=True)\n",
      "        (conv2): Conv2d(512, 512, kernel_size=(3, 3), stride=(1, 1), padding=(1, 1), bias=False)\n",
      "        (bn2): BatchNorm2d(512, eps=1e-05, momentum=0.1, affine=True, track_running_stats=True)\n",
      "      )\n",
      "    )\n",
      "    (avgpool): AdaptiveAvgPool2d(output_size=(1, 1))\n",
      "    (fc): Linear(in_features=512, out_features=200, bias=True)\n",
      "  )\n",
      ")\n"
     ]
    }
   ],
   "source": [
    "print(loaded_stabilized_classifier)"
   ]
  },
  {
   "cell_type": "code",
   "execution_count": 96,
   "id": "e5cf7333-b9e0-4a26-ae7d-2af8537d4205",
   "metadata": {},
   "outputs": [
    {
     "ename": "NameError",
     "evalue": "name 'train_loader' is not defined",
     "output_type": "error",
     "traceback": [
      "\u001b[1;31m---------------------------------------------------------------------------\u001b[0m",
      "\u001b[1;31mNameError\u001b[0m                                 Traceback (most recent call last)",
      "\u001b[1;32m~\\AppData\\Local\\Temp/ipykernel_11328/2035251330.py\u001b[0m in \u001b[0;36m<module>\u001b[1;34m\u001b[0m\n\u001b[0;32m      1\u001b[0m gradient_sanity_display(\n\u001b[0;32m      2\u001b[0m     \u001b[0mloaded_baseline_classifier\u001b[0m\u001b[1;33m,\u001b[0m\u001b[1;33m\u001b[0m\u001b[1;33m\u001b[0m\u001b[0m\n\u001b[1;32m----> 3\u001b[1;33m     \u001b[1;33m[\u001b[0m\u001b[0mnext\u001b[0m\u001b[1;33m(\u001b[0m\u001b[0miter\u001b[0m\u001b[1;33m(\u001b[0m\u001b[0mtrain_loader\u001b[0m\u001b[1;33m)\u001b[0m\u001b[1;33m)\u001b[0m\u001b[1;33m[\u001b[0m\u001b[1;36m0\u001b[0m\u001b[1;33m]\u001b[0m\u001b[1;33m[\u001b[0m\u001b[1;36m0\u001b[0m\u001b[1;33m]\u001b[0m\u001b[1;33m.\u001b[0m\u001b[0mreshape\u001b[0m\u001b[1;33m(\u001b[0m\u001b[1;36m1\u001b[0m\u001b[1;33m,\u001b[0m \u001b[1;36m3\u001b[0m\u001b[1;33m,\u001b[0m \u001b[1;36m224\u001b[0m\u001b[1;33m,\u001b[0m \u001b[1;36m224\u001b[0m\u001b[1;33m)\u001b[0m\u001b[1;33m]\u001b[0m\u001b[1;33m\u001b[0m\u001b[1;33m\u001b[0m\u001b[0m\n\u001b[0m\u001b[0;32m      4\u001b[0m )\n",
      "\u001b[1;31mNameError\u001b[0m: name 'train_loader' is not defined"
     ]
    }
   ],
   "source": [
    "gradient_sanity_display(\n",
    "    loaded_baseline_classifier,\n",
    "    [next(iter(train_loader))[0][0].reshape(1, 3, 224, 224)]\n",
    ")"
   ]
  },
  {
   "cell_type": "code",
   "execution_count": 97,
   "id": "53cdca1f-aeca-4ac0-9253-6cd880683ac8",
   "metadata": {},
   "outputs": [
    {
     "ename": "NameError",
     "evalue": "name 'train_loader' is not defined",
     "output_type": "error",
     "traceback": [
      "\u001b[1;31m---------------------------------------------------------------------------\u001b[0m",
      "\u001b[1;31mNameError\u001b[0m                                 Traceback (most recent call last)",
      "\u001b[1;32m~\\AppData\\Local\\Temp/ipykernel_11328/1923717546.py\u001b[0m in \u001b[0;36m<module>\u001b[1;34m\u001b[0m\n\u001b[0;32m      1\u001b[0m gradient_sanity_display(\n\u001b[0;32m      2\u001b[0m     \u001b[0mloaded_stabilized_classifier\u001b[0m\u001b[1;33m,\u001b[0m\u001b[1;33m\u001b[0m\u001b[1;33m\u001b[0m\u001b[0m\n\u001b[1;32m----> 3\u001b[1;33m     \u001b[1;33m[\u001b[0m\u001b[0mnext\u001b[0m\u001b[1;33m(\u001b[0m\u001b[0miter\u001b[0m\u001b[1;33m(\u001b[0m\u001b[0mtrain_loader\u001b[0m\u001b[1;33m)\u001b[0m\u001b[1;33m)\u001b[0m\u001b[1;33m[\u001b[0m\u001b[1;36m0\u001b[0m\u001b[1;33m]\u001b[0m\u001b[1;33m[\u001b[0m\u001b[1;36m0\u001b[0m\u001b[1;33m]\u001b[0m\u001b[1;33m.\u001b[0m\u001b[0mreshape\u001b[0m\u001b[1;33m(\u001b[0m\u001b[1;36m1\u001b[0m\u001b[1;33m,\u001b[0m \u001b[1;36m3\u001b[0m\u001b[1;33m,\u001b[0m \u001b[1;36m224\u001b[0m\u001b[1;33m,\u001b[0m \u001b[1;36m224\u001b[0m\u001b[1;33m)\u001b[0m\u001b[1;33m]\u001b[0m\u001b[1;33m\u001b[0m\u001b[1;33m\u001b[0m\u001b[0m\n\u001b[0m\u001b[0;32m      4\u001b[0m )\n",
      "\u001b[1;31mNameError\u001b[0m: name 'train_loader' is not defined"
     ]
    }
   ],
   "source": [
    "gradient_sanity_display(\n",
    "    loaded_stabilized_classifier,\n",
    "    [next(iter(train_loader))[0][0].reshape(1, 3, 224, 224)]\n",
    ")"
   ]
  },
  {
   "cell_type": "markdown",
   "id": "d0a30d1d-db82-4d33-a9b6-a7b16b68b96b",
   "metadata": {},
   "source": [
    "Looking good, so we're ready. We'll increase the JPEG levels as we experiment. Note that we can reuse some code for this. The data collection:"
   ]
  },
  {
   "cell_type": "code",
   "execution_count": 106,
   "id": "f645baad-4bc0-4b95-8a35-9f8af1b0a826",
   "metadata": {},
   "outputs": [
    {
     "data": {
      "application/vnd.jupyter.widget-view+json": {
       "model_id": "d26e98485b2749c7ab080399ede2ba85",
       "version_major": 2,
       "version_minor": 0
      },
      "text/plain": [
       "Experiment:   0%|          | 0/10 [00:00<?, ?experiment/s]"
      ]
     },
     "metadata": {},
     "output_type": "display_data"
    },
    {
     "data": {
      "application/vnd.jupyter.widget-view+json": {
       "model_id": "d3f496dae28c4d1c8b712ffd7c999974",
       "version_major": 2,
       "version_minor": 0
      },
      "text/plain": [
       "Validation Iteration:   0%|          | 0/20 [00:00<?, ?it/s]"
      ]
     },
     "metadata": {},
     "output_type": "display_data"
    },
    {
     "data": {
      "application/vnd.jupyter.widget-view+json": {
       "model_id": "ac99605b338b4eddbbcd4612c560740e",
       "version_major": 2,
       "version_minor": 0
      },
      "text/plain": [
       "Validation Iteration:   0%|          | 0/20 [00:00<?, ?it/s]"
      ]
     },
     "metadata": {},
     "output_type": "display_data"
    },
    {
     "data": {
      "application/vnd.jupyter.widget-view+json": {
       "model_id": "299e62abe277402f8e3ee2a89fb9130f",
       "version_major": 2,
       "version_minor": 0
      },
      "text/plain": [
       "Validation Iteration:   0%|          | 0/20 [00:00<?, ?it/s]"
      ]
     },
     "metadata": {},
     "output_type": "display_data"
    },
    {
     "data": {
      "application/vnd.jupyter.widget-view+json": {
       "model_id": "a060245fee2c46b896a7bda99ab1a944",
       "version_major": 2,
       "version_minor": 0
      },
      "text/plain": [
       "Validation Iteration:   0%|          | 0/20 [00:00<?, ?it/s]"
      ]
     },
     "metadata": {},
     "output_type": "display_data"
    },
    {
     "data": {
      "application/vnd.jupyter.widget-view+json": {
       "model_id": "1bf2c186eb3d40419ce3f8ce01ad26ad",
       "version_major": 2,
       "version_minor": 0
      },
      "text/plain": [
       "Validation Iteration:   0%|          | 0/20 [00:00<?, ?it/s]"
      ]
     },
     "metadata": {},
     "output_type": "display_data"
    },
    {
     "data": {
      "application/vnd.jupyter.widget-view+json": {
       "model_id": "08b02812a3d54e85bb0d19cfb1c74fdf",
       "version_major": 2,
       "version_minor": 0
      },
      "text/plain": [
       "Validation Iteration:   0%|          | 0/20 [00:00<?, ?it/s]"
      ]
     },
     "metadata": {},
     "output_type": "display_data"
    },
    {
     "data": {
      "application/vnd.jupyter.widget-view+json": {
       "model_id": "4cc093c04be048909f5156b32f4d1379",
       "version_major": 2,
       "version_minor": 0
      },
      "text/plain": [
       "Validation Iteration:   0%|          | 0/20 [00:00<?, ?it/s]"
      ]
     },
     "metadata": {},
     "output_type": "display_data"
    },
    {
     "data": {
      "application/vnd.jupyter.widget-view+json": {
       "model_id": "93f5cb10c6d746408126dc7e9b3343c7",
       "version_major": 2,
       "version_minor": 0
      },
      "text/plain": [
       "Validation Iteration:   0%|          | 0/20 [00:00<?, ?it/s]"
      ]
     },
     "metadata": {},
     "output_type": "display_data"
    },
    {
     "data": {
      "application/vnd.jupyter.widget-view+json": {
       "model_id": "a44c9bbca67e4960a715422530ce51aa",
       "version_major": 2,
       "version_minor": 0
      },
      "text/plain": [
       "Validation Iteration:   0%|          | 0/20 [00:00<?, ?it/s]"
      ]
     },
     "metadata": {},
     "output_type": "display_data"
    },
    {
     "data": {
      "application/vnd.jupyter.widget-view+json": {
       "model_id": "5c3c1703e45240e085a741313b4bffef",
       "version_major": 2,
       "version_minor": 0
      },
      "text/plain": [
       "Validation Iteration:   0%|          | 0/20 [00:00<?, ?it/s]"
      ]
     },
     "metadata": {},
     "output_type": "display_data"
    },
    {
     "data": {
      "application/vnd.jupyter.widget-view+json": {
       "model_id": "9db646123474437f88acc8401c727012",
       "version_major": 2,
       "version_minor": 0
      },
      "text/plain": [
       "Validation Iteration:   0%|          | 0/20 [00:00<?, ?it/s]"
      ]
     },
     "metadata": {},
     "output_type": "display_data"
    },
    {
     "data": {
      "application/vnd.jupyter.widget-view+json": {
       "model_id": "0c4ba55f8032485e907c35c16c9a5943",
       "version_major": 2,
       "version_minor": 0
      },
      "text/plain": [
       "Validation Iteration:   0%|          | 0/20 [00:00<?, ?it/s]"
      ]
     },
     "metadata": {},
     "output_type": "display_data"
    },
    {
     "data": {
      "application/vnd.jupyter.widget-view+json": {
       "model_id": "9d0c70496d7a4c0896e39eb929110a84",
       "version_major": 2,
       "version_minor": 0
      },
      "text/plain": [
       "Validation Iteration:   0%|          | 0/20 [00:00<?, ?it/s]"
      ]
     },
     "metadata": {},
     "output_type": "display_data"
    },
    {
     "data": {
      "application/vnd.jupyter.widget-view+json": {
       "model_id": "00ad608d771840a692adc4e8202f4688",
       "version_major": 2,
       "version_minor": 0
      },
      "text/plain": [
       "Validation Iteration:   0%|          | 0/20 [00:00<?, ?it/s]"
      ]
     },
     "metadata": {},
     "output_type": "display_data"
    },
    {
     "data": {
      "application/vnd.jupyter.widget-view+json": {
       "model_id": "c580fd7172b64263a7291ad9966efe54",
       "version_major": 2,
       "version_minor": 0
      },
      "text/plain": [
       "Validation Iteration:   0%|          | 0/20 [00:00<?, ?it/s]"
      ]
     },
     "metadata": {},
     "output_type": "display_data"
    },
    {
     "data": {
      "application/vnd.jupyter.widget-view+json": {
       "model_id": "7b7db10c47794ed792074cc0d0f2b87b",
       "version_major": 2,
       "version_minor": 0
      },
      "text/plain": [
       "Validation Iteration:   0%|          | 0/20 [00:00<?, ?it/s]"
      ]
     },
     "metadata": {},
     "output_type": "display_data"
    },
    {
     "data": {
      "application/vnd.jupyter.widget-view+json": {
       "model_id": "17140ddfac7644588699fba4d3c238da",
       "version_major": 2,
       "version_minor": 0
      },
      "text/plain": [
       "Validation Iteration:   0%|          | 0/20 [00:00<?, ?it/s]"
      ]
     },
     "metadata": {},
     "output_type": "display_data"
    },
    {
     "data": {
      "application/vnd.jupyter.widget-view+json": {
       "model_id": "544fbcab82a444f79ce98c4019101a5c",
       "version_major": 2,
       "version_minor": 0
      },
      "text/plain": [
       "Validation Iteration:   0%|          | 0/20 [00:00<?, ?it/s]"
      ]
     },
     "metadata": {},
     "output_type": "display_data"
    },
    {
     "data": {
      "application/vnd.jupyter.widget-view+json": {
       "model_id": "d3f7ef32a6d84c6c9b41b057bcd9f3fd",
       "version_major": 2,
       "version_minor": 0
      },
      "text/plain": [
       "Validation Iteration:   0%|          | 0/20 [00:00<?, ?it/s]"
      ]
     },
     "metadata": {},
     "output_type": "display_data"
    },
    {
     "data": {
      "application/vnd.jupyter.widget-view+json": {
       "model_id": "09e6f4aa46d8456f8fce71975f9f7c35",
       "version_major": 2,
       "version_minor": 0
      },
      "text/plain": [
       "Validation Iteration:   0%|          | 0/20 [00:00<?, ?it/s]"
      ]
     },
     "metadata": {},
     "output_type": "display_data"
    }
   ],
   "source": [
    "BATCH_SIZE = 512\n",
    "\n",
    "qualities = list(range(100, 0, -10))\n",
    "baseline_precision = [ ]\n",
    "stabilized_precision = [ ]\n",
    "\n",
    "for quality in tqdm_variant(\n",
    "    qualities,\n",
    "    desc=f\"Experiment\",\n",
    "    unit=\"experiment\"\n",
    "):\n",
    "    #\n",
    "    # Prepare the data\n",
    "    #\n",
    "    apply_jpeg = JPEGTransform(quality)\n",
    "    \n",
    "    this_dataset = datasets.ImageFolder(\n",
    "        os.path.join(data_dir, \"val\"),\n",
    "        transform=T.Compose([apply_jpeg, resnet_transform])\n",
    "    )\n",
    "    this_loader = torch.utils.data.DataLoader(\n",
    "        this_dataset,\n",
    "        batch_size=BATCH_SIZE,\n",
    "        num_workers=0\n",
    "    )\n",
    "    \n",
    "    tmp_result = TrainResult(None)\n",
    "\n",
    "    #\n",
    "    # Experiments\n",
    "    #\n",
    "    \n",
    "    # Perform stabilized experiment\n",
    "    _ = classifier_epoch(\n",
    "            loaded_baseline_classifier,\n",
    "            this_loader,\n",
    "            None,\n",
    "            device,\n",
    "            resnet_loss,\n",
    "            tmp_result,\n",
    "            training=False\n",
    "        )\n",
    "    _ = classifier_epoch(\n",
    "            loaded_stabilized_classifier,\n",
    "            this_loader,\n",
    "            None,\n",
    "            device,\n",
    "            s_resnet_loss,\n",
    "            tmp_result,\n",
    "            training=False,\n",
    "            stability_training=True\n",
    "        )\n",
    "    \n",
    "    #\n",
    "    # Extract data\n",
    "    #\n",
    "    trial_size = len(tmp_result.val_accuracy_history) // 2\n",
    "    inv_img_count = 1.0 / (len(this_dataset) // BATCH_SIZE)\n",
    "    # Calculate baseline\n",
    "    baseline_precision.append(\n",
    "        sum(tmp_result.val_accuracy_history[:trial_size - 1]) * inv_img_count\n",
    "    )\n",
    "    stabilized_precision.append(\n",
    "        sum(tmp_result.val_accuracy_history[trial_size:-1]) * inv_img_count\n",
    "    )\n",
    "\n",
    "    # No chances with memory management\n",
    "    del tmp_result, this_loader, this_dataset"
   ]
  },
  {
   "cell_type": "markdown",
   "id": "74028271-a21a-4d0d-85fb-cc1b59fcdce4",
   "metadata": {},
   "source": [
    "Let's plot the results:"
   ]
  },
  {
   "cell_type": "code",
   "execution_count": null,
   "id": "9b50ce91-a245-4e8f-9f7d-9f54e51f81f2",
   "metadata": {},
   "outputs": [],
   "source": [
    "plot_precision_vs_quality(qualities, baseline_precision, stabilized_precision)"
   ]
  },
  {
   "cell_type": "markdown",
   "id": "b01df416-5a6e-44d1-84cb-d52b5bfbeb75",
   "metadata": {},
   "source": [
    "Next, let's save the results."
   ]
  },
  {
   "cell_type": "code",
   "execution_count": 127,
   "id": "ab1ce1ba-8ff1-4f69-aaeb-08e7c1537ebe",
   "metadata": {},
   "outputs": [],
   "source": [
    "with open(\n",
    "    f\"resnet_classifier_result_{int(time.time()) % 1000000:06}.pt\",\n",
    "    \"wb\"\n",
    ") as file_obj:\n",
    "    pickle.dump(\n",
    "        {\n",
    "            \"baseline\" : baseline_precision,\n",
    "            \"stabilized\" : stabilized_precision\n",
    "        }, file_obj\n",
    "    )"
   ]
  },
  {
   "cell_type": "markdown",
   "id": "a940fd64-53f3-4f06-9d42-7dc3f885423b",
   "metadata": {
    "tags": []
   },
   "source": [
    "# Inception v3"
   ]
  },
  {
   "cell_type": "markdown",
   "id": "6b23b2dc-05e0-4f52-98ea-181adc89ff45",
   "metadata": {
    "tags": []
   },
   "source": [
    "## Training\n",
    "\n",
    "Now, let's do some training!"
   ]
  },
  {
   "cell_type": "markdown",
   "id": "1c07dcaf-6797-4232-b89d-84ec0fc73ee6",
   "metadata": {
    "tags": []
   },
   "source": [
    "### Classifiers"
   ]
  },
  {
   "cell_type": "markdown",
   "id": "b787fbda-9578-43b2-a7d1-66546177bb25",
   "metadata": {
    "jp-MarkdownHeadingCollapsed": true,
    "tags": []
   },
   "source": [
    "#### Baseline\n",
    "\n",
    "Let's train a baseline Inception v3. We'll need a new tranformation:"
   ]
  },
  {
   "cell_type": "code",
   "execution_count": 34,
   "id": "7d7ae3bd-3c98-409b-840e-13236e615c9f",
   "metadata": {},
   "outputs": [],
   "source": [
    "BATCH_SIZE = 64\n",
    "\n",
    "inception_class_dataset_train = datasets.ImageFolder(\n",
    "    os.path.join(data_dir, \"train\"),\n",
    "    transform=inception_transform\n",
    ")\n",
    "inception_class_dataset_val = datasets.ImageFolder(\n",
    "    os.path.join(data_dir, \"val\"),\n",
    "    transform=inception_transform\n",
    ")\n",
    "\n",
    "inception_train_loader = torch.utils.data.DataLoader(\n",
    "    inception_class_dataset_train,\n",
    "    batch_size=BATCH_SIZE,\n",
    "    num_workers=0,\n",
    "    shuffle=True\n",
    ")\n",
    "inception_val_loader = torch.utils.data.DataLoader(\n",
    "    inception_class_dataset_val,\n",
    "    batch_size=BATCH_SIZE,\n",
    "    num_workers=0\n",
    ")"
   ]
  },
  {
   "cell_type": "markdown",
   "id": "f1cf530a-a186-4678-af2c-b130dcd14d20",
   "metadata": {},
   "source": [
    "Next, prepare the model object."
   ]
  },
  {
   "cell_type": "code",
   "execution_count": 34,
   "id": "83bdfc02-7dcb-4408-bb19-fd481f49dc23",
   "metadata": {},
   "outputs": [],
   "source": [
    "# Default variation. Note pretrained\n",
    "inception = torchvision.models.inception_v3(pretrained=True, aux_logits=False)\n",
    "\n",
    "# Freeze all layers\n",
    "for param in inception.parameters():\n",
    "    param.requires_grad = False\n",
    "    \n",
    "# Replace last, note now unfrozen and we'll fine tune\n",
    "inception.fc = nn.Linear(2048, 200)\n",
    "\n",
    "# Send to GPU, if possible\n",
    "inception = inception.to(device)"
   ]
  },
  {
   "cell_type": "markdown",
   "id": "35af2bcb-539b-4dd0-b0d2-86d0937df41f",
   "metadata": {},
   "source": [
    "Learning controllers:"
   ]
  },
  {
   "cell_type": "code",
   "execution_count": 42,
   "id": "939f074d-cac2-4508-b68d-6d4c058a7ebe",
   "metadata": {},
   "outputs": [],
   "source": [
    "inception_optimizer = optim.SGD(inception.parameters(), lr=0.002)\n",
    "inception_scheduler = optim.lr_scheduler.ReduceLROnPlateau(\n",
    "    inception_optimizer,\n",
    "    factor=0.5,\n",
    "    patience=2,\n",
    "    threshold=0.1\n",
    ")\n",
    "# May try OneCycleLR, annealers"
   ]
  },
  {
   "cell_type": "markdown",
   "id": "ba54c9df-3fcd-4b6a-ab84-aab93d8e10b0",
   "metadata": {},
   "source": [
    "We'll create the loss function:"
   ]
  },
  {
   "cell_type": "code",
   "execution_count": 38,
   "id": "4e9483c0-b3ee-4dfb-9f82-5810d4b2383c",
   "metadata": {},
   "outputs": [],
   "source": [
    "inception_loss = classifier_objective"
   ]
  },
  {
   "cell_type": "markdown",
   "id": "c78a35bc-441c-47b1-b8bc-430ce1952ba3",
   "metadata": {},
   "source": [
    "Keep the result in here:"
   ]
  },
  {
   "cell_type": "code",
   "execution_count": 36,
   "id": "cad897b1-d2b6-468a-860a-cd91fbfa4b0b",
   "metadata": {},
   "outputs": [],
   "source": [
    "inception_result = TrainResult(inception)"
   ]
  },
  {
   "cell_type": "markdown",
   "id": "ff3c52ac-154c-4e69-8e5e-bb61f50bedb0",
   "metadata": {},
   "source": [
    "The actual training loop:"
   ]
  },
  {
   "cell_type": "code",
   "execution_count": null,
   "id": "dcf21fa4-fd2e-4ac1-bb12-dd31fd59042d",
   "metadata": {},
   "outputs": [],
   "source": [
    "inception_best_loss = float(\"inf\")\n",
    "inception_best_count = 0"
   ]
  },
  {
   "cell_type": "code",
   "execution_count": 43,
   "id": "dae1affe-8bc0-4fc5-b616-8551ca8decf5",
   "metadata": {
    "collapsed": true,
    "jupyter": {
     "outputs_hidden": true
    },
    "tags": []
   },
   "outputs": [
    {
     "data": {
      "application/vnd.jupyter.widget-view+json": {
       "model_id": "e333e2e1f94b4a7b922860b153d9948e",
       "version_major": 2,
       "version_minor": 0
      },
      "text/plain": [
       "Epoch:   0%|          | 0/40 [00:00<?, ?epoch/s]"
      ]
     },
     "metadata": {},
     "output_type": "display_data"
    },
    {
     "name": "stdout",
     "output_type": "stream",
     "text": [
      "Current Learning Rate: 0.002\n"
     ]
    },
    {
     "data": {
      "application/vnd.jupyter.widget-view+json": {
       "model_id": "31645116bdda496e9cf4a47c158afa61",
       "version_major": 2,
       "version_minor": 0
      },
      "text/plain": [
       "Training Iteration:   0%|          | 0/1563 [00:00<?, ?it/s]"
      ]
     },
     "metadata": {},
     "output_type": "display_data"
    },
    {
     "data": {
      "application/vnd.jupyter.widget-view+json": {
       "model_id": "dbcef05738c84475ae342f586080c121",
       "version_major": 2,
       "version_minor": 0
      },
      "text/plain": [
       "Validation Iteration:   0%|          | 0/157 [00:00<?, ?it/s]"
      ]
     },
     "metadata": {},
     "output_type": "display_data"
    },
    {
     "name": "stdout",
     "output_type": "stream",
     "text": [
      "\n",
      "Epoch 0: Training Loss: 5.056670257241316, Validation Loss: 4.865894499857714\n",
      "Current Learning Rate: 0.002\n"
     ]
    },
    {
     "data": {
      "application/vnd.jupyter.widget-view+json": {
       "model_id": "d877384e789f4002802539ab3d2b89b0",
       "version_major": 2,
       "version_minor": 0
      },
      "text/plain": [
       "Training Iteration:   0%|          | 0/1563 [00:00<?, ?it/s]"
      ]
     },
     "metadata": {},
     "output_type": "display_data"
    },
    {
     "data": {
      "application/vnd.jupyter.widget-view+json": {
       "model_id": "2f4923f07aa449babc045a83f9a6f8f5",
       "version_major": 2,
       "version_minor": 0
      },
      "text/plain": [
       "Validation Iteration:   0%|          | 0/157 [00:00<?, ?it/s]"
      ]
     },
     "metadata": {},
     "output_type": "display_data"
    },
    {
     "name": "stdout",
     "output_type": "stream",
     "text": [
      "\n",
      "Epoch 1: Training Loss: 4.765042121030548, Validation Loss: 4.574183974296424\n",
      "Current Learning Rate: 0.002\n"
     ]
    },
    {
     "data": {
      "application/vnd.jupyter.widget-view+json": {
       "model_id": "f09af061172a4c0ab2026442a83c5186",
       "version_major": 2,
       "version_minor": 0
      },
      "text/plain": [
       "Training Iteration:   0%|          | 0/1563 [00:00<?, ?it/s]"
      ]
     },
     "metadata": {},
     "output_type": "display_data"
    },
    {
     "data": {
      "application/vnd.jupyter.widget-view+json": {
       "model_id": "ce095e1a3e6a428b9c1dee5dd825a832",
       "version_major": 2,
       "version_minor": 0
      },
      "text/plain": [
       "Validation Iteration:   0%|          | 0/157 [00:00<?, ?it/s]"
      ]
     },
     "metadata": {},
     "output_type": "display_data"
    },
    {
     "name": "stdout",
     "output_type": "stream",
     "text": [
      "\n",
      "Epoch 2: Training Loss: 4.485898364452086, Validation Loss: 4.291020212659411\n",
      "Current Learning Rate: 0.002\n"
     ]
    },
    {
     "data": {
      "application/vnd.jupyter.widget-view+json": {
       "model_id": "0310e26dd5e6487a8107f29c5e0defa6",
       "version_major": 2,
       "version_minor": 0
      },
      "text/plain": [
       "Training Iteration:   0%|          | 0/1563 [00:00<?, ?it/s]"
      ]
     },
     "metadata": {},
     "output_type": "display_data"
    },
    {
     "data": {
      "application/vnd.jupyter.widget-view+json": {
       "model_id": "b101aa43ffda4150b942d0e65e3486ce",
       "version_major": 2,
       "version_minor": 0
      },
      "text/plain": [
       "Validation Iteration:   0%|          | 0/157 [00:00<?, ?it/s]"
      ]
     },
     "metadata": {},
     "output_type": "display_data"
    },
    {
     "name": "stdout",
     "output_type": "stream",
     "text": [
      "\n",
      "Epoch 3: Training Loss: 4.2230035175670055, Validation Loss: 4.0321453270638825\n",
      "Current Learning Rate: 0.002\n"
     ]
    },
    {
     "data": {
      "application/vnd.jupyter.widget-view+json": {
       "model_id": "f6f1246f65d64e2394462240c5becce0",
       "version_major": 2,
       "version_minor": 0
      },
      "text/plain": [
       "Training Iteration:   0%|          | 0/1563 [00:00<?, ?it/s]"
      ]
     },
     "metadata": {},
     "output_type": "display_data"
    },
    {
     "data": {
      "application/vnd.jupyter.widget-view+json": {
       "model_id": "a8ca6e1d123d4d29b0793e3a3507c00b",
       "version_major": 2,
       "version_minor": 0
      },
      "text/plain": [
       "Validation Iteration:   0%|          | 0/157 [00:00<?, ?it/s]"
      ]
     },
     "metadata": {},
     "output_type": "display_data"
    },
    {
     "name": "stdout",
     "output_type": "stream",
     "text": [
      "\n",
      "Epoch 4: Training Loss: 3.9774061204223243, Validation Loss: 3.7874270077723606\n",
      "Current Learning Rate: 0.002\n"
     ]
    },
    {
     "data": {
      "application/vnd.jupyter.widget-view+json": {
       "model_id": "c0810b1253794224861e5d2c85a7a718",
       "version_major": 2,
       "version_minor": 0
      },
      "text/plain": [
       "Training Iteration:   0%|          | 0/1563 [00:00<?, ?it/s]"
      ]
     },
     "metadata": {},
     "output_type": "display_data"
    },
    {
     "data": {
      "application/vnd.jupyter.widget-view+json": {
       "model_id": "8140200fdefc4233a8e2e14b1cbf8992",
       "version_major": 2,
       "version_minor": 0
      },
      "text/plain": [
       "Validation Iteration:   0%|          | 0/157 [00:00<?, ?it/s]"
      ]
     },
     "metadata": {},
     "output_type": "display_data"
    },
    {
     "name": "stdout",
     "output_type": "stream",
     "text": [
      "\n",
      "Epoch 5: Training Loss: 3.7550540530216368, Validation Loss: 3.559548504033666\n",
      "Current Learning Rate: 0.002\n"
     ]
    },
    {
     "data": {
      "application/vnd.jupyter.widget-view+json": {
       "model_id": "12574aa23af84bc89ed31850fc2d01a4",
       "version_major": 2,
       "version_minor": 0
      },
      "text/plain": [
       "Training Iteration:   0%|          | 0/1563 [00:00<?, ?it/s]"
      ]
     },
     "metadata": {},
     "output_type": "display_data"
    },
    {
     "data": {
      "application/vnd.jupyter.widget-view+json": {
       "model_id": "0a8a1d48e1b84875a81528b3adf57a89",
       "version_major": 2,
       "version_minor": 0
      },
      "text/plain": [
       "Validation Iteration:   0%|          | 0/157 [00:00<?, ?it/s]"
      ]
     },
     "metadata": {},
     "output_type": "display_data"
    },
    {
     "name": "stdout",
     "output_type": "stream",
     "text": [
      "\n",
      "Epoch 6: Training Loss: 3.550001209543366, Validation Loss: 3.3650971400509975\n",
      "Current Learning Rate: 0.002\n"
     ]
    },
    {
     "data": {
      "application/vnd.jupyter.widget-view+json": {
       "model_id": "0c0d15d5096046ccbb92395a0c6b5c6a",
       "version_major": 2,
       "version_minor": 0
      },
      "text/plain": [
       "Training Iteration:   0%|          | 0/1563 [00:00<?, ?it/s]"
      ]
     },
     "metadata": {},
     "output_type": "display_data"
    },
    {
     "data": {
      "application/vnd.jupyter.widget-view+json": {
       "model_id": "0b49b4f5bd304e20985dfdd690e27780",
       "version_major": 2,
       "version_minor": 0
      },
      "text/plain": [
       "Validation Iteration:   0%|          | 0/157 [00:00<?, ?it/s]"
      ]
     },
     "metadata": {},
     "output_type": "display_data"
    },
    {
     "name": "stdout",
     "output_type": "stream",
     "text": [
      "\n",
      "Epoch 7: Training Loss: 3.3670223065850373, Validation Loss: 3.192492527566898\n",
      "Current Learning Rate: 0.002\n"
     ]
    },
    {
     "data": {
      "application/vnd.jupyter.widget-view+json": {
       "model_id": "ff9be721475443a6a43a7e9555b67a90",
       "version_major": 2,
       "version_minor": 0
      },
      "text/plain": [
       "Training Iteration:   0%|          | 0/1563 [00:00<?, ?it/s]"
      ]
     },
     "metadata": {},
     "output_type": "display_data"
    },
    {
     "data": {
      "application/vnd.jupyter.widget-view+json": {
       "model_id": "ec614888ff8440428276cb605f936863",
       "version_major": 2,
       "version_minor": 0
      },
      "text/plain": [
       "Validation Iteration:   0%|          | 0/157 [00:00<?, ?it/s]"
      ]
     },
     "metadata": {},
     "output_type": "display_data"
    },
    {
     "name": "stdout",
     "output_type": "stream",
     "text": [
      "\n",
      "Epoch 8: Training Loss: 3.201516921140411, Validation Loss: 3.0297526956363847\n",
      "Current Learning Rate: 0.002\n"
     ]
    },
    {
     "data": {
      "application/vnd.jupyter.widget-view+json": {
       "model_id": "4830ad1590294586b68548f452f13f1c",
       "version_major": 2,
       "version_minor": 0
      },
      "text/plain": [
       "Training Iteration:   0%|          | 0/1563 [00:00<?, ?it/s]"
      ]
     },
     "metadata": {},
     "output_type": "display_data"
    },
    {
     "data": {
      "application/vnd.jupyter.widget-view+json": {
       "model_id": "80827e3ec945414e9177c7782978549b",
       "version_major": 2,
       "version_minor": 0
      },
      "text/plain": [
       "Validation Iteration:   0%|          | 0/157 [00:00<?, ?it/s]"
      ]
     },
     "metadata": {},
     "output_type": "display_data"
    },
    {
     "name": "stdout",
     "output_type": "stream",
     "text": [
      "\n",
      "Epoch 9: Training Loss: 3.0601021520464524, Validation Loss: 2.875111984599168\n",
      "Current Learning Rate: 0.002\n"
     ]
    },
    {
     "data": {
      "application/vnd.jupyter.widget-view+json": {
       "model_id": "a3a88542da644d9fa82119348c025555",
       "version_major": 2,
       "version_minor": 0
      },
      "text/plain": [
       "Training Iteration:   0%|          | 0/1563 [00:00<?, ?it/s]"
      ]
     },
     "metadata": {},
     "output_type": "display_data"
    },
    {
     "data": {
      "application/vnd.jupyter.widget-view+json": {
       "model_id": "ec6c31e6e8af4d13985bf8c8656b9a9e",
       "version_major": 2,
       "version_minor": 0
      },
      "text/plain": [
       "Validation Iteration:   0%|          | 0/157 [00:00<?, ?it/s]"
      ]
     },
     "metadata": {},
     "output_type": "display_data"
    },
    {
     "name": "stdout",
     "output_type": "stream",
     "text": [
      "\n",
      "Epoch 10: Training Loss: 2.9329547972078136, Validation Loss: 2.762342267734989\n",
      "Current Learning Rate: 0.002\n"
     ]
    },
    {
     "data": {
      "application/vnd.jupyter.widget-view+json": {
       "model_id": "dacf3368067d48d696427a026ab25839",
       "version_major": 2,
       "version_minor": 0
      },
      "text/plain": [
       "Training Iteration:   0%|          | 0/1563 [00:00<?, ?it/s]"
      ]
     },
     "metadata": {},
     "output_type": "display_data"
    },
    {
     "data": {
      "application/vnd.jupyter.widget-view+json": {
       "model_id": "c4c2f2d41b974e7f9fee37eae7020be2",
       "version_major": 2,
       "version_minor": 0
      },
      "text/plain": [
       "Validation Iteration:   0%|          | 0/157 [00:00<?, ?it/s]"
      ]
     },
     "metadata": {},
     "output_type": "display_data"
    },
    {
     "name": "stdout",
     "output_type": "stream",
     "text": [
      "\n",
      "Epoch 11: Training Loss: 2.82149013585184, Validation Loss: 2.6536348025510264\n",
      "Current Learning Rate: 0.002\n"
     ]
    },
    {
     "data": {
      "application/vnd.jupyter.widget-view+json": {
       "model_id": "ed1456181b764eef8d301947359a4c2a",
       "version_major": 2,
       "version_minor": 0
      },
      "text/plain": [
       "Training Iteration:   0%|          | 0/1563 [00:00<?, ?it/s]"
      ]
     },
     "metadata": {},
     "output_type": "display_data"
    },
    {
     "data": {
      "application/vnd.jupyter.widget-view+json": {
       "model_id": "97174642b6994cc3a0c532c97bb57b90",
       "version_major": 2,
       "version_minor": 0
      },
      "text/plain": [
       "Validation Iteration:   0%|          | 0/157 [00:00<?, ?it/s]"
      ]
     },
     "metadata": {},
     "output_type": "display_data"
    },
    {
     "name": "stdout",
     "output_type": "stream",
     "text": [
      "\n",
      "Epoch 12: Training Loss: 2.7206595253654573, Validation Loss: 2.5684371207170424\n",
      "Current Learning Rate: 0.002\n"
     ]
    },
    {
     "data": {
      "application/vnd.jupyter.widget-view+json": {
       "model_id": "6ee989a3767843d79c176edca8278b4c",
       "version_major": 2,
       "version_minor": 0
      },
      "text/plain": [
       "Training Iteration:   0%|          | 0/1563 [00:00<?, ?it/s]"
      ]
     },
     "metadata": {},
     "output_type": "display_data"
    },
    {
     "data": {
      "application/vnd.jupyter.widget-view+json": {
       "model_id": "a91b94029f5543c8840c42835cdde2a2",
       "version_major": 2,
       "version_minor": 0
      },
      "text/plain": [
       "Validation Iteration:   0%|          | 0/157 [00:00<?, ?it/s]"
      ]
     },
     "metadata": {},
     "output_type": "display_data"
    },
    {
     "name": "stdout",
     "output_type": "stream",
     "text": [
      "\n",
      "Epoch 13: Training Loss: 2.6397757376147934, Validation Loss: 2.484230088580186\n",
      "Current Learning Rate: 0.002\n"
     ]
    },
    {
     "data": {
      "application/vnd.jupyter.widget-view+json": {
       "model_id": "8efe98d842fa43b6836175f0bdd0e73a",
       "version_major": 2,
       "version_minor": 0
      },
      "text/plain": [
       "Training Iteration:   0%|          | 0/1563 [00:00<?, ?it/s]"
      ]
     },
     "metadata": {},
     "output_type": "display_data"
    },
    {
     "data": {
      "application/vnd.jupyter.widget-view+json": {
       "model_id": "5430a812783540f38f7c15f6e6535b84",
       "version_major": 2,
       "version_minor": 0
      },
      "text/plain": [
       "Validation Iteration:   0%|          | 0/157 [00:00<?, ?it/s]"
      ]
     },
     "metadata": {},
     "output_type": "display_data"
    },
    {
     "name": "stdout",
     "output_type": "stream",
     "text": [
      "\n",
      "Epoch 14: Training Loss: 2.5640033533843143, Validation Loss: 2.3979173086251424\n",
      "Current Learning Rate: 0.002\n"
     ]
    },
    {
     "data": {
      "application/vnd.jupyter.widget-view+json": {
       "model_id": "3e447b84599741ee9050345ffa79fa22",
       "version_major": 2,
       "version_minor": 0
      },
      "text/plain": [
       "Training Iteration:   0%|          | 0/1563 [00:00<?, ?it/s]"
      ]
     },
     "metadata": {},
     "output_type": "display_data"
    },
    {
     "data": {
      "application/vnd.jupyter.widget-view+json": {
       "model_id": "1d277b1af60249daaa01c9b984a2388f",
       "version_major": 2,
       "version_minor": 0
      },
      "text/plain": [
       "Validation Iteration:   0%|          | 0/157 [00:00<?, ?it/s]"
      ]
     },
     "metadata": {},
     "output_type": "display_data"
    },
    {
     "name": "stdout",
     "output_type": "stream",
     "text": [
      "\n",
      "Epoch 15: Training Loss: 2.496462620837675, Validation Loss: 2.342229868196378\n",
      "Current Learning Rate: 0.001\n"
     ]
    },
    {
     "data": {
      "application/vnd.jupyter.widget-view+json": {
       "model_id": "8676e2fe5ea4428d8f34cb1f402cb15d",
       "version_major": 2,
       "version_minor": 0
      },
      "text/plain": [
       "Training Iteration:   0%|          | 0/1563 [00:00<?, ?it/s]"
      ]
     },
     "metadata": {},
     "output_type": "display_data"
    },
    {
     "data": {
      "application/vnd.jupyter.widget-view+json": {
       "model_id": "ce9a5590917e46cb85fb8574fc61c64c",
       "version_major": 2,
       "version_minor": 0
      },
      "text/plain": [
       "Validation Iteration:   0%|          | 0/157 [00:00<?, ?it/s]"
      ]
     },
     "metadata": {},
     "output_type": "display_data"
    },
    {
     "name": "stdout",
     "output_type": "stream",
     "text": [
      "\n",
      "Epoch 16: Training Loss: 2.4507997959604344, Validation Loss: 2.319715630476642\n",
      "Current Learning Rate: 0.001\n"
     ]
    },
    {
     "data": {
      "application/vnd.jupyter.widget-view+json": {
       "model_id": "3fe7464adc504b0f80becc12a4573d23",
       "version_major": 2,
       "version_minor": 0
      },
      "text/plain": [
       "Training Iteration:   0%|          | 0/1563 [00:00<?, ?it/s]"
      ]
     },
     "metadata": {},
     "output_type": "display_data"
    },
    {
     "data": {
      "application/vnd.jupyter.widget-view+json": {
       "model_id": "6da75f4db0cb42819237a4008cb3e3ec",
       "version_major": 2,
       "version_minor": 0
      },
      "text/plain": [
       "Validation Iteration:   0%|          | 0/157 [00:00<?, ?it/s]"
      ]
     },
     "metadata": {},
     "output_type": "display_data"
    },
    {
     "name": "stdout",
     "output_type": "stream",
     "text": [
      "\n",
      "Epoch 17: Training Loss: 2.4238469332208714, Validation Loss: 2.288271661017351\n",
      "Current Learning Rate: 0.001\n"
     ]
    },
    {
     "data": {
      "application/vnd.jupyter.widget-view+json": {
       "model_id": "749d5a45957a4b39bd8a5630033f9f87",
       "version_major": 2,
       "version_minor": 0
      },
      "text/plain": [
       "Training Iteration:   0%|          | 0/1563 [00:00<?, ?it/s]"
      ]
     },
     "metadata": {},
     "output_type": "display_data"
    },
    {
     "data": {
      "application/vnd.jupyter.widget-view+json": {
       "model_id": "3b15e42ae1a043a7acbf3e6c243312e6",
       "version_major": 2,
       "version_minor": 0
      },
      "text/plain": [
       "Validation Iteration:   0%|          | 0/157 [00:00<?, ?it/s]"
      ]
     },
     "metadata": {},
     "output_type": "display_data"
    },
    {
     "name": "stdout",
     "output_type": "stream",
     "text": [
      "\n",
      "Epoch 18: Training Loss: 2.3921537941568416, Validation Loss: 2.256896205009169\n",
      "Current Learning Rate: 0.001\n"
     ]
    },
    {
     "data": {
      "application/vnd.jupyter.widget-view+json": {
       "model_id": "4e8de7d25ff142f486c0389d6659498e",
       "version_major": 2,
       "version_minor": 0
      },
      "text/plain": [
       "Training Iteration:   0%|          | 0/1563 [00:00<?, ?it/s]"
      ]
     },
     "metadata": {},
     "output_type": "display_data"
    },
    {
     "data": {
      "application/vnd.jupyter.widget-view+json": {
       "model_id": "46a4562560d148748f578183eb4e9788",
       "version_major": 2,
       "version_minor": 0
      },
      "text/plain": [
       "Validation Iteration:   0%|          | 0/157 [00:00<?, ?it/s]"
      ]
     },
     "metadata": {},
     "output_type": "display_data"
    },
    {
     "name": "stdout",
     "output_type": "stream",
     "text": [
      "\n",
      "Epoch 19: Training Loss: 2.369575960241063, Validation Loss: 2.219197902709815\n",
      "Current Learning Rate: 0.001\n"
     ]
    },
    {
     "data": {
      "application/vnd.jupyter.widget-view+json": {
       "model_id": "fc7bb471e8294b2490a96cc9dd47dfa9",
       "version_major": 2,
       "version_minor": 0
      },
      "text/plain": [
       "Training Iteration:   0%|          | 0/1563 [00:00<?, ?it/s]"
      ]
     },
     "metadata": {},
     "output_type": "display_data"
    },
    {
     "data": {
      "application/vnd.jupyter.widget-view+json": {
       "model_id": "9b1527b79609423c8863f3394b667382",
       "version_major": 2,
       "version_minor": 0
      },
      "text/plain": [
       "Validation Iteration:   0%|          | 0/157 [00:00<?, ?it/s]"
      ]
     },
     "metadata": {},
     "output_type": "display_data"
    },
    {
     "name": "stdout",
     "output_type": "stream",
     "text": [
      "\n",
      "Epoch 20: Training Loss: 2.3462905734300765, Validation Loss: 2.214926406836054\n",
      "Current Learning Rate: 0.0005\n"
     ]
    },
    {
     "data": {
      "application/vnd.jupyter.widget-view+json": {
       "model_id": "f3f90e30cf5d469eb1482108fbeef1db",
       "version_major": 2,
       "version_minor": 0
      },
      "text/plain": [
       "Training Iteration:   0%|          | 0/1563 [00:00<?, ?it/s]"
      ]
     },
     "metadata": {},
     "output_type": "display_data"
    },
    {
     "data": {
      "application/vnd.jupyter.widget-view+json": {
       "model_id": "0b800935fcb44513bf6dd028710a1a82",
       "version_major": 2,
       "version_minor": 0
      },
      "text/plain": [
       "Validation Iteration:   0%|          | 0/157 [00:00<?, ?it/s]"
      ]
     },
     "metadata": {},
     "output_type": "display_data"
    },
    {
     "name": "stdout",
     "output_type": "stream",
     "text": [
      "\n",
      "Epoch 21: Training Loss: 2.326478780345587, Validation Loss: 2.1957151434224125\n",
      "Current Learning Rate: 0.0005\n"
     ]
    },
    {
     "data": {
      "application/vnd.jupyter.widget-view+json": {
       "model_id": "1226e8a037cc4e9da61f7b2c9fe25e86",
       "version_major": 2,
       "version_minor": 0
      },
      "text/plain": [
       "Training Iteration:   0%|          | 0/1563 [00:00<?, ?it/s]"
      ]
     },
     "metadata": {},
     "output_type": "display_data"
    },
    {
     "data": {
      "application/vnd.jupyter.widget-view+json": {
       "model_id": "6476621bd63d44748712204d3ddd0896",
       "version_major": 2,
       "version_minor": 0
      },
      "text/plain": [
       "Validation Iteration:   0%|          | 0/157 [00:00<?, ?it/s]"
      ]
     },
     "metadata": {},
     "output_type": "display_data"
    },
    {
     "name": "stdout",
     "output_type": "stream",
     "text": [
      "\n",
      "Epoch 22: Training Loss: 2.3177709778531272, Validation Loss: 2.1784073144766936\n",
      "Current Learning Rate: 0.0005\n"
     ]
    },
    {
     "data": {
      "application/vnd.jupyter.widget-view+json": {
       "model_id": "f1506462faa14e14ad056a8b897af46d",
       "version_major": 2,
       "version_minor": 0
      },
      "text/plain": [
       "Training Iteration:   0%|          | 0/1563 [00:00<?, ?it/s]"
      ]
     },
     "metadata": {},
     "output_type": "display_data"
    },
    {
     "data": {
      "application/vnd.jupyter.widget-view+json": {
       "model_id": "ddc082cbf9004fa99643f5dc382985ec",
       "version_major": 2,
       "version_minor": 0
      },
      "text/plain": [
       "Validation Iteration:   0%|          | 0/157 [00:00<?, ?it/s]"
      ]
     },
     "metadata": {},
     "output_type": "display_data"
    },
    {
     "name": "stdout",
     "output_type": "stream",
     "text": [
      "\n",
      "Epoch 23: Training Loss: 2.3073076217966206, Validation Loss: 2.1715496011600375\n",
      "Current Learning Rate: 0.00025\n"
     ]
    },
    {
     "data": {
      "application/vnd.jupyter.widget-view+json": {
       "model_id": "b06116deb7db4d179d86ead3670e8d6f",
       "version_major": 2,
       "version_minor": 0
      },
      "text/plain": [
       "Training Iteration:   0%|          | 0/1563 [00:00<?, ?it/s]"
      ]
     },
     "metadata": {},
     "output_type": "display_data"
    },
    {
     "data": {
      "application/vnd.jupyter.widget-view+json": {
       "model_id": "c57541a71d754f458e54b1ddbab54013",
       "version_major": 2,
       "version_minor": 0
      },
      "text/plain": [
       "Validation Iteration:   0%|          | 0/157 [00:00<?, ?it/s]"
      ]
     },
     "metadata": {},
     "output_type": "display_data"
    },
    {
     "name": "stdout",
     "output_type": "stream",
     "text": [
      "\n",
      "Epoch 24: Training Loss: 2.300820968735317, Validation Loss: 2.172228928584202\n",
      "Current Learning Rate: 0.00025\n"
     ]
    },
    {
     "data": {
      "application/vnd.jupyter.widget-view+json": {
       "model_id": "40aef107ad1a42aa8876d350b5aeac7d",
       "version_major": 2,
       "version_minor": 0
      },
      "text/plain": [
       "Training Iteration:   0%|          | 0/1563 [00:00<?, ?it/s]"
      ]
     },
     "metadata": {},
     "output_type": "display_data"
    },
    {
     "data": {
      "application/vnd.jupyter.widget-view+json": {
       "model_id": "ea22674c1bbb41fb85597905ab9b6c93",
       "version_major": 2,
       "version_minor": 0
      },
      "text/plain": [
       "Validation Iteration:   0%|          | 0/157 [00:00<?, ?it/s]"
      ]
     },
     "metadata": {},
     "output_type": "display_data"
    },
    {
     "name": "stdout",
     "output_type": "stream",
     "text": [
      "\n",
      "Epoch 25: Training Loss: 2.2946167045576176, Validation Loss: 2.179454798151733\n",
      "Current Learning Rate: 0.00025\n"
     ]
    },
    {
     "data": {
      "application/vnd.jupyter.widget-view+json": {
       "model_id": "0bb6046647e241048a5077fbf4fde6a5",
       "version_major": 2,
       "version_minor": 0
      },
      "text/plain": [
       "Training Iteration:   0%|          | 0/1563 [00:00<?, ?it/s]"
      ]
     },
     "metadata": {},
     "output_type": "display_data"
    },
    {
     "data": {
      "application/vnd.jupyter.widget-view+json": {
       "model_id": "224c19c5a7474a2ba7cd365798d92ff3",
       "version_major": 2,
       "version_minor": 0
      },
      "text/plain": [
       "Validation Iteration:   0%|          | 0/157 [00:00<?, ?it/s]"
      ]
     },
     "metadata": {},
     "output_type": "display_data"
    },
    {
     "name": "stdout",
     "output_type": "stream",
     "text": [
      "\n",
      "Epoch 26: Training Loss: 2.2877146004867797, Validation Loss: 2.15374146904915\n",
      "Current Learning Rate: 0.000125\n"
     ]
    },
    {
     "data": {
      "application/vnd.jupyter.widget-view+json": {
       "model_id": "85460c1f127a41deaafabde2b7a64c1b",
       "version_major": 2,
       "version_minor": 0
      },
      "text/plain": [
       "Training Iteration:   0%|          | 0/1563 [00:00<?, ?it/s]"
      ]
     },
     "metadata": {},
     "output_type": "display_data"
    },
    {
     "data": {
      "application/vnd.jupyter.widget-view+json": {
       "model_id": "7435b368d9ae423b90f6f04322e083e8",
       "version_major": 2,
       "version_minor": 0
      },
      "text/plain": [
       "Validation Iteration:   0%|          | 0/157 [00:00<?, ?it/s]"
      ]
     },
     "metadata": {},
     "output_type": "display_data"
    },
    {
     "name": "stdout",
     "output_type": "stream",
     "text": [
      "\n",
      "Epoch 27: Training Loss: 2.284143842418302, Validation Loss: 2.167112842486922\n",
      "Current Learning Rate: 0.000125\n"
     ]
    },
    {
     "data": {
      "application/vnd.jupyter.widget-view+json": {
       "model_id": "d76e7688d0674906bcfc9b15258767c9",
       "version_major": 2,
       "version_minor": 0
      },
      "text/plain": [
       "Training Iteration:   0%|          | 0/1563 [00:00<?, ?it/s]"
      ]
     },
     "metadata": {},
     "output_type": "display_data"
    },
    {
     "data": {
      "application/vnd.jupyter.widget-view+json": {
       "model_id": "7fd007722fba4becacd83c49455f575c",
       "version_major": 2,
       "version_minor": 0
      },
      "text/plain": [
       "Validation Iteration:   0%|          | 0/157 [00:00<?, ?it/s]"
      ]
     },
     "metadata": {},
     "output_type": "display_data"
    },
    {
     "name": "stdout",
     "output_type": "stream",
     "text": [
      "\n",
      "Epoch 28: Training Loss: 2.2833034385875184, Validation Loss: 2.1537601431463935\n",
      "Current Learning Rate: 0.000125\n"
     ]
    },
    {
     "data": {
      "application/vnd.jupyter.widget-view+json": {
       "model_id": "28633f11d9aa48fa9c64a5ee5a04e783",
       "version_major": 2,
       "version_minor": 0
      },
      "text/plain": [
       "Training Iteration:   0%|          | 0/1563 [00:00<?, ?it/s]"
      ]
     },
     "metadata": {},
     "output_type": "display_data"
    },
    {
     "data": {
      "application/vnd.jupyter.widget-view+json": {
       "model_id": "a89773c3634d4b5eadf53a72a04ea514",
       "version_major": 2,
       "version_minor": 0
      },
      "text/plain": [
       "Validation Iteration:   0%|          | 0/157 [00:00<?, ?it/s]"
      ]
     },
     "metadata": {},
     "output_type": "display_data"
    },
    {
     "name": "stdout",
     "output_type": "stream",
     "text": [
      "\n",
      "Epoch 29: Training Loss: 2.2785170389457305, Validation Loss: 2.1554141128139133\n",
      "Current Learning Rate: 6.25e-05\n"
     ]
    },
    {
     "data": {
      "application/vnd.jupyter.widget-view+json": {
       "model_id": "445def135f50479e8a3d79d791d925e1",
       "version_major": 2,
       "version_minor": 0
      },
      "text/plain": [
       "Training Iteration:   0%|          | 0/1563 [00:00<?, ?it/s]"
      ]
     },
     "metadata": {},
     "output_type": "display_data"
    },
    {
     "data": {
      "application/vnd.jupyter.widget-view+json": {
       "model_id": "dd0216b6f4634e91b7f1ea255cae5a10",
       "version_major": 2,
       "version_minor": 0
      },
      "text/plain": [
       "Validation Iteration:   0%|          | 0/157 [00:00<?, ?it/s]"
      ]
     },
     "metadata": {},
     "output_type": "display_data"
    },
    {
     "name": "stdout",
     "output_type": "stream",
     "text": [
      "\n",
      "Epoch 30: Training Loss: 2.2794466085031257, Validation Loss: 2.1639120707845994\n",
      "Current Learning Rate: 6.25e-05\n"
     ]
    },
    {
     "data": {
      "application/vnd.jupyter.widget-view+json": {
       "model_id": "789ba91460c64294bf9b5ea69e23806d",
       "version_major": 2,
       "version_minor": 0
      },
      "text/plain": [
       "Training Iteration:   0%|          | 0/1563 [00:00<?, ?it/s]"
      ]
     },
     "metadata": {},
     "output_type": "display_data"
    },
    {
     "data": {
      "application/vnd.jupyter.widget-view+json": {
       "model_id": "2f5b9bc80b044978b2df5c7b5a1d5b91",
       "version_major": 2,
       "version_minor": 0
      },
      "text/plain": [
       "Validation Iteration:   0%|          | 0/157 [00:00<?, ?it/s]"
      ]
     },
     "metadata": {},
     "output_type": "display_data"
    },
    {
     "name": "stdout",
     "output_type": "stream",
     "text": [
      "\n",
      "Epoch 31: Training Loss: 2.2759052605790657, Validation Loss: 2.149726507010733\n",
      "Current Learning Rate: 6.25e-05\n"
     ]
    },
    {
     "data": {
      "application/vnd.jupyter.widget-view+json": {
       "model_id": "4558041b1c4a437fabe0b13fe9ad284c",
       "version_major": 2,
       "version_minor": 0
      },
      "text/plain": [
       "Training Iteration:   0%|          | 0/1563 [00:00<?, ?it/s]"
      ]
     },
     "metadata": {},
     "output_type": "display_data"
    },
    {
     "data": {
      "application/vnd.jupyter.widget-view+json": {
       "model_id": "6b357217261e4c3c9d5ab289562d01d5",
       "version_major": 2,
       "version_minor": 0
      },
      "text/plain": [
       "Validation Iteration:   0%|          | 0/157 [00:00<?, ?it/s]"
      ]
     },
     "metadata": {},
     "output_type": "display_data"
    },
    {
     "name": "stdout",
     "output_type": "stream",
     "text": [
      "\n",
      "Epoch 32: Training Loss: 2.273106117166164, Validation Loss: 2.152631440739723\n",
      "Current Learning Rate: 3.125e-05\n"
     ]
    },
    {
     "data": {
      "application/vnd.jupyter.widget-view+json": {
       "model_id": "27bd76a7bead426f93d2324105c18065",
       "version_major": 2,
       "version_minor": 0
      },
      "text/plain": [
       "Training Iteration:   0%|          | 0/1563 [00:00<?, ?it/s]"
      ]
     },
     "metadata": {},
     "output_type": "display_data"
    },
    {
     "data": {
      "application/vnd.jupyter.widget-view+json": {
       "model_id": "30ec4d7507c2487ebf053023c9dca55b",
       "version_major": 2,
       "version_minor": 0
      },
      "text/plain": [
       "Validation Iteration:   0%|          | 0/157 [00:00<?, ?it/s]"
      ]
     },
     "metadata": {},
     "output_type": "display_data"
    },
    {
     "name": "stdout",
     "output_type": "stream",
     "text": [
      "\n",
      "Epoch 33: Training Loss: 2.2770736610286906, Validation Loss: 2.15784464368395\n",
      "Current Learning Rate: 3.125e-05\n"
     ]
    },
    {
     "data": {
      "application/vnd.jupyter.widget-view+json": {
       "model_id": "081ec0ed0e4d447e96bf3fe4f7078180",
       "version_major": 2,
       "version_minor": 0
      },
      "text/plain": [
       "Training Iteration:   0%|          | 0/1563 [00:00<?, ?it/s]"
      ]
     },
     "metadata": {},
     "output_type": "display_data"
    },
    {
     "data": {
      "application/vnd.jupyter.widget-view+json": {
       "model_id": "b43d8f2970f6418aa23d52dbce0607fc",
       "version_major": 2,
       "version_minor": 0
      },
      "text/plain": [
       "Validation Iteration:   0%|          | 0/157 [00:00<?, ?it/s]"
      ]
     },
     "metadata": {},
     "output_type": "display_data"
    },
    {
     "name": "stdout",
     "output_type": "stream",
     "text": [
      "\n",
      "Epoch 34: Training Loss: 2.2728681693226576, Validation Loss: 2.1461011877485143\n",
      "Current Learning Rate: 3.125e-05\n"
     ]
    },
    {
     "data": {
      "application/vnd.jupyter.widget-view+json": {
       "model_id": "03fedd2bb437426eb8d61b7c8f653d6a",
       "version_major": 2,
       "version_minor": 0
      },
      "text/plain": [
       "Training Iteration:   0%|          | 0/1563 [00:00<?, ?it/s]"
      ]
     },
     "metadata": {},
     "output_type": "display_data"
    },
    {
     "data": {
      "application/vnd.jupyter.widget-view+json": {
       "model_id": "150e86123a4e4d5e8eca668de7d553eb",
       "version_major": 2,
       "version_minor": 0
      },
      "text/plain": [
       "Validation Iteration:   0%|          | 0/157 [00:00<?, ?it/s]"
      ]
     },
     "metadata": {},
     "output_type": "display_data"
    },
    {
     "name": "stdout",
     "output_type": "stream",
     "text": [
      "\n",
      "Epoch 35: Training Loss: 2.275738872096696, Validation Loss: 2.1327598421436966\n",
      "Current Learning Rate: 1.5625e-05\n"
     ]
    },
    {
     "data": {
      "application/vnd.jupyter.widget-view+json": {
       "model_id": "750eb64c5a9c41da9dfc70dfc6ff3fec",
       "version_major": 2,
       "version_minor": 0
      },
      "text/plain": [
       "Training Iteration:   0%|          | 0/1563 [00:00<?, ?it/s]"
      ]
     },
     "metadata": {},
     "output_type": "display_data"
    },
    {
     "data": {
      "application/vnd.jupyter.widget-view+json": {
       "model_id": "71c663ff60194a3c96eddd771cdca9c8",
       "version_major": 2,
       "version_minor": 0
      },
      "text/plain": [
       "Validation Iteration:   0%|          | 0/157 [00:00<?, ?it/s]"
      ]
     },
     "metadata": {},
     "output_type": "display_data"
    },
    {
     "name": "stdout",
     "output_type": "stream",
     "text": [
      "\n",
      "Epoch 36: Training Loss: 2.2777306862695053, Validation Loss: 2.1437813673809076\n",
      "Current Learning Rate: 1.5625e-05\n"
     ]
    },
    {
     "data": {
      "application/vnd.jupyter.widget-view+json": {
       "model_id": "70e6c99bc6b6401fad32ef8551ae03ad",
       "version_major": 2,
       "version_minor": 0
      },
      "text/plain": [
       "Training Iteration:   0%|          | 0/1563 [00:00<?, ?it/s]"
      ]
     },
     "metadata": {},
     "output_type": "display_data"
    },
    {
     "data": {
      "application/vnd.jupyter.widget-view+json": {
       "model_id": "d82513b52cd64b3abcb1996f585a4911",
       "version_major": 2,
       "version_minor": 0
      },
      "text/plain": [
       "Validation Iteration:   0%|          | 0/157 [00:00<?, ?it/s]"
      ]
     },
     "metadata": {},
     "output_type": "display_data"
    },
    {
     "name": "stdout",
     "output_type": "stream",
     "text": [
      "\n",
      "Epoch 37: Training Loss: 2.2749727737880714, Validation Loss: 2.16389527442349\n",
      "Current Learning Rate: 1.5625e-05\n"
     ]
    },
    {
     "data": {
      "application/vnd.jupyter.widget-view+json": {
       "model_id": "be0606e088ea4669b03e1e2d2b8a0fd9",
       "version_major": 2,
       "version_minor": 0
      },
      "text/plain": [
       "Training Iteration:   0%|          | 0/1563 [00:00<?, ?it/s]"
      ]
     },
     "metadata": {},
     "output_type": "display_data"
    },
    {
     "data": {
      "application/vnd.jupyter.widget-view+json": {
       "model_id": "4c282030c1be4d2ba8d0b15c13b5a35f",
       "version_major": 2,
       "version_minor": 0
      },
      "text/plain": [
       "Validation Iteration:   0%|          | 0/157 [00:00<?, ?it/s]"
      ]
     },
     "metadata": {},
     "output_type": "display_data"
    },
    {
     "name": "stdout",
     "output_type": "stream",
     "text": [
      "\n",
      "Epoch 38: Training Loss: 2.2720691599452336, Validation Loss: 2.1588852230910285\n",
      "Current Learning Rate: 7.8125e-06\n"
     ]
    },
    {
     "data": {
      "application/vnd.jupyter.widget-view+json": {
       "model_id": "3602fdff85d54adab2e9b5eb507c5500",
       "version_major": 2,
       "version_minor": 0
      },
      "text/plain": [
       "Training Iteration:   0%|          | 0/1563 [00:00<?, ?it/s]"
      ]
     },
     "metadata": {},
     "output_type": "display_data"
    },
    {
     "data": {
      "application/vnd.jupyter.widget-view+json": {
       "model_id": "0db4648425234f6da51abf2f6940ed21",
       "version_major": 2,
       "version_minor": 0
      },
      "text/plain": [
       "Validation Iteration:   0%|          | 0/157 [00:00<?, ?it/s]"
      ]
     },
     "metadata": {},
     "output_type": "display_data"
    },
    {
     "name": "stdout",
     "output_type": "stream",
     "text": [
      "\n",
      "Epoch 39: Training Loss: 2.275567430757363, Validation Loss: 2.133050382516946\n"
     ]
    }
   ],
   "source": [
    "# Train for some number of epochs\n",
    "INCEPTION_EPOCH_COUNT = 40 # + 2 from earlier run\n",
    "INCEPTION_SAVE_PERIOD = 3\n",
    "\n",
    "for epoch in tqdm_variant(\n",
    "    range(INCEPTION_EPOCH_COUNT),\n",
    "    desc=f\"Epoch\",\n",
    "    unit=\"epoch\",\n",
    "    disable=False\n",
    "):\n",
    "    # Debug learning rate\n",
    "    print(f\"Current Learning Rate: {inception_optimizer.param_groups[0]['lr']}\")\n",
    "    \n",
    "    # Train\n",
    "    train_loss = classifier_epoch(\n",
    "        inception,\n",
    "        inception_train_loader,\n",
    "        inception_optimizer,\n",
    "        device,\n",
    "        inception_loss,\n",
    "        inception_result\n",
    "    )\n",
    "\n",
    "    # Validation\n",
    "    val_loss = classifier_epoch(\n",
    "        inception,\n",
    "        inception_val_loader,\n",
    "        inception_optimizer,\n",
    "        device,\n",
    "        inception_loss,\n",
    "        inception_result,\n",
    "        training=False\n",
    "    )\n",
    "    \n",
    "    # Update scheduling\n",
    "    inception_scheduler.step(val_loss)\n",
    "    \n",
    "    # Save a copy just in case\n",
    "    if val_loss < inception_best_loss:\n",
    "        torch.save(\n",
    "            inception, \n",
    "            os.path.join(\n",
    "                os.path.abspath(\"\"),\n",
    "                f\"best_inception_classifier_{inception_best_count}\" \\\n",
    "                f\"_{int(time.time()) % 1000000:06}.pt\"\n",
    "            )\n",
    "        )\n",
    "        inception_best_count += 1\n",
    "        inception_best_loss = val_loss\n",
    "        \n",
    "    if epoch % INCEPTION_SAVE_PERIOD == INCEPTION_SAVE_PERIOD - 1:\n",
    "        torch.save(\n",
    "            inception,\n",
    "            os.path.join(\n",
    "                os.path.abspath(\"\"),\n",
    "                f\"inception_classifier_{epoch}_\" \\\n",
    "                f\"{int(time.time()) % 1000000:06}.pt\"\n",
    "            )\n",
    "        )\n",
    "\n",
    "    # Print the last loss calculated and the epoch\n",
    "    print(f\"\\nEpoch {epoch}: Training Loss: {train_loss}, \" \\\n",
    "          f\"Validation Loss: {val_loss}\")"
   ]
  },
  {
   "cell_type": "markdown",
   "id": "57132d1b-4591-4f03-be99-32153a324f54",
   "metadata": {},
   "source": [
    "A bit more:"
   ]
  },
  {
   "cell_type": "code",
   "execution_count": 44,
   "id": "b47b4afc-7dfc-4a51-9ce8-9811ce17152c",
   "metadata": {
    "collapsed": true,
    "jupyter": {
     "outputs_hidden": true
    },
    "tags": []
   },
   "outputs": [
    {
     "data": {
      "application/vnd.jupyter.widget-view+json": {
       "model_id": "8773f82f548c403aa1f612912b3cd3ca",
       "version_major": 2,
       "version_minor": 0
      },
      "text/plain": [
       "Epoch:   0%|          | 0/19 [00:00<?, ?epoch/s]"
      ]
     },
     "metadata": {},
     "output_type": "display_data"
    },
    {
     "name": "stdout",
     "output_type": "stream",
     "text": [
      "Current Learning Rate: 7.8125e-06\n"
     ]
    },
    {
     "data": {
      "application/vnd.jupyter.widget-view+json": {
       "model_id": "ca170e5fcc3d4c5a9be5e54fedf7cedb",
       "version_major": 2,
       "version_minor": 0
      },
      "text/plain": [
       "Training Iteration:   0%|          | 0/1563 [00:00<?, ?it/s]"
      ]
     },
     "metadata": {},
     "output_type": "display_data"
    },
    {
     "data": {
      "application/vnd.jupyter.widget-view+json": {
       "model_id": "6dc2ebd894ad4cb383fd73e72eb9b0f5",
       "version_major": 2,
       "version_minor": 0
      },
      "text/plain": [
       "Validation Iteration:   0%|          | 0/157 [00:00<?, ?it/s]"
      ]
     },
     "metadata": {},
     "output_type": "display_data"
    },
    {
     "name": "stdout",
     "output_type": "stream",
     "text": [
      "\n",
      "Epoch 0: Training Loss: 2.27335202068529, Validation Loss: 2.1546620335548545\n",
      "Current Learning Rate: 7.8125e-06\n"
     ]
    },
    {
     "data": {
      "application/vnd.jupyter.widget-view+json": {
       "model_id": "15a08d78eabd48f497c9ce6bf5975068",
       "version_major": 2,
       "version_minor": 0
      },
      "text/plain": [
       "Training Iteration:   0%|          | 0/1563 [00:00<?, ?it/s]"
      ]
     },
     "metadata": {},
     "output_type": "display_data"
    },
    {
     "data": {
      "application/vnd.jupyter.widget-view+json": {
       "model_id": "709b52586bb14681871539f0f4cf3c1b",
       "version_major": 2,
       "version_minor": 0
      },
      "text/plain": [
       "Validation Iteration:   0%|          | 0/157 [00:00<?, ?it/s]"
      ]
     },
     "metadata": {},
     "output_type": "display_data"
    },
    {
     "name": "stdout",
     "output_type": "stream",
     "text": [
      "\n",
      "Epoch 1: Training Loss: 2.273179232273358, Validation Loss: 2.14783038151492\n",
      "Current Learning Rate: 3.90625e-06\n"
     ]
    },
    {
     "data": {
      "application/vnd.jupyter.widget-view+json": {
       "model_id": "4becaef02d0c49b9928739bbbe8bebd1",
       "version_major": 2,
       "version_minor": 0
      },
      "text/plain": [
       "Training Iteration:   0%|          | 0/1563 [00:00<?, ?it/s]"
      ]
     },
     "metadata": {},
     "output_type": "display_data"
    },
    {
     "data": {
      "application/vnd.jupyter.widget-view+json": {
       "model_id": "e7895b18a3234fe9988f78298878bb18",
       "version_major": 2,
       "version_minor": 0
      },
      "text/plain": [
       "Validation Iteration:   0%|          | 0/157 [00:00<?, ?it/s]"
      ]
     },
     "metadata": {},
     "output_type": "display_data"
    },
    {
     "name": "stdout",
     "output_type": "stream",
     "text": [
      "\n",
      "Epoch 2: Training Loss: 2.272046717633365, Validation Loss: 2.1543932727947355\n",
      "Current Learning Rate: 3.90625e-06\n"
     ]
    },
    {
     "data": {
      "application/vnd.jupyter.widget-view+json": {
       "model_id": "9b83e910a986426cb3725907442b494a",
       "version_major": 2,
       "version_minor": 0
      },
      "text/plain": [
       "Training Iteration:   0%|          | 0/1563 [00:00<?, ?it/s]"
      ]
     },
     "metadata": {},
     "output_type": "display_data"
    },
    {
     "data": {
      "application/vnd.jupyter.widget-view+json": {
       "model_id": "868e60b286e7452bbce5acc8f8a9c1bf",
       "version_major": 2,
       "version_minor": 0
      },
      "text/plain": [
       "Validation Iteration:   0%|          | 0/157 [00:00<?, ?it/s]"
      ]
     },
     "metadata": {},
     "output_type": "display_data"
    },
    {
     "name": "stdout",
     "output_type": "stream",
     "text": [
      "\n",
      "Epoch 3: Training Loss: 2.271953875104815, Validation Loss: 2.1568290154645395\n",
      "Current Learning Rate: 3.90625e-06\n"
     ]
    },
    {
     "data": {
      "application/vnd.jupyter.widget-view+json": {
       "model_id": "775ac7f6984a49ce88cdae99a4bbb6d7",
       "version_major": 2,
       "version_minor": 0
      },
      "text/plain": [
       "Training Iteration:   0%|          | 0/1563 [00:00<?, ?it/s]"
      ]
     },
     "metadata": {},
     "output_type": "display_data"
    },
    {
     "data": {
      "application/vnd.jupyter.widget-view+json": {
       "model_id": "4ef884408fde4b5f9700a09731fba351",
       "version_major": 2,
       "version_minor": 0
      },
      "text/plain": [
       "Validation Iteration:   0%|          | 0/157 [00:00<?, ?it/s]"
      ]
     },
     "metadata": {},
     "output_type": "display_data"
    },
    {
     "name": "stdout",
     "output_type": "stream",
     "text": [
      "\n",
      "Epoch 4: Training Loss: 2.2736702397780317, Validation Loss: 2.151869792847117\n",
      "Current Learning Rate: 1.953125e-06\n"
     ]
    },
    {
     "data": {
      "application/vnd.jupyter.widget-view+json": {
       "model_id": "92c520b3c71443e391745e77c2c2ba66",
       "version_major": 2,
       "version_minor": 0
      },
      "text/plain": [
       "Training Iteration:   0%|          | 0/1563 [00:00<?, ?it/s]"
      ]
     },
     "metadata": {},
     "output_type": "display_data"
    },
    {
     "data": {
      "application/vnd.jupyter.widget-view+json": {
       "model_id": "e3bd8bcee23c42a592a263212c0e9806",
       "version_major": 2,
       "version_minor": 0
      },
      "text/plain": [
       "Validation Iteration:   0%|          | 0/157 [00:00<?, ?it/s]"
      ]
     },
     "metadata": {},
     "output_type": "display_data"
    },
    {
     "name": "stdout",
     "output_type": "stream",
     "text": [
      "\n",
      "Epoch 5: Training Loss: 2.273718427330427, Validation Loss: 2.145241647768932\n",
      "Current Learning Rate: 1.953125e-06\n"
     ]
    },
    {
     "data": {
      "application/vnd.jupyter.widget-view+json": {
       "model_id": "3c4acc4b002048998ac885010121e141",
       "version_major": 2,
       "version_minor": 0
      },
      "text/plain": [
       "Training Iteration:   0%|          | 0/1563 [00:00<?, ?it/s]"
      ]
     },
     "metadata": {},
     "output_type": "display_data"
    },
    {
     "data": {
      "application/vnd.jupyter.widget-view+json": {
       "model_id": "2021f8106d6a4a3f9bf3fce7ae061e81",
       "version_major": 2,
       "version_minor": 0
      },
      "text/plain": [
       "Validation Iteration:   0%|          | 0/157 [00:00<?, ?it/s]"
      ]
     },
     "metadata": {},
     "output_type": "display_data"
    },
    {
     "name": "stdout",
     "output_type": "stream",
     "text": [
      "\n",
      "Epoch 6: Training Loss: 2.269333175566436, Validation Loss: 2.152992787634491\n",
      "Current Learning Rate: 1.953125e-06\n"
     ]
    },
    {
     "data": {
      "application/vnd.jupyter.widget-view+json": {
       "model_id": "f803fc591267435081fee14817325c4e",
       "version_major": 2,
       "version_minor": 0
      },
      "text/plain": [
       "Training Iteration:   0%|          | 0/1563 [00:00<?, ?it/s]"
      ]
     },
     "metadata": {},
     "output_type": "display_data"
    },
    {
     "data": {
      "application/vnd.jupyter.widget-view+json": {
       "model_id": "0e6ac320c857443186653bcc7fc8c77c",
       "version_major": 2,
       "version_minor": 0
      },
      "text/plain": [
       "Validation Iteration:   0%|          | 0/157 [00:00<?, ?it/s]"
      ]
     },
     "metadata": {},
     "output_type": "display_data"
    },
    {
     "name": "stdout",
     "output_type": "stream",
     "text": [
      "\n",
      "Epoch 7: Training Loss: 2.269668587109864, Validation Loss: 2.160851401128587\n",
      "Current Learning Rate: 9.765625e-07\n"
     ]
    },
    {
     "data": {
      "application/vnd.jupyter.widget-view+json": {
       "model_id": "d9fc6749c8814279915d14142600bcc4",
       "version_major": 2,
       "version_minor": 0
      },
      "text/plain": [
       "Training Iteration:   0%|          | 0/1563 [00:00<?, ?it/s]"
      ]
     },
     "metadata": {},
     "output_type": "display_data"
    },
    {
     "data": {
      "application/vnd.jupyter.widget-view+json": {
       "model_id": "4f656cadbee54420a4ea6d010951c9b8",
       "version_major": 2,
       "version_minor": 0
      },
      "text/plain": [
       "Validation Iteration:   0%|          | 0/157 [00:00<?, ?it/s]"
      ]
     },
     "metadata": {},
     "output_type": "display_data"
    },
    {
     "name": "stdout",
     "output_type": "stream",
     "text": [
      "\n",
      "Epoch 8: Training Loss: 2.2742290062852493, Validation Loss: 2.1431993929443847\n",
      "Current Learning Rate: 9.765625e-07\n"
     ]
    },
    {
     "data": {
      "application/vnd.jupyter.widget-view+json": {
       "model_id": "d1ddc9c71d1f475899e8d4e75a97c496",
       "version_major": 2,
       "version_minor": 0
      },
      "text/plain": [
       "Training Iteration:   0%|          | 0/1563 [00:00<?, ?it/s]"
      ]
     },
     "metadata": {},
     "output_type": "display_data"
    },
    {
     "data": {
      "application/vnd.jupyter.widget-view+json": {
       "model_id": "07bdbf8685dc4886b38da90de3046083",
       "version_major": 2,
       "version_minor": 0
      },
      "text/plain": [
       "Validation Iteration:   0%|          | 0/157 [00:00<?, ?it/s]"
      ]
     },
     "metadata": {},
     "output_type": "display_data"
    },
    {
     "name": "stdout",
     "output_type": "stream",
     "text": [
      "\n",
      "Epoch 9: Training Loss: 2.275236323561641, Validation Loss: 2.164456538334014\n",
      "Current Learning Rate: 9.765625e-07\n"
     ]
    },
    {
     "data": {
      "application/vnd.jupyter.widget-view+json": {
       "model_id": "683177f0631148fb8a81e60670ef122e",
       "version_major": 2,
       "version_minor": 0
      },
      "text/plain": [
       "Training Iteration:   0%|          | 0/1563 [00:00<?, ?it/s]"
      ]
     },
     "metadata": {},
     "output_type": "display_data"
    },
    {
     "data": {
      "application/vnd.jupyter.widget-view+json": {
       "model_id": "81937813963f4c3cbfc27406bb885d69",
       "version_major": 2,
       "version_minor": 0
      },
      "text/plain": [
       "Validation Iteration:   0%|          | 0/157 [00:00<?, ?it/s]"
      ]
     },
     "metadata": {},
     "output_type": "display_data"
    },
    {
     "name": "stdout",
     "output_type": "stream",
     "text": [
      "\n",
      "Epoch 10: Training Loss: 2.275732147182628, Validation Loss: 2.1527489309857604\n",
      "Current Learning Rate: 4.8828125e-07\n"
     ]
    },
    {
     "data": {
      "application/vnd.jupyter.widget-view+json": {
       "model_id": "4b6ef173f2054750b3dee98a120b668e",
       "version_major": 2,
       "version_minor": 0
      },
      "text/plain": [
       "Training Iteration:   0%|          | 0/1563 [00:00<?, ?it/s]"
      ]
     },
     "metadata": {},
     "output_type": "display_data"
    },
    {
     "data": {
      "application/vnd.jupyter.widget-view+json": {
       "model_id": "c1968199724449f6bcef933cfe284d1c",
       "version_major": 2,
       "version_minor": 0
      },
      "text/plain": [
       "Validation Iteration:   0%|          | 0/157 [00:00<?, ?it/s]"
      ]
     },
     "metadata": {},
     "output_type": "display_data"
    },
    {
     "name": "stdout",
     "output_type": "stream",
     "text": [
      "\n",
      "Epoch 11: Training Loss: 2.27299487552655, Validation Loss: 2.143401743500096\n",
      "Current Learning Rate: 4.8828125e-07\n"
     ]
    },
    {
     "data": {
      "application/vnd.jupyter.widget-view+json": {
       "model_id": "c9ef2548d0ca41f98fff70648675b2a3",
       "version_major": 2,
       "version_minor": 0
      },
      "text/plain": [
       "Training Iteration:   0%|          | 0/1563 [00:00<?, ?it/s]"
      ]
     },
     "metadata": {},
     "output_type": "display_data"
    },
    {
     "data": {
      "application/vnd.jupyter.widget-view+json": {
       "model_id": "b37c6816b537487fa1fba52b7e3696f8",
       "version_major": 2,
       "version_minor": 0
      },
      "text/plain": [
       "Validation Iteration:   0%|          | 0/157 [00:00<?, ?it/s]"
      ]
     },
     "metadata": {},
     "output_type": "display_data"
    },
    {
     "name": "stdout",
     "output_type": "stream",
     "text": [
      "\n",
      "Epoch 12: Training Loss: 2.275392983406687, Validation Loss: 2.14344779549131\n",
      "Current Learning Rate: 4.8828125e-07\n"
     ]
    },
    {
     "data": {
      "application/vnd.jupyter.widget-view+json": {
       "model_id": "548a2f80285b4967a49a7586ad0df635",
       "version_major": 2,
       "version_minor": 0
      },
      "text/plain": [
       "Training Iteration:   0%|          | 0/1563 [00:00<?, ?it/s]"
      ]
     },
     "metadata": {},
     "output_type": "display_data"
    },
    {
     "data": {
      "application/vnd.jupyter.widget-view+json": {
       "model_id": "dac6d9c44cc04f1ea2bea42c7e0f4a42",
       "version_major": 2,
       "version_minor": 0
      },
      "text/plain": [
       "Validation Iteration:   0%|          | 0/157 [00:00<?, ?it/s]"
      ]
     },
     "metadata": {},
     "output_type": "display_data"
    },
    {
     "name": "stdout",
     "output_type": "stream",
     "text": [
      "\n",
      "Epoch 13: Training Loss: 2.273094000529572, Validation Loss: 2.1517702568868162\n",
      "Current Learning Rate: 2.44140625e-07\n"
     ]
    },
    {
     "data": {
      "application/vnd.jupyter.widget-view+json": {
       "model_id": "8ac06e442efa4bda8ecf62ee6850e59e",
       "version_major": 2,
       "version_minor": 0
      },
      "text/plain": [
       "Training Iteration:   0%|          | 0/1563 [00:00<?, ?it/s]"
      ]
     },
     "metadata": {},
     "output_type": "display_data"
    },
    {
     "data": {
      "application/vnd.jupyter.widget-view+json": {
       "model_id": "771908458bb24c88aa00275ae315a54a",
       "version_major": 2,
       "version_minor": 0
      },
      "text/plain": [
       "Validation Iteration:   0%|          | 0/157 [00:00<?, ?it/s]"
      ]
     },
     "metadata": {},
     "output_type": "display_data"
    },
    {
     "name": "stdout",
     "output_type": "stream",
     "text": [
      "\n",
      "Epoch 14: Training Loss: 2.2690627318655, Validation Loss: 2.16950582243075\n",
      "Current Learning Rate: 2.44140625e-07\n"
     ]
    },
    {
     "data": {
      "application/vnd.jupyter.widget-view+json": {
       "model_id": "ac6e75ba15be4bf8bfa634bae37164f7",
       "version_major": 2,
       "version_minor": 0
      },
      "text/plain": [
       "Training Iteration:   0%|          | 0/1563 [00:00<?, ?it/s]"
      ]
     },
     "metadata": {},
     "output_type": "display_data"
    },
    {
     "data": {
      "application/vnd.jupyter.widget-view+json": {
       "model_id": "8a7c9ceb950f42a0873d87e60f82aab3",
       "version_major": 2,
       "version_minor": 0
      },
      "text/plain": [
       "Validation Iteration:   0%|          | 0/157 [00:00<?, ?it/s]"
      ]
     },
     "metadata": {},
     "output_type": "display_data"
    },
    {
     "name": "stdout",
     "output_type": "stream",
     "text": [
      "\n",
      "Epoch 15: Training Loss: 2.2763070136556545, Validation Loss: 2.156702603124509\n",
      "Current Learning Rate: 2.44140625e-07\n"
     ]
    },
    {
     "data": {
      "application/vnd.jupyter.widget-view+json": {
       "model_id": "944d8b6defa74c848dbd24e88b6ebff0",
       "version_major": 2,
       "version_minor": 0
      },
      "text/plain": [
       "Training Iteration:   0%|          | 0/1563 [00:00<?, ?it/s]"
      ]
     },
     "metadata": {},
     "output_type": "display_data"
    },
    {
     "data": {
      "application/vnd.jupyter.widget-view+json": {
       "model_id": "60cb83f27ee4429b850913bf2bfc7be0",
       "version_major": 2,
       "version_minor": 0
      },
      "text/plain": [
       "Validation Iteration:   0%|          | 0/157 [00:00<?, ?it/s]"
      ]
     },
     "metadata": {},
     "output_type": "display_data"
    },
    {
     "name": "stdout",
     "output_type": "stream",
     "text": [
      "\n",
      "Epoch 16: Training Loss: 2.2697434311712392, Validation Loss: 2.1491011479857622\n",
      "Current Learning Rate: 1.220703125e-07\n"
     ]
    },
    {
     "data": {
      "application/vnd.jupyter.widget-view+json": {
       "model_id": "88a2b338a66b4eefbf1c586bb6cd5499",
       "version_major": 2,
       "version_minor": 0
      },
      "text/plain": [
       "Training Iteration:   0%|          | 0/1563 [00:00<?, ?it/s]"
      ]
     },
     "metadata": {},
     "output_type": "display_data"
    },
    {
     "data": {
      "application/vnd.jupyter.widget-view+json": {
       "model_id": "9bab4cea670d4ed5a7dd7a8e1c0fefe3",
       "version_major": 2,
       "version_minor": 0
      },
      "text/plain": [
       "Validation Iteration:   0%|          | 0/157 [00:00<?, ?it/s]"
      ]
     },
     "metadata": {},
     "output_type": "display_data"
    },
    {
     "name": "stdout",
     "output_type": "stream",
     "text": [
      "\n",
      "Epoch 17: Training Loss: 2.2715173048311064, Validation Loss: 2.1515194397823065\n",
      "Current Learning Rate: 1.220703125e-07\n"
     ]
    },
    {
     "data": {
      "application/vnd.jupyter.widget-view+json": {
       "model_id": "1536e9851cd34e35a202bbe853df5a22",
       "version_major": 2,
       "version_minor": 0
      },
      "text/plain": [
       "Training Iteration:   0%|          | 0/1563 [00:00<?, ?it/s]"
      ]
     },
     "metadata": {},
     "output_type": "display_data"
    },
    {
     "data": {
      "application/vnd.jupyter.widget-view+json": {
       "model_id": "1ed0799fdb2d40f9b147a39b18af3cfc",
       "version_major": 2,
       "version_minor": 0
      },
      "text/plain": [
       "Validation Iteration:   0%|          | 0/157 [00:00<?, ?it/s]"
      ]
     },
     "metadata": {},
     "output_type": "display_data"
    },
    {
     "name": "stdout",
     "output_type": "stream",
     "text": [
      "\n",
      "Epoch 18: Training Loss: 2.272002213975976, Validation Loss: 2.1637640766277433\n"
     ]
    }
   ],
   "source": [
    "# Train for some number of epochs\n",
    "INCEPTION_EPOCH_COUNT = 19\n",
    "INCEPTION_SAVE_PERIOD = 3\n",
    "\n",
    "for epoch in tqdm_variant(\n",
    "    range(INCEPTION_EPOCH_COUNT),\n",
    "    desc=f\"Epoch\",\n",
    "    unit=\"epoch\",\n",
    "    disable=False\n",
    "):\n",
    "    # Debug learning rate\n",
    "    print(f\"Current Learning Rate: {inception_optimizer.param_groups[0]['lr']}\")\n",
    "    \n",
    "    # Train\n",
    "    train_loss = classifier_epoch(\n",
    "        inception,\n",
    "        inception_train_loader,\n",
    "        inception_optimizer,\n",
    "        device,\n",
    "        inception_loss,\n",
    "        inception_result\n",
    "    )\n",
    "\n",
    "    # Validation\n",
    "    val_loss = classifier_epoch(\n",
    "        inception,\n",
    "        inception_val_loader,\n",
    "        inception_optimizer,\n",
    "        device,\n",
    "        inception_loss,\n",
    "        inception_result,\n",
    "        training=False\n",
    "    )\n",
    "    \n",
    "    # Update scheduling\n",
    "    inception_scheduler.step(val_loss)\n",
    "    \n",
    "    # Save a copy just in case\n",
    "    if val_loss < inception_best_loss:\n",
    "        torch.save(\n",
    "            inception, \n",
    "            os.path.join(\n",
    "                os.path.abspath(\"\"),\n",
    "                f\"best_inception_classifier_{inception_best_count}\" \\\n",
    "                f\"_{int(time.time()) % 1000000:06}.pt\"\n",
    "            )\n",
    "        )\n",
    "        inception_best_count += 1\n",
    "        inception_best_loss = val_loss\n",
    "        \n",
    "    if epoch % INCEPTION_SAVE_PERIOD == INCEPTION_SAVE_PERIOD - 1:\n",
    "        torch.save(\n",
    "            inception,\n",
    "            os.path.join(\n",
    "                os.path.abspath(\"\"),\n",
    "                f\"inception_classifier_{epoch}_\" \\\n",
    "                f\"{int(time.time()) % 1000000:06}.pt\"\n",
    "            )\n",
    "        )\n",
    "\n",
    "    # Print the last loss calculated and the epoch\n",
    "    print(f\"\\nEpoch {epoch}: Training Loss: {train_loss}, \" \\\n",
    "          f\"Validation Loss: {val_loss}\")"
   ]
  },
  {
   "cell_type": "markdown",
   "id": "45972449-99b7-45d1-b159-c118aa0f1695",
   "metadata": {},
   "source": [
    "Let's view the results:"
   ]
  },
  {
   "cell_type": "code",
   "execution_count": 45,
   "id": "b4692291-a1ac-42c1-bc3c-327d80baf05b",
   "metadata": {},
   "outputs": [
    {
     "name": "stdout",
     "output_type": "stream",
     "text": [
      "Spent 31789 seconds training.\n",
      "Spent 3061 seconds evaluating.\n"
     ]
    },
    {
     "data": {
      "image/png": "[encoded data removed]",
      "text/plain": [
       "<Figure size 432x288 with 2 Axes>"
      ]
     },
     "metadata": {
      "needs_background": "light"
     },
     "output_type": "display_data"
    }
   ],
   "source": [
    "fig, axs = plt.subplots(1, 2)\n",
    "inception_result.full_analysis(axs)"
   ]
  },
  {
   "cell_type": "markdown",
   "id": "39f891da-b101-47ab-93ca-7cc24b903511",
   "metadata": {},
   "source": [
    "And save the results:"
   ]
  },
  {
   "cell_type": "code",
   "execution_count": 47,
   "id": "7786827d-f04c-49e1-80da-5192544ec98a",
   "metadata": {},
   "outputs": [],
   "source": [
    "inception_result.save(_def_save_filename)"
   ]
  },
  {
   "cell_type": "code",
   "execution_count": 69,
   "id": "88465127-a57a-48d0-b6ba-d1e3c4077b8f",
   "metadata": {},
   "outputs": [],
   "source": [
    "torch.save(\n",
    "    inception, \n",
    "    os.path.join(\n",
    "        os.path.abspath(\"\"),\n",
    "        \"inception.pt\"\n",
    "    )\n",
    ")"
   ]
  },
  {
   "cell_type": "markdown",
   "id": "e8ef6569-20cb-4943-9445-edff5452c026",
   "metadata": {},
   "source": [
    "Let's produce some better training graphs."
   ]
  },
  {
   "cell_type": "code",
   "execution_count": 97,
   "id": "1358b7c9-22ed-4bc3-bde4-0461f8ea0dcd",
   "metadata": {},
   "outputs": [],
   "source": [
    "with open(\n",
    "    os.path.join(\n",
    "        os.path.abspath(\"\"),\n",
    "        \"..\",\n",
    "        \"progress_save_0_588414.pt\"\n",
    "    ),\n",
    "    \"rb\"\n",
    ") as file_obj:\n",
    "    results_dict = pickle.load(file_obj)"
   ]
  },
  {
   "cell_type": "code",
   "execution_count": 98,
   "id": "6a89aa2f-863f-4551-b87a-bf3aa618539b",
   "metadata": {},
   "outputs": [],
   "source": [
    "train_hist = results_dict[\"train_loss_history\"]\n",
    "val_hist = results_dict[\"val_loss_history\"]"
   ]
  },
  {
   "cell_type": "code",
   "execution_count": 99,
   "id": "335848b7-0b17-4f36-8d01-87d556e68fd4",
   "metadata": {},
   "outputs": [],
   "source": [
    "ratio = len(train_hist) // len(val_hist)"
   ]
  },
  {
   "cell_type": "code",
   "execution_count": 100,
   "id": "304afedc-f708-49b8-8bba-c69e70dcb7ed",
   "metadata": {},
   "outputs": [
    {
     "data": {
      "image/png": "[encoded data removed]",
      "text/plain": [
       "<Figure size 432x288 with 1 Axes>"
      ]
     },
     "metadata": {
      "needs_background": "light"
     },
     "output_type": "display_data"
    }
   ],
   "source": [
    "plt.plot(train_hist[:-(len(train_hist) % len(val_hist)):ratio], linewidth=0.1, label=\"Train\")\n",
    "plt.plot(val_hist, linewidth=0.1, label=\"Validation\")\n",
    "plt.title(\"Baseline Train/Validation Curves\")\n",
    "plt.xlabel(\"Iterations*\")\n",
    "plt.ylabel(\"Loss\")\n",
    "plt.legend()\n",
    "plt.savefig(\"baseline_classifier_curves.png\")"
   ]
  },
  {
   "cell_type": "markdown",
   "id": "c04d47b0-9c3f-4d44-ba61-184016833e76",
   "metadata": {
    "jp-MarkdownHeadingCollapsed": true,
    "tags": []
   },
   "source": [
    "#### Stability Trained\n",
    "\n",
    "Let's stability train ResNet. We can use the same datasets and loaders. Let's prepare the model object."
   ]
  },
  {
   "cell_type": "code",
   "execution_count": 59,
   "id": "0451c4f8-accc-4a04-ba69-6c76170ee0d8",
   "metadata": {},
   "outputs": [],
   "source": [
    "stable_inception = RobustInception().to(device)"
   ]
  },
  {
   "cell_type": "markdown",
   "id": "e6748d4e-6702-4741-a3fc-0cf45a821ecc",
   "metadata": {},
   "source": [
    "First, a quick sanity check of gradients:"
   ]
  },
  {
   "cell_type": "code",
   "execution_count": 60,
   "id": "37692eae-4544-4efc-ad45-7a84d6bafcc6",
   "metadata": {},
   "outputs": [
    {
     "data": {
      "image/svg+xml": [
       "<?xml version=\"1.0\" encoding=\"UTF-8\" standalone=\"no\"?>\n",
       "<!DOCTYPE svg PUBLIC \"-//W3C//DTD SVG 1.1//EN\"\n",
       " \"http://www.w3.org/Graphics/SVG/1.1/DTD/svg11.dtd\">\n",
       "<!-- Generated by graphviz version 3.0.0 (20220226.1711)\n",
       " -->\n",
       "<!-- Pages: 1 -->\n",
       "<svg width=\"299pt\" height=\"281pt\"\n",
       " viewBox=\"0.00 0.00 299.00 281.00\" xmlns=\"http://www.w3.org/2000/svg\" xmlns:xlink=\"http://www.w3.org/1999/xlink\">\n",
       "<g id=\"graph0\" class=\"graph\" transform=\"scale(1 1) rotate(0) translate(4 277)\">\n",
       "<polygon fill=\"white\" stroke=\"transparent\" points=\"-4,4 -4,-277 295,-277 295,4 -4,4\"/>\n",
       "<!-- 2249209069872 -->\n",
       "<g id=\"node1\" class=\"node\">\n",
       "<title>2249209069872</title>\n",
       "<polygon fill=\"#caff70\" stroke=\"black\" points=\"255,-31 184,-31 184,0 255,0 255,-31\"/>\n",
       "<text text-anchor=\"middle\" x=\"219.5\" y=\"-7\" font-family=\"monospace\" font-size=\"10.00\"> (1, 200)</text>\n",
       "</g>\n",
       "<!-- 2242391446480 -->\n",
       "<g id=\"node2\" class=\"node\">\n",
       "<title>2242391446480</title>\n",
       "<polygon fill=\"lightgrey\" stroke=\"black\" points=\"270,-86 169,-86 169,-67 270,-67 270,-86\"/>\n",
       "<text text-anchor=\"middle\" x=\"219.5\" y=\"-74\" font-family=\"monospace\" font-size=\"10.00\">AddmmBackward0</text>\n",
       "</g>\n",
       "<!-- 2242391446480&#45;&gt;2249209069872 -->\n",
       "<g id=\"edge6\" class=\"edge\">\n",
       "<title>2242391446480&#45;&gt;2249209069872</title>\n",
       "<path fill=\"none\" stroke=\"black\" d=\"M219.5,-66.79C219.5,-60.07 219.5,-50.4 219.5,-41.34\"/>\n",
       "<polygon fill=\"black\" stroke=\"black\" points=\"223,-41.19 219.5,-31.19 216,-41.19 223,-41.19\"/>\n",
       "</g>\n",
       "<!-- 2242391446288 -->\n",
       "<g id=\"node3\" class=\"node\">\n",
       "<title>2242391446288</title>\n",
       "<polygon fill=\"lightgrey\" stroke=\"black\" points=\"291,-141 190,-141 190,-122 291,-122 291,-141\"/>\n",
       "<text text-anchor=\"middle\" x=\"240.5\" y=\"-129\" font-family=\"monospace\" font-size=\"10.00\">AccumulateGrad</text>\n",
       "</g>\n",
       "<!-- 2242391446288&#45;&gt;2242391446480 -->\n",
       "<g id=\"edge1\" class=\"edge\">\n",
       "<title>2242391446288&#45;&gt;2242391446480</title>\n",
       "<path fill=\"none\" stroke=\"black\" d=\"M237.03,-121.75C234.22,-114.65 230.16,-104.4 226.65,-95.56\"/>\n",
       "<polygon fill=\"black\" stroke=\"black\" points=\"229.84,-94.1 222.9,-86.09 223.33,-96.68 229.84,-94.1\"/>\n",
       "</g>\n",
       "<!-- 2242391447776 -->\n",
       "<g id=\"node9\" class=\"node\">\n",
       "<title>2242391447776</title>\n",
       "<polygon fill=\"lightgrey\" stroke=\"black\" points=\"130,-86 29,-86 29,-67 130,-67 130,-86\"/>\n",
       "<text text-anchor=\"middle\" x=\"79.5\" y=\"-74\" font-family=\"monospace\" font-size=\"10.00\">AddmmBackward0</text>\n",
       "</g>\n",
       "<!-- 2242391446288&#45;&gt;2242391447776 -->\n",
       "<g id=\"edge7\" class=\"edge\">\n",
       "<title>2242391446288&#45;&gt;2242391447776</title>\n",
       "<path fill=\"none\" stroke=\"black\" d=\"M214.63,-121.98C187.72,-113.13 145.38,-99.19 115.27,-89.28\"/>\n",
       "<polygon fill=\"black\" stroke=\"black\" points=\"116.16,-85.88 105.57,-86.08 113.97,-92.53 116.16,-85.88\"/>\n",
       "</g>\n",
       "<!-- 2249300294848 -->\n",
       "<g id=\"node4\" class=\"node\">\n",
       "<title>2249300294848</title>\n",
       "<polygon fill=\"lightblue\" stroke=\"black\" points=\"288,-207 193,-207 193,-177 288,-177 288,-207\"/>\n",
       "<text text-anchor=\"middle\" x=\"240.5\" y=\"-195\" font-family=\"monospace\" font-size=\"10.00\">model.fc.bias</text>\n",
       "<text text-anchor=\"middle\" x=\"240.5\" y=\"-184\" font-family=\"monospace\" font-size=\"10.00\"> (200)</text>\n",
       "</g>\n",
       "<!-- 2249300294848&#45;&gt;2242391446288 -->\n",
       "<g id=\"edge2\" class=\"edge\">\n",
       "<title>2249300294848&#45;&gt;2242391446288</title>\n",
       "<path fill=\"none\" stroke=\"black\" d=\"M240.5,-176.84C240.5,-169.21 240.5,-159.7 240.5,-151.45\"/>\n",
       "<polygon fill=\"black\" stroke=\"black\" points=\"244,-151.27 240.5,-141.27 237,-151.27 244,-151.27\"/>\n",
       "</g>\n",
       "<!-- 2242391447056 -->\n",
       "<g id=\"node5\" class=\"node\">\n",
       "<title>2242391447056</title>\n",
       "<polygon fill=\"lightgrey\" stroke=\"black\" points=\"172,-141 95,-141 95,-122 172,-122 172,-141\"/>\n",
       "<text text-anchor=\"middle\" x=\"133.5\" y=\"-129\" font-family=\"monospace\" font-size=\"10.00\">TBackward0</text>\n",
       "</g>\n",
       "<!-- 2242391447056&#45;&gt;2242391446480 -->\n",
       "<g id=\"edge3\" class=\"edge\">\n",
       "<title>2242391447056&#45;&gt;2242391446480</title>\n",
       "<path fill=\"none\" stroke=\"black\" d=\"M147.32,-121.98C160.65,-113.77 181.08,-101.18 196.81,-91.49\"/>\n",
       "<polygon fill=\"black\" stroke=\"black\" points=\"198.75,-94.4 205.43,-86.17 195.08,-88.44 198.75,-94.4\"/>\n",
       "</g>\n",
       "<!-- 2242391447248 -->\n",
       "<g id=\"node6\" class=\"node\">\n",
       "<title>2242391447248</title>\n",
       "<polygon fill=\"lightgrey\" stroke=\"black\" points=\"132,-201.5 31,-201.5 31,-182.5 132,-182.5 132,-201.5\"/>\n",
       "<text text-anchor=\"middle\" x=\"81.5\" y=\"-189.5\" font-family=\"monospace\" font-size=\"10.00\">AccumulateGrad</text>\n",
       "</g>\n",
       "<!-- 2242391447248&#45;&gt;2242391447056 -->\n",
       "<g id=\"edge4\" class=\"edge\">\n",
       "<title>2242391447248&#45;&gt;2242391447056</title>\n",
       "<path fill=\"none\" stroke=\"black\" d=\"M89.17,-182.37C97.01,-173.55 109.36,-159.66 119.04,-148.77\"/>\n",
       "<polygon fill=\"black\" stroke=\"black\" points=\"121.77,-150.97 125.8,-141.17 116.54,-146.32 121.77,-150.97\"/>\n",
       "</g>\n",
       "<!-- 2242391432736 -->\n",
       "<g id=\"node10\" class=\"node\">\n",
       "<title>2242391432736</title>\n",
       "<polygon fill=\"lightgrey\" stroke=\"black\" points=\"77,-141 0,-141 0,-122 77,-122 77,-141\"/>\n",
       "<text text-anchor=\"middle\" x=\"38.5\" y=\"-129\" font-family=\"monospace\" font-size=\"10.00\">TBackward0</text>\n",
       "</g>\n",
       "<!-- 2242391447248&#45;&gt;2242391432736 -->\n",
       "<g id=\"edge9\" class=\"edge\">\n",
       "<title>2242391447248&#45;&gt;2242391432736</title>\n",
       "<path fill=\"none\" stroke=\"black\" d=\"M75.16,-182.37C68.8,-173.73 58.86,-160.2 50.93,-149.42\"/>\n",
       "<polygon fill=\"black\" stroke=\"black\" points=\"53.61,-147.15 44.87,-141.17 47.97,-151.3 53.61,-147.15\"/>\n",
       "</g>\n",
       "<!-- 2249300295408 -->\n",
       "<g id=\"node7\" class=\"node\">\n",
       "<title>2249300295408</title>\n",
       "<polygon fill=\"lightblue\" stroke=\"black\" points=\"135,-273 28,-273 28,-243 135,-243 135,-273\"/>\n",
       "<text text-anchor=\"middle\" x=\"81.5\" y=\"-261\" font-family=\"monospace\" font-size=\"10.00\">model.fc.weight</text>\n",
       "<text text-anchor=\"middle\" x=\"81.5\" y=\"-250\" font-family=\"monospace\" font-size=\"10.00\"> (200, 2048)</text>\n",
       "</g>\n",
       "<!-- 2249300295408&#45;&gt;2242391447248 -->\n",
       "<g id=\"edge5\" class=\"edge\">\n",
       "<title>2249300295408&#45;&gt;2242391447248</title>\n",
       "<path fill=\"none\" stroke=\"black\" d=\"M81.5,-242.8C81.5,-233.7 81.5,-221.79 81.5,-211.9\"/>\n",
       "<polygon fill=\"black\" stroke=\"black\" points=\"85,-211.84 81.5,-201.84 78,-211.84 85,-211.84\"/>\n",
       "</g>\n",
       "<!-- 2249209147536 -->\n",
       "<g id=\"node8\" class=\"node\">\n",
       "<title>2249209147536</title>\n",
       "<polygon fill=\"#caff70\" stroke=\"black\" points=\"115,-31 44,-31 44,0 115,0 115,-31\"/>\n",
       "<text text-anchor=\"middle\" x=\"79.5\" y=\"-7\" font-family=\"monospace\" font-size=\"10.00\"> (1, 200)</text>\n",
       "</g>\n",
       "<!-- 2242391447776&#45;&gt;2249209147536 -->\n",
       "<g id=\"edge10\" class=\"edge\">\n",
       "<title>2242391447776&#45;&gt;2249209147536</title>\n",
       "<path fill=\"none\" stroke=\"black\" d=\"M79.5,-66.79C79.5,-60.07 79.5,-50.4 79.5,-41.34\"/>\n",
       "<polygon fill=\"black\" stroke=\"black\" points=\"83,-41.19 79.5,-31.19 76,-41.19 83,-41.19\"/>\n",
       "</g>\n",
       "<!-- 2242391432736&#45;&gt;2242391447776 -->\n",
       "<g id=\"edge8\" class=\"edge\">\n",
       "<title>2242391432736&#45;&gt;2242391447776</title>\n",
       "<path fill=\"none\" stroke=\"black\" d=\"M45.27,-121.75C51.06,-114.26 59.56,-103.28 66.64,-94.13\"/>\n",
       "<polygon fill=\"black\" stroke=\"black\" points=\"69.51,-96.14 72.86,-86.09 63.97,-91.86 69.51,-96.14\"/>\n",
       "</g>\n",
       "</g>\n",
       "</svg>\n"
      ],
      "text/plain": [
       "<graphviz.graphs.Digraph at 0x20a18f21ee0>"
      ]
     },
     "execution_count": 60,
     "metadata": {},
     "output_type": "execute_result"
    }
   ],
   "source": [
    "gradient_sanity_display(\n",
    "    stable_inception,\n",
    "    [next(iter(inception_train_loader))[0][0].reshape(1, 3, 299, 299)]\n",
    ")"
   ]
  },
  {
   "cell_type": "markdown",
   "id": "59be0de1-b458-4081-ad57-28523e07c968",
   "metadata": {},
   "source": [
    "Next sanity check, how are the weights?"
   ]
  },
  {
   "cell_type": "code",
   "execution_count": 61,
   "id": "e0b9eb17-c1fe-4a9a-8b17-4cad820a68b8",
   "metadata": {},
   "outputs": [
    {
     "name": "stdout",
     "output_type": "stream",
     "text": [
      "[Parameter containing:\n",
      "tensor([[ 1.7087e-02, -1.4549e-02,  1.9692e-02,  ...,  1.1724e-04,\n",
      "          1.6022e-02, -1.6139e-02],\n",
      "        [-2.9827e-05, -3.7509e-03,  1.9768e-02,  ...,  1.1229e-02,\n",
      "         -2.5679e-03,  1.2240e-03],\n",
      "        [ 8.4411e-03, -1.7445e-02, -2.1717e-02,  ...,  1.1512e-02,\n",
      "          9.1533e-03,  5.8767e-03],\n",
      "        ...,\n",
      "        [ 5.1067e-03,  1.6294e-02,  2.1069e-02,  ..., -1.8345e-02,\n",
      "         -1.7566e-02, -2.0346e-02],\n",
      "        [-1.3686e-02,  4.7218e-03, -4.4959e-03,  ..., -1.7235e-02,\n",
      "          1.3644e-02,  4.6310e-03],\n",
      "        [ 1.2465e-02, -2.2704e-04,  7.5900e-04,  ..., -1.0308e-02,\n",
      "         -9.9035e-03,  1.9962e-03]], device='cuda:0', requires_grad=True), Parameter containing:\n",
      "tensor([-0.0023, -0.0147,  0.0044,  0.0221,  0.0212,  0.0108,  0.0027,  0.0022,\n",
      "         0.0177,  0.0128, -0.0091,  0.0070,  0.0026, -0.0038,  0.0200, -0.0177,\n",
      "        -0.0171,  0.0082,  0.0162, -0.0061, -0.0089, -0.0049,  0.0203, -0.0213,\n",
      "        -0.0088,  0.0181, -0.0019, -0.0115, -0.0197,  0.0063, -0.0105, -0.0115,\n",
      "        -0.0127, -0.0039, -0.0144, -0.0144, -0.0182, -0.0106,  0.0086, -0.0165,\n",
      "        -0.0088,  0.0154,  0.0092, -0.0171, -0.0198,  0.0141,  0.0004, -0.0187,\n",
      "        -0.0171,  0.0168, -0.0146,  0.0215,  0.0128, -0.0192, -0.0098,  0.0128,\n",
      "        -0.0042, -0.0072,  0.0033, -0.0151,  0.0041,  0.0079,  0.0142,  0.0014,\n",
      "         0.0175, -0.0176, -0.0138,  0.0220, -0.0100,  0.0189,  0.0082, -0.0134,\n",
      "         0.0044, -0.0192,  0.0012, -0.0105,  0.0209,  0.0127, -0.0218,  0.0157,\n",
      "         0.0170,  0.0213, -0.0101,  0.0021,  0.0007,  0.0047, -0.0114,  0.0167,\n",
      "        -0.0027,  0.0213, -0.0220, -0.0089, -0.0119,  0.0193,  0.0113,  0.0029,\n",
      "        -0.0102, -0.0012, -0.0043, -0.0172, -0.0101, -0.0100, -0.0197, -0.0177,\n",
      "         0.0135, -0.0071,  0.0217,  0.0091,  0.0006, -0.0184, -0.0168,  0.0117,\n",
      "         0.0131, -0.0018, -0.0198, -0.0027,  0.0003, -0.0208,  0.0070,  0.0112,\n",
      "         0.0058,  0.0149, -0.0090, -0.0021, -0.0140, -0.0116,  0.0087,  0.0132,\n",
      "         0.0135, -0.0147,  0.0003,  0.0121,  0.0109, -0.0148, -0.0166, -0.0033,\n",
      "         0.0079,  0.0137,  0.0015, -0.0043, -0.0190,  0.0221,  0.0041, -0.0143,\n",
      "        -0.0074,  0.0132, -0.0094, -0.0152, -0.0081,  0.0070,  0.0053,  0.0157,\n",
      "        -0.0003, -0.0219,  0.0199, -0.0189, -0.0146,  0.0123,  0.0165,  0.0167,\n",
      "        -0.0020,  0.0034,  0.0110,  0.0205,  0.0003, -0.0101,  0.0019,  0.0106,\n",
      "         0.0098,  0.0178,  0.0213,  0.0040,  0.0195, -0.0146,  0.0037,  0.0061,\n",
      "         0.0053, -0.0021,  0.0159,  0.0015, -0.0193,  0.0034,  0.0137,  0.0174,\n",
      "        -0.0161,  0.0138, -0.0172, -0.0045, -0.0088,  0.0077, -0.0132, -0.0212,\n",
      "         0.0105,  0.0096,  0.0047, -0.0210, -0.0142,  0.0213, -0.0029, -0.0046],\n",
      "       device='cuda:0', requires_grad=True)]\n"
     ]
    }
   ],
   "source": [
    "print(list(stable_inception.model.fc.parameters()))"
   ]
  },
  {
   "cell_type": "markdown",
   "id": "7444668d-b542-45a6-8165-0a40cb8794dd",
   "metadata": {},
   "source": [
    "Learning controllers, same parameters as before:"
   ]
  },
  {
   "cell_type": "code",
   "execution_count": 62,
   "id": "5922e9a1-1ed2-43ae-a009-5e13b619f8ef",
   "metadata": {},
   "outputs": [],
   "source": [
    "s_inception_optimizer = optim.SGD(stable_inception.parameters(), lr=0.002)\n",
    "s_inception_scheduler = optim.lr_scheduler.ReduceLROnPlateau(\n",
    "    s_inception_optimizer,\n",
    "    factor=0.5,\n",
    "    patience=2,\n",
    "    threshold=0.1\n",
    ")\n",
    "# May try OneCycleLR, annealers"
   ]
  },
  {
   "cell_type": "markdown",
   "id": "2fde2516-7a64-473b-85d9-8141727583b6",
   "metadata": {},
   "source": [
    "Loss function:"
   ]
  },
  {
   "cell_type": "code",
   "execution_count": 37,
   "id": "9d67d85e-9891-43e2-b569-cc664ad6a187",
   "metadata": {},
   "outputs": [],
   "source": [
    "s_inception_loss = full_loss"
   ]
  },
  {
   "cell_type": "markdown",
   "id": "515f8e15-c8e3-4e84-ac75-a92c31dd8b06",
   "metadata": {},
   "source": [
    "Keep the result in here:"
   ]
  },
  {
   "cell_type": "code",
   "execution_count": 64,
   "id": "e7f061d1-9978-4478-bf29-c79b4e9fa0d4",
   "metadata": {},
   "outputs": [],
   "source": [
    "s_inception_result = TrainResult(stable_inception)"
   ]
  },
  {
   "cell_type": "markdown",
   "id": "73cb99b3-0813-42e9-86c0-9ad97d572241",
   "metadata": {},
   "source": [
    "The actual training loop:"
   ]
  },
  {
   "cell_type": "code",
   "execution_count": 65,
   "id": "61c88197-3fd4-4cba-9a5b-f03e5ad5fc85",
   "metadata": {},
   "outputs": [],
   "source": [
    "s_inception_best_loss = float(\"inf\")\n",
    "s_inception_best_count = 0"
   ]
  },
  {
   "cell_type": "code",
   "execution_count": 66,
   "id": "fa717b11-37a9-4d9f-a592-055590c8d0dd",
   "metadata": {
    "collapsed": true,
    "jupyter": {
     "outputs_hidden": true
    },
    "tags": []
   },
   "outputs": [
    {
     "data": {
      "application/vnd.jupyter.widget-view+json": {
       "model_id": "ba8a574d99e24eb08ea1da114bedd9d6",
       "version_major": 2,
       "version_minor": 0
      },
      "text/plain": [
       "Epoch:   0%|          | 0/30 [00:00<?, ?epoch/s]"
      ]
     },
     "metadata": {},
     "output_type": "display_data"
    },
    {
     "name": "stdout",
     "output_type": "stream",
     "text": [
      "Current Learning Rate: 0.002\n"
     ]
    },
    {
     "data": {
      "application/vnd.jupyter.widget-view+json": {
       "model_id": "aed4d419f4b04fc4aba321ce9b18b974",
       "version_major": 2,
       "version_minor": 0
      },
      "text/plain": [
       "Training Iteration:   0%|          | 0/1563 [00:00<?, ?it/s]"
      ]
     },
     "metadata": {},
     "output_type": "display_data"
    },
    {
     "data": {
      "application/vnd.jupyter.widget-view+json": {
       "model_id": "6386c229bec74c8db7a63e4b0388d697",
       "version_major": 2,
       "version_minor": 0
      },
      "text/plain": [
       "Validation Iteration:   0%|          | 0/157 [00:00<?, ?it/s]"
      ]
     },
     "metadata": {},
     "output_type": "display_data"
    },
    {
     "name": "stdout",
     "output_type": "stream",
     "text": [
      "\n",
      "Epoch 0: Training Loss: 5.2372254333813375, Validation Loss: 5.091539966073006\n",
      "Current Learning Rate: 0.002\n"
     ]
    },
    {
     "data": {
      "application/vnd.jupyter.widget-view+json": {
       "model_id": "5a3b54c05d734570b285ce4939dcd952",
       "version_major": 2,
       "version_minor": 0
      },
      "text/plain": [
       "Training Iteration:   0%|          | 0/1563 [00:00<?, ?it/s]"
      ]
     },
     "metadata": {},
     "output_type": "display_data"
    },
    {
     "data": {
      "application/vnd.jupyter.widget-view+json": {
       "model_id": "eceb2c5cc24c49f591297346b9520fdf",
       "version_major": 2,
       "version_minor": 0
      },
      "text/plain": [
       "Validation Iteration:   0%|          | 0/157 [00:00<?, ?it/s]"
      ]
     },
     "metadata": {},
     "output_type": "display_data"
    },
    {
     "name": "stdout",
     "output_type": "stream",
     "text": [
      "\n",
      "Epoch 1: Training Loss: 4.934521377353583, Validation Loss: 4.842755615331565\n",
      "Current Learning Rate: 0.002\n"
     ]
    },
    {
     "data": {
      "application/vnd.jupyter.widget-view+json": {
       "model_id": "45f92d05e36c444c8a5e3d30f64b4118",
       "version_major": 2,
       "version_minor": 0
      },
      "text/plain": [
       "Training Iteration:   0%|          | 0/1563 [00:00<?, ?it/s]"
      ]
     },
     "metadata": {},
     "output_type": "display_data"
    },
    {
     "data": {
      "application/vnd.jupyter.widget-view+json": {
       "model_id": "a7e52e3326fb4c1cbabf044cbb166204",
       "version_major": 2,
       "version_minor": 0
      },
      "text/plain": [
       "Validation Iteration:   0%|          | 0/157 [00:00<?, ?it/s]"
      ]
     },
     "metadata": {},
     "output_type": "display_data"
    },
    {
     "name": "stdout",
     "output_type": "stream",
     "text": [
      "\n",
      "Epoch 2: Training Loss: 4.648966420406115, Validation Loss: 4.582925058474206\n",
      "Current Learning Rate: 0.002\n"
     ]
    },
    {
     "data": {
      "application/vnd.jupyter.widget-view+json": {
       "model_id": "2115b3f695584235a6db4c282b62ecfb",
       "version_major": 2,
       "version_minor": 0
      },
      "text/plain": [
       "Training Iteration:   0%|          | 0/1563 [00:00<?, ?it/s]"
      ]
     },
     "metadata": {},
     "output_type": "display_data"
    },
    {
     "data": {
      "application/vnd.jupyter.widget-view+json": {
       "model_id": "a94b495c78f94b8d9f0db5bb0fa54982",
       "version_major": 2,
       "version_minor": 0
      },
      "text/plain": [
       "Validation Iteration:   0%|          | 0/157 [00:00<?, ?it/s]"
      ]
     },
     "metadata": {},
     "output_type": "display_data"
    },
    {
     "name": "stdout",
     "output_type": "stream",
     "text": [
      "\n",
      "Epoch 3: Training Loss: 4.37949418106372, Validation Loss: 4.360514722811948\n",
      "Current Learning Rate: 0.002\n"
     ]
    },
    {
     "data": {
      "application/vnd.jupyter.widget-view+json": {
       "model_id": "b9c8b9e7aa734d678da13ff7a1d3092f",
       "version_major": 2,
       "version_minor": 0
      },
      "text/plain": [
       "Training Iteration:   0%|          | 0/1563 [00:00<?, ?it/s]"
      ]
     },
     "metadata": {},
     "output_type": "display_data"
    },
    {
     "data": {
      "application/vnd.jupyter.widget-view+json": {
       "model_id": "29dbf217bfd940cbb4345c34813dab5a",
       "version_major": 2,
       "version_minor": 0
      },
      "text/plain": [
       "Validation Iteration:   0%|          | 0/157 [00:00<?, ?it/s]"
      ]
     },
     "metadata": {},
     "output_type": "display_data"
    },
    {
     "name": "stdout",
     "output_type": "stream",
     "text": [
      "\n",
      "Epoch 4: Training Loss: 4.128880751262623, Validation Loss: 4.1327666218873045\n",
      "Current Learning Rate: 0.002\n"
     ]
    },
    {
     "data": {
      "application/vnd.jupyter.widget-view+json": {
       "model_id": "9de33f1190484aff9dfb3837fe5de3c6",
       "version_major": 2,
       "version_minor": 0
      },
      "text/plain": [
       "Training Iteration:   0%|          | 0/1563 [00:00<?, ?it/s]"
      ]
     },
     "metadata": {},
     "output_type": "display_data"
    },
    {
     "data": {
      "application/vnd.jupyter.widget-view+json": {
       "model_id": "cc140439e5dd423681d9f070dd4ea67c",
       "version_major": 2,
       "version_minor": 0
      },
      "text/plain": [
       "Validation Iteration:   0%|          | 0/157 [00:00<?, ?it/s]"
      ]
     },
     "metadata": {},
     "output_type": "display_data"
    },
    {
     "name": "stdout",
     "output_type": "stream",
     "text": [
      "\n",
      "Epoch 5: Training Loss: 3.8945116548300245, Validation Loss: 3.9375910819715756\n",
      "Current Learning Rate: 0.002\n"
     ]
    },
    {
     "data": {
      "application/vnd.jupyter.widget-view+json": {
       "model_id": "c89a0266cf954c4490935df27b09052b",
       "version_major": 2,
       "version_minor": 0
      },
      "text/plain": [
       "Training Iteration:   0%|          | 0/1563 [00:00<?, ?it/s]"
      ]
     },
     "metadata": {},
     "output_type": "display_data"
    },
    {
     "data": {
      "application/vnd.jupyter.widget-view+json": {
       "model_id": "ea154e0935f3443098e3748f7464cf14",
       "version_major": 2,
       "version_minor": 0
      },
      "text/plain": [
       "Validation Iteration:   0%|          | 0/157 [00:00<?, ?it/s]"
      ]
     },
     "metadata": {},
     "output_type": "display_data"
    },
    {
     "name": "stdout",
     "output_type": "stream",
     "text": [
      "\n",
      "Epoch 6: Training Loss: 3.683570105832735, Validation Loss: 3.7782312806244867\n",
      "Current Learning Rate: 0.002\n"
     ]
    },
    {
     "data": {
      "application/vnd.jupyter.widget-view+json": {
       "model_id": "18b58d8409e14734b8d11d716a198299",
       "version_major": 2,
       "version_minor": 0
      },
      "text/plain": [
       "Training Iteration:   0%|          | 0/1563 [00:00<?, ?it/s]"
      ]
     },
     "metadata": {},
     "output_type": "display_data"
    },
    {
     "data": {
      "application/vnd.jupyter.widget-view+json": {
       "model_id": "15ff08a670d4467bb51781e6142c2551",
       "version_major": 2,
       "version_minor": 0
      },
      "text/plain": [
       "Validation Iteration:   0%|          | 0/157 [00:00<?, ?it/s]"
      ]
     },
     "metadata": {},
     "output_type": "display_data"
    },
    {
     "name": "stdout",
     "output_type": "stream",
     "text": [
      "\n",
      "Epoch 7: Training Loss: 3.4888572120849553, Validation Loss: 3.559417613752329\n",
      "Current Learning Rate: 0.002\n"
     ]
    },
    {
     "data": {
      "application/vnd.jupyter.widget-view+json": {
       "model_id": "85928566f79245588c9562329929729d",
       "version_major": 2,
       "version_minor": 0
      },
      "text/plain": [
       "Training Iteration:   0%|          | 0/1563 [00:00<?, ?it/s]"
      ]
     },
     "metadata": {},
     "output_type": "display_data"
    },
    {
     "data": {
      "application/vnd.jupyter.widget-view+json": {
       "model_id": "f57b0ee9fed94798b712f458b274dd95",
       "version_major": 2,
       "version_minor": 0
      },
      "text/plain": [
       "Validation Iteration:   0%|          | 0/157 [00:00<?, ?it/s]"
      ]
     },
     "metadata": {},
     "output_type": "display_data"
    },
    {
     "name": "stdout",
     "output_type": "stream",
     "text": [
      "\n",
      "Epoch 8: Training Loss: 3.3178773933088483, Validation Loss: 3.4125317039003797\n",
      "Current Learning Rate: 0.002\n"
     ]
    },
    {
     "data": {
      "application/vnd.jupyter.widget-view+json": {
       "model_id": "2701681590ef4925a1e306ba377ac9e8",
       "version_major": 2,
       "version_minor": 0
      },
      "text/plain": [
       "Training Iteration:   0%|          | 0/1563 [00:00<?, ?it/s]"
      ]
     },
     "metadata": {},
     "output_type": "display_data"
    },
    {
     "data": {
      "application/vnd.jupyter.widget-view+json": {
       "model_id": "aaacce7512644afbaa02356d370ba0c2",
       "version_major": 2,
       "version_minor": 0
      },
      "text/plain": [
       "Validation Iteration:   0%|          | 0/157 [00:00<?, ?it/s]"
      ]
     },
     "metadata": {},
     "output_type": "display_data"
    },
    {
     "name": "stdout",
     "output_type": "stream",
     "text": [
      "\n",
      "Epoch 9: Training Loss: 3.161511972937459, Validation Loss: 3.3036772005117623\n",
      "Current Learning Rate: 0.002\n"
     ]
    },
    {
     "data": {
      "application/vnd.jupyter.widget-view+json": {
       "model_id": "965d1026dc7f4faea02f61039cdef421",
       "version_major": 2,
       "version_minor": 0
      },
      "text/plain": [
       "Training Iteration:   0%|          | 0/1563 [00:00<?, ?it/s]"
      ]
     },
     "metadata": {},
     "output_type": "display_data"
    },
    {
     "data": {
      "application/vnd.jupyter.widget-view+json": {
       "model_id": "52427db3b54e4d74991938856056fdb0",
       "version_major": 2,
       "version_minor": 0
      },
      "text/plain": [
       "Validation Iteration:   0%|          | 0/157 [00:00<?, ?it/s]"
      ]
     },
     "metadata": {},
     "output_type": "display_data"
    },
    {
     "name": "stdout",
     "output_type": "stream",
     "text": [
      "\n",
      "Epoch 10: Training Loss: 3.029231918979286, Validation Loss: 3.171195644481926\n",
      "Current Learning Rate: 0.002\n"
     ]
    },
    {
     "data": {
      "application/vnd.jupyter.widget-view+json": {
       "model_id": "de7a3c615b954b93ac11242206b32d3f",
       "version_major": 2,
       "version_minor": 0
      },
      "text/plain": [
       "Training Iteration:   0%|          | 0/1563 [00:00<?, ?it/s]"
      ]
     },
     "metadata": {},
     "output_type": "display_data"
    },
    {
     "data": {
      "application/vnd.jupyter.widget-view+json": {
       "model_id": "8c26b54176984106acb536c198f76238",
       "version_major": 2,
       "version_minor": 0
      },
      "text/plain": [
       "Validation Iteration:   0%|          | 0/157 [00:00<?, ?it/s]"
      ]
     },
     "metadata": {},
     "output_type": "display_data"
    },
    {
     "name": "stdout",
     "output_type": "stream",
     "text": [
      "\n",
      "Epoch 11: Training Loss: 2.906802993513267, Validation Loss: 3.0271689011033174\n",
      "Current Learning Rate: 0.002\n"
     ]
    },
    {
     "data": {
      "application/vnd.jupyter.widget-view+json": {
       "model_id": "579d0ec4e195474e8e795568f649474d",
       "version_major": 2,
       "version_minor": 0
      },
      "text/plain": [
       "Training Iteration:   0%|          | 0/1563 [00:00<?, ?it/s]"
      ]
     },
     "metadata": {},
     "output_type": "display_data"
    },
    {
     "data": {
      "application/vnd.jupyter.widget-view+json": {
       "model_id": "207c9e69375a44489106db6288b95f02",
       "version_major": 2,
       "version_minor": 0
      },
      "text/plain": [
       "Validation Iteration:   0%|          | 0/157 [00:00<?, ?it/s]"
      ]
     },
     "metadata": {},
     "output_type": "display_data"
    },
    {
     "name": "stdout",
     "output_type": "stream",
     "text": [
      "\n",
      "Epoch 12: Training Loss: 2.804939120836313, Validation Loss: 3.000949662202483\n",
      "Current Learning Rate: 0.001\n"
     ]
    },
    {
     "data": {
      "application/vnd.jupyter.widget-view+json": {
       "model_id": "f46e2386666d4294a3b06f7f02f18adf",
       "version_major": 2,
       "version_minor": 0
      },
      "text/plain": [
       "Training Iteration:   0%|          | 0/1563 [00:00<?, ?it/s]"
      ]
     },
     "metadata": {},
     "output_type": "display_data"
    },
    {
     "data": {
      "application/vnd.jupyter.widget-view+json": {
       "model_id": "a297c05351bf493cbab5ae1cad35bc09",
       "version_major": 2,
       "version_minor": 0
      },
      "text/plain": [
       "Validation Iteration:   0%|          | 0/157 [00:00<?, ?it/s]"
      ]
     },
     "metadata": {},
     "output_type": "display_data"
    },
    {
     "name": "stdout",
     "output_type": "stream",
     "text": [
      "\n",
      "Epoch 13: Training Loss: 2.7292094267261233, Validation Loss: 2.9360937996275105\n",
      "Current Learning Rate: 0.001\n"
     ]
    },
    {
     "data": {
      "application/vnd.jupyter.widget-view+json": {
       "model_id": "e088288e4789477f948f7d82ca7506f8",
       "version_major": 2,
       "version_minor": 0
      },
      "text/plain": [
       "Training Iteration:   0%|          | 0/1563 [00:00<?, ?it/s]"
      ]
     },
     "metadata": {},
     "output_type": "display_data"
    },
    {
     "data": {
      "application/vnd.jupyter.widget-view+json": {
       "model_id": "56401786f3684f11a2511eeb64e8bae1",
       "version_major": 2,
       "version_minor": 0
      },
      "text/plain": [
       "Validation Iteration:   0%|          | 0/157 [00:00<?, ?it/s]"
      ]
     },
     "metadata": {},
     "output_type": "display_data"
    },
    {
     "name": "stdout",
     "output_type": "stream",
     "text": [
      "\n",
      "Epoch 14: Training Loss: 2.6887889761079675, Validation Loss: 2.9140760875811242\n",
      "Current Learning Rate: 0.001\n"
     ]
    },
    {
     "data": {
      "application/vnd.jupyter.widget-view+json": {
       "model_id": "a9a2e94732da4a628c9cb912a92c6b8a",
       "version_major": 2,
       "version_minor": 0
      },
      "text/plain": [
       "Training Iteration:   0%|          | 0/1563 [00:00<?, ?it/s]"
      ]
     },
     "metadata": {},
     "output_type": "display_data"
    },
    {
     "data": {
      "application/vnd.jupyter.widget-view+json": {
       "model_id": "1634f9af65a041e0952bf974fd9ebba3",
       "version_major": 2,
       "version_minor": 0
      },
      "text/plain": [
       "Validation Iteration:   0%|          | 0/157 [00:00<?, ?it/s]"
      ]
     },
     "metadata": {},
     "output_type": "display_data"
    },
    {
     "name": "stdout",
     "output_type": "stream",
     "text": [
      "\n",
      "Epoch 15: Training Loss: 2.6498042490721816, Validation Loss: 2.8582849289960923\n",
      "Current Learning Rate: 0.001\n"
     ]
    },
    {
     "data": {
      "application/vnd.jupyter.widget-view+json": {
       "model_id": "8c12de2e1cb94b74968b48c3809dfa42",
       "version_major": 2,
       "version_minor": 0
      },
      "text/plain": [
       "Training Iteration:   0%|          | 0/1563 [00:00<?, ?it/s]"
      ]
     },
     "metadata": {},
     "output_type": "display_data"
    },
    {
     "data": {
      "application/vnd.jupyter.widget-view+json": {
       "model_id": "e25ba0fe11794fcc91c20a6ee9f66819",
       "version_major": 2,
       "version_minor": 0
      },
      "text/plain": [
       "Validation Iteration:   0%|          | 0/157 [00:00<?, ?it/s]"
      ]
     },
     "metadata": {},
     "output_type": "display_data"
    },
    {
     "name": "stdout",
     "output_type": "stream",
     "text": [
      "\n",
      "Epoch 16: Training Loss: 2.60841796402739, Validation Loss: 2.8012938264069285\n",
      "Current Learning Rate: 0.0005\n"
     ]
    },
    {
     "data": {
      "application/vnd.jupyter.widget-view+json": {
       "model_id": "072e8863562a426c862954492a9922a5",
       "version_major": 2,
       "version_minor": 0
      },
      "text/plain": [
       "Training Iteration:   0%|          | 0/1563 [00:00<?, ?it/s]"
      ]
     },
     "metadata": {},
     "output_type": "display_data"
    },
    {
     "data": {
      "application/vnd.jupyter.widget-view+json": {
       "model_id": "55ecde049fb84c39bd50e915ebe9d39b",
       "version_major": 2,
       "version_minor": 0
      },
      "text/plain": [
       "Validation Iteration:   0%|          | 0/157 [00:00<?, ?it/s]"
      ]
     },
     "metadata": {},
     "output_type": "display_data"
    },
    {
     "name": "stdout",
     "output_type": "stream",
     "text": [
      "\n",
      "Epoch 17: Training Loss: 2.5803083208075566, Validation Loss: 2.7848401229093027\n",
      "Current Learning Rate: 0.0005\n"
     ]
    },
    {
     "data": {
      "application/vnd.jupyter.widget-view+json": {
       "model_id": "35eba6542bd44099b7974819d1bfcf8f",
       "version_major": 2,
       "version_minor": 0
      },
      "text/plain": [
       "Training Iteration:   0%|          | 0/1563 [00:00<?, ?it/s]"
      ]
     },
     "metadata": {},
     "output_type": "display_data"
    },
    {
     "data": {
      "application/vnd.jupyter.widget-view+json": {
       "model_id": "928838b4805741fe95dfde9621768425",
       "version_major": 2,
       "version_minor": 0
      },
      "text/plain": [
       "Validation Iteration:   0%|          | 0/157 [00:00<?, ?it/s]"
      ]
     },
     "metadata": {},
     "output_type": "display_data"
    },
    {
     "name": "stdout",
     "output_type": "stream",
     "text": [
      "\n",
      "Epoch 18: Training Loss: 2.5655388782517083, Validation Loss: 2.8170601949570284\n",
      "Current Learning Rate: 0.0005\n"
     ]
    },
    {
     "data": {
      "application/vnd.jupyter.widget-view+json": {
       "model_id": "d9662d18666e42b5a6525640cdf5352e",
       "version_major": 2,
       "version_minor": 0
      },
      "text/plain": [
       "Training Iteration:   0%|          | 0/1563 [00:00<?, ?it/s]"
      ]
     },
     "metadata": {},
     "output_type": "display_data"
    },
    {
     "data": {
      "application/vnd.jupyter.widget-view+json": {
       "model_id": "1d78d718f3e0407b8caed46eae1ac379",
       "version_major": 2,
       "version_minor": 0
      },
      "text/plain": [
       "Validation Iteration:   0%|          | 0/157 [00:00<?, ?it/s]"
      ]
     },
     "metadata": {},
     "output_type": "display_data"
    },
    {
     "name": "stdout",
     "output_type": "stream",
     "text": [
      "\n",
      "Epoch 19: Training Loss: 2.548877005461158, Validation Loss: 2.7542598589210754\n",
      "Current Learning Rate: 0.00025\n"
     ]
    },
    {
     "data": {
      "application/vnd.jupyter.widget-view+json": {
       "model_id": "b97e6dd2b81e4855aab6cb33107c4e46",
       "version_major": 2,
       "version_minor": 0
      },
      "text/plain": [
       "Training Iteration:   0%|          | 0/1563 [00:00<?, ?it/s]"
      ]
     },
     "metadata": {},
     "output_type": "display_data"
    },
    {
     "data": {
      "application/vnd.jupyter.widget-view+json": {
       "model_id": "595b836fe4ef4b1aa773d05bab3451d3",
       "version_major": 2,
       "version_minor": 0
      },
      "text/plain": [
       "Validation Iteration:   0%|          | 0/157 [00:00<?, ?it/s]"
      ]
     },
     "metadata": {},
     "output_type": "display_data"
    },
    {
     "name": "stdout",
     "output_type": "stream",
     "text": [
      "\n",
      "Epoch 20: Training Loss: 2.536918832717305, Validation Loss: 2.7579138081544525\n",
      "Current Learning Rate: 0.00025\n"
     ]
    },
    {
     "data": {
      "application/vnd.jupyter.widget-view+json": {
       "model_id": "30341d7792ed41b4b59aaaa635129575",
       "version_major": 2,
       "version_minor": 0
      },
      "text/plain": [
       "Training Iteration:   0%|          | 0/1563 [00:00<?, ?it/s]"
      ]
     },
     "metadata": {},
     "output_type": "display_data"
    },
    {
     "data": {
      "application/vnd.jupyter.widget-view+json": {
       "model_id": "53353b8688324124bd9dff00e3158e34",
       "version_major": 2,
       "version_minor": 0
      },
      "text/plain": [
       "Validation Iteration:   0%|          | 0/157 [00:00<?, ?it/s]"
      ]
     },
     "metadata": {},
     "output_type": "display_data"
    },
    {
     "name": "stdout",
     "output_type": "stream",
     "text": [
      "\n",
      "Epoch 21: Training Loss: 2.525394939567825, Validation Loss: 2.7364291575304263\n",
      "Current Learning Rate: 0.00025\n"
     ]
    },
    {
     "data": {
      "application/vnd.jupyter.widget-view+json": {
       "model_id": "dbf90616739945118915b3ac74aafcdb",
       "version_major": 2,
       "version_minor": 0
      },
      "text/plain": [
       "Training Iteration:   0%|          | 0/1563 [00:00<?, ?it/s]"
      ]
     },
     "metadata": {},
     "output_type": "display_data"
    },
    {
     "data": {
      "application/vnd.jupyter.widget-view+json": {
       "model_id": "164c9b5dac774040849c2670e6eb7bfb",
       "version_major": 2,
       "version_minor": 0
      },
      "text/plain": [
       "Validation Iteration:   0%|          | 0/157 [00:00<?, ?it/s]"
      ]
     },
     "metadata": {},
     "output_type": "display_data"
    },
    {
     "name": "stdout",
     "output_type": "stream",
     "text": [
      "\n",
      "Epoch 22: Training Loss: 2.5199361098399926, Validation Loss: 2.776621441172946\n",
      "Current Learning Rate: 0.000125\n"
     ]
    },
    {
     "data": {
      "application/vnd.jupyter.widget-view+json": {
       "model_id": "46893bc7935d41f18c3f4e70774b33a8",
       "version_major": 2,
       "version_minor": 0
      },
      "text/plain": [
       "Training Iteration:   0%|          | 0/1563 [00:00<?, ?it/s]"
      ]
     },
     "metadata": {},
     "output_type": "display_data"
    },
    {
     "data": {
      "application/vnd.jupyter.widget-view+json": {
       "model_id": "3e1d3f55e5df4e018cc4d7eb6dbe852f",
       "version_major": 2,
       "version_minor": 0
      },
      "text/plain": [
       "Validation Iteration:   0%|          | 0/157 [00:00<?, ?it/s]"
      ]
     },
     "metadata": {},
     "output_type": "display_data"
    },
    {
     "name": "stdout",
     "output_type": "stream",
     "text": [
      "\n",
      "Epoch 23: Training Loss: 2.5117525888877426, Validation Loss: 2.743469786492123\n",
      "Current Learning Rate: 0.000125\n"
     ]
    },
    {
     "data": {
      "application/vnd.jupyter.widget-view+json": {
       "model_id": "f0c18e16f0a741a2b5a7349bec724b25",
       "version_major": 2,
       "version_minor": 0
      },
      "text/plain": [
       "Training Iteration:   0%|          | 0/1563 [00:00<?, ?it/s]"
      ]
     },
     "metadata": {},
     "output_type": "display_data"
    },
    {
     "data": {
      "application/vnd.jupyter.widget-view+json": {
       "model_id": "604f51d823994996b47ef2df759fb9ad",
       "version_major": 2,
       "version_minor": 0
      },
      "text/plain": [
       "Validation Iteration:   0%|          | 0/157 [00:00<?, ?it/s]"
      ]
     },
     "metadata": {},
     "output_type": "display_data"
    },
    {
     "name": "stdout",
     "output_type": "stream",
     "text": [
      "\n",
      "Epoch 24: Training Loss: 2.50985982428738, Validation Loss: 2.7296383327739253\n",
      "Current Learning Rate: 0.000125\n"
     ]
    },
    {
     "data": {
      "application/vnd.jupyter.widget-view+json": {
       "model_id": "4cc7581c949e4ee79585b40c7eec1129",
       "version_major": 2,
       "version_minor": 0
      },
      "text/plain": [
       "Training Iteration:   0%|          | 0/1563 [00:00<?, ?it/s]"
      ]
     },
     "metadata": {},
     "output_type": "display_data"
    },
    {
     "data": {
      "application/vnd.jupyter.widget-view+json": {
       "model_id": "5bcde01da51246b38b5b4fd8dfe8d332",
       "version_major": 2,
       "version_minor": 0
      },
      "text/plain": [
       "Validation Iteration:   0%|          | 0/157 [00:00<?, ?it/s]"
      ]
     },
     "metadata": {},
     "output_type": "display_data"
    },
    {
     "name": "stdout",
     "output_type": "stream",
     "text": [
      "\n",
      "Epoch 25: Training Loss: 2.507556921155958, Validation Loss: 2.7637733661445085\n",
      "Current Learning Rate: 6.25e-05\n"
     ]
    },
    {
     "data": {
      "application/vnd.jupyter.widget-view+json": {
       "model_id": "49c8e8f2724448c8b0051de4fdfc5193",
       "version_major": 2,
       "version_minor": 0
      },
      "text/plain": [
       "Training Iteration:   0%|          | 0/1563 [00:00<?, ?it/s]"
      ]
     },
     "metadata": {},
     "output_type": "display_data"
    },
    {
     "data": {
      "application/vnd.jupyter.widget-view+json": {
       "model_id": "59c24e0c20c44667989a0475bee43f48",
       "version_major": 2,
       "version_minor": 0
      },
      "text/plain": [
       "Validation Iteration:   0%|          | 0/157 [00:00<?, ?it/s]"
      ]
     },
     "metadata": {},
     "output_type": "display_data"
    },
    {
     "name": "stdout",
     "output_type": "stream",
     "text": [
      "\n",
      "Epoch 26: Training Loss: 2.5041791887063667, Validation Loss: 2.778049897995724\n",
      "Current Learning Rate: 6.25e-05\n"
     ]
    },
    {
     "data": {
      "application/vnd.jupyter.widget-view+json": {
       "model_id": "433975d4fc224272ab0ead073175b8d6",
       "version_major": 2,
       "version_minor": 0
      },
      "text/plain": [
       "Training Iteration:   0%|          | 0/1563 [00:00<?, ?it/s]"
      ]
     },
     "metadata": {},
     "output_type": "display_data"
    },
    {
     "data": {
      "application/vnd.jupyter.widget-view+json": {
       "model_id": "60ce335a7e3b4773994996b789f0a725",
       "version_major": 2,
       "version_minor": 0
      },
      "text/plain": [
       "Validation Iteration:   0%|          | 0/157 [00:00<?, ?it/s]"
      ]
     },
     "metadata": {},
     "output_type": "display_data"
    },
    {
     "name": "stdout",
     "output_type": "stream",
     "text": [
      "\n",
      "Epoch 27: Training Loss: 2.4990405033432515, Validation Loss: 2.7080798574314\n",
      "Current Learning Rate: 6.25e-05\n"
     ]
    },
    {
     "data": {
      "application/vnd.jupyter.widget-view+json": {
       "model_id": "17ea7523427b41f2b292feac9f934c8e",
       "version_major": 2,
       "version_minor": 0
      },
      "text/plain": [
       "Training Iteration:   0%|          | 0/1563 [00:00<?, ?it/s]"
      ]
     },
     "metadata": {},
     "output_type": "display_data"
    },
    {
     "data": {
      "application/vnd.jupyter.widget-view+json": {
       "model_id": "bc2f4b908ed840ffbce846bf5730f528",
       "version_major": 2,
       "version_minor": 0
      },
      "text/plain": [
       "Validation Iteration:   0%|          | 0/157 [00:00<?, ?it/s]"
      ]
     },
     "metadata": {},
     "output_type": "display_data"
    },
    {
     "name": "stdout",
     "output_type": "stream",
     "text": [
      "\n",
      "Epoch 28: Training Loss: 2.4984357154148173, Validation Loss: 2.725290393373769\n",
      "Current Learning Rate: 3.125e-05\n"
     ]
    },
    {
     "data": {
      "application/vnd.jupyter.widget-view+json": {
       "model_id": "808e2ff2f5404fa1a009a82d31e730f1",
       "version_major": 2,
       "version_minor": 0
      },
      "text/plain": [
       "Training Iteration:   0%|          | 0/1563 [00:00<?, ?it/s]"
      ]
     },
     "metadata": {},
     "output_type": "display_data"
    },
    {
     "data": {
      "application/vnd.jupyter.widget-view+json": {
       "model_id": "d310016ac1ab4ab89bc86229d716bcf1",
       "version_major": 2,
       "version_minor": 0
      },
      "text/plain": [
       "Validation Iteration:   0%|          | 0/157 [00:00<?, ?it/s]"
      ]
     },
     "metadata": {},
     "output_type": "display_data"
    },
    {
     "name": "stdout",
     "output_type": "stream",
     "text": [
      "\n",
      "Epoch 29: Training Loss: 2.4982522647501333, Validation Loss: 2.7546825272262474\n"
     ]
    }
   ],
   "source": [
    "# Train for some number of epochs\n",
    "S_INCEPTION_EPOCH_COUNT = 30\n",
    "S_INCEPTION_SAVE_PERIOD = 3\n",
    "\n",
    "for epoch in tqdm_variant(\n",
    "    range(S_INCEPTION_EPOCH_COUNT),\n",
    "    desc=f\"Epoch\",\n",
    "    unit=\"epoch\",\n",
    "    disable=False\n",
    "):\n",
    "    # Debug learning rate\n",
    "    print(\n",
    "        f\"Current Learning Rate: {s_inception_optimizer.param_groups[0]['lr']}\"\n",
    "    )\n",
    "    \n",
    "    # Train\n",
    "    train_loss = classifier_epoch(\n",
    "        stable_inception,\n",
    "        inception_train_loader,\n",
    "        s_inception_optimizer,\n",
    "        device,\n",
    "        s_inception_loss,\n",
    "        s_inception_result,\n",
    "        stability_training=True\n",
    "    )\n",
    "\n",
    "    # Validation\n",
    "    val_loss = classifier_epoch(\n",
    "        stable_inception,\n",
    "        inception_val_loader,\n",
    "        s_inception_optimizer,\n",
    "        device,\n",
    "        s_inception_loss,\n",
    "        s_inception_result,\n",
    "        training=False,\n",
    "        stability_training=True\n",
    "    )\n",
    "    \n",
    "    # Update scheduling\n",
    "    s_inception_scheduler.step(val_loss)\n",
    "    \n",
    "    # Save a copy just in case\n",
    "    if val_loss < s_inception_best_loss:\n",
    "        torch.save(\n",
    "            stable_inception, \n",
    "            os.path.join(\n",
    "                os.path.abspath(\"\"),\n",
    "                f\"best_stable_inception_classifier_{s_inception_best_count}\" \\\n",
    "                f\"_{int(time.time()) % 100000:06}.pt\"\n",
    "            )\n",
    "        )\n",
    "        s_inception_best_count += 1\n",
    "        s_inception_best_loss = val_loss\n",
    "        \n",
    "    if epoch % S_INCEPTION_SAVE_PERIOD == S_INCEPTION_SAVE_PERIOD - 1:\n",
    "        torch.save(\n",
    "            stable_inception,\n",
    "            os.path.join(\n",
    "                os.path.abspath(\"\"),\n",
    "                f\"stable_inception_classifier_{epoch}_\" \\\n",
    "                f\"{int(time.time()) % 100000:06}.pt\"\n",
    "            )\n",
    "        )\n",
    "\n",
    "    # Print the average loss calculated and the epoch\n",
    "    print(f\"\\nEpoch {epoch}: Training Loss: {train_loss}, \" \\\n",
    "          f\"Validation Loss: {val_loss}\")"
   ]
  },
  {
   "cell_type": "markdown",
   "id": "508e4eb1-af37-4582-a936-f498cccba7fb",
   "metadata": {},
   "source": [
    "Let's view the results:"
   ]
  },
  {
   "cell_type": "code",
   "execution_count": 67,
   "id": "85b22645-41c5-4349-8425-2080ec251e9d",
   "metadata": {},
   "outputs": [
    {
     "name": "stdout",
     "output_type": "stream",
     "text": [
      "Spent 23357 seconds training.\n",
      "Spent 2243 seconds evaluating.\n"
     ]
    },
    {
     "data": {
      "image/png": "[encoded data removed]",
      "text/plain": [
       "<Figure size 432x288 with 2 Axes>"
      ]
     },
     "metadata": {
      "needs_background": "light"
     },
     "output_type": "display_data"
    }
   ],
   "source": [
    "fig, axs = plt.subplots(1, 2)\n",
    "s_inception_result.full_analysis(axs)"
   ]
  },
  {
   "cell_type": "markdown",
   "id": "d6ef28ca-9d44-44a4-a25e-84a4e2853c19",
   "metadata": {},
   "source": [
    "Next, let's save it with a special name."
   ]
  },
  {
   "cell_type": "code",
   "execution_count": 68,
   "id": "1ab00fda-8003-45c7-ad3d-318f9edf54c9",
   "metadata": {},
   "outputs": [],
   "source": [
    "torch.save(\n",
    "    stable_inception, \n",
    "    os.path.join(\n",
    "        os.path.abspath(\"\"),\n",
    "        \"stability_inception.pt\"\n",
    "    )\n",
    ")\n",
    "s_inception_result.save(_def_save_filename)"
   ]
  },
  {
   "cell_type": "markdown",
   "id": "47cdb44b-d409-4ef2-ab01-02697f23193f",
   "metadata": {},
   "source": [
    "Let's get some better plots:"
   ]
  },
  {
   "cell_type": "code",
   "execution_count": 101,
   "id": "6a7a242c-8345-4b78-b2b2-737b2c17f97c",
   "metadata": {},
   "outputs": [],
   "source": [
    "with open(\n",
    "    os.path.join(\n",
    "        os.path.abspath(\"\"),\n",
    "        \"..\",\n",
    "        \"progress_save_0_616414.pt\"\n",
    "    ),\n",
    "    \"rb\"\n",
    ") as file_obj:\n",
    "    results_dict = pickle.load(file_obj)"
   ]
  },
  {
   "cell_type": "code",
   "execution_count": 102,
   "id": "1598dfa5-f984-48de-ad3b-7197b2ff2664",
   "metadata": {},
   "outputs": [],
   "source": [
    "train_hist = results_dict[\"train_loss_history\"]\n",
    "val_hist = results_dict[\"val_loss_history\"]"
   ]
  },
  {
   "cell_type": "code",
   "execution_count": 103,
   "id": "1e5e13ad-1e7d-4026-b4f1-38f676b2eb51",
   "metadata": {},
   "outputs": [],
   "source": [
    "ratio = len(train_hist) // len(val_hist)"
   ]
  },
  {
   "cell_type": "code",
   "execution_count": 104,
   "id": "c44ed585-2691-4f5d-8ce9-27e340defcc8",
   "metadata": {},
   "outputs": [
    {
     "data": {
      "image/png": "[encoded data removed]",
      "text/plain": [
       "<Figure size 432x288 with 1 Axes>"
      ]
     },
     "metadata": {
      "needs_background": "light"
     },
     "output_type": "display_data"
    }
   ],
   "source": [
    "plt.plot(train_hist[:-(len(train_hist) % len(val_hist)):ratio], linewidth=0.1, label=\"Train\")\n",
    "plt.plot(val_hist, linewidth=0.1, label=\"Validation\")\n",
    "plt.title(\"Stability Train/Validation Curves\")\n",
    "plt.xlabel(\"Iterations*\")\n",
    "plt.ylabel(\"Loss\")\n",
    "plt.legend()\n",
    "plt.savefig(\"stability_classifier_curves.png\")"
   ]
  },
  {
   "cell_type": "markdown",
   "id": "aca9fe3c-a10b-4165-8fa8-cdc89e3cf01a",
   "metadata": {
    "tags": []
   },
   "source": [
    "### Triplet Ranking\n",
    "\n",
    "Next, let's train some triplet ranking models."
   ]
  },
  {
   "cell_type": "markdown",
   "id": "84653162-9dd6-40c3-86d8-f0a1c09d36ad",
   "metadata": {
    "jp-MarkdownHeadingCollapsed": true,
    "tags": []
   },
   "source": [
    "#### Baseline\n",
    "\n",
    "Prepare data:"
   ]
  },
  {
   "cell_type": "code",
   "execution_count": 33,
   "id": "9f62228a-7746-47cf-9b9a-60bb2d8c81e7",
   "metadata": {},
   "outputs": [],
   "source": [
    "train_path = os.path.join(data_dir, \"train\")\n",
    "val_path = os.path.join(data_dir, \"val\")\n",
    "#trd = TripletRankingDataset(train_path, 2, 2, transform=inception_transform)\n",
    "trd_val = TripletRankingDataset(\n",
    "    val_path,\n",
    "    1,\n",
    "    1,\n",
    "    transform=inception_transform,\n",
    "    training=False\n",
    ")\n",
    "\n",
    "batch_size = 32\n",
    "#tr_train_loader = torch.utils.data.DataLoader(trd, batch_size=batch_size,\n",
    "                                     #num_workers=0, shuffle=True)\n",
    "tr_val_loader = torch.utils.data.DataLoader(trd_val, batch_size=batch_size,\n",
    "                                     num_workers=0)"
   ]
  },
  {
   "cell_type": "markdown",
   "id": "06f15ef7-da13-47d7-ac91-fa786da570e5",
   "metadata": {},
   "source": [
    "Prepare new model that maps into a 64 dimensional encoding space. Note that this is less than the 200 classes."
   ]
  },
  {
   "cell_type": "code",
   "execution_count": 34,
   "id": "6ee49df1-10a3-4fba-928e-c383da10c109",
   "metadata": {},
   "outputs": [],
   "source": [
    "inception_encoder = torchvision.models.inception_v3(\n",
    "    pretrained=True,\n",
    "    aux_logits=False\n",
    ")"
   ]
  },
  {
   "cell_type": "code",
   "execution_count": 35,
   "id": "41e8eb12-4cc7-4c6e-8217-d9d9e295dfda",
   "metadata": {},
   "outputs": [],
   "source": [
    "# Set them all to frozen by default\n",
    "for param in inception_encoder.parameters():\n",
    "    param.requires_grad = False"
   ]
  },
  {
   "cell_type": "code",
   "execution_count": 36,
   "id": "b2705fa3-0ef2-4173-9227-ced981bd5386",
   "metadata": {},
   "outputs": [],
   "source": [
    "# Let's thaw some layers\n",
    "for param in inception_encoder.Mixed_7c.parameters():\n",
    "    param.requires_grad = True"
   ]
  },
  {
   "cell_type": "code",
   "execution_count": 37,
   "id": "ace4b0eb-9beb-493c-b9c3-325c9108cb5d",
   "metadata": {},
   "outputs": [],
   "source": [
    "inception_encoder.fc = nn.Linear(2048, 64) # 64-Dimensional Encoding\n",
    "\n",
    "inception_triplet_ranking = TripletRanker(inception_encoder).to(device)"
   ]
  },
  {
   "cell_type": "markdown",
   "id": "9e88c3f7-35e0-43ac-875d-1739a87e843a",
   "metadata": {},
   "source": [
    "Training controllers:"
   ]
  },
  {
   "cell_type": "code",
   "execution_count": 52,
   "id": "f100cab0-eca0-4c99-8e37-3a88e53a5940",
   "metadata": {},
   "outputs": [],
   "source": [
    "#itr_optimizer = optim.SGD(inception_triplet_ranking.parameters(), lr=0.005)\n",
    "itr_optimizer = optim.Adam(\n",
    "    inception_triplet_ranking.parameters(),\n",
    "    lr=0.005,\n",
    "    betas=(0.8,0.99)\n",
    ")\n",
    "#itr_scheduler = optim.lr_scheduler.ReduceLROnPlateau(\n",
    "    #itr_optimizer,\n",
    "    #factor=0.5,\n",
    "    #patience=2,\n",
    "    #threshold=0.1\n",
    "#)\n",
    "# May try OneCycleLR, annealers"
   ]
  },
  {
   "cell_type": "markdown",
   "id": "b7d7ffdd-2df5-411b-a4d7-2059e6644255",
   "metadata": {},
   "source": [
    "Result:"
   ]
  },
  {
   "cell_type": "code",
   "execution_count": 39,
   "id": "6fdbf665-d2ed-4843-a5a3-d3fac6fc4d2a",
   "metadata": {},
   "outputs": [],
   "source": [
    "itr_result = TrainResult(inception_triplet_ranking)"
   ]
  },
  {
   "cell_type": "markdown",
   "id": "7eda3dd3-b4b4-4c06-b84a-cea8bcb03b19",
   "metadata": {},
   "source": [
    "Triplet loss:"
   ]
  },
  {
   "cell_type": "code",
   "execution_count": 40,
   "id": "a363b5a2-df33-4793-9ad0-d6b8de2c9fd2",
   "metadata": {},
   "outputs": [],
   "source": [
    "itr_loss = nn.TripletMarginLoss(1.0, 2)"
   ]
  },
  {
   "cell_type": "markdown",
   "id": "0c07586e-7d61-4e6f-a0d3-dfabcc1c4003",
   "metadata": {},
   "source": [
    "Training loop:"
   ]
  },
  {
   "cell_type": "code",
   "execution_count": 41,
   "id": "d5a0c216-1181-4056-b642-f4d72ec11af5",
   "metadata": {},
   "outputs": [],
   "source": [
    "itr_best_loss = float(\"inf\")\n",
    "itr_best_count = 0"
   ]
  },
  {
   "cell_type": "code",
   "execution_count": 53,
   "id": "27249d3d-d7d7-4e7b-87ef-eee41410349b",
   "metadata": {
    "collapsed": true,
    "jupyter": {
     "outputs_hidden": true
    },
    "tags": []
   },
   "outputs": [
    {
     "data": {
      "application/vnd.jupyter.widget-view+json": {
       "model_id": "2b3b9b3a6d4b45ef8a654cde05368c36",
       "version_major": 2,
       "version_minor": 0
      },
      "text/plain": [
       "Epoch:   0%|          | 0/15 [00:00<?, ?epoch/s]"
      ]
     },
     "metadata": {},
     "output_type": "display_data"
    },
    {
     "name": "stdout",
     "output_type": "stream",
     "text": [
      "Loading data...\n",
      "...done.\n",
      "Current Learning Rate: 0.005\n"
     ]
    },
    {
     "data": {
      "application/vnd.jupyter.widget-view+json": {
       "model_id": "ecc9fa4913744ce3a068e035a34c1c5b",
       "version_major": 2,
       "version_minor": 0
      },
      "text/plain": [
       "Training Iteration:   0%|          | 0/3125 [00:00<?, ?it/s]"
      ]
     },
     "metadata": {},
     "output_type": "display_data"
    },
    {
     "data": {
      "application/vnd.jupyter.widget-view+json": {
       "model_id": "ee65f5139e4d462ca546509bad9ebc38",
       "version_major": 2,
       "version_minor": 0
      },
      "text/plain": [
       "Validation Iteration:   0%|          | 0/313 [00:00<?, ?it/s]"
      ]
     },
     "metadata": {},
     "output_type": "display_data"
    },
    {
     "name": "stdout",
     "output_type": "stream",
     "text": [
      "\n",
      "Epoch 0: Training Loss: 0.4004341648387909, Validation Loss: 0.3754558493963446\n",
      "Loading data...\n",
      "...done.\n",
      "Current Learning Rate: 0.005\n"
     ]
    },
    {
     "data": {
      "application/vnd.jupyter.widget-view+json": {
       "model_id": "3d111f01eed3409599c825d8e8e1e76e",
       "version_major": 2,
       "version_minor": 0
      },
      "text/plain": [
       "Training Iteration:   0%|          | 0/3125 [00:00<?, ?it/s]"
      ]
     },
     "metadata": {},
     "output_type": "display_data"
    },
    {
     "data": {
      "application/vnd.jupyter.widget-view+json": {
       "model_id": "6daad51bb8714674a2229ede6ab7cae7",
       "version_major": 2,
       "version_minor": 0
      },
      "text/plain": [
       "Validation Iteration:   0%|          | 0/313 [00:00<?, ?it/s]"
      ]
     },
     "metadata": {},
     "output_type": "display_data"
    },
    {
     "name": "stdout",
     "output_type": "stream",
     "text": [
      "\n",
      "Epoch 1: Training Loss: 0.3672840037536621, Validation Loss: 0.3674835697554361\n",
      "Loading data...\n",
      "...done.\n",
      "Current Learning Rate: 0.005\n"
     ]
    },
    {
     "data": {
      "application/vnd.jupyter.widget-view+json": {
       "model_id": "0d29686b773b40879bd2ba5ea9f88d92",
       "version_major": 2,
       "version_minor": 0
      },
      "text/plain": [
       "Training Iteration:   0%|          | 0/3125 [00:00<?, ?it/s]"
      ]
     },
     "metadata": {},
     "output_type": "display_data"
    },
    {
     "data": {
      "application/vnd.jupyter.widget-view+json": {
       "model_id": "3d4c7e4e9ca54a76934fd1e14a78b3c9",
       "version_major": 2,
       "version_minor": 0
      },
      "text/plain": [
       "Validation Iteration:   0%|          | 0/313 [00:00<?, ?it/s]"
      ]
     },
     "metadata": {},
     "output_type": "display_data"
    },
    {
     "name": "stdout",
     "output_type": "stream",
     "text": [
      "\n",
      "Epoch 2: Training Loss: 0.34829089056015017, Validation Loss: 0.3664518064274765\n",
      "Loading data...\n",
      "...done.\n",
      "Current Learning Rate: 0.005\n"
     ]
    },
    {
     "data": {
      "application/vnd.jupyter.widget-view+json": {
       "model_id": "6453c0a3f23e4fd0b6692d7e342d609e",
       "version_major": 2,
       "version_minor": 0
      },
      "text/plain": [
       "Training Iteration:   0%|          | 0/3125 [00:00<?, ?it/s]"
      ]
     },
     "metadata": {},
     "output_type": "display_data"
    },
    {
     "data": {
      "application/vnd.jupyter.widget-view+json": {
       "model_id": "e8bc7381ea61479bb8e026a6efaea780",
       "version_major": 2,
       "version_minor": 0
      },
      "text/plain": [
       "Validation Iteration:   0%|          | 0/313 [00:00<?, ?it/s]"
      ]
     },
     "metadata": {},
     "output_type": "display_data"
    },
    {
     "name": "stdout",
     "output_type": "stream",
     "text": [
      "\n",
      "Epoch 3: Training Loss: 0.33164853138923645, Validation Loss: 0.3645986601139029\n",
      "Loading data...\n",
      "...done.\n",
      "Current Learning Rate: 0.005\n"
     ]
    },
    {
     "data": {
      "application/vnd.jupyter.widget-view+json": {
       "model_id": "a2282f4b97d1462ea193013c5311a70d",
       "version_major": 2,
       "version_minor": 0
      },
      "text/plain": [
       "Training Iteration:   0%|          | 0/3125 [00:00<?, ?it/s]"
      ]
     },
     "metadata": {},
     "output_type": "display_data"
    },
    {
     "data": {
      "application/vnd.jupyter.widget-view+json": {
       "model_id": "d5fa4c694227447a993094f686a727cd",
       "version_major": 2,
       "version_minor": 0
      },
      "text/plain": [
       "Validation Iteration:   0%|          | 0/313 [00:00<?, ?it/s]"
      ]
     },
     "metadata": {},
     "output_type": "display_data"
    },
    {
     "name": "stdout",
     "output_type": "stream",
     "text": [
      "\n",
      "Epoch 4: Training Loss: 0.3178371453809738, Validation Loss: 0.36568494675496516\n",
      "Loading data...\n",
      "...done.\n",
      "Current Learning Rate: 0.005\n"
     ]
    },
    {
     "data": {
      "application/vnd.jupyter.widget-view+json": {
       "model_id": "7faad93c2acf4a2f82b2a8feee5980f0",
       "version_major": 2,
       "version_minor": 0
      },
      "text/plain": [
       "Training Iteration:   0%|          | 0/3125 [00:00<?, ?it/s]"
      ]
     },
     "metadata": {},
     "output_type": "display_data"
    },
    {
     "data": {
      "application/vnd.jupyter.widget-view+json": {
       "model_id": "0f596d1f44ac45629beefedcac9c221b",
       "version_major": 2,
       "version_minor": 0
      },
      "text/plain": [
       "Validation Iteration:   0%|          | 0/313 [00:00<?, ?it/s]"
      ]
     },
     "metadata": {},
     "output_type": "display_data"
    },
    {
     "name": "stdout",
     "output_type": "stream",
     "text": [
      "\n",
      "Epoch 5: Training Loss: 0.3075065079665184, Validation Loss: 0.36260136440634344\n",
      "Loading data...\n",
      "...done.\n",
      "Current Learning Rate: 0.005\n"
     ]
    },
    {
     "data": {
      "application/vnd.jupyter.widget-view+json": {
       "model_id": "91cd6d2f04704bfa99afdf16de711bdc",
       "version_major": 2,
       "version_minor": 0
      },
      "text/plain": [
       "Training Iteration:   0%|          | 0/3125 [00:00<?, ?it/s]"
      ]
     },
     "metadata": {},
     "output_type": "display_data"
    },
    {
     "data": {
      "application/vnd.jupyter.widget-view+json": {
       "model_id": "0ae3f5a13c3c4e4fbb40a051ba94f8a7",
       "version_major": 2,
       "version_minor": 0
      },
      "text/plain": [
       "Validation Iteration:   0%|          | 0/313 [00:00<?, ?it/s]"
      ]
     },
     "metadata": {},
     "output_type": "display_data"
    },
    {
     "name": "stdout",
     "output_type": "stream",
     "text": [
      "\n",
      "Epoch 6: Training Loss: 0.2971532835125923, Validation Loss: 0.3692831148902258\n",
      "Loading data...\n",
      "...done.\n",
      "Current Learning Rate: 0.005\n"
     ]
    },
    {
     "data": {
      "application/vnd.jupyter.widget-view+json": {
       "model_id": "d5469367ef3d445fa40bfd4671fbe286",
       "version_major": 2,
       "version_minor": 0
      },
      "text/plain": [
       "Training Iteration:   0%|          | 0/3125 [00:00<?, ?it/s]"
      ]
     },
     "metadata": {},
     "output_type": "display_data"
    },
    {
     "data": {
      "application/vnd.jupyter.widget-view+json": {
       "model_id": "26392f78dd5143588126f18c707e4ca6",
       "version_major": 2,
       "version_minor": 0
      },
      "text/plain": [
       "Validation Iteration:   0%|          | 0/313 [00:00<?, ?it/s]"
      ]
     },
     "metadata": {},
     "output_type": "display_data"
    },
    {
     "name": "stdout",
     "output_type": "stream",
     "text": [
      "\n",
      "Epoch 7: Training Loss: 0.2867655133199692, Validation Loss: 0.3667950142329684\n",
      "Loading data...\n",
      "...done.\n",
      "Current Learning Rate: 0.005\n"
     ]
    },
    {
     "data": {
      "application/vnd.jupyter.widget-view+json": {
       "model_id": "bafa154d77c7413eac6104569d25c4c7",
       "version_major": 2,
       "version_minor": 0
      },
      "text/plain": [
       "Training Iteration:   0%|          | 0/3125 [00:00<?, ?it/s]"
      ]
     },
     "metadata": {},
     "output_type": "display_data"
    },
    {
     "data": {
      "application/vnd.jupyter.widget-view+json": {
       "model_id": "8b5f616601764237ae1b3ba159ed38f7",
       "version_major": 2,
       "version_minor": 0
      },
      "text/plain": [
       "Validation Iteration:   0%|          | 0/313 [00:00<?, ?it/s]"
      ]
     },
     "metadata": {},
     "output_type": "display_data"
    },
    {
     "name": "stdout",
     "output_type": "stream",
     "text": [
      "\n",
      "Epoch 8: Training Loss: 0.27496212601661685, Validation Loss: 0.37086490266762984\n",
      "Loading data...\n",
      "...done.\n",
      "Current Learning Rate: 0.005\n"
     ]
    },
    {
     "data": {
      "application/vnd.jupyter.widget-view+json": {
       "model_id": "cf40690997914d1b92d3e4bcdd50227a",
       "version_major": 2,
       "version_minor": 0
      },
      "text/plain": [
       "Training Iteration:   0%|          | 0/3125 [00:00<?, ?it/s]"
      ]
     },
     "metadata": {},
     "output_type": "display_data"
    },
    {
     "data": {
      "application/vnd.jupyter.widget-view+json": {
       "model_id": "50ba597ac1354cdf85c806ad84290259",
       "version_major": 2,
       "version_minor": 0
      },
      "text/plain": [
       "Validation Iteration:   0%|          | 0/313 [00:00<?, ?it/s]"
      ]
     },
     "metadata": {},
     "output_type": "display_data"
    },
    {
     "name": "stdout",
     "output_type": "stream",
     "text": [
      "\n",
      "Epoch 9: Training Loss: 0.2666996761536598, Validation Loss: 0.37325120055542205\n",
      "Loading data...\n",
      "...done.\n",
      "Current Learning Rate: 0.005\n"
     ]
    },
    {
     "data": {
      "application/vnd.jupyter.widget-view+json": {
       "model_id": "ceac920d4c4f4e939cfc5e9a1a68a677",
       "version_major": 2,
       "version_minor": 0
      },
      "text/plain": [
       "Training Iteration:   0%|          | 0/3125 [00:00<?, ?it/s]"
      ]
     },
     "metadata": {},
     "output_type": "display_data"
    },
    {
     "data": {
      "application/vnd.jupyter.widget-view+json": {
       "model_id": "d9093bb112234d2ab934d76acea11864",
       "version_major": 2,
       "version_minor": 0
      },
      "text/plain": [
       "Validation Iteration:   0%|          | 0/313 [00:00<?, ?it/s]"
      ]
     },
     "metadata": {},
     "output_type": "display_data"
    },
    {
     "name": "stdout",
     "output_type": "stream",
     "text": [
      "\n",
      "Epoch 10: Training Loss: 0.25871495096087455, Validation Loss: 0.36599684976779234\n",
      "Loading data...\n",
      "...done.\n",
      "Current Learning Rate: 0.005\n"
     ]
    },
    {
     "data": {
      "application/vnd.jupyter.widget-view+json": {
       "model_id": "880a2ac7adb54067b92c180d6e8f3223",
       "version_major": 2,
       "version_minor": 0
      },
      "text/plain": [
       "Training Iteration:   0%|          | 0/3125 [00:00<?, ?it/s]"
      ]
     },
     "metadata": {},
     "output_type": "display_data"
    },
    {
     "data": {
      "application/vnd.jupyter.widget-view+json": {
       "model_id": "d5dbb81617cb4ebea9c8a70fad95e45a",
       "version_major": 2,
       "version_minor": 0
      },
      "text/plain": [
       "Validation Iteration:   0%|          | 0/313 [00:00<?, ?it/s]"
      ]
     },
     "metadata": {},
     "output_type": "display_data"
    },
    {
     "name": "stdout",
     "output_type": "stream",
     "text": [
      "\n",
      "Epoch 11: Training Loss: 0.24810040583372117, Validation Loss: 0.37677918007960337\n",
      "Loading data...\n",
      "...done.\n",
      "Current Learning Rate: 0.005\n"
     ]
    },
    {
     "data": {
      "application/vnd.jupyter.widget-view+json": {
       "model_id": "bca37e2a2e744ecca1ee600cd3112f71",
       "version_major": 2,
       "version_minor": 0
      },
      "text/plain": [
       "Training Iteration:   0%|          | 0/3125 [00:00<?, ?it/s]"
      ]
     },
     "metadata": {},
     "output_type": "display_data"
    },
    {
     "data": {
      "application/vnd.jupyter.widget-view+json": {
       "model_id": "4b7ce5d5e68140569f09a2e01153b226",
       "version_major": 2,
       "version_minor": 0
      },
      "text/plain": [
       "Validation Iteration:   0%|          | 0/313 [00:00<?, ?it/s]"
      ]
     },
     "metadata": {},
     "output_type": "display_data"
    },
    {
     "name": "stdout",
     "output_type": "stream",
     "text": [
      "\n",
      "Epoch 12: Training Loss: 0.24421424782514572, Validation Loss: 0.3685946888721789\n",
      "Loading data...\n",
      "...done.\n",
      "Current Learning Rate: 0.005\n"
     ]
    },
    {
     "data": {
      "application/vnd.jupyter.widget-view+json": {
       "model_id": "c265450eeea34bdf9ae4c0f88e632aa0",
       "version_major": 2,
       "version_minor": 0
      },
      "text/plain": [
       "Training Iteration:   0%|          | 0/3125 [00:00<?, ?it/s]"
      ]
     },
     "metadata": {},
     "output_type": "display_data"
    },
    {
     "data": {
      "application/vnd.jupyter.widget-view+json": {
       "model_id": "3ae0a03a67824edbad48a4593b702c7d",
       "version_major": 2,
       "version_minor": 0
      },
      "text/plain": [
       "Validation Iteration:   0%|          | 0/313 [00:00<?, ?it/s]"
      ]
     },
     "metadata": {},
     "output_type": "display_data"
    },
    {
     "name": "stdout",
     "output_type": "stream",
     "text": [
      "\n",
      "Epoch 13: Training Loss: 0.23393585928440094, Validation Loss: 0.3819884740458891\n",
      "Loading data...\n",
      "...done.\n",
      "Current Learning Rate: 0.005\n"
     ]
    },
    {
     "data": {
      "application/vnd.jupyter.widget-view+json": {
       "model_id": "4d2f162fe01146d5bab7e91a6e02e93c",
       "version_major": 2,
       "version_minor": 0
      },
      "text/plain": [
       "Training Iteration:   0%|          | 0/3125 [00:00<?, ?it/s]"
      ]
     },
     "metadata": {},
     "output_type": "display_data"
    },
    {
     "data": {
      "application/vnd.jupyter.widget-view+json": {
       "model_id": "0f05f4917dcc4e3791cd27f7feaa71ac",
       "version_major": 2,
       "version_minor": 0
      },
      "text/plain": [
       "Validation Iteration:   0%|          | 0/313 [00:00<?, ?it/s]"
      ]
     },
     "metadata": {},
     "output_type": "display_data"
    },
    {
     "name": "stdout",
     "output_type": "stream",
     "text": [
      "\n",
      "Epoch 14: Training Loss: 0.23031507392644882, Validation Loss: 0.38100931406640015\n"
     ]
    }
   ],
   "source": [
    "# Train for some number of epochs\n",
    "ITR_EPOCH_COUNT = 15 # with no normalization, + 16 + 1\n",
    "ITR_SAVE_PERIOD = 1\n",
    "\n",
    "loss = torch.Tensor([0])\n",
    "for epoch in tqdm_variant(\n",
    "    range(ITR_EPOCH_COUNT),\n",
    "    desc=f\"Epoch\",\n",
    "    unit=\"epoch\",\n",
    "    disable=False\n",
    "):\n",
    "    # For this training loop, we'll switch up the data each time.\n",
    "    print(\"Loading data...\")\n",
    "    try:\n",
    "        del trd, tr_train_loader\n",
    "    except NameError:\n",
    "        pass\n",
    "    trd = TripletRankingDataset(train_path, 1, 1, transform=inception_transform)\n",
    "    tr_train_loader = torch.utils.data.DataLoader(trd, batch_size=batch_size,\n",
    "                                         num_workers=0, shuffle=True)\n",
    "    print(\"...done.\")\n",
    "    \n",
    "    # Debug learning rate\n",
    "    print(f\"Current Learning Rate: {itr_optimizer.param_groups[0]['lr']}\")\n",
    "    \n",
    "    train_loss = triplet_epoch(\n",
    "        inception_triplet_ranking,\n",
    "        tr_train_loader,\n",
    "        itr_optimizer,\n",
    "        device,\n",
    "        itr_loss,\n",
    "        itr_result\n",
    "    )\n",
    "\n",
    "    val_loss = triplet_epoch(\n",
    "        inception_triplet_ranking,\n",
    "        tr_val_loader,\n",
    "        itr_optimizer,\n",
    "        device,\n",
    "        itr_loss,\n",
    "        itr_result,\n",
    "        training=False\n",
    "    )\n",
    "    \n",
    "    # Save a copy for safety\n",
    "    if val_loss < itr_best_loss:\n",
    "        torch.save(\n",
    "            inception_triplet_ranking, \n",
    "            os.path.join(\n",
    "                os.path.abspath(\"\"),\n",
    "                f\"best_itr_{itr_best_count}_{int(time.time()) % 1000000:06}.pt\"\n",
    "            )\n",
    "        )\n",
    "        itr_best_count += 1\n",
    "        itr_best_loss = val_loss\n",
    "        \n",
    "    if epoch % ITR_SAVE_PERIOD == ITR_SAVE_PERIOD - 1:\n",
    "        torch.save(\n",
    "            inception_triplet_ranking,\n",
    "            os.path.join(\n",
    "                os.path.abspath(\"\"),\n",
    "                f\"itr_{epoch}_{int(time.time()) % 1000000:06}.pt\"\n",
    "            )\n",
    "        )\n",
    "\n",
    "    # Print the last loss calculated and the epoch\n",
    "    print(f\"\\nEpoch {epoch}: Training Loss: {train_loss}, \" \\\n",
    "          f\"Validation Loss: {val_loss}\")"
   ]
  },
  {
   "cell_type": "markdown",
   "id": "b512e985-17d6-473a-b8bf-1b717a2657e3",
   "metadata": {},
   "source": [
    "Let's double check gradient calculations went well:"
   ]
  },
  {
   "cell_type": "code",
   "execution_count": 42,
   "id": "c954e691-0e84-4fbd-a6c7-c675845f07af",
   "metadata": {},
   "outputs": [
    {
     "data": {
      "image/svg+xml": [
       "<?xml version=\"1.0\" encoding=\"UTF-8\" standalone=\"no\"?>\n",
       "<!DOCTYPE svg PUBLIC \"-//W3C//DTD SVG 1.1//EN\"\n",
       " \"http://www.w3.org/Graphics/SVG/1.1/DTD/svg11.dtd\">\n",
       "<!-- Generated by graphviz version 3.0.0 (20220226.1711)\n",
       " -->\n",
       "<!-- Pages: 1 -->\n",
       "<svg width=\"397pt\" height=\"281pt\"\n",
       " viewBox=\"0.00 0.00 397.00 281.00\" xmlns=\"http://www.w3.org/2000/svg\" xmlns:xlink=\"http://www.w3.org/1999/xlink\">\n",
       "<g id=\"graph0\" class=\"graph\" transform=\"scale(1 1) rotate(0) translate(4 277)\">\n",
       "<polygon fill=\"white\" stroke=\"transparent\" points=\"-4,4 -4,-277 393,-277 393,4 -4,4\"/>\n",
       "<!-- 2938843121040 -->\n",
       "<g id=\"node1\" class=\"node\">\n",
       "<title>2938843121040</title>\n",
       "<polygon fill=\"#caff70\" stroke=\"black\" points=\"109,-31 38,-31 38,0 109,0 109,-31\"/>\n",
       "<text text-anchor=\"middle\" x=\"73.5\" y=\"-7\" font-family=\"monospace\" font-size=\"10.00\"> (32, 64)</text>\n",
       "</g>\n",
       "<!-- 2933172776192 -->\n",
       "<g id=\"node2\" class=\"node\">\n",
       "<title>2933172776192</title>\n",
       "<polygon fill=\"lightgrey\" stroke=\"black\" points=\"124,-86 23,-86 23,-67 124,-67 124,-86\"/>\n",
       "<text text-anchor=\"middle\" x=\"73.5\" y=\"-74\" font-family=\"monospace\" font-size=\"10.00\">AddmmBackward0</text>\n",
       "</g>\n",
       "<!-- 2933172776192&#45;&gt;2938843121040 -->\n",
       "<g id=\"edge6\" class=\"edge\">\n",
       "<title>2933172776192&#45;&gt;2938843121040</title>\n",
       "<path fill=\"none\" stroke=\"black\" d=\"M73.5,-66.79C73.5,-60.07 73.5,-50.4 73.5,-41.34\"/>\n",
       "<polygon fill=\"black\" stroke=\"black\" points=\"77,-41.19 73.5,-31.19 70,-41.19 77,-41.19\"/>\n",
       "</g>\n",
       "<!-- 2933224423920 -->\n",
       "<g id=\"node3\" class=\"node\">\n",
       "<title>2933224423920</title>\n",
       "<polygon fill=\"lightgrey\" stroke=\"black\" points=\"196,-141 95,-141 95,-122 196,-122 196,-141\"/>\n",
       "<text text-anchor=\"middle\" x=\"145.5\" y=\"-129\" font-family=\"monospace\" font-size=\"10.00\">AccumulateGrad</text>\n",
       "</g>\n",
       "<!-- 2933224423920&#45;&gt;2933172776192 -->\n",
       "<g id=\"edge1\" class=\"edge\">\n",
       "<title>2933224423920&#45;&gt;2933172776192</title>\n",
       "<path fill=\"none\" stroke=\"black\" d=\"M133.93,-121.98C123.08,-114 106.62,-101.88 93.62,-92.31\"/>\n",
       "<polygon fill=\"black\" stroke=\"black\" points=\"95.41,-89.28 85.28,-86.17 91.26,-94.92 95.41,-89.28\"/>\n",
       "</g>\n",
       "<!-- 2933224426032 -->\n",
       "<g id=\"node9\" class=\"node\">\n",
       "<title>2933224426032</title>\n",
       "<polygon fill=\"lightgrey\" stroke=\"black\" points=\"261,-86 160,-86 160,-67 261,-67 261,-86\"/>\n",
       "<text text-anchor=\"middle\" x=\"210.5\" y=\"-74\" font-family=\"monospace\" font-size=\"10.00\">AddmmBackward0</text>\n",
       "</g>\n",
       "<!-- 2933224423920&#45;&gt;2933224426032 -->\n",
       "<g id=\"edge7\" class=\"edge\">\n",
       "<title>2933224423920&#45;&gt;2933224426032</title>\n",
       "<path fill=\"none\" stroke=\"black\" d=\"M155.94,-121.98C165.65,-114.07 180.32,-102.11 192,-92.58\"/>\n",
       "<polygon fill=\"black\" stroke=\"black\" points=\"194.33,-95.2 199.87,-86.17 189.9,-89.78 194.33,-95.2\"/>\n",
       "</g>\n",
       "<!-- 2933224423488 -->\n",
       "<g id=\"node12\" class=\"node\">\n",
       "<title>2933224423488</title>\n",
       "<polygon fill=\"lightgrey\" stroke=\"black\" points=\"389,-86 288,-86 288,-67 389,-67 389,-86\"/>\n",
       "<text text-anchor=\"middle\" x=\"338.5\" y=\"-74\" font-family=\"monospace\" font-size=\"10.00\">AddmmBackward0</text>\n",
       "</g>\n",
       "<!-- 2933224423920&#45;&gt;2933224423488 -->\n",
       "<g id=\"edge11\" class=\"edge\">\n",
       "<title>2933224423920&#45;&gt;2933224423488</title>\n",
       "<path fill=\"none\" stroke=\"black\" d=\"M176.51,-121.98C209.33,-112.97 261.3,-98.7 297.49,-88.76\"/>\n",
       "<polygon fill=\"black\" stroke=\"black\" points=\"298.53,-92.11 307.25,-86.08 296.68,-85.36 298.53,-92.11\"/>\n",
       "</g>\n",
       "<!-- 2933251889888 -->\n",
       "<g id=\"node4\" class=\"node\">\n",
       "<title>2933251889888</title>\n",
       "<polygon fill=\"lightblue\" stroke=\"black\" points=\"188,-207 93,-207 93,-177 188,-177 188,-207\"/>\n",
       "<text text-anchor=\"middle\" x=\"140.5\" y=\"-195\" font-family=\"monospace\" font-size=\"10.00\">model.fc.bias</text>\n",
       "<text text-anchor=\"middle\" x=\"140.5\" y=\"-184\" font-family=\"monospace\" font-size=\"10.00\"> (64)</text>\n",
       "</g>\n",
       "<!-- 2933251889888&#45;&gt;2933224423920 -->\n",
       "<g id=\"edge2\" class=\"edge\">\n",
       "<title>2933251889888&#45;&gt;2933224423920</title>\n",
       "<path fill=\"none\" stroke=\"black\" d=\"M141.71,-176.84C142.36,-169.21 143.17,-159.7 143.88,-151.45\"/>\n",
       "<polygon fill=\"black\" stroke=\"black\" points=\"147.39,-151.53 144.75,-141.27 140.41,-150.93 147.39,-151.53\"/>\n",
       "</g>\n",
       "<!-- 2933224423776 -->\n",
       "<g id=\"node5\" class=\"node\">\n",
       "<title>2933224423776</title>\n",
       "<polygon fill=\"lightgrey\" stroke=\"black\" points=\"77,-141 0,-141 0,-122 77,-122 77,-141\"/>\n",
       "<text text-anchor=\"middle\" x=\"38.5\" y=\"-129\" font-family=\"monospace\" font-size=\"10.00\">TBackward0</text>\n",
       "</g>\n",
       "<!-- 2933224423776&#45;&gt;2933172776192 -->\n",
       "<g id=\"edge3\" class=\"edge\">\n",
       "<title>2933224423776&#45;&gt;2933172776192</title>\n",
       "<path fill=\"none\" stroke=\"black\" d=\"M44.28,-121.75C49.12,-114.42 56.18,-103.73 62.14,-94.7\"/>\n",
       "<polygon fill=\"black\" stroke=\"black\" points=\"65.24,-96.36 67.83,-86.09 59.4,-92.5 65.24,-96.36\"/>\n",
       "</g>\n",
       "<!-- 2933224423824 -->\n",
       "<g id=\"node6\" class=\"node\">\n",
       "<title>2933224423824</title>\n",
       "<polygon fill=\"lightgrey\" stroke=\"black\" points=\"307,-201.5 206,-201.5 206,-182.5 307,-182.5 307,-201.5\"/>\n",
       "<text text-anchor=\"middle\" x=\"256.5\" y=\"-189.5\" font-family=\"monospace\" font-size=\"10.00\">AccumulateGrad</text>\n",
       "</g>\n",
       "<!-- 2933224423824&#45;&gt;2933224423776 -->\n",
       "<g id=\"edge4\" class=\"edge\">\n",
       "<title>2933224423824&#45;&gt;2933224423776</title>\n",
       "<path fill=\"none\" stroke=\"black\" d=\"M224.8,-182.49C186.54,-172.23 122.09,-154.93 79.92,-143.62\"/>\n",
       "<polygon fill=\"black\" stroke=\"black\" points=\"80.8,-140.23 70.24,-141.02 78.99,-146.99 80.8,-140.23\"/>\n",
       "</g>\n",
       "<!-- 2933224423728 -->\n",
       "<g id=\"node10\" class=\"node\">\n",
       "<title>2933224423728</title>\n",
       "<polygon fill=\"lightgrey\" stroke=\"black\" points=\"291,-141 214,-141 214,-122 291,-122 291,-141\"/>\n",
       "<text text-anchor=\"middle\" x=\"252.5\" y=\"-129\" font-family=\"monospace\" font-size=\"10.00\">TBackward0</text>\n",
       "</g>\n",
       "<!-- 2933224423824&#45;&gt;2933224423728 -->\n",
       "<g id=\"edge9\" class=\"edge\">\n",
       "<title>2933224423824&#45;&gt;2933224423728</title>\n",
       "<path fill=\"none\" stroke=\"black\" d=\"M255.91,-182.37C255.35,-174.25 254.5,-161.81 253.79,-151.39\"/>\n",
       "<polygon fill=\"black\" stroke=\"black\" points=\"257.27,-150.91 253.09,-141.17 250.28,-151.38 257.27,-150.91\"/>\n",
       "</g>\n",
       "<!-- 2933224423584 -->\n",
       "<g id=\"node13\" class=\"node\">\n",
       "<title>2933224423584</title>\n",
       "<polygon fill=\"lightgrey\" stroke=\"black\" points=\"386,-141 309,-141 309,-122 386,-122 386,-141\"/>\n",
       "<text text-anchor=\"middle\" x=\"347.5\" y=\"-129\" font-family=\"monospace\" font-size=\"10.00\">TBackward0</text>\n",
       "</g>\n",
       "<!-- 2933224423824&#45;&gt;2933224423584 -->\n",
       "<g id=\"edge13\" class=\"edge\">\n",
       "<title>2933224423824&#45;&gt;2933224423584</title>\n",
       "<path fill=\"none\" stroke=\"black\" d=\"M269.93,-182.37C284.58,-172.95 308.26,-157.73 325.6,-146.58\"/>\n",
       "<polygon fill=\"black\" stroke=\"black\" points=\"327.5,-149.52 334.02,-141.17 323.71,-143.63 327.5,-149.52\"/>\n",
       "</g>\n",
       "<!-- 2933251890768 -->\n",
       "<g id=\"node7\" class=\"node\">\n",
       "<title>2933251890768</title>\n",
       "<polygon fill=\"lightblue\" stroke=\"black\" points=\"310,-273 203,-273 203,-243 310,-243 310,-273\"/>\n",
       "<text text-anchor=\"middle\" x=\"256.5\" y=\"-261\" font-family=\"monospace\" font-size=\"10.00\">model.fc.weight</text>\n",
       "<text text-anchor=\"middle\" x=\"256.5\" y=\"-250\" font-family=\"monospace\" font-size=\"10.00\"> (64, 2048)</text>\n",
       "</g>\n",
       "<!-- 2933251890768&#45;&gt;2933224423824 -->\n",
       "<g id=\"edge5\" class=\"edge\">\n",
       "<title>2933251890768&#45;&gt;2933224423824</title>\n",
       "<path fill=\"none\" stroke=\"black\" d=\"M256.5,-242.8C256.5,-233.7 256.5,-221.79 256.5,-211.9\"/>\n",
       "<polygon fill=\"black\" stroke=\"black\" points=\"260,-211.84 256.5,-201.84 253,-211.84 260,-211.84\"/>\n",
       "</g>\n",
       "<!-- 2938843121520 -->\n",
       "<g id=\"node8\" class=\"node\">\n",
       "<title>2938843121520</title>\n",
       "<polygon fill=\"#caff70\" stroke=\"black\" points=\"246,-31 175,-31 175,0 246,0 246,-31\"/>\n",
       "<text text-anchor=\"middle\" x=\"210.5\" y=\"-7\" font-family=\"monospace\" font-size=\"10.00\"> (32, 64)</text>\n",
       "</g>\n",
       "<!-- 2933224426032&#45;&gt;2938843121520 -->\n",
       "<g id=\"edge10\" class=\"edge\">\n",
       "<title>2933224426032&#45;&gt;2938843121520</title>\n",
       "<path fill=\"none\" stroke=\"black\" d=\"M210.5,-66.79C210.5,-60.07 210.5,-50.4 210.5,-41.34\"/>\n",
       "<polygon fill=\"black\" stroke=\"black\" points=\"214,-41.19 210.5,-31.19 207,-41.19 214,-41.19\"/>\n",
       "</g>\n",
       "<!-- 2933224423728&#45;&gt;2933224426032 -->\n",
       "<g id=\"edge8\" class=\"edge\">\n",
       "<title>2933224423728&#45;&gt;2933224426032</title>\n",
       "<path fill=\"none\" stroke=\"black\" d=\"M245.56,-121.75C239.63,-114.26 230.93,-103.28 223.68,-94.13\"/>\n",
       "<polygon fill=\"black\" stroke=\"black\" points=\"226.26,-91.75 217.31,-86.09 220.77,-96.1 226.26,-91.75\"/>\n",
       "</g>\n",
       "<!-- 2938843122000 -->\n",
       "<g id=\"node11\" class=\"node\">\n",
       "<title>2938843122000</title>\n",
       "<polygon fill=\"#caff70\" stroke=\"black\" points=\"374,-31 303,-31 303,0 374,0 374,-31\"/>\n",
       "<text text-anchor=\"middle\" x=\"338.5\" y=\"-7\" font-family=\"monospace\" font-size=\"10.00\"> (32, 64)</text>\n",
       "</g>\n",
       "<!-- 2933224423488&#45;&gt;2938843122000 -->\n",
       "<g id=\"edge14\" class=\"edge\">\n",
       "<title>2933224423488&#45;&gt;2938843122000</title>\n",
       "<path fill=\"none\" stroke=\"black\" d=\"M338.5,-66.79C338.5,-60.07 338.5,-50.4 338.5,-41.34\"/>\n",
       "<polygon fill=\"black\" stroke=\"black\" points=\"342,-41.19 338.5,-31.19 335,-41.19 342,-41.19\"/>\n",
       "</g>\n",
       "<!-- 2933224423584&#45;&gt;2933224423488 -->\n",
       "<g id=\"edge12\" class=\"edge\">\n",
       "<title>2933224423584&#45;&gt;2933224423488</title>\n",
       "<path fill=\"none\" stroke=\"black\" d=\"M346.01,-121.75C344.83,-114.8 343.14,-104.85 341.66,-96.13\"/>\n",
       "<polygon fill=\"black\" stroke=\"black\" points=\"345.08,-95.36 339.96,-86.09 338.18,-96.53 345.08,-95.36\"/>\n",
       "</g>\n",
       "</g>\n",
       "</svg>\n"
      ],
      "text/plain": [
       "<graphviz.graphs.Digraph at 0x2aaeeb8a9d0>"
      ]
     },
     "execution_count": 42,
     "metadata": {},
     "output_type": "execute_result"
    }
   ],
   "source": [
    "gradient_sanity_display(inception_triplet_ranking, next(iter(tr_train_loader)))"
   ]
  },
  {
   "cell_type": "markdown",
   "id": "4088b5ab-61e9-4d61-bb7c-ff4f15274caf",
   "metadata": {},
   "source": [
    "The old way of saving is taking up lots of memory, let's just save the part that changes:"
   ]
  },
  {
   "cell_type": "code",
   "execution_count": 59,
   "id": "f7fe31cc-7816-403e-acde-6975e2e3c18b",
   "metadata": {},
   "outputs": [],
   "source": [
    "torch.save(\n",
    "    inception_triplet_ranking.model.state_dict(),\n",
    "    \"inception_triplet_ranking_2.pth\"\n",
    ")"
   ]
  },
  {
   "cell_type": "code",
   "execution_count": 60,
   "id": "26c87161-c2c1-4100-85d2-10e240a44c20",
   "metadata": {},
   "outputs": [],
   "source": [
    "itr_result.save(_def_save_filename)"
   ]
  },
  {
   "cell_type": "markdown",
   "id": "ee528734-0597-4002-8978-cce123ff2ae0",
   "metadata": {},
   "source": [
    "Let's also take a look at training/testing curves:"
   ]
  },
  {
   "cell_type": "code",
   "execution_count": 63,
   "id": "9850676c-c452-4bd9-979b-0d3864ac5f53",
   "metadata": {},
   "outputs": [
    {
     "data": {
      "image/png": "[encoded data removed]",
      "text/plain": [
       "<Figure size 432x288 with 1 Axes>"
      ]
     },
     "metadata": {
      "needs_background": "light"
     },
     "output_type": "display_data"
    }
   ],
   "source": [
    "fig, ax = plt.subplots()\n",
    "itr_result.plot_loss_train_valid_curves(ax)"
   ]
  },
  {
   "cell_type": "markdown",
   "id": "5de06422-55ad-4a95-9ea9-06391c09dd9b",
   "metadata": {
    "tags": []
   },
   "source": [
    "## Experiments and Plot Generation"
   ]
  },
  {
   "cell_type": "markdown",
   "id": "9834ccad-10df-40c6-a7ee-845f7767a737",
   "metadata": {
    "jp-MarkdownHeadingCollapsed": true,
    "tags": []
   },
   "source": [
    "### Classifier vs. JPEG\n",
    "\n",
    "We'll see how precision declines with more JPEG. First, let's load the classifiers from save files."
   ]
  },
  {
   "cell_type": "code",
   "execution_count": 33,
   "id": "22f8d85f-412e-45fa-b181-e462d6c7064b",
   "metadata": {},
   "outputs": [],
   "source": [
    "loaded_stabilized_inception = torch.load(\n",
    "    os.path.join(\n",
    "        os.path.abspath(\"\"),\n",
    "        \"stability_inception.pt\"\n",
    "    ),\n",
    "    device\n",
    ")\n",
    "\n",
    "loaded_baseline_inception = torch.load(\n",
    "    os.path.join(\n",
    "        os.path.abspath(\"\"),\n",
    "        \"inception.pt\"\n",
    "    ),\n",
    "    device\n",
    ")"
   ]
  },
  {
   "cell_type": "markdown",
   "id": "b87f0a1b-4a70-49cc-adb1-779c17d6b508",
   "metadata": {},
   "source": [
    "Sanity checks:"
   ]
  },
  {
   "cell_type": "code",
   "execution_count": 74,
   "id": "df217af8-135b-482e-aec0-882b04e7b992",
   "metadata": {},
   "outputs": [
    {
     "name": "stdout",
     "output_type": "stream",
     "text": [
      "Inception3(\n",
      "  (Conv2d_1a_3x3): BasicConv2d(\n",
      "    (conv): Conv2d(3, 32, kernel_size=(3, 3), stride=(2, 2), bias=False)\n",
      "    (bn): BatchNorm2d(32, eps=0.001, momentum=0.1, affine=True, track_running_stats=True)\n",
      "  )\n",
      "  (Conv2d_2a_3x3): BasicConv2d(\n",
      "    (conv): Conv2d(32, 32, kernel_size=(3, 3), stride=(1, 1), bias=False)\n",
      "    (bn): BatchNorm2d(32, eps=0.001, momentum=0.1, affine=True, track_running_stats=True)\n",
      "  )\n",
      "  (Conv2d_2b_3x3): BasicConv2d(\n",
      "    (conv): Conv2d(32, 64, kernel_size=(3, 3), stride=(1, 1), padding=(1, 1), bias=False)\n",
      "    (bn): BatchNorm2d(64, eps=0.001, momentum=0.1, affine=True, track_running_stats=True)\n",
      "  )\n",
      "  (maxpool1): MaxPool2d(kernel_size=3, stride=2, padding=0, dilation=1, ceil_mode=False)\n",
      "  (Conv2d_3b_1x1): BasicConv2d(\n",
      "    (conv): Conv2d(64, 80, kernel_size=(1, 1), stride=(1, 1), bias=False)\n",
      "    (bn): BatchNorm2d(80, eps=0.001, momentum=0.1, affine=True, track_running_stats=True)\n",
      "  )\n",
      "  (Conv2d_4a_3x3): BasicConv2d(\n",
      "    (conv): Conv2d(80, 192, kernel_size=(3, 3), stride=(1, 1), bias=False)\n",
      "    (bn): BatchNorm2d(192, eps=0.001, momentum=0.1, affine=True, track_running_stats=True)\n",
      "  )\n",
      "  (maxpool2): MaxPool2d(kernel_size=3, stride=2, padding=0, dilation=1, ceil_mode=False)\n",
      "  (Mixed_5b): InceptionA(\n",
      "    (branch1x1): BasicConv2d(\n",
      "      (conv): Conv2d(192, 64, kernel_size=(1, 1), stride=(1, 1), bias=False)\n",
      "      (bn): BatchNorm2d(64, eps=0.001, momentum=0.1, affine=True, track_running_stats=True)\n",
      "    )\n",
      "    (branch5x5_1): BasicConv2d(\n",
      "      (conv): Conv2d(192, 48, kernel_size=(1, 1), stride=(1, 1), bias=False)\n",
      "      (bn): BatchNorm2d(48, eps=0.001, momentum=0.1, affine=True, track_running_stats=True)\n",
      "    )\n",
      "    (branch5x5_2): BasicConv2d(\n",
      "      (conv): Conv2d(48, 64, kernel_size=(5, 5), stride=(1, 1), padding=(2, 2), bias=False)\n",
      "      (bn): BatchNorm2d(64, eps=0.001, momentum=0.1, affine=True, track_running_stats=True)\n",
      "    )\n",
      "    (branch3x3dbl_1): BasicConv2d(\n",
      "      (conv): Conv2d(192, 64, kernel_size=(1, 1), stride=(1, 1), bias=False)\n",
      "      (bn): BatchNorm2d(64, eps=0.001, momentum=0.1, affine=True, track_running_stats=True)\n",
      "    )\n",
      "    (branch3x3dbl_2): BasicConv2d(\n",
      "      (conv): Conv2d(64, 96, kernel_size=(3, 3), stride=(1, 1), padding=(1, 1), bias=False)\n",
      "      (bn): BatchNorm2d(96, eps=0.001, momentum=0.1, affine=True, track_running_stats=True)\n",
      "    )\n",
      "    (branch3x3dbl_3): BasicConv2d(\n",
      "      (conv): Conv2d(96, 96, kernel_size=(3, 3), stride=(1, 1), padding=(1, 1), bias=False)\n",
      "      (bn): BatchNorm2d(96, eps=0.001, momentum=0.1, affine=True, track_running_stats=True)\n",
      "    )\n",
      "    (branch_pool): BasicConv2d(\n",
      "      (conv): Conv2d(192, 32, kernel_size=(1, 1), stride=(1, 1), bias=False)\n",
      "      (bn): BatchNorm2d(32, eps=0.001, momentum=0.1, affine=True, track_running_stats=True)\n",
      "    )\n",
      "  )\n",
      "  (Mixed_5c): InceptionA(\n",
      "    (branch1x1): BasicConv2d(\n",
      "      (conv): Conv2d(256, 64, kernel_size=(1, 1), stride=(1, 1), bias=False)\n",
      "      (bn): BatchNorm2d(64, eps=0.001, momentum=0.1, affine=True, track_running_stats=True)\n",
      "    )\n",
      "    (branch5x5_1): BasicConv2d(\n",
      "      (conv): Conv2d(256, 48, kernel_size=(1, 1), stride=(1, 1), bias=False)\n",
      "      (bn): BatchNorm2d(48, eps=0.001, momentum=0.1, affine=True, track_running_stats=True)\n",
      "    )\n",
      "    (branch5x5_2): BasicConv2d(\n",
      "      (conv): Conv2d(48, 64, kernel_size=(5, 5), stride=(1, 1), padding=(2, 2), bias=False)\n",
      "      (bn): BatchNorm2d(64, eps=0.001, momentum=0.1, affine=True, track_running_stats=True)\n",
      "    )\n",
      "    (branch3x3dbl_1): BasicConv2d(\n",
      "      (conv): Conv2d(256, 64, kernel_size=(1, 1), stride=(1, 1), bias=False)\n",
      "      (bn): BatchNorm2d(64, eps=0.001, momentum=0.1, affine=True, track_running_stats=True)\n",
      "    )\n",
      "    (branch3x3dbl_2): BasicConv2d(\n",
      "      (conv): Conv2d(64, 96, kernel_size=(3, 3), stride=(1, 1), padding=(1, 1), bias=False)\n",
      "      (bn): BatchNorm2d(96, eps=0.001, momentum=0.1, affine=True, track_running_stats=True)\n",
      "    )\n",
      "    (branch3x3dbl_3): BasicConv2d(\n",
      "      (conv): Conv2d(96, 96, kernel_size=(3, 3), stride=(1, 1), padding=(1, 1), bias=False)\n",
      "      (bn): BatchNorm2d(96, eps=0.001, momentum=0.1, affine=True, track_running_stats=True)\n",
      "    )\n",
      "    (branch_pool): BasicConv2d(\n",
      "      (conv): Conv2d(256, 64, kernel_size=(1, 1), stride=(1, 1), bias=False)\n",
      "      (bn): BatchNorm2d(64, eps=0.001, momentum=0.1, affine=True, track_running_stats=True)\n",
      "    )\n",
      "  )\n",
      "  (Mixed_5d): InceptionA(\n",
      "    (branch1x1): BasicConv2d(\n",
      "      (conv): Conv2d(288, 64, kernel_size=(1, 1), stride=(1, 1), bias=False)\n",
      "      (bn): BatchNorm2d(64, eps=0.001, momentum=0.1, affine=True, track_running_stats=True)\n",
      "    )\n",
      "    (branch5x5_1): BasicConv2d(\n",
      "      (conv): Conv2d(288, 48, kernel_size=(1, 1), stride=(1, 1), bias=False)\n",
      "      (bn): BatchNorm2d(48, eps=0.001, momentum=0.1, affine=True, track_running_stats=True)\n",
      "    )\n",
      "    (branch5x5_2): BasicConv2d(\n",
      "      (conv): Conv2d(48, 64, kernel_size=(5, 5), stride=(1, 1), padding=(2, 2), bias=False)\n",
      "      (bn): BatchNorm2d(64, eps=0.001, momentum=0.1, affine=True, track_running_stats=True)\n",
      "    )\n",
      "    (branch3x3dbl_1): BasicConv2d(\n",
      "      (conv): Conv2d(288, 64, kernel_size=(1, 1), stride=(1, 1), bias=False)\n",
      "      (bn): BatchNorm2d(64, eps=0.001, momentum=0.1, affine=True, track_running_stats=True)\n",
      "    )\n",
      "    (branch3x3dbl_2): BasicConv2d(\n",
      "      (conv): Conv2d(64, 96, kernel_size=(3, 3), stride=(1, 1), padding=(1, 1), bias=False)\n",
      "      (bn): BatchNorm2d(96, eps=0.001, momentum=0.1, affine=True, track_running_stats=True)\n",
      "    )\n",
      "    (branch3x3dbl_3): BasicConv2d(\n",
      "      (conv): Conv2d(96, 96, kernel_size=(3, 3), stride=(1, 1), padding=(1, 1), bias=False)\n",
      "      (bn): BatchNorm2d(96, eps=0.001, momentum=0.1, affine=True, track_running_stats=True)\n",
      "    )\n",
      "    (branch_pool): BasicConv2d(\n",
      "      (conv): Conv2d(288, 64, kernel_size=(1, 1), stride=(1, 1), bias=False)\n",
      "      (bn): BatchNorm2d(64, eps=0.001, momentum=0.1, affine=True, track_running_stats=True)\n",
      "    )\n",
      "  )\n",
      "  (Mixed_6a): InceptionB(\n",
      "    (branch3x3): BasicConv2d(\n",
      "      (conv): Conv2d(288, 384, kernel_size=(3, 3), stride=(2, 2), bias=False)\n",
      "      (bn): BatchNorm2d(384, eps=0.001, momentum=0.1, affine=True, track_running_stats=True)\n",
      "    )\n",
      "    (branch3x3dbl_1): BasicConv2d(\n",
      "      (conv): Conv2d(288, 64, kernel_size=(1, 1), stride=(1, 1), bias=False)\n",
      "      (bn): BatchNorm2d(64, eps=0.001, momentum=0.1, affine=True, track_running_stats=True)\n",
      "    )\n",
      "    (branch3x3dbl_2): BasicConv2d(\n",
      "      (conv): Conv2d(64, 96, kernel_size=(3, 3), stride=(1, 1), padding=(1, 1), bias=False)\n",
      "      (bn): BatchNorm2d(96, eps=0.001, momentum=0.1, affine=True, track_running_stats=True)\n",
      "    )\n",
      "    (branch3x3dbl_3): BasicConv2d(\n",
      "      (conv): Conv2d(96, 96, kernel_size=(3, 3), stride=(2, 2), bias=False)\n",
      "      (bn): BatchNorm2d(96, eps=0.001, momentum=0.1, affine=True, track_running_stats=True)\n",
      "    )\n",
      "  )\n",
      "  (Mixed_6b): InceptionC(\n",
      "    (branch1x1): BasicConv2d(\n",
      "      (conv): Conv2d(768, 192, kernel_size=(1, 1), stride=(1, 1), bias=False)\n",
      "      (bn): BatchNorm2d(192, eps=0.001, momentum=0.1, affine=True, track_running_stats=True)\n",
      "    )\n",
      "    (branch7x7_1): BasicConv2d(\n",
      "      (conv): Conv2d(768, 128, kernel_size=(1, 1), stride=(1, 1), bias=False)\n",
      "      (bn): BatchNorm2d(128, eps=0.001, momentum=0.1, affine=True, track_running_stats=True)\n",
      "    )\n",
      "    (branch7x7_2): BasicConv2d(\n",
      "      (conv): Conv2d(128, 128, kernel_size=(1, 7), stride=(1, 1), padding=(0, 3), bias=False)\n",
      "      (bn): BatchNorm2d(128, eps=0.001, momentum=0.1, affine=True, track_running_stats=True)\n",
      "    )\n",
      "    (branch7x7_3): BasicConv2d(\n",
      "      (conv): Conv2d(128, 192, kernel_size=(7, 1), stride=(1, 1), padding=(3, 0), bias=False)\n",
      "      (bn): BatchNorm2d(192, eps=0.001, momentum=0.1, affine=True, track_running_stats=True)\n",
      "    )\n",
      "    (branch7x7dbl_1): BasicConv2d(\n",
      "      (conv): Conv2d(768, 128, kernel_size=(1, 1), stride=(1, 1), bias=False)\n",
      "      (bn): BatchNorm2d(128, eps=0.001, momentum=0.1, affine=True, track_running_stats=True)\n",
      "    )\n",
      "    (branch7x7dbl_2): BasicConv2d(\n",
      "      (conv): Conv2d(128, 128, kernel_size=(7, 1), stride=(1, 1), padding=(3, 0), bias=False)\n",
      "      (bn): BatchNorm2d(128, eps=0.001, momentum=0.1, affine=True, track_running_stats=True)\n",
      "    )\n",
      "    (branch7x7dbl_3): BasicConv2d(\n",
      "      (conv): Conv2d(128, 128, kernel_size=(1, 7), stride=(1, 1), padding=(0, 3), bias=False)\n",
      "      (bn): BatchNorm2d(128, eps=0.001, momentum=0.1, affine=True, track_running_stats=True)\n",
      "    )\n",
      "    (branch7x7dbl_4): BasicConv2d(\n",
      "      (conv): Conv2d(128, 128, kernel_size=(7, 1), stride=(1, 1), padding=(3, 0), bias=False)\n",
      "      (bn): BatchNorm2d(128, eps=0.001, momentum=0.1, affine=True, track_running_stats=True)\n",
      "    )\n",
      "    (branch7x7dbl_5): BasicConv2d(\n",
      "      (conv): Conv2d(128, 192, kernel_size=(1, 7), stride=(1, 1), padding=(0, 3), bias=False)\n",
      "      (bn): BatchNorm2d(192, eps=0.001, momentum=0.1, affine=True, track_running_stats=True)\n",
      "    )\n",
      "    (branch_pool): BasicConv2d(\n",
      "      (conv): Conv2d(768, 192, kernel_size=(1, 1), stride=(1, 1), bias=False)\n",
      "      (bn): BatchNorm2d(192, eps=0.001, momentum=0.1, affine=True, track_running_stats=True)\n",
      "    )\n",
      "  )\n",
      "  (Mixed_6c): InceptionC(\n",
      "    (branch1x1): BasicConv2d(\n",
      "      (conv): Conv2d(768, 192, kernel_size=(1, 1), stride=(1, 1), bias=False)\n",
      "      (bn): BatchNorm2d(192, eps=0.001, momentum=0.1, affine=True, track_running_stats=True)\n",
      "    )\n",
      "    (branch7x7_1): BasicConv2d(\n",
      "      (conv): Conv2d(768, 160, kernel_size=(1, 1), stride=(1, 1), bias=False)\n",
      "      (bn): BatchNorm2d(160, eps=0.001, momentum=0.1, affine=True, track_running_stats=True)\n",
      "    )\n",
      "    (branch7x7_2): BasicConv2d(\n",
      "      (conv): Conv2d(160, 160, kernel_size=(1, 7), stride=(1, 1), padding=(0, 3), bias=False)\n",
      "      (bn): BatchNorm2d(160, eps=0.001, momentum=0.1, affine=True, track_running_stats=True)\n",
      "    )\n",
      "    (branch7x7_3): BasicConv2d(\n",
      "      (conv): Conv2d(160, 192, kernel_size=(7, 1), stride=(1, 1), padding=(3, 0), bias=False)\n",
      "      (bn): BatchNorm2d(192, eps=0.001, momentum=0.1, affine=True, track_running_stats=True)\n",
      "    )\n",
      "    (branch7x7dbl_1): BasicConv2d(\n",
      "      (conv): Conv2d(768, 160, kernel_size=(1, 1), stride=(1, 1), bias=False)\n",
      "      (bn): BatchNorm2d(160, eps=0.001, momentum=0.1, affine=True, track_running_stats=True)\n",
      "    )\n",
      "    (branch7x7dbl_2): BasicConv2d(\n",
      "      (conv): Conv2d(160, 160, kernel_size=(7, 1), stride=(1, 1), padding=(3, 0), bias=False)\n",
      "      (bn): BatchNorm2d(160, eps=0.001, momentum=0.1, affine=True, track_running_stats=True)\n",
      "    )\n",
      "    (branch7x7dbl_3): BasicConv2d(\n",
      "      (conv): Conv2d(160, 160, kernel_size=(1, 7), stride=(1, 1), padding=(0, 3), bias=False)\n",
      "      (bn): BatchNorm2d(160, eps=0.001, momentum=0.1, affine=True, track_running_stats=True)\n",
      "    )\n",
      "    (branch7x7dbl_4): BasicConv2d(\n",
      "      (conv): Conv2d(160, 160, kernel_size=(7, 1), stride=(1, 1), padding=(3, 0), bias=False)\n",
      "      (bn): BatchNorm2d(160, eps=0.001, momentum=0.1, affine=True, track_running_stats=True)\n",
      "    )\n",
      "    (branch7x7dbl_5): BasicConv2d(\n",
      "      (conv): Conv2d(160, 192, kernel_size=(1, 7), stride=(1, 1), padding=(0, 3), bias=False)\n",
      "      (bn): BatchNorm2d(192, eps=0.001, momentum=0.1, affine=True, track_running_stats=True)\n",
      "    )\n",
      "    (branch_pool): BasicConv2d(\n",
      "      (conv): Conv2d(768, 192, kernel_size=(1, 1), stride=(1, 1), bias=False)\n",
      "      (bn): BatchNorm2d(192, eps=0.001, momentum=0.1, affine=True, track_running_stats=True)\n",
      "    )\n",
      "  )\n",
      "  (Mixed_6d): InceptionC(\n",
      "    (branch1x1): BasicConv2d(\n",
      "      (conv): Conv2d(768, 192, kernel_size=(1, 1), stride=(1, 1), bias=False)\n",
      "      (bn): BatchNorm2d(192, eps=0.001, momentum=0.1, affine=True, track_running_stats=True)\n",
      "    )\n",
      "    (branch7x7_1): BasicConv2d(\n",
      "      (conv): Conv2d(768, 160, kernel_size=(1, 1), stride=(1, 1), bias=False)\n",
      "      (bn): BatchNorm2d(160, eps=0.001, momentum=0.1, affine=True, track_running_stats=True)\n",
      "    )\n",
      "    (branch7x7_2): BasicConv2d(\n",
      "      (conv): Conv2d(160, 160, kernel_size=(1, 7), stride=(1, 1), padding=(0, 3), bias=False)\n",
      "      (bn): BatchNorm2d(160, eps=0.001, momentum=0.1, affine=True, track_running_stats=True)\n",
      "    )\n",
      "    (branch7x7_3): BasicConv2d(\n",
      "      (conv): Conv2d(160, 192, kernel_size=(7, 1), stride=(1, 1), padding=(3, 0), bias=False)\n",
      "      (bn): BatchNorm2d(192, eps=0.001, momentum=0.1, affine=True, track_running_stats=True)\n",
      "    )\n",
      "    (branch7x7dbl_1): BasicConv2d(\n",
      "      (conv): Conv2d(768, 160, kernel_size=(1, 1), stride=(1, 1), bias=False)\n",
      "      (bn): BatchNorm2d(160, eps=0.001, momentum=0.1, affine=True, track_running_stats=True)\n",
      "    )\n",
      "    (branch7x7dbl_2): BasicConv2d(\n",
      "      (conv): Conv2d(160, 160, kernel_size=(7, 1), stride=(1, 1), padding=(3, 0), bias=False)\n",
      "      (bn): BatchNorm2d(160, eps=0.001, momentum=0.1, affine=True, track_running_stats=True)\n",
      "    )\n",
      "    (branch7x7dbl_3): BasicConv2d(\n",
      "      (conv): Conv2d(160, 160, kernel_size=(1, 7), stride=(1, 1), padding=(0, 3), bias=False)\n",
      "      (bn): BatchNorm2d(160, eps=0.001, momentum=0.1, affine=True, track_running_stats=True)\n",
      "    )\n",
      "    (branch7x7dbl_4): BasicConv2d(\n",
      "      (conv): Conv2d(160, 160, kernel_size=(7, 1), stride=(1, 1), padding=(3, 0), bias=False)\n",
      "      (bn): BatchNorm2d(160, eps=0.001, momentum=0.1, affine=True, track_running_stats=True)\n",
      "    )\n",
      "    (branch7x7dbl_5): BasicConv2d(\n",
      "      (conv): Conv2d(160, 192, kernel_size=(1, 7), stride=(1, 1), padding=(0, 3), bias=False)\n",
      "      (bn): BatchNorm2d(192, eps=0.001, momentum=0.1, affine=True, track_running_stats=True)\n",
      "    )\n",
      "    (branch_pool): BasicConv2d(\n",
      "      (conv): Conv2d(768, 192, kernel_size=(1, 1), stride=(1, 1), bias=False)\n",
      "      (bn): BatchNorm2d(192, eps=0.001, momentum=0.1, affine=True, track_running_stats=True)\n",
      "    )\n",
      "  )\n",
      "  (Mixed_6e): InceptionC(\n",
      "    (branch1x1): BasicConv2d(\n",
      "      (conv): Conv2d(768, 192, kernel_size=(1, 1), stride=(1, 1), bias=False)\n",
      "      (bn): BatchNorm2d(192, eps=0.001, momentum=0.1, affine=True, track_running_stats=True)\n",
      "    )\n",
      "    (branch7x7_1): BasicConv2d(\n",
      "      (conv): Conv2d(768, 192, kernel_size=(1, 1), stride=(1, 1), bias=False)\n",
      "      (bn): BatchNorm2d(192, eps=0.001, momentum=0.1, affine=True, track_running_stats=True)\n",
      "    )\n",
      "    (branch7x7_2): BasicConv2d(\n",
      "      (conv): Conv2d(192, 192, kernel_size=(1, 7), stride=(1, 1), padding=(0, 3), bias=False)\n",
      "      (bn): BatchNorm2d(192, eps=0.001, momentum=0.1, affine=True, track_running_stats=True)\n",
      "    )\n",
      "    (branch7x7_3): BasicConv2d(\n",
      "      (conv): Conv2d(192, 192, kernel_size=(7, 1), stride=(1, 1), padding=(3, 0), bias=False)\n",
      "      (bn): BatchNorm2d(192, eps=0.001, momentum=0.1, affine=True, track_running_stats=True)\n",
      "    )\n",
      "    (branch7x7dbl_1): BasicConv2d(\n",
      "      (conv): Conv2d(768, 192, kernel_size=(1, 1), stride=(1, 1), bias=False)\n",
      "      (bn): BatchNorm2d(192, eps=0.001, momentum=0.1, affine=True, track_running_stats=True)\n",
      "    )\n",
      "    (branch7x7dbl_2): BasicConv2d(\n",
      "      (conv): Conv2d(192, 192, kernel_size=(7, 1), stride=(1, 1), padding=(3, 0), bias=False)\n",
      "      (bn): BatchNorm2d(192, eps=0.001, momentum=0.1, affine=True, track_running_stats=True)\n",
      "    )\n",
      "    (branch7x7dbl_3): BasicConv2d(\n",
      "      (conv): Conv2d(192, 192, kernel_size=(1, 7), stride=(1, 1), padding=(0, 3), bias=False)\n",
      "      (bn): BatchNorm2d(192, eps=0.001, momentum=0.1, affine=True, track_running_stats=True)\n",
      "    )\n",
      "    (branch7x7dbl_4): BasicConv2d(\n",
      "      (conv): Conv2d(192, 192, kernel_size=(7, 1), stride=(1, 1), padding=(3, 0), bias=False)\n",
      "      (bn): BatchNorm2d(192, eps=0.001, momentum=0.1, affine=True, track_running_stats=True)\n",
      "    )\n",
      "    (branch7x7dbl_5): BasicConv2d(\n",
      "      (conv): Conv2d(192, 192, kernel_size=(1, 7), stride=(1, 1), padding=(0, 3), bias=False)\n",
      "      (bn): BatchNorm2d(192, eps=0.001, momentum=0.1, affine=True, track_running_stats=True)\n",
      "    )\n",
      "    (branch_pool): BasicConv2d(\n",
      "      (conv): Conv2d(768, 192, kernel_size=(1, 1), stride=(1, 1), bias=False)\n",
      "      (bn): BatchNorm2d(192, eps=0.001, momentum=0.1, affine=True, track_running_stats=True)\n",
      "    )\n",
      "  )\n",
      "  (AuxLogits): None\n",
      "  (Mixed_7a): InceptionD(\n",
      "    (branch3x3_1): BasicConv2d(\n",
      "      (conv): Conv2d(768, 192, kernel_size=(1, 1), stride=(1, 1), bias=False)\n",
      "      (bn): BatchNorm2d(192, eps=0.001, momentum=0.1, affine=True, track_running_stats=True)\n",
      "    )\n",
      "    (branch3x3_2): BasicConv2d(\n",
      "      (conv): Conv2d(192, 320, kernel_size=(3, 3), stride=(2, 2), bias=False)\n",
      "      (bn): BatchNorm2d(320, eps=0.001, momentum=0.1, affine=True, track_running_stats=True)\n",
      "    )\n",
      "    (branch7x7x3_1): BasicConv2d(\n",
      "      (conv): Conv2d(768, 192, kernel_size=(1, 1), stride=(1, 1), bias=False)\n",
      "      (bn): BatchNorm2d(192, eps=0.001, momentum=0.1, affine=True, track_running_stats=True)\n",
      "    )\n",
      "    (branch7x7x3_2): BasicConv2d(\n",
      "      (conv): Conv2d(192, 192, kernel_size=(1, 7), stride=(1, 1), padding=(0, 3), bias=False)\n",
      "      (bn): BatchNorm2d(192, eps=0.001, momentum=0.1, affine=True, track_running_stats=True)\n",
      "    )\n",
      "    (branch7x7x3_3): BasicConv2d(\n",
      "      (conv): Conv2d(192, 192, kernel_size=(7, 1), stride=(1, 1), padding=(3, 0), bias=False)\n",
      "      (bn): BatchNorm2d(192, eps=0.001, momentum=0.1, affine=True, track_running_stats=True)\n",
      "    )\n",
      "    (branch7x7x3_4): BasicConv2d(\n",
      "      (conv): Conv2d(192, 192, kernel_size=(3, 3), stride=(2, 2), bias=False)\n",
      "      (bn): BatchNorm2d(192, eps=0.001, momentum=0.1, affine=True, track_running_stats=True)\n",
      "    )\n",
      "  )\n",
      "  (Mixed_7b): InceptionE(\n",
      "    (branch1x1): BasicConv2d(\n",
      "      (conv): Conv2d(1280, 320, kernel_size=(1, 1), stride=(1, 1), bias=False)\n",
      "      (bn): BatchNorm2d(320, eps=0.001, momentum=0.1, affine=True, track_running_stats=True)\n",
      "    )\n",
      "    (branch3x3_1): BasicConv2d(\n",
      "      (conv): Conv2d(1280, 384, kernel_size=(1, 1), stride=(1, 1), bias=False)\n",
      "      (bn): BatchNorm2d(384, eps=0.001, momentum=0.1, affine=True, track_running_stats=True)\n",
      "    )\n",
      "    (branch3x3_2a): BasicConv2d(\n",
      "      (conv): Conv2d(384, 384, kernel_size=(1, 3), stride=(1, 1), padding=(0, 1), bias=False)\n",
      "      (bn): BatchNorm2d(384, eps=0.001, momentum=0.1, affine=True, track_running_stats=True)\n",
      "    )\n",
      "    (branch3x3_2b): BasicConv2d(\n",
      "      (conv): Conv2d(384, 384, kernel_size=(3, 1), stride=(1, 1), padding=(1, 0), bias=False)\n",
      "      (bn): BatchNorm2d(384, eps=0.001, momentum=0.1, affine=True, track_running_stats=True)\n",
      "    )\n",
      "    (branch3x3dbl_1): BasicConv2d(\n",
      "      (conv): Conv2d(1280, 448, kernel_size=(1, 1), stride=(1, 1), bias=False)\n",
      "      (bn): BatchNorm2d(448, eps=0.001, momentum=0.1, affine=True, track_running_stats=True)\n",
      "    )\n",
      "    (branch3x3dbl_2): BasicConv2d(\n",
      "      (conv): Conv2d(448, 384, kernel_size=(3, 3), stride=(1, 1), padding=(1, 1), bias=False)\n",
      "      (bn): BatchNorm2d(384, eps=0.001, momentum=0.1, affine=True, track_running_stats=True)\n",
      "    )\n",
      "    (branch3x3dbl_3a): BasicConv2d(\n",
      "      (conv): Conv2d(384, 384, kernel_size=(1, 3), stride=(1, 1), padding=(0, 1), bias=False)\n",
      "      (bn): BatchNorm2d(384, eps=0.001, momentum=0.1, affine=True, track_running_stats=True)\n",
      "    )\n",
      "    (branch3x3dbl_3b): BasicConv2d(\n",
      "      (conv): Conv2d(384, 384, kernel_size=(3, 1), stride=(1, 1), padding=(1, 0), bias=False)\n",
      "      (bn): BatchNorm2d(384, eps=0.001, momentum=0.1, affine=True, track_running_stats=True)\n",
      "    )\n",
      "    (branch_pool): BasicConv2d(\n",
      "      (conv): Conv2d(1280, 192, kernel_size=(1, 1), stride=(1, 1), bias=False)\n",
      "      (bn): BatchNorm2d(192, eps=0.001, momentum=0.1, affine=True, track_running_stats=True)\n",
      "    )\n",
      "  )\n",
      "  (Mixed_7c): InceptionE(\n",
      "    (branch1x1): BasicConv2d(\n",
      "      (conv): Conv2d(2048, 320, kernel_size=(1, 1), stride=(1, 1), bias=False)\n",
      "      (bn): BatchNorm2d(320, eps=0.001, momentum=0.1, affine=True, track_running_stats=True)\n",
      "    )\n",
      "    (branch3x3_1): BasicConv2d(\n",
      "      (conv): Conv2d(2048, 384, kernel_size=(1, 1), stride=(1, 1), bias=False)\n",
      "      (bn): BatchNorm2d(384, eps=0.001, momentum=0.1, affine=True, track_running_stats=True)\n",
      "    )\n",
      "    (branch3x3_2a): BasicConv2d(\n",
      "      (conv): Conv2d(384, 384, kernel_size=(1, 3), stride=(1, 1), padding=(0, 1), bias=False)\n",
      "      (bn): BatchNorm2d(384, eps=0.001, momentum=0.1, affine=True, track_running_stats=True)\n",
      "    )\n",
      "    (branch3x3_2b): BasicConv2d(\n",
      "      (conv): Conv2d(384, 384, kernel_size=(3, 1), stride=(1, 1), padding=(1, 0), bias=False)\n",
      "      (bn): BatchNorm2d(384, eps=0.001, momentum=0.1, affine=True, track_running_stats=True)\n",
      "    )\n",
      "    (branch3x3dbl_1): BasicConv2d(\n",
      "      (conv): Conv2d(2048, 448, kernel_size=(1, 1), stride=(1, 1), bias=False)\n",
      "      (bn): BatchNorm2d(448, eps=0.001, momentum=0.1, affine=True, track_running_stats=True)\n",
      "    )\n",
      "    (branch3x3dbl_2): BasicConv2d(\n",
      "      (conv): Conv2d(448, 384, kernel_size=(3, 3), stride=(1, 1), padding=(1, 1), bias=False)\n",
      "      (bn): BatchNorm2d(384, eps=0.001, momentum=0.1, affine=True, track_running_stats=True)\n",
      "    )\n",
      "    (branch3x3dbl_3a): BasicConv2d(\n",
      "      (conv): Conv2d(384, 384, kernel_size=(1, 3), stride=(1, 1), padding=(0, 1), bias=False)\n",
      "      (bn): BatchNorm2d(384, eps=0.001, momentum=0.1, affine=True, track_running_stats=True)\n",
      "    )\n",
      "    (branch3x3dbl_3b): BasicConv2d(\n",
      "      (conv): Conv2d(384, 384, kernel_size=(3, 1), stride=(1, 1), padding=(1, 0), bias=False)\n",
      "      (bn): BatchNorm2d(384, eps=0.001, momentum=0.1, affine=True, track_running_stats=True)\n",
      "    )\n",
      "    (branch_pool): BasicConv2d(\n",
      "      (conv): Conv2d(2048, 192, kernel_size=(1, 1), stride=(1, 1), bias=False)\n",
      "      (bn): BatchNorm2d(192, eps=0.001, momentum=0.1, affine=True, track_running_stats=True)\n",
      "    )\n",
      "  )\n",
      "  (avgpool): AdaptiveAvgPool2d(output_size=(1, 1))\n",
      "  (dropout): Dropout(p=0.5, inplace=False)\n",
      "  (fc): Linear(in_features=2048, out_features=200, bias=True)\n",
      ")\n"
     ]
    }
   ],
   "source": [
    "print(loaded_baseline_inception)"
   ]
  },
  {
   "cell_type": "code",
   "execution_count": 75,
   "id": "522f6755-ab46-4abf-84c0-6abee7512416",
   "metadata": {},
   "outputs": [
    {
     "name": "stdout",
     "output_type": "stream",
     "text": [
      "StabilityTrainingModel(\n",
      "  (model): Inception3(\n",
      "    (Conv2d_1a_3x3): BasicConv2d(\n",
      "      (conv): Conv2d(3, 32, kernel_size=(3, 3), stride=(2, 2), bias=False)\n",
      "      (bn): BatchNorm2d(32, eps=0.001, momentum=0.1, affine=True, track_running_stats=True)\n",
      "    )\n",
      "    (Conv2d_2a_3x3): BasicConv2d(\n",
      "      (conv): Conv2d(32, 32, kernel_size=(3, 3), stride=(1, 1), bias=False)\n",
      "      (bn): BatchNorm2d(32, eps=0.001, momentum=0.1, affine=True, track_running_stats=True)\n",
      "    )\n",
      "    (Conv2d_2b_3x3): BasicConv2d(\n",
      "      (conv): Conv2d(32, 64, kernel_size=(3, 3), stride=(1, 1), padding=(1, 1), bias=False)\n",
      "      (bn): BatchNorm2d(64, eps=0.001, momentum=0.1, affine=True, track_running_stats=True)\n",
      "    )\n",
      "    (maxpool1): MaxPool2d(kernel_size=3, stride=2, padding=0, dilation=1, ceil_mode=False)\n",
      "    (Conv2d_3b_1x1): BasicConv2d(\n",
      "      (conv): Conv2d(64, 80, kernel_size=(1, 1), stride=(1, 1), bias=False)\n",
      "      (bn): BatchNorm2d(80, eps=0.001, momentum=0.1, affine=True, track_running_stats=True)\n",
      "    )\n",
      "    (Conv2d_4a_3x3): BasicConv2d(\n",
      "      (conv): Conv2d(80, 192, kernel_size=(3, 3), stride=(1, 1), bias=False)\n",
      "      (bn): BatchNorm2d(192, eps=0.001, momentum=0.1, affine=True, track_running_stats=True)\n",
      "    )\n",
      "    (maxpool2): MaxPool2d(kernel_size=3, stride=2, padding=0, dilation=1, ceil_mode=False)\n",
      "    (Mixed_5b): InceptionA(\n",
      "      (branch1x1): BasicConv2d(\n",
      "        (conv): Conv2d(192, 64, kernel_size=(1, 1), stride=(1, 1), bias=False)\n",
      "        (bn): BatchNorm2d(64, eps=0.001, momentum=0.1, affine=True, track_running_stats=True)\n",
      "      )\n",
      "      (branch5x5_1): BasicConv2d(\n",
      "        (conv): Conv2d(192, 48, kernel_size=(1, 1), stride=(1, 1), bias=False)\n",
      "        (bn): BatchNorm2d(48, eps=0.001, momentum=0.1, affine=True, track_running_stats=True)\n",
      "      )\n",
      "      (branch5x5_2): BasicConv2d(\n",
      "        (conv): Conv2d(48, 64, kernel_size=(5, 5), stride=(1, 1), padding=(2, 2), bias=False)\n",
      "        (bn): BatchNorm2d(64, eps=0.001, momentum=0.1, affine=True, track_running_stats=True)\n",
      "      )\n",
      "      (branch3x3dbl_1): BasicConv2d(\n",
      "        (conv): Conv2d(192, 64, kernel_size=(1, 1), stride=(1, 1), bias=False)\n",
      "        (bn): BatchNorm2d(64, eps=0.001, momentum=0.1, affine=True, track_running_stats=True)\n",
      "      )\n",
      "      (branch3x3dbl_2): BasicConv2d(\n",
      "        (conv): Conv2d(64, 96, kernel_size=(3, 3), stride=(1, 1), padding=(1, 1), bias=False)\n",
      "        (bn): BatchNorm2d(96, eps=0.001, momentum=0.1, affine=True, track_running_stats=True)\n",
      "      )\n",
      "      (branch3x3dbl_3): BasicConv2d(\n",
      "        (conv): Conv2d(96, 96, kernel_size=(3, 3), stride=(1, 1), padding=(1, 1), bias=False)\n",
      "        (bn): BatchNorm2d(96, eps=0.001, momentum=0.1, affine=True, track_running_stats=True)\n",
      "      )\n",
      "      (branch_pool): BasicConv2d(\n",
      "        (conv): Conv2d(192, 32, kernel_size=(1, 1), stride=(1, 1), bias=False)\n",
      "        (bn): BatchNorm2d(32, eps=0.001, momentum=0.1, affine=True, track_running_stats=True)\n",
      "      )\n",
      "    )\n",
      "    (Mixed_5c): InceptionA(\n",
      "      (branch1x1): BasicConv2d(\n",
      "        (conv): Conv2d(256, 64, kernel_size=(1, 1), stride=(1, 1), bias=False)\n",
      "        (bn): BatchNorm2d(64, eps=0.001, momentum=0.1, affine=True, track_running_stats=True)\n",
      "      )\n",
      "      (branch5x5_1): BasicConv2d(\n",
      "        (conv): Conv2d(256, 48, kernel_size=(1, 1), stride=(1, 1), bias=False)\n",
      "        (bn): BatchNorm2d(48, eps=0.001, momentum=0.1, affine=True, track_running_stats=True)\n",
      "      )\n",
      "      (branch5x5_2): BasicConv2d(\n",
      "        (conv): Conv2d(48, 64, kernel_size=(5, 5), stride=(1, 1), padding=(2, 2), bias=False)\n",
      "        (bn): BatchNorm2d(64, eps=0.001, momentum=0.1, affine=True, track_running_stats=True)\n",
      "      )\n",
      "      (branch3x3dbl_1): BasicConv2d(\n",
      "        (conv): Conv2d(256, 64, kernel_size=(1, 1), stride=(1, 1), bias=False)\n",
      "        (bn): BatchNorm2d(64, eps=0.001, momentum=0.1, affine=True, track_running_stats=True)\n",
      "      )\n",
      "      (branch3x3dbl_2): BasicConv2d(\n",
      "        (conv): Conv2d(64, 96, kernel_size=(3, 3), stride=(1, 1), padding=(1, 1), bias=False)\n",
      "        (bn): BatchNorm2d(96, eps=0.001, momentum=0.1, affine=True, track_running_stats=True)\n",
      "      )\n",
      "      (branch3x3dbl_3): BasicConv2d(\n",
      "        (conv): Conv2d(96, 96, kernel_size=(3, 3), stride=(1, 1), padding=(1, 1), bias=False)\n",
      "        (bn): BatchNorm2d(96, eps=0.001, momentum=0.1, affine=True, track_running_stats=True)\n",
      "      )\n",
      "      (branch_pool): BasicConv2d(\n",
      "        (conv): Conv2d(256, 64, kernel_size=(1, 1), stride=(1, 1), bias=False)\n",
      "        (bn): BatchNorm2d(64, eps=0.001, momentum=0.1, affine=True, track_running_stats=True)\n",
      "      )\n",
      "    )\n",
      "    (Mixed_5d): InceptionA(\n",
      "      (branch1x1): BasicConv2d(\n",
      "        (conv): Conv2d(288, 64, kernel_size=(1, 1), stride=(1, 1), bias=False)\n",
      "        (bn): BatchNorm2d(64, eps=0.001, momentum=0.1, affine=True, track_running_stats=True)\n",
      "      )\n",
      "      (branch5x5_1): BasicConv2d(\n",
      "        (conv): Conv2d(288, 48, kernel_size=(1, 1), stride=(1, 1), bias=False)\n",
      "        (bn): BatchNorm2d(48, eps=0.001, momentum=0.1, affine=True, track_running_stats=True)\n",
      "      )\n",
      "      (branch5x5_2): BasicConv2d(\n",
      "        (conv): Conv2d(48, 64, kernel_size=(5, 5), stride=(1, 1), padding=(2, 2), bias=False)\n",
      "        (bn): BatchNorm2d(64, eps=0.001, momentum=0.1, affine=True, track_running_stats=True)\n",
      "      )\n",
      "      (branch3x3dbl_1): BasicConv2d(\n",
      "        (conv): Conv2d(288, 64, kernel_size=(1, 1), stride=(1, 1), bias=False)\n",
      "        (bn): BatchNorm2d(64, eps=0.001, momentum=0.1, affine=True, track_running_stats=True)\n",
      "      )\n",
      "      (branch3x3dbl_2): BasicConv2d(\n",
      "        (conv): Conv2d(64, 96, kernel_size=(3, 3), stride=(1, 1), padding=(1, 1), bias=False)\n",
      "        (bn): BatchNorm2d(96, eps=0.001, momentum=0.1, affine=True, track_running_stats=True)\n",
      "      )\n",
      "      (branch3x3dbl_3): BasicConv2d(\n",
      "        (conv): Conv2d(96, 96, kernel_size=(3, 3), stride=(1, 1), padding=(1, 1), bias=False)\n",
      "        (bn): BatchNorm2d(96, eps=0.001, momentum=0.1, affine=True, track_running_stats=True)\n",
      "      )\n",
      "      (branch_pool): BasicConv2d(\n",
      "        (conv): Conv2d(288, 64, kernel_size=(1, 1), stride=(1, 1), bias=False)\n",
      "        (bn): BatchNorm2d(64, eps=0.001, momentum=0.1, affine=True, track_running_stats=True)\n",
      "      )\n",
      "    )\n",
      "    (Mixed_6a): InceptionB(\n",
      "      (branch3x3): BasicConv2d(\n",
      "        (conv): Conv2d(288, 384, kernel_size=(3, 3), stride=(2, 2), bias=False)\n",
      "        (bn): BatchNorm2d(384, eps=0.001, momentum=0.1, affine=True, track_running_stats=True)\n",
      "      )\n",
      "      (branch3x3dbl_1): BasicConv2d(\n",
      "        (conv): Conv2d(288, 64, kernel_size=(1, 1), stride=(1, 1), bias=False)\n",
      "        (bn): BatchNorm2d(64, eps=0.001, momentum=0.1, affine=True, track_running_stats=True)\n",
      "      )\n",
      "      (branch3x3dbl_2): BasicConv2d(\n",
      "        (conv): Conv2d(64, 96, kernel_size=(3, 3), stride=(1, 1), padding=(1, 1), bias=False)\n",
      "        (bn): BatchNorm2d(96, eps=0.001, momentum=0.1, affine=True, track_running_stats=True)\n",
      "      )\n",
      "      (branch3x3dbl_3): BasicConv2d(\n",
      "        (conv): Conv2d(96, 96, kernel_size=(3, 3), stride=(2, 2), bias=False)\n",
      "        (bn): BatchNorm2d(96, eps=0.001, momentum=0.1, affine=True, track_running_stats=True)\n",
      "      )\n",
      "    )\n",
      "    (Mixed_6b): InceptionC(\n",
      "      (branch1x1): BasicConv2d(\n",
      "        (conv): Conv2d(768, 192, kernel_size=(1, 1), stride=(1, 1), bias=False)\n",
      "        (bn): BatchNorm2d(192, eps=0.001, momentum=0.1, affine=True, track_running_stats=True)\n",
      "      )\n",
      "      (branch7x7_1): BasicConv2d(\n",
      "        (conv): Conv2d(768, 128, kernel_size=(1, 1), stride=(1, 1), bias=False)\n",
      "        (bn): BatchNorm2d(128, eps=0.001, momentum=0.1, affine=True, track_running_stats=True)\n",
      "      )\n",
      "      (branch7x7_2): BasicConv2d(\n",
      "        (conv): Conv2d(128, 128, kernel_size=(1, 7), stride=(1, 1), padding=(0, 3), bias=False)\n",
      "        (bn): BatchNorm2d(128, eps=0.001, momentum=0.1, affine=True, track_running_stats=True)\n",
      "      )\n",
      "      (branch7x7_3): BasicConv2d(\n",
      "        (conv): Conv2d(128, 192, kernel_size=(7, 1), stride=(1, 1), padding=(3, 0), bias=False)\n",
      "        (bn): BatchNorm2d(192, eps=0.001, momentum=0.1, affine=True, track_running_stats=True)\n",
      "      )\n",
      "      (branch7x7dbl_1): BasicConv2d(\n",
      "        (conv): Conv2d(768, 128, kernel_size=(1, 1), stride=(1, 1), bias=False)\n",
      "        (bn): BatchNorm2d(128, eps=0.001, momentum=0.1, affine=True, track_running_stats=True)\n",
      "      )\n",
      "      (branch7x7dbl_2): BasicConv2d(\n",
      "        (conv): Conv2d(128, 128, kernel_size=(7, 1), stride=(1, 1), padding=(3, 0), bias=False)\n",
      "        (bn): BatchNorm2d(128, eps=0.001, momentum=0.1, affine=True, track_running_stats=True)\n",
      "      )\n",
      "      (branch7x7dbl_3): BasicConv2d(\n",
      "        (conv): Conv2d(128, 128, kernel_size=(1, 7), stride=(1, 1), padding=(0, 3), bias=False)\n",
      "        (bn): BatchNorm2d(128, eps=0.001, momentum=0.1, affine=True, track_running_stats=True)\n",
      "      )\n",
      "      (branch7x7dbl_4): BasicConv2d(\n",
      "        (conv): Conv2d(128, 128, kernel_size=(7, 1), stride=(1, 1), padding=(3, 0), bias=False)\n",
      "        (bn): BatchNorm2d(128, eps=0.001, momentum=0.1, affine=True, track_running_stats=True)\n",
      "      )\n",
      "      (branch7x7dbl_5): BasicConv2d(\n",
      "        (conv): Conv2d(128, 192, kernel_size=(1, 7), stride=(1, 1), padding=(0, 3), bias=False)\n",
      "        (bn): BatchNorm2d(192, eps=0.001, momentum=0.1, affine=True, track_running_stats=True)\n",
      "      )\n",
      "      (branch_pool): BasicConv2d(\n",
      "        (conv): Conv2d(768, 192, kernel_size=(1, 1), stride=(1, 1), bias=False)\n",
      "        (bn): BatchNorm2d(192, eps=0.001, momentum=0.1, affine=True, track_running_stats=True)\n",
      "      )\n",
      "    )\n",
      "    (Mixed_6c): InceptionC(\n",
      "      (branch1x1): BasicConv2d(\n",
      "        (conv): Conv2d(768, 192, kernel_size=(1, 1), stride=(1, 1), bias=False)\n",
      "        (bn): BatchNorm2d(192, eps=0.001, momentum=0.1, affine=True, track_running_stats=True)\n",
      "      )\n",
      "      (branch7x7_1): BasicConv2d(\n",
      "        (conv): Conv2d(768, 160, kernel_size=(1, 1), stride=(1, 1), bias=False)\n",
      "        (bn): BatchNorm2d(160, eps=0.001, momentum=0.1, affine=True, track_running_stats=True)\n",
      "      )\n",
      "      (branch7x7_2): BasicConv2d(\n",
      "        (conv): Conv2d(160, 160, kernel_size=(1, 7), stride=(1, 1), padding=(0, 3), bias=False)\n",
      "        (bn): BatchNorm2d(160, eps=0.001, momentum=0.1, affine=True, track_running_stats=True)\n",
      "      )\n",
      "      (branch7x7_3): BasicConv2d(\n",
      "        (conv): Conv2d(160, 192, kernel_size=(7, 1), stride=(1, 1), padding=(3, 0), bias=False)\n",
      "        (bn): BatchNorm2d(192, eps=0.001, momentum=0.1, affine=True, track_running_stats=True)\n",
      "      )\n",
      "      (branch7x7dbl_1): BasicConv2d(\n",
      "        (conv): Conv2d(768, 160, kernel_size=(1, 1), stride=(1, 1), bias=False)\n",
      "        (bn): BatchNorm2d(160, eps=0.001, momentum=0.1, affine=True, track_running_stats=True)\n",
      "      )\n",
      "      (branch7x7dbl_2): BasicConv2d(\n",
      "        (conv): Conv2d(160, 160, kernel_size=(7, 1), stride=(1, 1), padding=(3, 0), bias=False)\n",
      "        (bn): BatchNorm2d(160, eps=0.001, momentum=0.1, affine=True, track_running_stats=True)\n",
      "      )\n",
      "      (branch7x7dbl_3): BasicConv2d(\n",
      "        (conv): Conv2d(160, 160, kernel_size=(1, 7), stride=(1, 1), padding=(0, 3), bias=False)\n",
      "        (bn): BatchNorm2d(160, eps=0.001, momentum=0.1, affine=True, track_running_stats=True)\n",
      "      )\n",
      "      (branch7x7dbl_4): BasicConv2d(\n",
      "        (conv): Conv2d(160, 160, kernel_size=(7, 1), stride=(1, 1), padding=(3, 0), bias=False)\n",
      "        (bn): BatchNorm2d(160, eps=0.001, momentum=0.1, affine=True, track_running_stats=True)\n",
      "      )\n",
      "      (branch7x7dbl_5): BasicConv2d(\n",
      "        (conv): Conv2d(160, 192, kernel_size=(1, 7), stride=(1, 1), padding=(0, 3), bias=False)\n",
      "        (bn): BatchNorm2d(192, eps=0.001, momentum=0.1, affine=True, track_running_stats=True)\n",
      "      )\n",
      "      (branch_pool): BasicConv2d(\n",
      "        (conv): Conv2d(768, 192, kernel_size=(1, 1), stride=(1, 1), bias=False)\n",
      "        (bn): BatchNorm2d(192, eps=0.001, momentum=0.1, affine=True, track_running_stats=True)\n",
      "      )\n",
      "    )\n",
      "    (Mixed_6d): InceptionC(\n",
      "      (branch1x1): BasicConv2d(\n",
      "        (conv): Conv2d(768, 192, kernel_size=(1, 1), stride=(1, 1), bias=False)\n",
      "        (bn): BatchNorm2d(192, eps=0.001, momentum=0.1, affine=True, track_running_stats=True)\n",
      "      )\n",
      "      (branch7x7_1): BasicConv2d(\n",
      "        (conv): Conv2d(768, 160, kernel_size=(1, 1), stride=(1, 1), bias=False)\n",
      "        (bn): BatchNorm2d(160, eps=0.001, momentum=0.1, affine=True, track_running_stats=True)\n",
      "      )\n",
      "      (branch7x7_2): BasicConv2d(\n",
      "        (conv): Conv2d(160, 160, kernel_size=(1, 7), stride=(1, 1), padding=(0, 3), bias=False)\n",
      "        (bn): BatchNorm2d(160, eps=0.001, momentum=0.1, affine=True, track_running_stats=True)\n",
      "      )\n",
      "      (branch7x7_3): BasicConv2d(\n",
      "        (conv): Conv2d(160, 192, kernel_size=(7, 1), stride=(1, 1), padding=(3, 0), bias=False)\n",
      "        (bn): BatchNorm2d(192, eps=0.001, momentum=0.1, affine=True, track_running_stats=True)\n",
      "      )\n",
      "      (branch7x7dbl_1): BasicConv2d(\n",
      "        (conv): Conv2d(768, 160, kernel_size=(1, 1), stride=(1, 1), bias=False)\n",
      "        (bn): BatchNorm2d(160, eps=0.001, momentum=0.1, affine=True, track_running_stats=True)\n",
      "      )\n",
      "      (branch7x7dbl_2): BasicConv2d(\n",
      "        (conv): Conv2d(160, 160, kernel_size=(7, 1), stride=(1, 1), padding=(3, 0), bias=False)\n",
      "        (bn): BatchNorm2d(160, eps=0.001, momentum=0.1, affine=True, track_running_stats=True)\n",
      "      )\n",
      "      (branch7x7dbl_3): BasicConv2d(\n",
      "        (conv): Conv2d(160, 160, kernel_size=(1, 7), stride=(1, 1), padding=(0, 3), bias=False)\n",
      "        (bn): BatchNorm2d(160, eps=0.001, momentum=0.1, affine=True, track_running_stats=True)\n",
      "      )\n",
      "      (branch7x7dbl_4): BasicConv2d(\n",
      "        (conv): Conv2d(160, 160, kernel_size=(7, 1), stride=(1, 1), padding=(3, 0), bias=False)\n",
      "        (bn): BatchNorm2d(160, eps=0.001, momentum=0.1, affine=True, track_running_stats=True)\n",
      "      )\n",
      "      (branch7x7dbl_5): BasicConv2d(\n",
      "        (conv): Conv2d(160, 192, kernel_size=(1, 7), stride=(1, 1), padding=(0, 3), bias=False)\n",
      "        (bn): BatchNorm2d(192, eps=0.001, momentum=0.1, affine=True, track_running_stats=True)\n",
      "      )\n",
      "      (branch_pool): BasicConv2d(\n",
      "        (conv): Conv2d(768, 192, kernel_size=(1, 1), stride=(1, 1), bias=False)\n",
      "        (bn): BatchNorm2d(192, eps=0.001, momentum=0.1, affine=True, track_running_stats=True)\n",
      "      )\n",
      "    )\n",
      "    (Mixed_6e): InceptionC(\n",
      "      (branch1x1): BasicConv2d(\n",
      "        (conv): Conv2d(768, 192, kernel_size=(1, 1), stride=(1, 1), bias=False)\n",
      "        (bn): BatchNorm2d(192, eps=0.001, momentum=0.1, affine=True, track_running_stats=True)\n",
      "      )\n",
      "      (branch7x7_1): BasicConv2d(\n",
      "        (conv): Conv2d(768, 192, kernel_size=(1, 1), stride=(1, 1), bias=False)\n",
      "        (bn): BatchNorm2d(192, eps=0.001, momentum=0.1, affine=True, track_running_stats=True)\n",
      "      )\n",
      "      (branch7x7_2): BasicConv2d(\n",
      "        (conv): Conv2d(192, 192, kernel_size=(1, 7), stride=(1, 1), padding=(0, 3), bias=False)\n",
      "        (bn): BatchNorm2d(192, eps=0.001, momentum=0.1, affine=True, track_running_stats=True)\n",
      "      )\n",
      "      (branch7x7_3): BasicConv2d(\n",
      "        (conv): Conv2d(192, 192, kernel_size=(7, 1), stride=(1, 1), padding=(3, 0), bias=False)\n",
      "        (bn): BatchNorm2d(192, eps=0.001, momentum=0.1, affine=True, track_running_stats=True)\n",
      "      )\n",
      "      (branch7x7dbl_1): BasicConv2d(\n",
      "        (conv): Conv2d(768, 192, kernel_size=(1, 1), stride=(1, 1), bias=False)\n",
      "        (bn): BatchNorm2d(192, eps=0.001, momentum=0.1, affine=True, track_running_stats=True)\n",
      "      )\n",
      "      (branch7x7dbl_2): BasicConv2d(\n",
      "        (conv): Conv2d(192, 192, kernel_size=(7, 1), stride=(1, 1), padding=(3, 0), bias=False)\n",
      "        (bn): BatchNorm2d(192, eps=0.001, momentum=0.1, affine=True, track_running_stats=True)\n",
      "      )\n",
      "      (branch7x7dbl_3): BasicConv2d(\n",
      "        (conv): Conv2d(192, 192, kernel_size=(1, 7), stride=(1, 1), padding=(0, 3), bias=False)\n",
      "        (bn): BatchNorm2d(192, eps=0.001, momentum=0.1, affine=True, track_running_stats=True)\n",
      "      )\n",
      "      (branch7x7dbl_4): BasicConv2d(\n",
      "        (conv): Conv2d(192, 192, kernel_size=(7, 1), stride=(1, 1), padding=(3, 0), bias=False)\n",
      "        (bn): BatchNorm2d(192, eps=0.001, momentum=0.1, affine=True, track_running_stats=True)\n",
      "      )\n",
      "      (branch7x7dbl_5): BasicConv2d(\n",
      "        (conv): Conv2d(192, 192, kernel_size=(1, 7), stride=(1, 1), padding=(0, 3), bias=False)\n",
      "        (bn): BatchNorm2d(192, eps=0.001, momentum=0.1, affine=True, track_running_stats=True)\n",
      "      )\n",
      "      (branch_pool): BasicConv2d(\n",
      "        (conv): Conv2d(768, 192, kernel_size=(1, 1), stride=(1, 1), bias=False)\n",
      "        (bn): BatchNorm2d(192, eps=0.001, momentum=0.1, affine=True, track_running_stats=True)\n",
      "      )\n",
      "    )\n",
      "    (AuxLogits): None\n",
      "    (Mixed_7a): InceptionD(\n",
      "      (branch3x3_1): BasicConv2d(\n",
      "        (conv): Conv2d(768, 192, kernel_size=(1, 1), stride=(1, 1), bias=False)\n",
      "        (bn): BatchNorm2d(192, eps=0.001, momentum=0.1, affine=True, track_running_stats=True)\n",
      "      )\n",
      "      (branch3x3_2): BasicConv2d(\n",
      "        (conv): Conv2d(192, 320, kernel_size=(3, 3), stride=(2, 2), bias=False)\n",
      "        (bn): BatchNorm2d(320, eps=0.001, momentum=0.1, affine=True, track_running_stats=True)\n",
      "      )\n",
      "      (branch7x7x3_1): BasicConv2d(\n",
      "        (conv): Conv2d(768, 192, kernel_size=(1, 1), stride=(1, 1), bias=False)\n",
      "        (bn): BatchNorm2d(192, eps=0.001, momentum=0.1, affine=True, track_running_stats=True)\n",
      "      )\n",
      "      (branch7x7x3_2): BasicConv2d(\n",
      "        (conv): Conv2d(192, 192, kernel_size=(1, 7), stride=(1, 1), padding=(0, 3), bias=False)\n",
      "        (bn): BatchNorm2d(192, eps=0.001, momentum=0.1, affine=True, track_running_stats=True)\n",
      "      )\n",
      "      (branch7x7x3_3): BasicConv2d(\n",
      "        (conv): Conv2d(192, 192, kernel_size=(7, 1), stride=(1, 1), padding=(3, 0), bias=False)\n",
      "        (bn): BatchNorm2d(192, eps=0.001, momentum=0.1, affine=True, track_running_stats=True)\n",
      "      )\n",
      "      (branch7x7x3_4): BasicConv2d(\n",
      "        (conv): Conv2d(192, 192, kernel_size=(3, 3), stride=(2, 2), bias=False)\n",
      "        (bn): BatchNorm2d(192, eps=0.001, momentum=0.1, affine=True, track_running_stats=True)\n",
      "      )\n",
      "    )\n",
      "    (Mixed_7b): InceptionE(\n",
      "      (branch1x1): BasicConv2d(\n",
      "        (conv): Conv2d(1280, 320, kernel_size=(1, 1), stride=(1, 1), bias=False)\n",
      "        (bn): BatchNorm2d(320, eps=0.001, momentum=0.1, affine=True, track_running_stats=True)\n",
      "      )\n",
      "      (branch3x3_1): BasicConv2d(\n",
      "        (conv): Conv2d(1280, 384, kernel_size=(1, 1), stride=(1, 1), bias=False)\n",
      "        (bn): BatchNorm2d(384, eps=0.001, momentum=0.1, affine=True, track_running_stats=True)\n",
      "      )\n",
      "      (branch3x3_2a): BasicConv2d(\n",
      "        (conv): Conv2d(384, 384, kernel_size=(1, 3), stride=(1, 1), padding=(0, 1), bias=False)\n",
      "        (bn): BatchNorm2d(384, eps=0.001, momentum=0.1, affine=True, track_running_stats=True)\n",
      "      )\n",
      "      (branch3x3_2b): BasicConv2d(\n",
      "        (conv): Conv2d(384, 384, kernel_size=(3, 1), stride=(1, 1), padding=(1, 0), bias=False)\n",
      "        (bn): BatchNorm2d(384, eps=0.001, momentum=0.1, affine=True, track_running_stats=True)\n",
      "      )\n",
      "      (branch3x3dbl_1): BasicConv2d(\n",
      "        (conv): Conv2d(1280, 448, kernel_size=(1, 1), stride=(1, 1), bias=False)\n",
      "        (bn): BatchNorm2d(448, eps=0.001, momentum=0.1, affine=True, track_running_stats=True)\n",
      "      )\n",
      "      (branch3x3dbl_2): BasicConv2d(\n",
      "        (conv): Conv2d(448, 384, kernel_size=(3, 3), stride=(1, 1), padding=(1, 1), bias=False)\n",
      "        (bn): BatchNorm2d(384, eps=0.001, momentum=0.1, affine=True, track_running_stats=True)\n",
      "      )\n",
      "      (branch3x3dbl_3a): BasicConv2d(\n",
      "        (conv): Conv2d(384, 384, kernel_size=(1, 3), stride=(1, 1), padding=(0, 1), bias=False)\n",
      "        (bn): BatchNorm2d(384, eps=0.001, momentum=0.1, affine=True, track_running_stats=True)\n",
      "      )\n",
      "      (branch3x3dbl_3b): BasicConv2d(\n",
      "        (conv): Conv2d(384, 384, kernel_size=(3, 1), stride=(1, 1), padding=(1, 0), bias=False)\n",
      "        (bn): BatchNorm2d(384, eps=0.001, momentum=0.1, affine=True, track_running_stats=True)\n",
      "      )\n",
      "      (branch_pool): BasicConv2d(\n",
      "        (conv): Conv2d(1280, 192, kernel_size=(1, 1), stride=(1, 1), bias=False)\n",
      "        (bn): BatchNorm2d(192, eps=0.001, momentum=0.1, affine=True, track_running_stats=True)\n",
      "      )\n",
      "    )\n",
      "    (Mixed_7c): InceptionE(\n",
      "      (branch1x1): BasicConv2d(\n",
      "        (conv): Conv2d(2048, 320, kernel_size=(1, 1), stride=(1, 1), bias=False)\n",
      "        (bn): BatchNorm2d(320, eps=0.001, momentum=0.1, affine=True, track_running_stats=True)\n",
      "      )\n",
      "      (branch3x3_1): BasicConv2d(\n",
      "        (conv): Conv2d(2048, 384, kernel_size=(1, 1), stride=(1, 1), bias=False)\n",
      "        (bn): BatchNorm2d(384, eps=0.001, momentum=0.1, affine=True, track_running_stats=True)\n",
      "      )\n",
      "      (branch3x3_2a): BasicConv2d(\n",
      "        (conv): Conv2d(384, 384, kernel_size=(1, 3), stride=(1, 1), padding=(0, 1), bias=False)\n",
      "        (bn): BatchNorm2d(384, eps=0.001, momentum=0.1, affine=True, track_running_stats=True)\n",
      "      )\n",
      "      (branch3x3_2b): BasicConv2d(\n",
      "        (conv): Conv2d(384, 384, kernel_size=(3, 1), stride=(1, 1), padding=(1, 0), bias=False)\n",
      "        (bn): BatchNorm2d(384, eps=0.001, momentum=0.1, affine=True, track_running_stats=True)\n",
      "      )\n",
      "      (branch3x3dbl_1): BasicConv2d(\n",
      "        (conv): Conv2d(2048, 448, kernel_size=(1, 1), stride=(1, 1), bias=False)\n",
      "        (bn): BatchNorm2d(448, eps=0.001, momentum=0.1, affine=True, track_running_stats=True)\n",
      "      )\n",
      "      (branch3x3dbl_2): BasicConv2d(\n",
      "        (conv): Conv2d(448, 384, kernel_size=(3, 3), stride=(1, 1), padding=(1, 1), bias=False)\n",
      "        (bn): BatchNorm2d(384, eps=0.001, momentum=0.1, affine=True, track_running_stats=True)\n",
      "      )\n",
      "      (branch3x3dbl_3a): BasicConv2d(\n",
      "        (conv): Conv2d(384, 384, kernel_size=(1, 3), stride=(1, 1), padding=(0, 1), bias=False)\n",
      "        (bn): BatchNorm2d(384, eps=0.001, momentum=0.1, affine=True, track_running_stats=True)\n",
      "      )\n",
      "      (branch3x3dbl_3b): BasicConv2d(\n",
      "        (conv): Conv2d(384, 384, kernel_size=(3, 1), stride=(1, 1), padding=(1, 0), bias=False)\n",
      "        (bn): BatchNorm2d(384, eps=0.001, momentum=0.1, affine=True, track_running_stats=True)\n",
      "      )\n",
      "      (branch_pool): BasicConv2d(\n",
      "        (conv): Conv2d(2048, 192, kernel_size=(1, 1), stride=(1, 1), bias=False)\n",
      "        (bn): BatchNorm2d(192, eps=0.001, momentum=0.1, affine=True, track_running_stats=True)\n",
      "      )\n",
      "    )\n",
      "    (avgpool): AdaptiveAvgPool2d(output_size=(1, 1))\n",
      "    (dropout): Dropout(p=0.5, inplace=False)\n",
      "    (fc): Linear(in_features=2048, out_features=200, bias=True)\n",
      "  )\n",
      ")\n"
     ]
    }
   ],
   "source": [
    "print(loaded_stabilized_inception)"
   ]
  },
  {
   "cell_type": "code",
   "execution_count": 76,
   "id": "30edc60b-44d0-4c7e-ba1e-d962724c52fe",
   "metadata": {},
   "outputs": [
    {
     "data": {
      "image/svg+xml": [
       "<?xml version=\"1.0\" encoding=\"UTF-8\" standalone=\"no\"?>\n",
       "<!DOCTYPE svg PUBLIC \"-//W3C//DTD SVG 1.1//EN\"\n",
       " \"http://www.w3.org/Graphics/SVG/1.1/DTD/svg11.dtd\">\n",
       "<!-- Generated by graphviz version 3.0.0 (20220226.1711)\n",
       " -->\n",
       "<!-- Pages: 1 -->\n",
       "<svg width=\"216pt\" height=\"281pt\"\n",
       " viewBox=\"0.00 0.00 216.00 281.00\" xmlns=\"http://www.w3.org/2000/svg\" xmlns:xlink=\"http://www.w3.org/1999/xlink\">\n",
       "<g id=\"graph0\" class=\"graph\" transform=\"scale(1 1) rotate(0) translate(4 277)\">\n",
       "<polygon fill=\"white\" stroke=\"transparent\" points=\"-4,4 -4,-277 212,-277 212,4 -4,4\"/>\n",
       "<!-- 2249656501808 -->\n",
       "<g id=\"node1\" class=\"node\">\n",
       "<title>2249656501808</title>\n",
       "<polygon fill=\"#caff70\" stroke=\"black\" points=\"139,-31 68,-31 68,0 139,0 139,-31\"/>\n",
       "<text text-anchor=\"middle\" x=\"103.5\" y=\"-7\" font-family=\"monospace\" font-size=\"10.00\"> (1, 200)</text>\n",
       "</g>\n",
       "<!-- 2249321260944 -->\n",
       "<g id=\"node2\" class=\"node\">\n",
       "<title>2249321260944</title>\n",
       "<polygon fill=\"lightgrey\" stroke=\"black\" points=\"154,-86 53,-86 53,-67 154,-67 154,-86\"/>\n",
       "<text text-anchor=\"middle\" x=\"103.5\" y=\"-74\" font-family=\"monospace\" font-size=\"10.00\">AddmmBackward0</text>\n",
       "</g>\n",
       "<!-- 2249321260944&#45;&gt;2249656501808 -->\n",
       "<g id=\"edge6\" class=\"edge\">\n",
       "<title>2249321260944&#45;&gt;2249656501808</title>\n",
       "<path fill=\"none\" stroke=\"black\" d=\"M103.5,-66.79C103.5,-60.07 103.5,-50.4 103.5,-41.34\"/>\n",
       "<polygon fill=\"black\" stroke=\"black\" points=\"107,-41.19 103.5,-31.19 100,-41.19 107,-41.19\"/>\n",
       "</g>\n",
       "<!-- 2249321260992 -->\n",
       "<g id=\"node3\" class=\"node\">\n",
       "<title>2249321260992</title>\n",
       "<polygon fill=\"lightgrey\" stroke=\"black\" points=\"101,-141 0,-141 0,-122 101,-122 101,-141\"/>\n",
       "<text text-anchor=\"middle\" x=\"50.5\" y=\"-129\" font-family=\"monospace\" font-size=\"10.00\">AccumulateGrad</text>\n",
       "</g>\n",
       "<!-- 2249321260992&#45;&gt;2249321260944 -->\n",
       "<g id=\"edge1\" class=\"edge\">\n",
       "<title>2249321260992&#45;&gt;2249321260944</title>\n",
       "<path fill=\"none\" stroke=\"black\" d=\"M59.25,-121.75C66.97,-114.03 78.4,-102.6 87.72,-93.28\"/>\n",
       "<polygon fill=\"black\" stroke=\"black\" points=\"90.31,-95.64 94.91,-86.09 85.36,-90.69 90.31,-95.64\"/>\n",
       "</g>\n",
       "<!-- 2242619353584 -->\n",
       "<g id=\"node4\" class=\"node\">\n",
       "<title>2242619353584</title>\n",
       "<polygon fill=\"lightblue\" stroke=\"black\" points=\"80,-207 21,-207 21,-177 80,-177 80,-207\"/>\n",
       "<text text-anchor=\"middle\" x=\"50.5\" y=\"-195\" font-family=\"monospace\" font-size=\"10.00\">fc.bias</text>\n",
       "<text text-anchor=\"middle\" x=\"50.5\" y=\"-184\" font-family=\"monospace\" font-size=\"10.00\"> (200)</text>\n",
       "</g>\n",
       "<!-- 2242619353584&#45;&gt;2249321260992 -->\n",
       "<g id=\"edge2\" class=\"edge\">\n",
       "<title>2242619353584&#45;&gt;2249321260992</title>\n",
       "<path fill=\"none\" stroke=\"black\" d=\"M50.5,-176.84C50.5,-169.21 50.5,-159.7 50.5,-151.45\"/>\n",
       "<polygon fill=\"black\" stroke=\"black\" points=\"54,-151.27 50.5,-141.27 47,-151.27 54,-151.27\"/>\n",
       "</g>\n",
       "<!-- 2249321260800 -->\n",
       "<g id=\"node5\" class=\"node\">\n",
       "<title>2249321260800</title>\n",
       "<polygon fill=\"lightgrey\" stroke=\"black\" points=\"196,-141 119,-141 119,-122 196,-122 196,-141\"/>\n",
       "<text text-anchor=\"middle\" x=\"157.5\" y=\"-129\" font-family=\"monospace\" font-size=\"10.00\">TBackward0</text>\n",
       "</g>\n",
       "<!-- 2249321260800&#45;&gt;2249321260944 -->\n",
       "<g id=\"edge3\" class=\"edge\">\n",
       "<title>2249321260800&#45;&gt;2249321260944</title>\n",
       "<path fill=\"none\" stroke=\"black\" d=\"M148.58,-121.75C140.72,-114.03 129.07,-102.6 119.58,-93.28\"/>\n",
       "<polygon fill=\"black\" stroke=\"black\" points=\"121.84,-90.6 112.25,-86.09 116.94,-95.59 121.84,-90.6\"/>\n",
       "</g>\n",
       "<!-- 2249321261088 -->\n",
       "<g id=\"node6\" class=\"node\">\n",
       "<title>2249321261088</title>\n",
       "<polygon fill=\"lightgrey\" stroke=\"black\" points=\"208,-201.5 107,-201.5 107,-182.5 208,-182.5 208,-201.5\"/>\n",
       "<text text-anchor=\"middle\" x=\"157.5\" y=\"-189.5\" font-family=\"monospace\" font-size=\"10.00\">AccumulateGrad</text>\n",
       "</g>\n",
       "<!-- 2249321261088&#45;&gt;2249321260800 -->\n",
       "<g id=\"edge4\" class=\"edge\">\n",
       "<title>2249321261088&#45;&gt;2249321260800</title>\n",
       "<path fill=\"none\" stroke=\"black\" d=\"M157.5,-182.37C157.5,-174.25 157.5,-161.81 157.5,-151.39\"/>\n",
       "<polygon fill=\"black\" stroke=\"black\" points=\"161,-151.17 157.5,-141.17 154,-151.17 161,-151.17\"/>\n",
       "</g>\n",
       "<!-- 2242619353344 -->\n",
       "<g id=\"node7\" class=\"node\">\n",
       "<title>2242619353344</title>\n",
       "<polygon fill=\"lightblue\" stroke=\"black\" points=\"202,-273 113,-273 113,-243 202,-243 202,-273\"/>\n",
       "<text text-anchor=\"middle\" x=\"157.5\" y=\"-261\" font-family=\"monospace\" font-size=\"10.00\">fc.weight</text>\n",
       "<text text-anchor=\"middle\" x=\"157.5\" y=\"-250\" font-family=\"monospace\" font-size=\"10.00\"> (200, 2048)</text>\n",
       "</g>\n",
       "<!-- 2242619353344&#45;&gt;2249321261088 -->\n",
       "<g id=\"edge5\" class=\"edge\">\n",
       "<title>2242619353344&#45;&gt;2249321261088</title>\n",
       "<path fill=\"none\" stroke=\"black\" d=\"M157.5,-242.8C157.5,-233.7 157.5,-221.79 157.5,-211.9\"/>\n",
       "<polygon fill=\"black\" stroke=\"black\" points=\"161,-211.84 157.5,-201.84 154,-211.84 161,-211.84\"/>\n",
       "</g>\n",
       "</g>\n",
       "</svg>\n"
      ],
      "text/plain": [
       "<graphviz.graphs.Digraph at 0x20bb5fea730>"
      ]
     },
     "execution_count": 76,
     "metadata": {},
     "output_type": "execute_result"
    }
   ],
   "source": [
    "gradient_sanity_display(\n",
    "    loaded_baseline_inception,\n",
    "    [next(iter(inception_train_loader))[0][0].reshape(1, 3, 299, 299)]\n",
    ")"
   ]
  },
  {
   "cell_type": "code",
   "execution_count": 77,
   "id": "1e69b9e9-a800-4103-bd92-1d1880d66361",
   "metadata": {},
   "outputs": [
    {
     "data": {
      "image/svg+xml": [
       "<?xml version=\"1.0\" encoding=\"UTF-8\" standalone=\"no\"?>\n",
       "<!DOCTYPE svg PUBLIC \"-//W3C//DTD SVG 1.1//EN\"\n",
       " \"http://www.w3.org/Graphics/SVG/1.1/DTD/svg11.dtd\">\n",
       "<!-- Generated by graphviz version 3.0.0 (20220226.1711)\n",
       " -->\n",
       "<!-- Pages: 1 -->\n",
       "<svg width=\"299pt\" height=\"281pt\"\n",
       " viewBox=\"0.00 0.00 299.00 281.00\" xmlns=\"http://www.w3.org/2000/svg\" xmlns:xlink=\"http://www.w3.org/1999/xlink\">\n",
       "<g id=\"graph0\" class=\"graph\" transform=\"scale(1 1) rotate(0) translate(4 277)\">\n",
       "<polygon fill=\"white\" stroke=\"transparent\" points=\"-4,4 -4,-277 295,-277 295,4 -4,4\"/>\n",
       "<!-- 2242436333712 -->\n",
       "<g id=\"node1\" class=\"node\">\n",
       "<title>2242436333712</title>\n",
       "<polygon fill=\"#caff70\" stroke=\"black\" points=\"255,-31 184,-31 184,0 255,0 255,-31\"/>\n",
       "<text text-anchor=\"middle\" x=\"219.5\" y=\"-7\" font-family=\"monospace\" font-size=\"10.00\"> (1, 200)</text>\n",
       "</g>\n",
       "<!-- 2249426868016 -->\n",
       "<g id=\"node2\" class=\"node\">\n",
       "<title>2249426868016</title>\n",
       "<polygon fill=\"lightgrey\" stroke=\"black\" points=\"270,-86 169,-86 169,-67 270,-67 270,-86\"/>\n",
       "<text text-anchor=\"middle\" x=\"219.5\" y=\"-74\" font-family=\"monospace\" font-size=\"10.00\">AddmmBackward0</text>\n",
       "</g>\n",
       "<!-- 2249426868016&#45;&gt;2242436333712 -->\n",
       "<g id=\"edge6\" class=\"edge\">\n",
       "<title>2249426868016&#45;&gt;2242436333712</title>\n",
       "<path fill=\"none\" stroke=\"black\" d=\"M219.5,-66.79C219.5,-60.07 219.5,-50.4 219.5,-41.34\"/>\n",
       "<polygon fill=\"black\" stroke=\"black\" points=\"223,-41.19 219.5,-31.19 216,-41.19 223,-41.19\"/>\n",
       "</g>\n",
       "<!-- 2249426866288 -->\n",
       "<g id=\"node3\" class=\"node\">\n",
       "<title>2249426866288</title>\n",
       "<polygon fill=\"lightgrey\" stroke=\"black\" points=\"291,-141 190,-141 190,-122 291,-122 291,-141\"/>\n",
       "<text text-anchor=\"middle\" x=\"240.5\" y=\"-129\" font-family=\"monospace\" font-size=\"10.00\">AccumulateGrad</text>\n",
       "</g>\n",
       "<!-- 2249426866288&#45;&gt;2249426868016 -->\n",
       "<g id=\"edge1\" class=\"edge\">\n",
       "<title>2249426866288&#45;&gt;2249426868016</title>\n",
       "<path fill=\"none\" stroke=\"black\" d=\"M237.03,-121.75C234.22,-114.65 230.16,-104.4 226.65,-95.56\"/>\n",
       "<polygon fill=\"black\" stroke=\"black\" points=\"229.84,-94.1 222.9,-86.09 223.33,-96.68 229.84,-94.1\"/>\n",
       "</g>\n",
       "<!-- 2249460039248 -->\n",
       "<g id=\"node9\" class=\"node\">\n",
       "<title>2249460039248</title>\n",
       "<polygon fill=\"lightgrey\" stroke=\"black\" points=\"130,-86 29,-86 29,-67 130,-67 130,-86\"/>\n",
       "<text text-anchor=\"middle\" x=\"79.5\" y=\"-74\" font-family=\"monospace\" font-size=\"10.00\">AddmmBackward0</text>\n",
       "</g>\n",
       "<!-- 2249426866288&#45;&gt;2249460039248 -->\n",
       "<g id=\"edge7\" class=\"edge\">\n",
       "<title>2249426866288&#45;&gt;2249460039248</title>\n",
       "<path fill=\"none\" stroke=\"black\" d=\"M214.63,-121.98C187.72,-113.13 145.38,-99.19 115.27,-89.28\"/>\n",
       "<polygon fill=\"black\" stroke=\"black\" points=\"116.16,-85.88 105.57,-86.08 113.97,-92.53 116.16,-85.88\"/>\n",
       "</g>\n",
       "<!-- 2249907928576 -->\n",
       "<g id=\"node4\" class=\"node\">\n",
       "<title>2249907928576</title>\n",
       "<polygon fill=\"lightblue\" stroke=\"black\" points=\"288,-207 193,-207 193,-177 288,-177 288,-207\"/>\n",
       "<text text-anchor=\"middle\" x=\"240.5\" y=\"-195\" font-family=\"monospace\" font-size=\"10.00\">model.fc.bias</text>\n",
       "<text text-anchor=\"middle\" x=\"240.5\" y=\"-184\" font-family=\"monospace\" font-size=\"10.00\"> (200)</text>\n",
       "</g>\n",
       "<!-- 2249907928576&#45;&gt;2249426866288 -->\n",
       "<g id=\"edge2\" class=\"edge\">\n",
       "<title>2249907928576&#45;&gt;2249426866288</title>\n",
       "<path fill=\"none\" stroke=\"black\" d=\"M240.5,-176.84C240.5,-169.21 240.5,-159.7 240.5,-151.45\"/>\n",
       "<polygon fill=\"black\" stroke=\"black\" points=\"244,-151.27 240.5,-141.27 237,-151.27 244,-151.27\"/>\n",
       "</g>\n",
       "<!-- 2249426867344 -->\n",
       "<g id=\"node5\" class=\"node\">\n",
       "<title>2249426867344</title>\n",
       "<polygon fill=\"lightgrey\" stroke=\"black\" points=\"172,-141 95,-141 95,-122 172,-122 172,-141\"/>\n",
       "<text text-anchor=\"middle\" x=\"133.5\" y=\"-129\" font-family=\"monospace\" font-size=\"10.00\">TBackward0</text>\n",
       "</g>\n",
       "<!-- 2249426867344&#45;&gt;2249426868016 -->\n",
       "<g id=\"edge3\" class=\"edge\">\n",
       "<title>2249426867344&#45;&gt;2249426868016</title>\n",
       "<path fill=\"none\" stroke=\"black\" d=\"M147.32,-121.98C160.65,-113.77 181.08,-101.18 196.81,-91.49\"/>\n",
       "<polygon fill=\"black\" stroke=\"black\" points=\"198.75,-94.4 205.43,-86.17 195.08,-88.44 198.75,-94.4\"/>\n",
       "</g>\n",
       "<!-- 2242391378336 -->\n",
       "<g id=\"node6\" class=\"node\">\n",
       "<title>2242391378336</title>\n",
       "<polygon fill=\"lightgrey\" stroke=\"black\" points=\"132,-201.5 31,-201.5 31,-182.5 132,-182.5 132,-201.5\"/>\n",
       "<text text-anchor=\"middle\" x=\"81.5\" y=\"-189.5\" font-family=\"monospace\" font-size=\"10.00\">AccumulateGrad</text>\n",
       "</g>\n",
       "<!-- 2242391378336&#45;&gt;2249426867344 -->\n",
       "<g id=\"edge4\" class=\"edge\">\n",
       "<title>2242391378336&#45;&gt;2249426867344</title>\n",
       "<path fill=\"none\" stroke=\"black\" d=\"M89.17,-182.37C97.01,-173.55 109.36,-159.66 119.04,-148.77\"/>\n",
       "<polygon fill=\"black\" stroke=\"black\" points=\"121.77,-150.97 125.8,-141.17 116.54,-146.32 121.77,-150.97\"/>\n",
       "</g>\n",
       "<!-- 2242391379248 -->\n",
       "<g id=\"node10\" class=\"node\">\n",
       "<title>2242391379248</title>\n",
       "<polygon fill=\"lightgrey\" stroke=\"black\" points=\"77,-141 0,-141 0,-122 77,-122 77,-141\"/>\n",
       "<text text-anchor=\"middle\" x=\"38.5\" y=\"-129\" font-family=\"monospace\" font-size=\"10.00\">TBackward0</text>\n",
       "</g>\n",
       "<!-- 2242391378336&#45;&gt;2242391379248 -->\n",
       "<g id=\"edge9\" class=\"edge\">\n",
       "<title>2242391378336&#45;&gt;2242391379248</title>\n",
       "<path fill=\"none\" stroke=\"black\" d=\"M75.16,-182.37C68.8,-173.73 58.86,-160.2 50.93,-149.42\"/>\n",
       "<polygon fill=\"black\" stroke=\"black\" points=\"53.61,-147.15 44.87,-141.17 47.97,-151.3 53.61,-147.15\"/>\n",
       "</g>\n",
       "<!-- 2249907928416 -->\n",
       "<g id=\"node7\" class=\"node\">\n",
       "<title>2249907928416</title>\n",
       "<polygon fill=\"lightblue\" stroke=\"black\" points=\"135,-273 28,-273 28,-243 135,-243 135,-273\"/>\n",
       "<text text-anchor=\"middle\" x=\"81.5\" y=\"-261\" font-family=\"monospace\" font-size=\"10.00\">model.fc.weight</text>\n",
       "<text text-anchor=\"middle\" x=\"81.5\" y=\"-250\" font-family=\"monospace\" font-size=\"10.00\"> (200, 2048)</text>\n",
       "</g>\n",
       "<!-- 2249907928416&#45;&gt;2242391378336 -->\n",
       "<g id=\"edge5\" class=\"edge\">\n",
       "<title>2249907928416&#45;&gt;2242391378336</title>\n",
       "<path fill=\"none\" stroke=\"black\" d=\"M81.5,-242.8C81.5,-233.7 81.5,-221.79 81.5,-211.9\"/>\n",
       "<polygon fill=\"black\" stroke=\"black\" points=\"85,-211.84 81.5,-201.84 78,-211.84 85,-211.84\"/>\n",
       "</g>\n",
       "<!-- 2242425497776 -->\n",
       "<g id=\"node8\" class=\"node\">\n",
       "<title>2242425497776</title>\n",
       "<polygon fill=\"#caff70\" stroke=\"black\" points=\"115,-31 44,-31 44,0 115,0 115,-31\"/>\n",
       "<text text-anchor=\"middle\" x=\"79.5\" y=\"-7\" font-family=\"monospace\" font-size=\"10.00\"> (1, 200)</text>\n",
       "</g>\n",
       "<!-- 2249460039248&#45;&gt;2242425497776 -->\n",
       "<g id=\"edge10\" class=\"edge\">\n",
       "<title>2249460039248&#45;&gt;2242425497776</title>\n",
       "<path fill=\"none\" stroke=\"black\" d=\"M79.5,-66.79C79.5,-60.07 79.5,-50.4 79.5,-41.34\"/>\n",
       "<polygon fill=\"black\" stroke=\"black\" points=\"83,-41.19 79.5,-31.19 76,-41.19 83,-41.19\"/>\n",
       "</g>\n",
       "<!-- 2242391379248&#45;&gt;2249460039248 -->\n",
       "<g id=\"edge8\" class=\"edge\">\n",
       "<title>2242391379248&#45;&gt;2249460039248</title>\n",
       "<path fill=\"none\" stroke=\"black\" d=\"M45.27,-121.75C51.06,-114.26 59.56,-103.28 66.64,-94.13\"/>\n",
       "<polygon fill=\"black\" stroke=\"black\" points=\"69.51,-96.14 72.86,-86.09 63.97,-91.86 69.51,-96.14\"/>\n",
       "</g>\n",
       "</g>\n",
       "</svg>\n"
      ],
      "text/plain": [
       "<graphviz.graphs.Digraph at 0x20a1b4021c0>"
      ]
     },
     "execution_count": 77,
     "metadata": {},
     "output_type": "execute_result"
    }
   ],
   "source": [
    "gradient_sanity_display(\n",
    "    loaded_stabilized_inception,\n",
    "    [next(iter(inception_train_loader))[0][0].reshape(1, 3, 299, 299)]\n",
    ")"
   ]
  },
  {
   "cell_type": "markdown",
   "id": "de7f2aff-86a9-43bf-aa4c-fff17ff91a71",
   "metadata": {},
   "source": [
    "Looking good, so we're ready. We'll increase the JPEG levels as we experiment. Note that we can reuse some code for this. The data collection:"
   ]
  },
  {
   "cell_type": "code",
   "execution_count": 37,
   "id": "888dbd74-7c73-44ba-a3c3-c65ab8bafd93",
   "metadata": {},
   "outputs": [
    {
     "data": {
      "application/vnd.jupyter.widget-view+json": {
       "model_id": "0cf58b33d0d849328253c8f278b8f693",
       "version_major": 2,
       "version_minor": 0
      },
      "text/plain": [
       "Experiment:   0%|          | 0/10 [00:00<?, ?experiment/s]"
      ]
     },
     "metadata": {},
     "output_type": "display_data"
    },
    {
     "data": {
      "application/vnd.jupyter.widget-view+json": {
       "model_id": "ce20770855c447d1a75fcca3cc5ab8f3",
       "version_major": 2,
       "version_minor": 0
      },
      "text/plain": [
       "Validation Iteration:   0%|          | 0/157 [00:00<?, ?it/s]"
      ]
     },
     "metadata": {},
     "output_type": "display_data"
    },
    {
     "data": {
      "application/vnd.jupyter.widget-view+json": {
       "model_id": "e91fa607f0d84555a8c68ab8c44e75d9",
       "version_major": 2,
       "version_minor": 0
      },
      "text/plain": [
       "Validation Iteration:   0%|          | 0/157 [00:00<?, ?it/s]"
      ]
     },
     "metadata": {},
     "output_type": "display_data"
    },
    {
     "data": {
      "application/vnd.jupyter.widget-view+json": {
       "model_id": "5da90b1dbdcb43f28a25196bf3018124",
       "version_major": 2,
       "version_minor": 0
      },
      "text/plain": [
       "Validation Iteration:   0%|          | 0/157 [00:00<?, ?it/s]"
      ]
     },
     "metadata": {},
     "output_type": "display_data"
    },
    {
     "data": {
      "application/vnd.jupyter.widget-view+json": {
       "model_id": "b89e36e568f241e792be58ac56de25f2",
       "version_major": 2,
       "version_minor": 0
      },
      "text/plain": [
       "Validation Iteration:   0%|          | 0/157 [00:00<?, ?it/s]"
      ]
     },
     "metadata": {},
     "output_type": "display_data"
    },
    {
     "data": {
      "application/vnd.jupyter.widget-view+json": {
       "model_id": "a9030276a6b44bf28bc3d0c0cc1188fd",
       "version_major": 2,
       "version_minor": 0
      },
      "text/plain": [
       "Validation Iteration:   0%|          | 0/157 [00:00<?, ?it/s]"
      ]
     },
     "metadata": {},
     "output_type": "display_data"
    },
    {
     "data": {
      "application/vnd.jupyter.widget-view+json": {
       "model_id": "30a8016b658249f3b7c76d6c43dad916",
       "version_major": 2,
       "version_minor": 0
      },
      "text/plain": [
       "Validation Iteration:   0%|          | 0/157 [00:00<?, ?it/s]"
      ]
     },
     "metadata": {},
     "output_type": "display_data"
    },
    {
     "data": {
      "application/vnd.jupyter.widget-view+json": {
       "model_id": "39b01ec8395e4b6da7e2d11cee24e449",
       "version_major": 2,
       "version_minor": 0
      },
      "text/plain": [
       "Validation Iteration:   0%|          | 0/157 [00:00<?, ?it/s]"
      ]
     },
     "metadata": {},
     "output_type": "display_data"
    },
    {
     "data": {
      "application/vnd.jupyter.widget-view+json": {
       "model_id": "5913eac1d82d44338997a563a6119b84",
       "version_major": 2,
       "version_minor": 0
      },
      "text/plain": [
       "Validation Iteration:   0%|          | 0/157 [00:00<?, ?it/s]"
      ]
     },
     "metadata": {},
     "output_type": "display_data"
    },
    {
     "data": {
      "application/vnd.jupyter.widget-view+json": {
       "model_id": "2b9fb6a5e8624b1c837d615a711528f0",
       "version_major": 2,
       "version_minor": 0
      },
      "text/plain": [
       "Validation Iteration:   0%|          | 0/157 [00:00<?, ?it/s]"
      ]
     },
     "metadata": {},
     "output_type": "display_data"
    },
    {
     "data": {
      "application/vnd.jupyter.widget-view+json": {
       "model_id": "a5445520f0584d66a2c753bbe8ff4bbe",
       "version_major": 2,
       "version_minor": 0
      },
      "text/plain": [
       "Validation Iteration:   0%|          | 0/157 [00:00<?, ?it/s]"
      ]
     },
     "metadata": {},
     "output_type": "display_data"
    },
    {
     "data": {
      "application/vnd.jupyter.widget-view+json": {
       "model_id": "788e854d3e094731be841d89a5df29e7",
       "version_major": 2,
       "version_minor": 0
      },
      "text/plain": [
       "Validation Iteration:   0%|          | 0/157 [00:00<?, ?it/s]"
      ]
     },
     "metadata": {},
     "output_type": "display_data"
    },
    {
     "data": {
      "application/vnd.jupyter.widget-view+json": {
       "model_id": "94f9f22db8d54bb3a6dc8e4b7858c8f3",
       "version_major": 2,
       "version_minor": 0
      },
      "text/plain": [
       "Validation Iteration:   0%|          | 0/157 [00:00<?, ?it/s]"
      ]
     },
     "metadata": {},
     "output_type": "display_data"
    },
    {
     "data": {
      "application/vnd.jupyter.widget-view+json": {
       "model_id": "a93854e32b4a40b185eedd6c83cb1d8a",
       "version_major": 2,
       "version_minor": 0
      },
      "text/plain": [
       "Validation Iteration:   0%|          | 0/157 [00:00<?, ?it/s]"
      ]
     },
     "metadata": {},
     "output_type": "display_data"
    },
    {
     "data": {
      "application/vnd.jupyter.widget-view+json": {
       "model_id": "c9e888e0df3b4712987c61fd40080f35",
       "version_major": 2,
       "version_minor": 0
      },
      "text/plain": [
       "Validation Iteration:   0%|          | 0/157 [00:00<?, ?it/s]"
      ]
     },
     "metadata": {},
     "output_type": "display_data"
    },
    {
     "data": {
      "application/vnd.jupyter.widget-view+json": {
       "model_id": "cdebdb72d42d499f9939aae2706e22af",
       "version_major": 2,
       "version_minor": 0
      },
      "text/plain": [
       "Validation Iteration:   0%|          | 0/157 [00:00<?, ?it/s]"
      ]
     },
     "metadata": {},
     "output_type": "display_data"
    },
    {
     "data": {
      "application/vnd.jupyter.widget-view+json": {
       "model_id": "616637abf8f84164b768e347127c86ec",
       "version_major": 2,
       "version_minor": 0
      },
      "text/plain": [
       "Validation Iteration:   0%|          | 0/157 [00:00<?, ?it/s]"
      ]
     },
     "metadata": {},
     "output_type": "display_data"
    },
    {
     "data": {
      "application/vnd.jupyter.widget-view+json": {
       "model_id": "f092e55664da4915a2e97e31ea78078b",
       "version_major": 2,
       "version_minor": 0
      },
      "text/plain": [
       "Validation Iteration:   0%|          | 0/157 [00:00<?, ?it/s]"
      ]
     },
     "metadata": {},
     "output_type": "display_data"
    },
    {
     "data": {
      "application/vnd.jupyter.widget-view+json": {
       "model_id": "f4eb8c990c394bc7adcfe7dd637806fb",
       "version_major": 2,
       "version_minor": 0
      },
      "text/plain": [
       "Validation Iteration:   0%|          | 0/157 [00:00<?, ?it/s]"
      ]
     },
     "metadata": {},
     "output_type": "display_data"
    },
    {
     "data": {
      "application/vnd.jupyter.widget-view+json": {
       "model_id": "0b268c2a61b94fc9aa0ce4ec0aed6922",
       "version_major": 2,
       "version_minor": 0
      },
      "text/plain": [
       "Validation Iteration:   0%|          | 0/157 [00:00<?, ?it/s]"
      ]
     },
     "metadata": {},
     "output_type": "display_data"
    },
    {
     "data": {
      "application/vnd.jupyter.widget-view+json": {
       "model_id": "779884f8f76648ff973479bec6537220",
       "version_major": 2,
       "version_minor": 0
      },
      "text/plain": [
       "Validation Iteration:   0%|          | 0/157 [00:00<?, ?it/s]"
      ]
     },
     "metadata": {},
     "output_type": "display_data"
    }
   ],
   "source": [
    "BATCH_SIZE = 64\n",
    "\n",
    "qualities = list(range(100, 0, -10))\n",
    "baseline_precision = [ ]\n",
    "stabilized_precision = [ ]\n",
    "\n",
    "for quality in tqdm_variant(\n",
    "    qualities,\n",
    "    desc=f\"Experiment\",\n",
    "    unit=\"experiment\"\n",
    "):\n",
    "    #\n",
    "    # Prepare the data\n",
    "    #\n",
    "    apply_jpeg = JPEGTransform(quality)\n",
    "    \n",
    "    this_dataset = datasets.ImageFolder(\n",
    "        os.path.join(data_dir, \"val\"),\n",
    "        transform=T.Compose([apply_jpeg, inception_transform])\n",
    "    )\n",
    "    this_loader = torch.utils.data.DataLoader(\n",
    "        this_dataset,\n",
    "        batch_size=BATCH_SIZE,\n",
    "        num_workers=0\n",
    "    )\n",
    "    \n",
    "    tmp_result = TrainResult(None)\n",
    "\n",
    "    #\n",
    "    # Experiments\n",
    "    #\n",
    "    \n",
    "    # Perform stabilized experiment\n",
    "    _ = classifier_epoch(\n",
    "            loaded_baseline_inception,\n",
    "            this_loader,\n",
    "            None,\n",
    "            device,\n",
    "            classifier_objective,\n",
    "            tmp_result,\n",
    "            training=False\n",
    "        )\n",
    "    _ = classifier_epoch(\n",
    "            loaded_stabilized_inception,\n",
    "            this_loader,\n",
    "            None,\n",
    "            device,\n",
    "            full_loss,\n",
    "            tmp_result,\n",
    "            training=False,\n",
    "            stability_training=True\n",
    "        )\n",
    "    \n",
    "    #\n",
    "    # Extract data\n",
    "    #\n",
    "    trial_size = len(tmp_result.val_accuracy_history) // 2\n",
    "    inv_img_count = 1.0 / (len(this_dataset) // BATCH_SIZE)\n",
    "    # Calculate baseline\n",
    "    baseline_precision.append(\n",
    "        sum(tmp_result.val_accuracy_history[:trial_size - 1]) * inv_img_count\n",
    "    )\n",
    "    stabilized_precision.append(\n",
    "        sum(tmp_result.val_accuracy_history[trial_size:-1]) * inv_img_count\n",
    "    )\n",
    "\n",
    "    # No chances with memory management\n",
    "    del tmp_result, this_loader, this_dataset"
   ]
  },
  {
   "cell_type": "markdown",
   "id": "3e543740-1ec6-4c1f-a623-ae2f15013634",
   "metadata": {},
   "source": [
    "Let's plot the results:"
   ]
  },
  {
   "cell_type": "code",
   "execution_count": 38,
   "id": "a67da54c-7f0f-43d9-a834-a38c7237e41d",
   "metadata": {},
   "outputs": [
    {
     "data": {
      "image/png": "[encoded data removed]",
      "text/plain": [
       "<Figure size 432x288 with 1 Axes>"
      ]
     },
     "metadata": {
      "needs_background": "light"
     },
     "output_type": "display_data"
    }
   ],
   "source": [
    "plot_precision_vs_quality(qualities, baseline_precision, stabilized_precision)"
   ]
  },
  {
   "cell_type": "markdown",
   "id": "f15e1718-b4e9-4d23-aac1-aa8242a166e0",
   "metadata": {},
   "source": [
    "Next, let's save the results."
   ]
  },
  {
   "cell_type": "code",
   "execution_count": 39,
   "id": "b84fc289-7e9a-4cbb-b03b-42eceb5b3d03",
   "metadata": {},
   "outputs": [],
   "source": [
    "with open(\n",
    "    f\"inception_classifier_result_{int(time.time()) % 1000000:06}.pt\",\n",
    "    \"wb\"\n",
    ") as file_obj:\n",
    "    pickle.dump(\n",
    "        {\n",
    "            \"baseline\" : baseline_precision,\n",
    "            \"stabilized\" : stabilized_precision\n",
    "        }, file_obj\n",
    "    )"
   ]
  },
  {
   "cell_type": "markdown",
   "id": "0faa8b23-6e94-48a9-8d50-3272a877565d",
   "metadata": {
    "jp-MarkdownHeadingCollapsed": true,
    "tags": []
   },
   "source": [
    "### Feature Distances"
   ]
  },
  {
   "cell_type": "markdown",
   "id": "bc47c618-9f8f-4410-a679-ced94365eb37",
   "metadata": {},
   "source": [
    "First, run the experiment:"
   ]
  },
  {
   "cell_type": "code",
   "execution_count": 56,
   "id": "650b0ea3-f7dd-4782-98a7-3d614e8a6e3f",
   "metadata": {},
   "outputs": [
    {
     "data": {
      "application/vnd.jupyter.widget-view+json": {
       "model_id": "cd16aa26e24d44e7925de1c431eb2cc2",
       "version_major": 2,
       "version_minor": 0
      },
      "text/plain": [
       "  0%|          | 0/10001 [00:00<?, ?it/s]"
      ]
     },
     "metadata": {},
     "output_type": "display_data"
    }
   ],
   "source": [
    "baseline_observations, stabilized_observations = make_observations(\n",
    "    inception_triplet_ranking.model.to(\"cpu\"),\n",
    "    None,\n",
    "    os.path.join(os.path.abspath(\"\"), \"tiny-imagenet-200\", \"test\", \"images\")\n",
    ")"
   ]
  },
  {
   "cell_type": "markdown",
   "id": "917fa6de-ef6e-4b7c-b210-c621083a4ce2",
   "metadata": {},
   "source": [
    "Plot the results:"
   ]
  },
  {
   "cell_type": "code",
   "execution_count": 65,
   "id": "fb3a8a68-902d-464d-8b2a-4cdd322fc37b",
   "metadata": {},
   "outputs": [
    {
     "name": "stderr",
     "output_type": "stream",
     "text": [
      "C:\\Users\\Gabriel\\AppData\\Local\\Temp/ipykernel_1128/2350893480.py:32: MatplotlibDeprecationWarning: Passing the fontdict parameter of _set_ticklabels() positionally is deprecated since Matplotlib 3.3; the parameter will become keyword-only two minor releases later.\n",
      "  ax.set_yticklabels(\n",
      "C:\\Users\\Gabriel\\AppData\\Local\\Temp/ipykernel_1128/2350893480.py:44: UserWarning: Matplotlib is currently using module://matplotlib_inline.backend_inline, which is a non-GUI backend, so cannot show the figure.\n",
      "  fig.show()\n"
     ]
    },
    {
     "data": {
      "image/png": "[encoded data removed]",
      "text/plain": [
       "<Figure size 432x288 with 1 Axes>"
      ]
     },
     "metadata": {
      "needs_background": "light"
     },
     "output_type": "display_data"
    }
   ],
   "source": [
    "plot_cumulative_dist(\n",
    "    list(map(lambda x : x.item(), baseline_observations)),\n",
    "    stabilized_observations\n",
    ")"
   ]
  },
  {
   "cell_type": "markdown",
   "id": "ca81a39d-145e-4710-9c22-6d8f6122ac0e",
   "metadata": {},
   "source": [
    "Save the results for later:"
   ]
  },
  {
   "cell_type": "code",
   "execution_count": 58,
   "id": "0d39a0de-10ae-4232-9b73-a2cedfccff35",
   "metadata": {},
   "outputs": [],
   "source": [
    "with open(\n",
    "    f\"inception_tr_distribution_result_{int(time.time()) % 1000000:06}.pt\",\n",
    "    \"wb\"\n",
    ") as file_obj:\n",
    "    pickle.dump(\n",
    "        {\n",
    "            \"baseline\" : baseline_observations,\n",
    "            \"stabilized\" : stabilized_observations\n",
    "        }, file_obj\n",
    "    )"
   ]
  },
  {
   "cell_type": "code",
   "execution_count": null,
   "id": "dc66a7f8-769e-4e93-ab9c-44a52e8c1163",
   "metadata": {},
   "outputs": [],
   "source": []
  }
 ],
 "metadata": {
  "kernelspec": {
   "display_name": "Python 3 (ipykernel)",
   "language": "python",
   "name": "python3"
  },
  "language_info": {
   "codemirror_mode": {
    "name": "ipython",
    "version": 3
   },
   "file_extension": ".py",
   "mimetype": "text/x-python",
   "name": "python",
   "nbconvert_exporter": "python",
   "pygments_lexer": "ipython3",
   "version": "3.9.7"
  }
 },
 "nbformat": 4,
 "nbformat_minor": 5
}
