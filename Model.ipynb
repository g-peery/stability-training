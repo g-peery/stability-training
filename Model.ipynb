{
 "cells": [
  {
   "cell_type": "code",
   "execution_count": 1,
   "id": "0ee8ce2f",
   "metadata": {},
   "outputs": [],
   "source": [
    "%load_ext tensorboard\n",
    "\n",
    "import torch\n",
    "import torchvision\n",
    "import torchvision.datasets as datasets\n",
    "from torchvision import transforms as T\n",
    "import timm\n",
    "from torch.utils.tensorboard import SummaryWriter\n",
    "import matplotlib.pyplot as plt\n",
    "import numpy as np\n",
    "import os"
   ]
  },
  {
   "cell_type": "code",
   "execution_count": 40,
   "id": "f6e58de5",
   "metadata": {},
   "outputs": [],
   "source": [
    "# Adapted from https://github.com/tjmoon0104/pytorch-tiny-imagenet/blob/master/AlexNet.ipynb\n",
    "data_transforms = {\n",
    "    'train': T.Compose([\n",
    "        T.Resize(299), T.ToTensor(),\n",
    "    ]),\n",
    "    'val': T.Compose([\n",
    "        T.ToTensor(),\n",
    "    ]),\n",
    "    'test': T.Compose([\n",
    "        T.ToTensor(),\n",
    "    ])\n",
    "}\n",
    "\n",
    "data_dir = \"C:\\\\Users\\\\Gabriel\\\\Documents\\\\Winter2022\\\\CIS472\\\\Project\\\\tiny-imagenet-200\"\n",
    "num_workers = {\n",
    "    'train' : 4,\n",
    "    'val'   : 0,\n",
    "    'test'  : 0\n",
    "}\n",
    "image_datasets = {x: datasets.ImageFolder(os.path.join(data_dir, x),\n",
    "                                          data_transforms[x])\n",
    "                  for x in ['train', 'val','test']}\n",
    "dataloaders = {x: torch.utils.data.DataLoader(image_datasets[x], batch_size=32,\n",
    "                                             num_workers=num_workers[x])\n",
    "              for x in ['train', 'val', 'test']}\n",
    "dataset_sizes = {x: len(image_datasets[x]) for x in ['train', 'val', 'test']}"
   ]
  },
  {
   "cell_type": "code",
   "execution_count": 41,
   "id": "e861da12",
   "metadata": {},
   "outputs": [],
   "source": [
    "#\n",
    "# Adapted from Stephen's ModelExamples\n",
    "#\n",
    "train = dataloaders[\"train\"]\n",
    "\n",
    "dataiter = iter(train)\n",
    "imgs, labels = next(dataiter)\n",
    "img_grid = torchvision.utils.make_grid(imgs)\n",
    "#atplotlib_imshow(img_grid)"
   ]
  },
  {
   "cell_type": "code",
   "execution_count": 10,
   "id": "ff4a7964",
   "metadata": {},
   "outputs": [],
   "source": [
    "def matplotlib_imshow(img, one_channel=False):\n",
    "    if one_channel:\n",
    "        img = img.mean(dim=0)\n",
    "    img = img / 2 + 0.5     # unnormalize\n",
    "    npimg = img.numpy()\n",
    "    if one_channel:\n",
    "        plt.imshow(npimg, cmap=\"Greys\")\n",
    "    else:\n",
    "        plt.imshow(np.transpose(npimg, (1, 2, 0)))"
   ]
  },
  {
   "cell_type": "code",
   "execution_count": 43,
   "id": "774116a2",
   "metadata": {},
   "outputs": [
    {
     "data": {
      "text/plain": [
       "Reusing TensorBoard on port 6006 (pid 11892), started 0:01:11 ago. (Use '!kill 11892' to kill it.)"
      ]
     },
     "metadata": {},
     "output_type": "display_data"
    },
    {
     "data": {
      "text/html": [
       "\n",
       "      <iframe id=\"tensorboard-frame-58ba1ac9e5e5b677\" width=\"100%\" height=\"800\" frameborder=\"0\">\n",
       "      </iframe>\n",
       "      <script>\n",
       "        (function() {\n",
       "          const frame = document.getElementById(\"tensorboard-frame-58ba1ac9e5e5b677\");\n",
       "          const url = new URL(\"/\", window.location);\n",
       "          const port = 6006;\n",
       "          if (port) {\n",
       "            url.port = port;\n",
       "          }\n",
       "          frame.src = url;\n",
       "        })();\n",
       "      </script>\n",
       "    "
      ],
      "text/plain": [
       "<IPython.core.display.HTML object>"
      ]
     },
     "metadata": {},
     "output_type": "display_data"
    }
   ],
   "source": [
    "inception_v3 = torchvision.models.inception_v3()\n",
    "writer = SummaryWriter(\"InceptionV3\")\n",
    "writer.add_image(\"TinyImageNet\", img_grid)\n",
    "writer.add_graph(inception_v3, imgs)\n",
    "\n",
    "%tensorboard --logdir inceptionv3"
   ]
  },
  {
   "cell_type": "code",
   "execution_count": null,
   "id": "968864a1",
   "metadata": {},
   "outputs": [],
   "source": []
  }
 ],
 "metadata": {
  "kernelspec": {
   "display_name": "Python 3 (ipykernel)",
   "language": "python",
   "name": "python3"
  },
  "language_info": {
   "codemirror_mode": {
    "name": "ipython",
    "version": 3
   },
   "file_extension": ".py",
   "mimetype": "text/x-python",
   "name": "python",
   "nbconvert_exporter": "python",
   "pygments_lexer": "ipython3",
   "version": "3.9.7"
  }
 },
 "nbformat": 4,
 "nbformat_minor": 5
}
