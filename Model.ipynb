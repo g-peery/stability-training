{
 "cells": [
  {
   "cell_type": "code",
   "execution_count": null,
   "id": "0ee8ce2f",
   "metadata": {},
   "outputs": [],
   "source": [
    "%load_ext tensorboard\n",
    "\n",
    "import torch\n",
    "import torchvision\n",
    "import torchvision.datasets as datasets\n",
    "from torchvision import transforms as T\n",
    "import timm\n",
    "from torch.utils.tensorboard import SummaryWriter\n",
    "import matplotlib.pyplot as plt\n",
    "import numpy as np\n",
    "import os"
   ]
  },
  {
   "cell_type": "code",
   "execution_count": null,
   "id": "f6e58de5",
   "metadata": {},
   "outputs": [],
   "source": [
    "# Adapted from https://github.com/tjmoon0104/pytorch-tiny-imagenet/blob/master/AlexNet.ipynb\n",
    "data_transforms = {\n",
    "    'train': T.Compose([\n",
    "        T.Resize(299), T.ToTensor(),\n",
    "    ]),\n",
    "    'val': T.Compose([\n",
    "        T.ToTensor(),\n",
    "    ]),\n",
    "    'test': T.Compose([\n",
    "        T.ToTensor(),\n",
    "    ])\n",
    "}\n",
    "\n",
    "data_dir = \"C:\\\\Users\\\\Gabriel\\\\Documents\\\\Winter2022\\\\CIS472\\\\Project\\\\tiny-imagenet-200\"\n",
    "num_workers = {\n",
    "    'train' : 4,\n",
    "    'val'   : 0,\n",
    "    'test'  : 0\n",
    "}\n",
    "image_datasets = {x: datasets.ImageFolder(os.path.join(data_dir, x),\n",
    "                                          data_transforms[x])\n",
    "                  for x in ['train', 'val','test']}\n",
    "dataloaders = {x: torch.utils.data.DataLoader(image_datasets[x], batch_size=32,\n",
    "                                             num_workers=num_workers[x])\n",
    "              for x in ['train', 'val', 'test']}\n",
    "dataset_sizes = {x: len(image_datasets[x]) for x in ['train', 'val', 'test']}"
   ]
  },
  {
   "cell_type": "code",
   "execution_count": null,
   "id": "e861da12",
   "metadata": {},
   "outputs": [],
   "source": [
    "#\n",
    "# Adapted from Stephen's ModelExamples\n",
    "#\n",
    "train = dataloaders[\"train\"]\n",
    "\n",
    "dataiter = iter(train)\n",
    "imgs, labels = next(dataiter)\n",
    "img_grid = torchvision.utils.make_grid(imgs)\n",
    "matplotlib_imshow(img_grid)"
   ]
  },
  {
   "cell_type": "code",
   "execution_count": null,
   "id": "ff4a7964",
   "metadata": {},
   "outputs": [],
   "source": [
    "def matplotlib_imshow(img, one_channel=False):\n",
    "    if one_channel:\n",
    "        img = img.mean(dim=0)\n",
    "    img = img / 2 + 0.5     # unnormalize\n",
    "    npimg = img.numpy()\n",
    "    if one_channel:\n",
    "        plt.imshow(npimg, cmap=\"Greys\")\n",
    "    else:\n",
    "        plt.imshow(np.transpose(npimg, (1, 2, 0)))"
   ]
  },
  {
   "cell_type": "code",
   "execution_count": null,
   "id": "968864a1",
   "metadata": {},
   "outputs": [],
   "source": [
    "# Credit https://discuss.pytorch.org/t/how-to-add-noise-to-mnist-dataset-when-using-pytorch/59745\n",
    "class AddGaussianNoise(object):\n",
    "    def __init__(self, mean=0., std=1.):\n",
    "        self.std = std\n",
    "        self.mean = mean\n",
    "        \n",
    "    def __call__(self, tensor):\n",
    "        return tensor + torch.randn(tensor.size()) * self.std + self.mean\n",
    "    \n",
    "    def __repr__(self):\n",
    "        return self.__class__.__name__ + '(mean={0}, std={1})'.format(self.mean, self.std)\n",
    "    \n",
    "\n",
    "class RobustInception(torch.nn.Module):\n",
    "    def __init__(self):\n",
    "        \"\"\"\n",
    "        In the constructor we instantiate four parameters and assign them as\n",
    "        member parameters.\n",
    "        \"\"\"\n",
    "        super().__init__()\n",
    "        self.inception = torchvision.models.inception_v3(pretrained=True, feature_extract=True)\n",
    "        self.perturb = AddGaussianNoise()\n",
    "\n",
    "    def forward(self, x):\n",
    "        \"\"\"\n",
    "        In the forward function we accept a Tensor of input data and we must return\n",
    "        a Tensor of output data. We can use Modules defined in the constructor as\n",
    "        well as arbitrary operators on Tensors.\n",
    "        \"\"\"\n",
    "        return torch.tensor(self.inception(x), self.inception(self.perturb(x)))"
   ]
  },
  {
   "cell_type": "code",
   "execution_count": null,
   "id": "599f9e34",
   "metadata": {},
   "outputs": [],
   "source": [
    "model = RobustInception()\n",
    "writer = SummaryWriter(\"RobustInception\")\n",
    "writer.add_image(\"TinyImageNet\", img_grid)\n",
    "writer.add_graph(model, imgs)\n",
    "\n",
    "%tensorboard --logdir model"
   ]
  },
  {
   "cell_type": "code",
   "execution_count": null,
   "id": "3e856a8b",
   "metadata": {},
   "outputs": [],
   "source": []
  }
 ],
 "metadata": {
  "kernelspec": {
   "display_name": "Python 3 (ipykernel)",
   "language": "python",
   "name": "python3"
  },
  "language_info": {
   "codemirror_mode": {
    "name": "ipython",
    "version": 3
   },
   "file_extension": ".py",
   "mimetype": "text/x-python",
   "name": "python",
   "nbconvert_exporter": "python",
   "pygments_lexer": "ipython3",
   "version": "3.9.7"
  }
 },
 "nbformat": 4,
 "nbformat_minor": 5
}
