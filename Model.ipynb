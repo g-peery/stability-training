{
 "cells": [
  {
   "cell_type": "code",
   "execution_count": 1,
   "id": "0ee8ce2f",
   "metadata": {},
   "outputs": [],
   "source": [
    "%load_ext tensorboard\n",
    "\n",
    "import torch\n",
    "from torch import nn\n",
    "import torchvision\n",
    "import torchvision.datasets as datasets\n",
    "from torchvision import transforms as T\n",
    "import timm\n",
    "from torch.utils.tensorboard import SummaryWriter\n",
    "import matplotlib.pyplot as plt\n",
    "import numpy as np\n",
    "import os"
   ]
  },
  {
   "cell_type": "code",
   "execution_count": 2,
   "id": "f6e58de5",
   "metadata": {},
   "outputs": [],
   "source": [
    "device = torch.device('cuda' if torch.cuda.is_available() else 'cpu')\n",
    "\n",
    "# Adapted from https://github.com/tjmoon0104/pytorch-tiny-imagenet/blob/master/AlexNet.ipynb\n",
    "data_transforms = {\n",
    "    'train': T.Compose([\n",
    "        T.Resize(299), T.ToTensor(),\n",
    "    ]),\n",
    "    'val': T.Compose([\n",
    "        T.Resize(299), T.ToTensor(),\n",
    "    ]),\n",
    "    'test': T.Compose([\n",
    "        T.Resize(299), T.ToTensor(),\n",
    "    ])\n",
    "}\n",
    "\n",
    "data_dir = \"C:\\\\Users\\\\Gabriel\\\\Documents\\\\Winter2022\\\\CIS472\\\\Project\\\\tiny-imagenet-200\"\n",
    "num_workers = {\n",
    "    'train' : 4,\n",
    "    'val'   : 0,\n",
    "    'test'  : 0\n",
    "}\n",
    "image_datasets = {x: datasets.ImageFolder(os.path.join(data_dir, x),\n",
    "                                          data_transforms[x])\n",
    "                  for x in ['train', 'val','test']}\n",
    "dataloaders = {x: torch.utils.data.DataLoader(image_datasets[x], batch_size=256,\n",
    "                                             num_workers=num_workers[x], shuffle=True)\n",
    "              for x in ['train', 'val', 'test']}\n",
    "dataset_sizes = {x: len(image_datasets[x]) for x in ['train', 'val', 'test']}"
   ]
  },
  {
   "cell_type": "code",
   "execution_count": 3,
   "id": "e861da12",
   "metadata": {},
   "outputs": [],
   "source": [
    "#\n",
    "# Adapted from Stephen's ModelExamples\n",
    "#\n",
    "def matplotlib_imshow(img, one_channel=False):\n",
    "    if one_channel:\n",
    "        img = img.mean(dim=0)\n",
    "    img = img / 2 + 0.5     # unnormalize\n",
    "    npimg = img.numpy()\n",
    "    if one_channel:\n",
    "        plt.imshow(npimg, cmap=\"Greys\")\n",
    "    else:\n",
    "        plt.imshow(np.transpose(npimg, (1, 2, 0)))\n",
    "        \n",
    "train = dataloaders[\"train\"]\n",
    "\n",
    "dataiter = iter(train)\n",
    "imgs, labels = next(dataiter)\n",
    "#img_grid = torchvision.utils.make_grid(imgs)\n",
    "imgs, labels = imgs.to(device), labels.to(device)\n",
    "#matplotlib_imshow(img_grid)"
   ]
  },
  {
   "cell_type": "code",
   "execution_count": 47,
   "id": "968864a1",
   "metadata": {},
   "outputs": [],
   "source": [
    "# Credit https://discuss.pytorch.org/t/how-to-add-noise-to-mnist-dataset-when-using-pytorch/59745\n",
    "class AddGaussianNoise(object):\n",
    "    def __init__(self, mean=0., std=1.):\n",
    "        self.std = std\n",
    "        self.mean = mean\n",
    "        \n",
    "    def __call__(self, tensor):\n",
    "        return tensor + torch.empty(tensor.size(), device=device).normal_() * self.std + self.mean\n",
    "    \n",
    "    def __repr__(self):\n",
    "        return self.__class__.__name__ + '(mean={0}, std={1})'.format(self.mean, self.std)\n",
    "    \n",
    "\n",
    "class RobustInception(torch.nn.Module):\n",
    "    def __init__(self):\n",
    "        \"\"\"\n",
    "        In the constructor we instantiate four parameters and assign them as\n",
    "        member parameters.\n",
    "        \"\"\"\n",
    "        super().__init__()\n",
    "        # Modify the last fully connected layer\n",
    "        bare_inception = torchvision.models.inception_v3(pretrained=True, aux_logits=False)\n",
    "        for param in bare_inception.parameters():\n",
    "            param.requires_grad = False\n",
    "        bare_inception.fc = nn.Linear(2048, 200)\n",
    "        # Incoporate in model, probability softmax incorportated into loss\n",
    "        self.inception = nn.Sequential(\n",
    "            bare_inception,\n",
    "            nn.Sigmoid()\n",
    "        )\n",
    "        self.perturb = AddGaussianNoise(0, 0.04)\n",
    "\n",
    "    def forward(self, x):\n",
    "        \"\"\"\n",
    "        In the forward function we accept a Tensor of input data and we must return\n",
    "        a Tensor of output data. We can use Modules defined in the constructor as\n",
    "        well as arbitrary operators on Tensors.\n",
    "        \"\"\"\n",
    "        return torch.cat((self.inception(x), self.inception(self.perturb(x))), 1)"
   ]
  },
  {
   "cell_type": "code",
   "execution_count": 36,
   "id": "5ad874a9-2422-4730-aa06-4280b1dc46df",
   "metadata": {},
   "outputs": [],
   "source": [
    "ALPHA = 0.01\n",
    "\n",
    "training_objective = nn.CrossEntropyLoss()\n",
    "\n",
    "stability_loss = nn.CrossEntropyLoss()\n",
    "\n",
    "def full_loss(outputs, label):\n",
    "    clean_output, distort_output = torch.split(outputs, 200, 1)\n",
    "    return training_objective(clean_output, label) + ALPHA * stability_loss(distort_output, clean_output)"
   ]
  },
  {
   "cell_type": "code",
   "execution_count": 48,
   "id": "0a046699-53e7-4669-88f7-2be512e6b67b",
   "metadata": {},
   "outputs": [],
   "source": [
    "model = RobustInception().to(device)"
   ]
  },
  {
   "cell_type": "code",
   "execution_count": 49,
   "id": "f69d3425-e045-4de0-aaf6-ebff6ec80292",
   "metadata": {},
   "outputs": [
    {
     "name": "stderr",
     "output_type": "stream",
     "text": [
      "Epoch:   0%|                                                                                  | 0/1 [00:00<?, ?epoch/s]"
     ]
    },
    {
     "name": "stdout",
     "output_type": "stream",
     "text": [
      " 15/391"
     ]
    },
    {
     "name": "stderr",
     "output_type": "stream",
     "text": [
      "Epoch: 100%|██████████████████████████████████████████████████████████████████████████| 1/1 [00:28<00:00, 28.28s/epoch]"
     ]
    },
    {
     "name": "stdout",
     "output_type": "stream",
     "text": [
      "\n",
      "Epoch 0: loss: 7.296338081359863\n"
     ]
    },
    {
     "name": "stderr",
     "output_type": "stream",
     "text": [
      "\n"
     ]
    }
   ],
   "source": [
    "from torch import optim\n",
    "from tqdm import tqdm # This is optional but useful\n",
    "\n",
    "# Let's set up some parameters\n",
    "learning_rate=0.01\n",
    "momentum=0.9\n",
    "nepochs = 1\n",
    "\n",
    "# We need an optimizer that tells us what form of gradient descent to do\n",
    "optimizer = optim.SGD(model.parameters(), lr=learning_rate, momentum=momentum)\n",
    "\n",
    "# We also need a loss function\n",
    "LossFunction = full_loss\n",
    "\n",
    "# This is default on but let's just be pedantic\n",
    "model.train()\n",
    "loss_history = []\n",
    "loss = torch.Tensor([0])\n",
    "cnt = 0\n",
    "for epoch in tqdm(range(nepochs),\n",
    "                  desc=f\"Epoch\",\n",
    "                  unit=\"epoch\",\n",
    "                  disable=False):\n",
    "    for (data, label) in tqdm(train,\n",
    "                              desc=\"iteration\",\n",
    "                              unit=\"%\",\n",
    "                              disable=True):\n",
    "        optimizer.zero_grad(set_to_none=True) # Here we clear the gradients\n",
    "        \n",
    "        # We need to make sure the tensors are on the same device as our model\n",
    "        data = data.to(device)\n",
    "        label = label.to(device)\n",
    "        out = model(data)\n",
    "        \n",
    "        loss = LossFunction(out, label)\n",
    "        \n",
    "        # PyTorch is Magic!\n",
    "        loss.backward() # This function calculates all our gradients\n",
    "        optimizer.step() # This function does our gradient descent with those gradients\n",
    "        loss_history.append(loss.item())\n",
    "        cnt += 1\n",
    "        print(f\"\\r{cnt:3}/{len(train)}\", end=\"\")\n",
    "        if cnt == 15:\n",
    "            break\n",
    "    print(f\"\\nEpoch {epoch}: loss: {loss.item()}\")"
   ]
  },
  {
   "cell_type": "code",
   "execution_count": 51,
   "id": "2dbef213-24e9-4df0-bc68-b89cd441383d",
   "metadata": {},
   "outputs": [
    {
     "data": {
      "image/png": "[encoded data removed]",
      "text/plain": [
       "<Figure size 432x288 with 1 Axes>"
      ]
     },
     "metadata": {
      "needs_background": "light"
     },
     "output_type": "display_data"
    }
   ],
   "source": [
    "# Note that we are not plotting loss per epoch but per iteration\n",
    "plt.plot(loss_history)\n",
    "plt.title(\"Neural Network Loss\")\n",
    "plt.xlabel(\"Number of iterations\")\n",
    "plt.ylabel(\"Loss\")\n",
    "plt.show()"
   ]
  },
  {
   "cell_type": "code",
   "execution_count": 45,
   "id": "4421102e-a721-4aaf-9f04-a9228aa25341",
   "metadata": {},
   "outputs": [
    {
     "data": {
      "text/plain": [
       "tensor(1.1672e+09, device='cuda:0', grad_fn=<NllLossBackward0>)"
      ]
     },
     "execution_count": 45,
     "metadata": {},
     "output_type": "execute_result"
    }
   ],
   "source": [
    "#list(model.parameters())[-3:]\n",
    "#optimizer.state.values()\n",
    "training_objective(torch.split(out, 200, 1)[1], label)\n",
    "#stability_loss(torch.split(out, 200, 1)[1], torch.split(out, 200, 1)[0])"
   ]
  },
  {
   "cell_type": "code",
   "execution_count": 46,
   "id": "25e29ec6-c44f-402c-be5c-b70688311e17",
   "metadata": {},
   "outputs": [
    {
     "data": {
      "text/plain": [
       "tensor([[-91006096., -91006096., -91005536.,  ..., -91006152., -91006152.,\n",
       "         -91004984.],\n",
       "        [-62418420., -62418420., -62418252.,  ..., -62418436., -62418436.,\n",
       "         -62418108.],\n",
       "        [-89301576., -89301576., -89301192.,  ..., -89301576., -89301576.,\n",
       "         -89301000.],\n",
       "        ...,\n",
       "        [-85520720., -85520720., -85520296.,  ..., -85520720., -85520720.,\n",
       "         -85520088.],\n",
       "        [-84133248., -84133296., -84132800.,  ..., -84133344., -84133344.,\n",
       "         -84132600.],\n",
       "        [-74545936., -74545968., -74545800.,  ..., -74545968., -74545968.,\n",
       "         -74545168.]], device='cuda:0', grad_fn=<SplitBackward0>)"
      ]
     },
     "execution_count": 46,
     "metadata": {},
     "output_type": "execute_result"
    }
   ],
   "source": [
    "torch.split(out, 200, 1)[1]"
   ]
  },
  {
   "cell_type": "code",
   "execution_count": null,
   "id": "d689c009-0d1b-4c8a-9e49-49e62c86b2cd",
   "metadata": {},
   "outputs": [],
   "source": [
    "validation = dataloaders[\"val\"]\n",
    "for data, label in validation:\n",
    "    data = data.to(device)\n",
    "    labels = labels.to(device)\n",
    "    out = model(data)\n",
    "    print(torch.sum(torch.split(out, 200, 1)[0].topk(1, dim=1)[1].t().flatten() == labels) / len(out))"
   ]
  },
  {
   "cell_type": "code",
   "execution_count": 83,
   "id": "e158d38f-aa73-4567-8c50-8bbf56562fae",
   "metadata": {},
   "outputs": [
    {
     "data": {
      "text/plain": [
       "256"
      ]
     },
     "execution_count": 83,
     "metadata": {},
     "output_type": "execute_result"
    }
   ],
   "source": [
    "len(out)"
   ]
  },
  {
   "cell_type": "code",
   "execution_count": null,
   "id": "3460c44a-3e44-4291-976c-91a4d035a8df",
   "metadata": {},
   "outputs": [],
   "source": []
  }
 ],
 "metadata": {
  "kernelspec": {
   "display_name": "Python 3 (ipykernel)",
   "language": "python",
   "name": "python3"
  },
  "language_info": {
   "codemirror_mode": {
    "name": "ipython",
    "version": 3
   },
   "file_extension": ".py",
   "mimetype": "text/x-python",
   "name": "python",
   "nbconvert_exporter": "python",
   "pygments_lexer": "ipython3",
   "version": "3.9.7"
  }
 },
 "nbformat": 4,
 "nbformat_minor": 5
}
